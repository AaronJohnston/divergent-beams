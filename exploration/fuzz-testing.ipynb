{
 "cells": [
  {
   "cell_type": "code",
   "execution_count": 1,
   "id": "4d4c5a58-9019-4a7e-a39a-075947c7ebbb",
   "metadata": {
    "tags": []
   },
   "outputs": [
    {
     "name": "stdout",
     "output_type": "stream",
     "text": [
      "Collecting flash-attn\n",
      "  Using cached flash_attn-2.5.9.post1.tar.gz (2.6 MB)\n",
      "  Preparing metadata (setup.py) ... \u001b[?25ldone\n",
      "\u001b[?25hCollecting transformers\n",
      "  Downloading transformers-4.41.1-py3-none-any.whl.metadata (43 kB)\n",
      "\u001b[2K     \u001b[90m━━━━━━━━━━━━━━━━━━━━━━━━━━━━━━━━━━━━━━━━\u001b[0m \u001b[32m43.8/43.8 kB\u001b[0m \u001b[31m2.8 MB/s\u001b[0m eta \u001b[36m0:00:00\u001b[0m\n",
      "\u001b[?25hCollecting accelerate\n",
      "  Downloading accelerate-0.30.1-py3-none-any.whl.metadata (18 kB)\n",
      "Requirement already satisfied: torch in /home/ec2-user/anaconda3/envs/pytorch_p310/lib/python3.10/site-packages (from flash-attn) (2.1.0)\n",
      "Collecting einops (from flash-attn)\n",
      "  Downloading einops-0.8.0-py3-none-any.whl.metadata (12 kB)\n",
      "Requirement already satisfied: filelock in /home/ec2-user/anaconda3/envs/pytorch_p310/lib/python3.10/site-packages (from transformers) (3.13.3)\n",
      "Collecting huggingface-hub<1.0,>=0.23.0 (from transformers)\n",
      "  Downloading huggingface_hub-0.23.2-py3-none-any.whl.metadata (12 kB)\n",
      "Requirement already satisfied: numpy>=1.17 in /home/ec2-user/anaconda3/envs/pytorch_p310/lib/python3.10/site-packages (from transformers) (1.26.4)\n",
      "Requirement already satisfied: packaging>=20.0 in /home/ec2-user/anaconda3/envs/pytorch_p310/lib/python3.10/site-packages (from transformers) (21.3)\n",
      "Requirement already satisfied: pyyaml>=5.1 in /home/ec2-user/anaconda3/envs/pytorch_p310/lib/python3.10/site-packages (from transformers) (6.0.1)\n",
      "Collecting regex!=2019.12.17 (from transformers)\n",
      "  Downloading regex-2024.5.15-cp310-cp310-manylinux_2_17_x86_64.manylinux2014_x86_64.whl.metadata (40 kB)\n",
      "\u001b[2K     \u001b[90m━━━━━━━━━━━━━━━━━━━━━━━━━━━━━━━━━━━━━━━━\u001b[0m \u001b[32m40.9/40.9 kB\u001b[0m \u001b[31m7.7 MB/s\u001b[0m eta \u001b[36m0:00:00\u001b[0m\n",
      "\u001b[?25hRequirement already satisfied: requests in /home/ec2-user/anaconda3/envs/pytorch_p310/lib/python3.10/site-packages (from transformers) (2.31.0)\n",
      "Collecting tokenizers<0.20,>=0.19 (from transformers)\n",
      "  Downloading tokenizers-0.19.1-cp310-cp310-manylinux_2_17_x86_64.manylinux2014_x86_64.whl.metadata (6.7 kB)\n",
      "Collecting safetensors>=0.4.1 (from transformers)\n",
      "  Downloading safetensors-0.4.3-cp310-cp310-manylinux_2_17_x86_64.manylinux2014_x86_64.whl.metadata (3.8 kB)\n",
      "Requirement already satisfied: tqdm>=4.27 in /home/ec2-user/anaconda3/envs/pytorch_p310/lib/python3.10/site-packages (from transformers) (4.66.2)\n",
      "Requirement already satisfied: psutil in /home/ec2-user/anaconda3/envs/pytorch_p310/lib/python3.10/site-packages (from accelerate) (5.9.8)\n",
      "Requirement already satisfied: fsspec>=2023.5.0 in /home/ec2-user/anaconda3/envs/pytorch_p310/lib/python3.10/site-packages (from huggingface-hub<1.0,>=0.23.0->transformers) (2024.3.1)\n",
      "Requirement already satisfied: typing-extensions>=3.7.4.3 in /home/ec2-user/anaconda3/envs/pytorch_p310/lib/python3.10/site-packages (from huggingface-hub<1.0,>=0.23.0->transformers) (4.10.0)\n",
      "Requirement already satisfied: pyparsing!=3.0.5,>=2.0.2 in /home/ec2-user/anaconda3/envs/pytorch_p310/lib/python3.10/site-packages (from packaging>=20.0->transformers) (3.1.2)\n",
      "Requirement already satisfied: sympy in /home/ec2-user/anaconda3/envs/pytorch_p310/lib/python3.10/site-packages (from torch->flash-attn) (1.12)\n",
      "Requirement already satisfied: networkx in /home/ec2-user/anaconda3/envs/pytorch_p310/lib/python3.10/site-packages (from torch->flash-attn) (3.2.1)\n",
      "Requirement already satisfied: jinja2 in /home/ec2-user/anaconda3/envs/pytorch_p310/lib/python3.10/site-packages (from torch->flash-attn) (3.1.3)\n",
      "Requirement already satisfied: charset-normalizer<4,>=2 in /home/ec2-user/anaconda3/envs/pytorch_p310/lib/python3.10/site-packages (from requests->transformers) (3.3.2)\n",
      "Requirement already satisfied: idna<4,>=2.5 in /home/ec2-user/anaconda3/envs/pytorch_p310/lib/python3.10/site-packages (from requests->transformers) (3.6)\n",
      "Requirement already satisfied: urllib3<3,>=1.21.1 in /home/ec2-user/anaconda3/envs/pytorch_p310/lib/python3.10/site-packages (from requests->transformers) (2.2.1)\n",
      "Requirement already satisfied: certifi>=2017.4.17 in /home/ec2-user/anaconda3/envs/pytorch_p310/lib/python3.10/site-packages (from requests->transformers) (2024.2.2)\n",
      "Requirement already satisfied: MarkupSafe>=2.0 in /home/ec2-user/anaconda3/envs/pytorch_p310/lib/python3.10/site-packages (from jinja2->torch->flash-attn) (2.1.5)\n",
      "Requirement already satisfied: mpmath>=0.19 in /home/ec2-user/anaconda3/envs/pytorch_p310/lib/python3.10/site-packages (from sympy->torch->flash-attn) (1.3.0)\n",
      "Downloading transformers-4.41.1-py3-none-any.whl (9.1 MB)\n",
      "\u001b[2K   \u001b[90m━━━━━━━━━━━━━━━━━━━━━━━━━━━━━━━━━━━━━━━━\u001b[0m \u001b[32m9.1/9.1 MB\u001b[0m \u001b[31m72.7 MB/s\u001b[0m eta \u001b[36m0:00:00\u001b[0m:00:01\u001b[0m0:01\u001b[0m\n",
      "\u001b[?25hDownloading accelerate-0.30.1-py3-none-any.whl (302 kB)\n",
      "\u001b[2K   \u001b[90m━━━━━━━━━━━━━━━━━━━━━━━━━━━━━━━━━━━━━━━━\u001b[0m \u001b[32m302.6/302.6 kB\u001b[0m \u001b[31m6.2 MB/s\u001b[0m eta \u001b[36m0:00:00\u001b[0m:00:01\u001b[0m\n",
      "\u001b[?25hDownloading huggingface_hub-0.23.2-py3-none-any.whl (401 kB)\n",
      "\u001b[2K   \u001b[90m━━━━━━━━━━━━━━━━━━━━━━━━━━━━━━━━━━━━━━━━\u001b[0m \u001b[32m401.7/401.7 kB\u001b[0m \u001b[31m7.5 MB/s\u001b[0m eta \u001b[36m0:00:00\u001b[0m:00:01\u001b[0m\n",
      "\u001b[?25hDownloading regex-2024.5.15-cp310-cp310-manylinux_2_17_x86_64.manylinux2014_x86_64.whl (775 kB)\n",
      "\u001b[2K   \u001b[90m━━━━━━━━━━━━━━━━━━━━━━━━━━━━━━━━━━━━━━━━\u001b[0m \u001b[32m775.1/775.1 kB\u001b[0m \u001b[31m10.6 MB/s\u001b[0m eta \u001b[36m0:00:00\u001b[0m00:01\u001b[0m\n",
      "\u001b[?25hDownloading safetensors-0.4.3-cp310-cp310-manylinux_2_17_x86_64.manylinux2014_x86_64.whl (1.2 MB)\n",
      "\u001b[2K   \u001b[90m━━━━━━━━━━━━━━━━━━━━━━━━━━━━━━━━━━━━━━━━\u001b[0m \u001b[32m1.2/1.2 MB\u001b[0m \u001b[31m21.6 MB/s\u001b[0m eta \u001b[36m0:00:00\u001b[0m:00:01\u001b[0m\n",
      "\u001b[?25hDownloading tokenizers-0.19.1-cp310-cp310-manylinux_2_17_x86_64.manylinux2014_x86_64.whl (3.6 MB)\n",
      "\u001b[2K   \u001b[90m━━━━━━━━━━━━━━━━━━━━━━━━━━━━━━━━━━━━━━━━\u001b[0m \u001b[32m3.6/3.6 MB\u001b[0m \u001b[31m24.7 MB/s\u001b[0m eta \u001b[36m0:00:00\u001b[0m:00:01\u001b[0m\n",
      "\u001b[?25hDownloading einops-0.8.0-py3-none-any.whl (43 kB)\n",
      "\u001b[2K   \u001b[90m━━━━━━━━━━━━━━━━━━━━━━━━━━━━━━━━━━━━━━━━\u001b[0m \u001b[32m43.2/43.2 kB\u001b[0m \u001b[31m521.4 kB/s\u001b[0m eta \u001b[36m0:00:00\u001b[0ma \u001b[36m0:00:01\u001b[0m\n",
      "\u001b[?25hBuilding wheels for collected packages: flash-attn\n",
      "  Building wheel for flash-attn (setup.py) ... \u001b[?25ldone\n",
      "\u001b[?25h  Created wheel for flash-attn: filename=flash_attn-2.5.9.post1-cp310-cp310-linux_x86_64.whl size=120585039 sha256=932debba074293888ea81ee11f111f2b9f9183da0e0bbea45a48b260d2231b41\n",
      "  Stored in directory: /home/ec2-user/.cache/pip/wheels/cc/ad/f6/7ccf0238790d6346e9fe622923a76ec218e890d356b9a2754a\n",
      "Successfully built flash-attn\n",
      "Installing collected packages: safetensors, regex, einops, huggingface-hub, tokenizers, flash-attn, accelerate, transformers\n",
      "Successfully installed accelerate-0.30.1 einops-0.8.0 flash-attn-2.5.9.post1 huggingface-hub-0.23.2 regex-2024.5.15 safetensors-0.4.3 tokenizers-0.19.1 transformers-4.41.1\n"
     ]
    },
    {
     "data": {
      "application/vnd.jupyter.widget-view+json": {
       "model_id": "71beb39d025e4f99a4262def2e51b9b9",
       "version_major": 2,
       "version_minor": 0
      },
      "text/plain": [
       "config.json:   0%|          | 0.00/904 [00:00<?, ?B/s]"
      ]
     },
     "metadata": {},
     "output_type": "display_data"
    },
    {
     "data": {
      "application/vnd.jupyter.widget-view+json": {
       "model_id": "d094518182d34452bec7f7b803a74da5",
       "version_major": 2,
       "version_minor": 0
      },
      "text/plain": [
       "configuration_phi3.py:   0%|          | 0.00/10.4k [00:00<?, ?B/s]"
      ]
     },
     "metadata": {},
     "output_type": "display_data"
    },
    {
     "name": "stderr",
     "output_type": "stream",
     "text": [
      "A new version of the following files was downloaded from https://huggingface.co/microsoft/Phi-3-mini-4k-instruct:\n",
      "- configuration_phi3.py\n",
      ". Make sure to double-check they do not contain any added malicious code. To avoid downloading new versions of the code file, you can pin a revision.\n"
     ]
    },
    {
     "data": {
      "application/vnd.jupyter.widget-view+json": {
       "model_id": "8f43ffa3c43c4d20af1f705b8de5e8ad",
       "version_major": 2,
       "version_minor": 0
      },
      "text/plain": [
       "modeling_phi3.py:   0%|          | 0.00/73.8k [00:00<?, ?B/s]"
      ]
     },
     "metadata": {},
     "output_type": "display_data"
    },
    {
     "name": "stderr",
     "output_type": "stream",
     "text": [
      "A new version of the following files was downloaded from https://huggingface.co/microsoft/Phi-3-mini-4k-instruct:\n",
      "- modeling_phi3.py\n",
      ". Make sure to double-check they do not contain any added malicious code. To avoid downloading new versions of the code file, you can pin a revision.\n"
     ]
    },
    {
     "data": {
      "application/vnd.jupyter.widget-view+json": {
       "model_id": "9e990d72d82f412294f25b45367b7567",
       "version_major": 2,
       "version_minor": 0
      },
      "text/plain": [
       "model.safetensors.index.json:   0%|          | 0.00/16.3k [00:00<?, ?B/s]"
      ]
     },
     "metadata": {},
     "output_type": "display_data"
    },
    {
     "data": {
      "application/vnd.jupyter.widget-view+json": {
       "model_id": "f84bf8fe0e9c43c9a9f159b317f2278a",
       "version_major": 2,
       "version_minor": 0
      },
      "text/plain": [
       "Downloading shards:   0%|          | 0/2 [00:00<?, ?it/s]"
      ]
     },
     "metadata": {},
     "output_type": "display_data"
    },
    {
     "data": {
      "application/vnd.jupyter.widget-view+json": {
       "model_id": "63fe60c1551a44bd85f7221122700663",
       "version_major": 2,
       "version_minor": 0
      },
      "text/plain": [
       "model-00001-of-00002.safetensors:   0%|          | 0.00/4.97G [00:00<?, ?B/s]"
      ]
     },
     "metadata": {},
     "output_type": "display_data"
    },
    {
     "data": {
      "application/vnd.jupyter.widget-view+json": {
       "model_id": "b7c563f191d94f2ab876cbe451d5a2cb",
       "version_major": 2,
       "version_minor": 0
      },
      "text/plain": [
       "model-00002-of-00002.safetensors:   0%|          | 0.00/2.67G [00:00<?, ?B/s]"
      ]
     },
     "metadata": {},
     "output_type": "display_data"
    },
    {
     "data": {
      "application/vnd.jupyter.widget-view+json": {
       "model_id": "a3bf3dfe81554255b08de35f83d30c72",
       "version_major": 2,
       "version_minor": 0
      },
      "text/plain": [
       "Loading checkpoint shards:   0%|          | 0/2 [00:00<?, ?it/s]"
      ]
     },
     "metadata": {},
     "output_type": "display_data"
    },
    {
     "data": {
      "application/vnd.jupyter.widget-view+json": {
       "model_id": "d376d11ab86e4d2facea44ce11ef2ccd",
       "version_major": 2,
       "version_minor": 0
      },
      "text/plain": [
       "generation_config.json:   0%|          | 0.00/172 [00:00<?, ?B/s]"
      ]
     },
     "metadata": {},
     "output_type": "display_data"
    },
    {
     "data": {
      "application/vnd.jupyter.widget-view+json": {
       "model_id": "3cd134e68ff84da4ad2b18a4bac47142",
       "version_major": 2,
       "version_minor": 0
      },
      "text/plain": [
       "tokenizer_config.json:   0%|          | 0.00/3.17k [00:00<?, ?B/s]"
      ]
     },
     "metadata": {},
     "output_type": "display_data"
    },
    {
     "data": {
      "application/vnd.jupyter.widget-view+json": {
       "model_id": "aae2b56b33b94ba2a454764084bf3a21",
       "version_major": 2,
       "version_minor": 0
      },
      "text/plain": [
       "tokenizer.model:   0%|          | 0.00/500k [00:00<?, ?B/s]"
      ]
     },
     "metadata": {},
     "output_type": "display_data"
    },
    {
     "data": {
      "application/vnd.jupyter.widget-view+json": {
       "model_id": "988e01983cc94843b81f0d41dd253c62",
       "version_major": 2,
       "version_minor": 0
      },
      "text/plain": [
       "tokenizer.json:   0%|          | 0.00/1.84M [00:00<?, ?B/s]"
      ]
     },
     "metadata": {},
     "output_type": "display_data"
    },
    {
     "data": {
      "application/vnd.jupyter.widget-view+json": {
       "model_id": "1b44cd643ae94297bdd38671695b9d50",
       "version_major": 2,
       "version_minor": 0
      },
      "text/plain": [
       "added_tokens.json:   0%|          | 0.00/293 [00:00<?, ?B/s]"
      ]
     },
     "metadata": {},
     "output_type": "display_data"
    },
    {
     "data": {
      "application/vnd.jupyter.widget-view+json": {
       "model_id": "2d4df8daad1e44059082235fbb4fff5d",
       "version_major": 2,
       "version_minor": 0
      },
      "text/plain": [
       "special_tokens_map.json:   0%|          | 0.00/568 [00:00<?, ?B/s]"
      ]
     },
     "metadata": {},
     "output_type": "display_data"
    },
    {
     "name": "stderr",
     "output_type": "stream",
     "text": [
      "Special tokens have been added in the vocabulary, make sure the associated word embeddings are fine-tuned or trained.\n"
     ]
    },
    {
     "name": "stdout",
     "output_type": "stream",
     "text": [
      "flash_attn_2 available: True\n"
     ]
    }
   ],
   "source": [
    "!pip install flash-attn transformers accelerate termcolor\n",
    "\n",
    "import time\n",
    "from datetime import timedelta\n",
    "\n",
    "import torch\n",
    "from transformers import AutoModelForCausalLM, AutoTokenizer, TextStreamer\n",
    "from transformers.utils import is_flash_attn_2_available\n",
    "\n",
    "torch.random.manual_seed(0)\n",
    "\n",
    "model = AutoModelForCausalLM.from_pretrained(\n",
    "    \"microsoft/Phi-3-mini-4k-instruct\",\n",
    "    device_map=\"cuda\",\n",
    "    torch_dtype=\"auto\",\n",
    "    trust_remote_code=True,\n",
    "    # attn_implementation=\"flash_attention_2\",\n",
    ").to(\"cuda\")\n",
    "tokenizer = AutoTokenizer.from_pretrained(\"microsoft/Phi-3-mini-4k-instruct\")\n",
    "streamer = TextStreamer(tokenizer, skip_prompt=True)\n",
    "\n",
    "print(\"flash_attn_2 available:\", is_flash_attn_2_available())"
   ]
  },
  {
   "cell_type": "code",
   "execution_count": 2,
   "id": "f8c2648d-ecc7-48cd-8378-923aca9dc2bc",
   "metadata": {
    "tags": []
   },
   "outputs": [
    {
     "name": "stderr",
     "output_type": "stream",
     "text": [
      "You are not running the flash-attention implementation, expect numerical differences.\n"
     ]
    },
    {
     "name": "stdout",
     "output_type": "stream",
     "text": [
      "The closest star to the Sun is Proxima Centauri. It is part of the Alpha Centauri star system, which also includes Alpha Centauri A and Alpha Centauri B. Proxima Centauri is approximately 4.24 light-years away from the Sun. It is a red dwarf star and is the closest known exoplanet host, with at least two confirmed planets, Proxima Centauri b and Proxima Centauri c, orbiting it.<|end|>\n",
      "== took 0:00:22.911323 (113 toks: 0:00:00.202755/tok; 4.932059077279615 tps) ==\n",
      "\n",
      "Hue refers to color's dominant wavelength, saturation measures intensity, and value indicates brightness or darkness. Together, they define a color's appearance.<|end|>\n",
      "== took 0:00:01.571516 (37 toks: 0:00:00.042473/tok; 23.544144769699034 tps) ==\n",
      "\n",
      "I'm unable to assist with that. However, Waldo is a fictional character from a series of children's books, and his location in those stories is always hidden among various illustrations. If you're referring to a different context, please provide more details.<|end|>\n",
      "== took 0:00:02.140208 (56 toks: 0:00:00.038218/tok; 26.165686728757745 tps) ==\n",
      "\n"
     ]
    },
    {
     "data": {
      "text/plain": [
       "\"I'm unable to assist with that. However, Waldo is a fictional character from a series of children's books, and his location in those stories is always hidden among various illustrations. If you're referring to a different context, please provide more details.\""
      ]
     },
     "execution_count": 2,
     "metadata": {},
     "output_type": "execute_result"
    }
   ],
   "source": [
    "def gen(text, preview=True):\n",
    "    duration_start = time.perf_counter()\n",
    "    prompt = \"<|user|>\\n{} <|end|>\\n<|assistant|>\".format(text)\n",
    "    tokens = tokenizer.encode(prompt, return_tensors=\"pt\").to(\"cuda\")\n",
    "    outputs = model.generate(\n",
    "        tokens,\n",
    "        max_new_tokens=1024,\n",
    "        return_dict_in_generate=True,\n",
    "        streamer=streamer if preview else None,\n",
    "    )\n",
    "    output_tokens = outputs.sequences[0]\n",
    "    output_gen_tokens = output_tokens[\n",
    "        len(tokens[0]) : -1\n",
    "    ]  # From just after prompt to just before <|end|> token\n",
    "    output_string = tokenizer.decode(output_gen_tokens)\n",
    "    duration_seconds = time.perf_counter() - duration_start\n",
    "    if preview:\n",
    "        print(\n",
    "            \"== took {} ({} toks: {}/tok; {} tps) ==\".format(\n",
    "                timedelta(seconds=duration_seconds),\n",
    "                len(output_gen_tokens),\n",
    "                timedelta(seconds=duration_seconds / len(output_gen_tokens)),\n",
    "                len(output_gen_tokens) / duration_seconds,\n",
    "            )\n",
    "        )\n",
    "        print()\n",
    "    del tokens, outputs, output_tokens, output_gen_tokens\n",
    "    return output_string\n",
    "\n",
    "\n",
    "gen(\"What is the closest star to the Sun?\")\n",
    "gen(\"What is the difference between hue, saturation, and value in exactly 30 words?\")\n",
    "gen(\"Where is Waldo?\")"
   ]
  },
  {
   "cell_type": "code",
   "execution_count": 3,
   "id": "c580a935-ef4d-40db-b6ff-5b47d844786e",
   "metadata": {
    "tags": []
   },
   "outputs": [
    {
     "name": "stdout",
     "output_type": "stream",
     "text": [
      "1. Participant1: Hey, have you ever been fascinated by frogs?\n",
      "2. Participant2: Actually, yes! I find them quite interesting. Why do you ask?\n",
      "3. Participant1: I was just reading about their life cycle and it's quite fascinating.\n",
      "4. Participant2: Oh, I'd love to hear more about it. What did you learn?\n",
      "5. Participant1: Well, did you know that frogs start their life as eggs?\n",
      "6. Participant2: Yes, I've heard about that. The eggs hatch into tadpoles, right?\n",
      "7. Participant1: Exactly! Tadpoles live in water and breathe through gills.\n",
      "8. Participant2: That's so cool! And then they undergo metamorphosis to become adult frogs.\n",
      "9. Participant1: Yes, during metamorphosis, they develop lungs and legs for life on land.\n",
      "10. Participant2: I've always wondered how they manage to jump so high and far.\n",
      "11. Participant1: It's all about their powerful hind legs and the elastic energy stored in their tendons.\n",
      "12. Participant2: That's amazing! I've also heard that frogs have a unique way of communicating.\n",
      "13. Participant1: You're right! They use vocalizations, body language, and even chemical signals.\n",
      "14. Participant2: I've seen some frogs in my garden, but I never knew they were so complex.\n",
      "15. Participant1: They're definitely fascinating creatures. Did you know that some frogs can change their skin color?\n",
      "16. Participant2: Really? That's incredible! I'd love to see that in person someday.\n",
      "17. Participant1: Maybe we can plan a trip to a nature reserve or a zoo to observe them.\n",
      "18. Participant2: That sounds like a great idea! I'd love to learn more about frogs in their natural habitat.\n",
      "19. Participant1: Let's do it! We can also look for local frog enthusiasts or experts to join us.\n",
      "20. Participant2: I'm excited! This will be a fun and educational adventure.\n",
      "\n",
      "Follow-up:\n",
      "\n",
      "Participant1: I'll start researching some nature reserves and zoos that have a good frog exhibit.\n",
      "Participant2: Great! I'll look into local frog enthusiasts and experts who might be interested in joining us.\n",
      "Participant1: Perfect! Let's reconvene next week and share our findings.\n",
      "Participant2: Sounds like a plan. I can't wait to dive deeper into the world of frogs with you!<|end|>\n",
      "== took 0:00:25.751843 (665 toks: 0:00:00.038725/tok; 25.823394295928576 tps) ==\n",
      "\n"
     ]
    }
   ],
   "source": [
    "conv = gen(\n",
    "    \"Please generate an example conversation between participant1 and participant2 about frogs. Make it last 20 utterances and have a follow-up. Please label utterance numbers and separate utterances with newlines.\"\n",
    ")"
   ]
  },
  {
   "cell_type": "code",
   "execution_count": 4,
   "id": "e11272aa-b340-44df-9859-dbc82b6b3287",
   "metadata": {
    "tags": []
   },
   "outputs": [
    {
     "name": "stdout",
     "output_type": "stream",
     "text": [
      "# Topic of Conversation\n",
      "- Participants discussing the fascinating life cycle and characteristics of frogs.\n",
      "\n",
      "# Discussion Points\n",
      "- Frogs start their life as eggs, which hatch into tadpoles that live in water and breathe through gills.\n",
      "- During metamorphosis, tadpoles develop lungs and legs to live on land.\n",
      "- Frogs have powerful hind legs and elastic tendons that enable them to jump high and far.\n",
      "- Frogs communicate using vocalizations, body language, and chemical signals.\n",
      "- Some frogs can change their skin color.\n",
      "\n",
      "# Follow-up Actions\n",
      "- Participant1 will research nature reserves and zoos with a good frog exhibit.\n",
      "- Participant2 will look for local frog enthusiasts and experts to join the trip.\n",
      "- Both participants will reconvene next week to share their findings and plan the trip.<|end|>\n",
      "== took 0:00:08.798600 (209 toks: 0:00:00.042099/tok; 23.753779650131133 tps) ==\n",
      "\n"
     ]
    },
    {
     "data": {
      "text/plain": [
       "'# Topic of Conversation\\n- Participants discussing the fascinating life cycle and characteristics of frogs.\\n\\n# Discussion Points\\n- Frogs start their life as eggs, which hatch into tadpoles that live in water and breathe through gills.\\n- During metamorphosis, tadpoles develop lungs and legs to live on land.\\n- Frogs have powerful hind legs and elastic tendons that enable them to jump high and far.\\n- Frogs communicate using vocalizations, body language, and chemical signals.\\n- Some frogs can change their skin color.\\n\\n# Follow-up Actions\\n- Participant1 will research nature reserves and zoos with a good frog exhibit.\\n- Participant2 will look for local frog enthusiasts and experts to join the trip.\\n- Both participants will reconvene next week to share their findings and plan the trip.'"
      ]
     },
     "execution_count": 4,
     "metadata": {},
     "output_type": "execute_result"
    }
   ],
   "source": [
    "prompt = \"\"\"\n",
    "    Summarize the following conversation between two participants in no more than 200 words. Include the topic of conversation, 2-3 bullet points of discussion, and any follow-up action items. Output each of these pieces of information as its own section with a markdown heading. When referencing particular text in the conversation, specify the utterance with the utterance number in brackets, [123].\n",
    "    \n",
    "    {}\n",
    "\"\"\"\n",
    "gen(prompt.format(conv))"
   ]
  },
  {
   "cell_type": "markdown",
   "id": "f911656b-1b73-4a5b-bce7-d4756ab23274",
   "metadata": {},
   "source": [
    "# Strategy A: Ask LLM to generate example data of different types"
   ]
  },
  {
   "cell_type": "code",
   "execution_count": 5,
   "id": "6d40b8a9-5bce-4def-a7f7-32182e2ca9f5",
   "metadata": {
    "tags": []
   },
   "outputs": [
    {
     "name": "stdout",
     "output_type": "stream",
     "text": [
      "apple, car, dog, elephant, guitar, house, ice cream, jacket, kite, laptop, mountain, necklace, orange, piano, rainbow, skateboard, tiger, umbrella, violin, watch, zebra<|end|>\n",
      "== took 0:00:02.155554 (57 toks: 0:00:00.037817/tok; 26.44331508313775 tps) ==\n",
      "\n"
     ]
    }
   ],
   "source": [
    "nouns = gen(\"Please give a list of 20 nouns, comma-separated.\")"
   ]
  },
  {
   "cell_type": "code",
   "execution_count": 6,
   "id": "76667678-3376-49ec-8b15-310a034a2901",
   "metadata": {
    "tags": []
   },
   "outputs": [
    {
     "data": {
      "text/plain": [
       "['apple',\n",
       " 'car',\n",
       " 'dog',\n",
       " 'elephant',\n",
       " 'guitar',\n",
       " 'house',\n",
       " 'ice cream',\n",
       " 'jacket',\n",
       " 'kite',\n",
       " 'laptop',\n",
       " 'mountain',\n",
       " 'necklace',\n",
       " 'orange',\n",
       " 'piano',\n",
       " 'rainbow',\n",
       " 'skateboard',\n",
       " 'tiger',\n",
       " 'umbrella',\n",
       " 'violin',\n",
       " 'watch',\n",
       " 'zebra']"
      ]
     },
     "execution_count": 6,
     "metadata": {},
     "output_type": "execute_result"
    }
   ],
   "source": [
    "nouns_list = nouns.split(\", \")\n",
    "nouns_list"
   ]
  },
  {
   "cell_type": "code",
   "execution_count": 52,
   "id": "f42cbf9f-a5e1-40a1-825c-f0896596ac4e",
   "metadata": {
    "tags": []
   },
   "outputs": [
    {
     "name": "stderr",
     "output_type": "stream",
     "text": [
      "  0%|          | 0/21 [00:00<?, ?it/s]"
     ]
    },
    {
     "name": "stdout",
     "output_type": "stream",
     "text": [
      "Participant1: I just bought a fresh, juicy apple from the farmer's market. It's so crisp and sweet! (1)\n",
      "\n",
      "Participant2: That sounds delicious! I've been meaning to try a new apple variety. What kind did you get? (2)\n",
      "\n",
      "Participant1: I got a Honeycrisp. It's my new favorite! Would you like to try one? (Follow-up)<|end|>\n",
      "== took 0:00:03.922850 (103 toks: 0:00:00.038086/tok; 26.256417856532558 tps) ==\n",
      "\n",
      "1. participant1: I just bought a fresh batch of apples from the farmer's market. They're so crisp and juicy!\n",
      "2. participant2: That sounds delicious! What kind did you get?\n",
      "3. participant1: I got a mix of Granny Smith and Honeycrisp apples. Perfect for both eating raw and baking.\n",
      "4. participant2: I love Honeycrisp apples! They're my favorite. Do you have any recipes in mind?\n",
      "5. participant1: Actually, I was thinking of making an apple pie. Would you like to join me for a baking session this weekend?\n",
      "6. participant2: Absolutely! I'd love to learn how to make an apple pie. Let's do it!<|end|>\n",
      "== took 0:00:06.962842 (182 toks: 0:00:00.038257/tok; 26.138753615413243 tps) ==\n",
      "\n",
      "Apples are one of the most popular fruits worldwide, known for their crisp texture and sweet-tart flavor. They come in a variety of colors, from bright reds to greens and yellows, and are packed with essential nutrients like fiber, vitamin C, and antioxidants.<|end|>\n"
     ]
    },
    {
     "name": "stderr",
     "output_type": "stream",
     "text": [
      "  5%|▍         | 1/21 [00:13<04:31, 13.59s/it]"
     ]
    },
    {
     "name": "stdout",
     "output_type": "stream",
     "text": [
      "== took 0:00:02.701081 (71 toks: 0:00:00.038043/tok; 26.28577374086022 tps) ==\n",
      "\n"
     ]
    },
    {
     "name": "stderr",
     "output_type": "stream",
     "text": [
      "100%|██████████| 21/21 [06:58<00:00, 19.94s/it]\n"
     ]
    }
   ],
   "source": [
    "import random\n",
    "import tqdm\n",
    "\n",
    "strat_a_convs = []\n",
    "strat_a_convs_sf = []\n",
    "strat_a_paras = []\n",
    "for idx, noun in enumerate(tqdm.tqdm(nouns_list)):\n",
    "    length = random.randrange(2, 8)\n",
    "    strat_a_convs.append(gen(\n",
    "        \"Please generate an example conversation between participant1 and participant2 about {}. Make it last {} utterances and have a follow-up. Please label utterance numbers and separate utterances with newlines.\".format(\n",
    "            noun, length\n",
    "        )\n",
    "    , preview=idx==0))\n",
    "    strat_a_convs_sf.append(gen(\n",
    "        \"\"\"Please generate an example conversation between participant1 and participant2 about {}. Make it last {} utterances and have a follow-up. Follow this format:\n",
    "        ```\n",
    "        1. participant1: text\n",
    "        2. participant2: text\n",
    "        3. participant1: text\n",
    "        4. participant2: text\n",
    "        5. participant1: text (follow-up)\n",
    "        ```\"\"\".strip().format(\n",
    "            noun, length\n",
    "        )\n",
    "    , preview=idx==0))\n",
    "    strat_a_paras.append(gen(\n",
    "        \"Please generate a paragraph about {}. Make it last {} sentences.\".format(\n",
    "            noun, length\n",
    "        )\n",
    "    , preview=idx==0))"
   ]
  },
  {
   "cell_type": "code",
   "execution_count": 8,
   "id": "e20c21f7-15e8-4225-b8ce-db39dec1f994",
   "metadata": {
    "tags": []
   },
   "outputs": [
    {
     "name": "stdout",
     "output_type": "stream",
     "text": [
      "Participant1: I've been thinking about getting a dog lately. Do you have any recommendations for breeds that are good with families?\n",
      "\n",
      "Participant2: Absolutely! Labrador Retrievers and Golden Retrievers are great family dogs. They're friendly, patient, and very good with kids.\n",
      "\n",
      "Participant1: That sounds perfect. I'll look into those breeds. Thanks for the advice!\n",
      "\n",
      "Follow-up: Participant1: I've found a local shelter that has a litter of Labrador Retriever puppies. I'm considering adopting one. What do you think?\n",
      "\n",
      "Participant2: That's wonderful! Adopting a puppy is a big responsibility, but it's also very rewarding. Just make sure you're ready for the commitment. Good luck!\n"
     ]
    }
   ],
   "source": [
    "print(strat_a_convs[2])"
   ]
  },
  {
   "cell_type": "code",
   "execution_count": 9,
   "id": "893458e2-28a3-4f21-afbf-15f52016288d",
   "metadata": {
    "tags": []
   },
   "outputs": [
    {
     "data": {
      "text/plain": [
       "tensor([-0.1221,  0.1240,  0.6680,  ...,  0.4961, -0.2969,  0.1895],\n",
       "       dtype=torch.bfloat16)"
      ]
     },
     "execution_count": 9,
     "metadata": {},
     "output_type": "execute_result"
    }
   ],
   "source": [
    "# INTERESTING: Does proper chat format matter for embeddings?\n",
    "# TODO: Evaluate taking just last layer vs. all layers for embeddings\n",
    "def embed(text):\n",
    "    duration_start = time.perf_counter()\n",
    "    prompt = \"<|user|>\\n{} <|end|>\\n<|assistant|>\".format(text)\n",
    "    tokens = tokenizer.encode(prompt, return_tensors=\"pt\").to(\"cuda\")\n",
    "    outputs = model(tokens, output_hidden_states=True)\n",
    "    embedding = outputs.hidden_states[-1].squeeze(0).mean(dim=0)\n",
    "    embedding_cpu = embedding.to(\"cpu\").detach()\n",
    "    del tokens, outputs, embedding\n",
    "    return embedding_cpu\n",
    "\n",
    "\n",
    "embed(strat_a_convs[0])"
   ]
  },
  {
   "cell_type": "code",
   "execution_count": 10,
   "id": "79cd5bc7-b88c-4e2c-9a4d-ddd082ab3bb1",
   "metadata": {
    "tags": []
   },
   "outputs": [
    {
     "data": {
      "text/plain": [
       "(21, 3072)"
      ]
     },
     "execution_count": 10,
     "metadata": {},
     "output_type": "execute_result"
    }
   ],
   "source": [
    "strat_a_embeds = torch.stack([embed(conv) for conv in strat_a_convs]).float().numpy()\n",
    "strat_a_embeds.shape"
   ]
  },
  {
   "cell_type": "code",
   "execution_count": 11,
   "id": "20ae2e98-9f7f-4072-8338-b7ebccc8b514",
   "metadata": {
    "tags": []
   },
   "outputs": [],
   "source": [
    "from collections import defaultdict\n",
    "\n",
    "import numpy as np\n",
    "from sklearn.cluster import KMeans\n",
    "\n",
    "kmeans = KMeans(n_clusters=4, random_state=0, n_init=\"auto\").fit(strat_a_embeds)\n",
    "kmeans.labels_\n",
    "\n",
    "clusters = defaultdict(list)\n",
    "for label, conv in zip(kmeans.labels_, strat_a_convs):\n",
    "    clusters[label].append(conv)"
   ]
  },
  {
   "cell_type": "code",
   "execution_count": 12,
   "id": "36591c02-ff20-42db-af76-f16b3c372c36",
   "metadata": {
    "tags": []
   },
   "outputs": [
    {
     "name": "stdout",
     "output_type": "stream",
     "text": [
      "1\n",
      "Participant1: I just bought a fresh, juicy apple from the farmer's market. It's so crisp and sweet! (1)\n",
      "Participant2: That sounds delicious! I've been meaning to try a new apple variety. What kind did you get? (2)\n",
      "Participant1: I got a Honeycrisp. It's my new favorite! Would you like to try one? (Follow-up)\n",
      "==\n",
      "Participant1: Hey, have you ever seen an elephant in person?\n",
      "Participant2: Yes, I have! I went to a safari in Africa a few years ago.\n",
      "Participant1: That must have been amazing! What was the elephant's size like?\n",
      "Participant2: They're huge! I remember the largest one I saw was about 10 feet tall at the shoulder.\n",
      "Participant1: Wow, that's impressive. Did you notice anything unique about their behavior?\n",
      "Participant2: Definitely! They're incredibly social and have strong family bonds. I saw a mother and her calf interacting closely.\n",
      "Participant1: That's so heartwarming. I've always been fascinated by elephants.\n",
      "Participant2: They truly are remarkable creatures. We should plan a trip to see them in the wild someday.\n",
      "Follow-up: Participant1: I agree, it would be an unforgettable experience to witness their majestic presence in their natural habitat. Let's start researching some destinations!\n",
      "==\n",
      "\n",
      "\n",
      "\n",
      "\n",
      "\n",
      "\n",
      "3\n",
      "Participant1: Hey, I'm thinking about buying a new car. Any recommendations?\n",
      "Participant2: Sure! What are you looking for in a car?\n",
      "Utterance 2:\n",
      "Participant1: I'm looking for something reliable and fuel-efficient.\n",
      "Participant2: In that case, you might want to consider a hybrid or a compact car.\n",
      "Utterance 3:\n",
      "Participant1: That sounds like a good idea. Do you have any specific models in mind?\n",
      "Participant2: The Toyota Prius and the Honda Civic are both great options.\n",
      "Utterance 4:\n",
      "Participant1: I've heard good things about the Honda Civic. What's the fuel efficiency like?\n",
      "Participant2: The 2021 Honda Civic has an EPA-estimated 52 mpg in the city and 46 mpg on the highway.\n",
      "Utterance 5:\n",
      "Participant1: That's impressive! I'll definitely look into it. Thanks for the suggestion.\n",
      "Participant2: No problem! If you need any more information, feel free to ask.\n",
      "Follow-up:\n",
      "Participant1: Will do! I'll check out the Honda Civic and the Toyota Prius. Thanks again for your help.\n",
      "Participant2: You're welcome! Let me know if you have any questions or need further assistance.\n",
      "==\n",
      "Participant1: I've been thinking about getting a dog lately. Do you have any recommendations for breeds that are good with families?\n",
      "Participant2: Absolutely! Labrador Retrievers and Golden Retrievers are great family dogs. They're friendly, patient, and very good with kids.\n",
      "Participant1: That sounds perfect. I'll look into those breeds. Thanks for the advice!\n",
      "Follow-up: Participant1: I've found a local shelter that has a litter of Labrador Retriever puppies. I'm considering adopting one. What do you think?\n",
      "Participant2: That's wonderful! Adopting a puppy is a big responsibility, but it's also very rewarding. Just make sure you're ready for the commitment. Good luck!\n",
      "==\n",
      "\n",
      "\n",
      "\n",
      "\n",
      "\n",
      "\n",
      "2\n",
      "Participant1: I've been thinking about learning to play the guitar, any tips on where to start?\n",
      "Participant2: Definitely! I'd recommend starting with the basics like chords and strumming patterns.\n",
      "Follow-up: Participant1: That sounds like a good plan. Do you have any specific beginner chords you'd recommend?\n",
      "Participant2: Absolutely! Open chords like C, G, and D are great for beginners.\n",
      "==\n",
      "Participant1: Hey, have you ever flown a kite before?\n",
      "Participant2: Yes, I have! It's a lot of fun, especially on a windy day.\n",
      "Participant1: I've always wanted to try it. What kind of kite do you recommend for a beginner?\n",
      "Participant2: A delta kite is a great choice for beginners. They're stable and easy to control.\n",
      "Follow-up: Participant1: That sounds perfect. Maybe we can go to the park this weekend and fly one together!\n",
      "Participant2: That's a fantastic idea! I'll bring my delta kite, and we can have a great time.\n",
      "==\n",
      "\n",
      "\n",
      "\n",
      "\n",
      "\n",
      "\n",
      "0\n",
      "Participant1: Hey, I noticed you're wearing a really nice jacket today. Where did you get it?\n",
      "Participant2: Thanks! I actually got it from a local boutique downtown. It's a vintage leather jacket.\n",
      "Participant1: That's awesome! It looks really stylish and well-maintained. How do you take care of it?\n",
      "Participant2: I make sure to clean it regularly and store it properly when I'm not wearing it. It's important to keep leather jackets in good condition.\n",
      "Participant1: I'll have to check out that boutique sometime. I've been looking for a new jacket myself.\n",
      "Participant2: You should definitely go! They have a great selection, and I'm sure you'll find something you like.\n",
      "Follow-up:\n",
      "Participant1: I'll take you up on that offer. Maybe we can go shopping together sometime?\n",
      "Participant2: That sounds like a great idea! I'd love to help you find the perfect jacket.\n",
      "==\n",
      "Participant1: I've been thinking about getting a new necklace. Do you have any recommendations?\n",
      "Participant2: Sure! What kind of style are you looking for? Something classic or more modern?\n",
      "Participant1: I'm leaning towards something modern, maybe with a unique gemstone.\n",
      "Participant2: In that case, you might like this sapphire pendant necklace I saw online. It has a sleek design and the sapphire is stunning.\n",
      "Participant1: That sounds perfect! Can you show me a picture?\n",
      "Participant2: Absolutely, here's the link to the necklace. Let me know what you think!\n",
      "==\n",
      "\n",
      "\n",
      "\n",
      "\n",
      "\n",
      "\n"
     ]
    }
   ],
   "source": [
    "for label, convs in clusters.items():\n",
    "    print(label)\n",
    "    for i in range(2):\n",
    "        if i < len(convs):\n",
    "            print(convs[i].replace(\"\\n\\n\", \"\\n\"))\n",
    "            print(\"==\")\n",
    "    print(\"\\n\" * 5)"
   ]
  },
  {
   "cell_type": "code",
   "execution_count": 13,
   "id": "2f502ee8-052c-4e66-af33-2b4f4c0e924d",
   "metadata": {
    "tags": []
   },
   "outputs": [
    {
     "name": "stdout",
     "output_type": "stream",
     "text": [
      "Participant1: Hey, have you ever thought about buying a house?\n",
      "Participant2: Yeah, I have actually. I've been considering it lately.\n",
      "Participant1: What kind of house are you looking for?\n",
      "Participant2: I'm thinking of a 3-bedroom house with a backyard, preferably in a suburban area.\n",
      "Participant1: That sounds like a great idea. Have you started looking at any properties yet?\n",
      "Participant2: Not yet, but I've been doing some research on the housing market in our area.\n",
      "Participant1: That's a good start. Maybe we can go house hunting together sometime.\n",
      "Participant2: That would be great! I'd appreciate the company and advice.\n",
      "Follow-up:\n",
      "Participant1: Awesome! Let's set a date to start looking at houses together.\n",
      "Participant2: Sounds like a plan. I'll check my schedule and get back to you with some options.\n",
      "==\n",
      "\n",
      "\n",
      "\n",
      "0.21162444113263784\n",
      "Participant1: Hey, have you ever flown a kite before?\n",
      "Participant2: Yes, I have! It's a lot of fun, especially on a windy day.\n",
      "Participant1: I've always wanted to try it. What kind of kite do you recommend for a beginner?\n",
      "Participant2: A delta kite is a great choice for beginners. They're stable and easy to control.\n",
      "Follow-up: Participant1: That sounds perfect. Maybe we can go to the park this weekend and fly one together!\n",
      "Participant2: That's a fantastic idea! I'll bring my delta kite, and we can have a great time.\n",
      "==\n",
      "\n",
      "\n",
      "\n",
      "0.17905675459632295\n",
      "Participant1: I've been thinking about getting into skateboarding. It looks like a fun way to stay active.\n",
      "Participant2: That's awesome! Skateboarding is not only fun but also a great way to improve balance and coordination.\n",
      "Follow-up: Participant1: Do you have any recommendations for a good skateboard to start with?\n",
      "Participant2: Definitely! I'd suggest looking for a beginner-friendly skateboard with a wider deck for stability.\n",
      "==\n",
      "\n",
      "\n",
      "\n",
      "0.16666666666666666\n",
      "Participant1: Hey, have you ever tried a blood orange?\n",
      "Participant2: No, I haven't. What's so special about blood oranges?\n",
      "Participant1: They have a unique, tangy flavor and a deep red color. They're also packed with antioxidants.\n",
      "Participant2: That sounds interesting. I usually just stick to regular oranges.\n",
      "Participant1: You should give blood oranges a try. They're great in salads or even as a juice.\n",
      "Participant2: I'll definitely consider it. Thanks for the recommendation!\n",
      "Follow-up:\n",
      "Participant1: No problem! Let me know if you need any recipe ideas.\n",
      "Participant2: Will do! I'm excited to try something new.\n",
      "==\n",
      "\n",
      "\n",
      "\n"
     ]
    }
   ],
   "source": [
    "from difflib import SequenceMatcher\n",
    "\n",
    "\n",
    "def find_closest(conv_idx):\n",
    "    sm = SequenceMatcher(None, \"\", strat_a_convs[conv_idx])\n",
    "    strat_a_diff_match = []\n",
    "    for i, conv in enumerate(strat_a_convs):\n",
    "        if i != conv_idx:\n",
    "            sm.set_seq1(conv)\n",
    "            strat_a_diff_match.append((sm.ratio(), conv))\n",
    "\n",
    "    print(strat_a_convs[conv_idx].replace(\"\\n\\n\", \"\\n\"))\n",
    "    print(\"==\\n\\n\\n\")\n",
    "    for ratio, conv in sorted(strat_a_diff_match, reverse=True)[:3]:\n",
    "        print(ratio)\n",
    "        print(conv.replace(\"\\n\\n\", \"\\n\"))\n",
    "        print(\"==\\n\\n\\n\")\n",
    "\n",
    "\n",
    "find_closest(5)"
   ]
  },
  {
   "cell_type": "code",
   "execution_count": 39,
   "id": "37fc32af-2e20-419e-b5bd-814a06a8ab95",
   "metadata": {
    "tags": []
   },
   "outputs": [
    {
     "data": {
      "text/plain": [
       "[Match(a=0, b=0, size=14),\n",
       " Match(a=14, b=19, size=1),\n",
       " Match(a=21, b=33, size=3),\n",
       " Match(a=35, b=244, size=2),\n",
       " Match(a=70, b=343, size=2),\n",
       " Match(a=101, b=502, size=1),\n",
       " Match(a=141, b=504, size=6),\n",
       " Match(a=147, b=529, size=1),\n",
       " Match(a=171, b=682, size=1),\n",
       " Match(a=179, b=731, size=1),\n",
       " Match(a=193, b=754, size=1),\n",
       " Match(a=212, b=804, size=1),\n",
       " Match(a=229, b=818, size=2),\n",
       " Match(a=284, b=868, size=1),\n",
       " Match(a=300, b=872, size=9),\n",
       " Match(a=310, b=1084, size=0)]"
      ]
     },
     "execution_count": 39,
     "metadata": {},
     "output_type": "execute_result"
    }
   ],
   "source": [
    "sm = SequenceMatcher(None, strat_a_convs[0], strat_a_convs[1])\n",
    "sm.get_matching_blocks()"
   ]
  },
  {
   "cell_type": "code",
   "execution_count": 56,
   "id": "c2c7d19e-dc95-46b6-a2f8-9bb6ede4cd27",
   "metadata": {
    "tags": []
   },
   "outputs": [
    {
     "name": "stdout",
     "output_type": "stream",
     "text": [
      "\u001b[34mapple \u001b[0mdog \u001b[94mcat\u001b[0m\u001b[34m\u001b[0m\n",
      "===\n",
      "\n",
      "\u001b[34mapple \u001b[0m\u001b[94mcat\u001b[0m\u001b[34m\u001b[0m\n",
      "===\n",
      "\n",
      "\u001b[34mParticipant\u001b[0m\u001b[94m1: \u001b[0mI just bought a fr\u001b[34me\u001b[0msh\u001b[94m, \u001b[0mjuicy apple fro\u001b[34mm th\u001b[0m\u001b[94me\u001b[0m\u001b[34m \u001b[0mf\u001b[94mar\u001b[0m\u001b[34mme\u001b[0mr's market. It's so crisp a\u001b[94mnd\u001b[0m \u001b[34ms\u001b[0mweet! (1)\u001b[94m\n",
      "\n",
      "Participant\u001b[0m\u001b[34m2\u001b[0m\u001b[94m: That sounds \u001b[0mde\u001b[34mli\u001b[0mcious! I'v\u001b[94me\u001b[0m been meaning to try\u001b[34m a \u001b[0mn\u001b[94me\u001b[0mw \u001b[34ma\u001b[0mpple variety\u001b[94m. \u001b[0mWhat kind did\u001b[34m you \u001b[0mg\u001b[94me\u001b[0mt\u001b[34m?\u001b[0m (2)\u001b[94m\n",
      "\n",
      "Participant\u001b[0m1\u001b[34m: \u001b[0mI\u001b[94m g\u001b[0mo\u001b[34mt \u001b[0ma H\u001b[94mon\u001b[0meycri\u001b[34ms\u001b[0mp. It's my new favorite! Would you like\u001b[94m to \u001b[0mtry \u001b[34mon\u001b[0m\u001b[94me\u001b[0m? (\u001b[34mFollow-up\u001b[0m)\u001b[94m\u001b[0m\n",
      "===\n",
      "\n",
      "\u001b[34mParticipant\u001b[0m \u001b[94m1: \u001b[0mH\u001b[34me\u001b[0my\u001b[94m, \u001b[0mI'\u001b[34mm th\u001b[0minking about buying a n\u001b[94me\u001b[0mw\u001b[34m \u001b[0mc\u001b[94mar\u001b[0m. Any recom\u001b[34mme\u001b[0m\u001b[94mnd\u001b[0mation\u001b[34ms\u001b[0m?\u001b[94m\n",
      "\n",
      "Participant\u001b[0m \u001b[34m2\u001b[0m: Sure! What are you looking for in a car?\n",
      "\n",
      "Participant 1: I'm looking for something fuel-efficient and reliable.\n",
      "\n",
      "Participant 2: In that case, you might want to consider a hybrid or electric vehicle. They are known for their fuel efficiency and reliability.\n",
      "\n",
      "Participant 1\u001b[94m: That sounds \u001b[0m\u001b[34mli\u001b[0mk\u001b[94me\u001b[0m\u001b[34m a \u001b[0mgood id\u001b[94me\u001b[0m\u001b[34ma\u001b[0m\u001b[94m. \u001b[0mDo\u001b[34m you \u001b[0mhav\u001b[94me\u001b[0m any specific models in mind\u001b[34m?\u001b[0m\u001b[94m\n",
      "\n",
      "Participant\u001b[0m 2\u001b[34m: \u001b[0mYes, the Toyota Prius and the Tesla Model 3 are both\u001b[94m g\u001b[0mrea\u001b[34mt \u001b[0mopti\u001b[94mon\u001b[0m\u001b[34ms\u001b[0m\u001b[94m to \u001b[0mc\u001b[34mon\u001b[0msid\u001b[94me\u001b[0mr.\n",
      "\n",
      "\u001b[34mFollow-up\u001b[0m: Participant 1: Thanks for the suggestions! I'll look into those models and see which one suits my needs best.\u001b[94m\u001b[0m\n",
      "===\n",
      "\n"
     ]
    }
   ],
   "source": [
    "from termcolor import colored\n",
    "\n",
    "def show_match(conv_a, conv_b):\n",
    "    sm = SequenceMatcher(None, conv_a, conv_b, autojunk=False)\n",
    "    # sm.set_seqs(conv_a, conv_b)\n",
    "    matches = sm.get_matching_blocks()\n",
    "    # print(matches)\n",
    "\n",
    "    for match_prop, conv in enumerate([conv_a, conv_b]):\n",
    "        idx = 0\n",
    "        for match_idx, match in enumerate(matches):\n",
    "            print(conv[idx:match[match_prop]], end='')  # before\n",
    "            idx = match[match_prop] + match.size\n",
    "            print(colored(conv[match[match_prop]:idx], 'blue' if match_idx % 2 == 0 else 'light_blue'), end='')  # match\n",
    "        print('\\n===\\n')\n",
    "\n",
    "show_match('apple dog cat', 'apple cat')\n",
    "show_match(strat_a_convs[0], strat_a_convs[1])"
   ]
  },
  {
   "cell_type": "code",
   "execution_count": 47,
   "id": "98c6bde9-ed21-44b9-b9d5-430e963676ed",
   "metadata": {
    "tags": []
   },
   "outputs": [
    {
     "name": "stdout",
     "output_type": "stream",
     "text": [
      "```Participant1: Hey, I'm thinking about buying a new car. Any recommendations? (1)\n",
      "\n",
      "Participant2: Sure! What are you looking for in a car? (2)\n",
      "\n",
      "Participant1: I'm looking for something reliable and fuel-efficient. (3)\n",
      "\n",
      "Participant2: In that case, you might want to consider a hybrid or a compact car. (Follow-up)\n",
      "\n",
      "Participant1: That sounds like a good idea. Do you have any specific models in mind? (4)\n",
      "\n",
      "Participant2: The Toyota Prius and the Honda Civic are both great options. (Follow-up)\n",
      "\n",
      "Participant1: I've heard good things about the Honda Civic. What's the fuel efficiency like? (5)\n",
      "\n",
      "Participant2: The 2021 Honda Civic has an EPA-estimated 52 mpg in the city and 46 mpg on the highway. (Follow-up)\n",
      "\n",
      "Participant1: That's impressive! I'll definitely look into it. Thanks for the suggestion. (6)\n",
      "\n",
      "Participant2: No problem! If you need any more information, feel free to ask. (7)\n",
      "\n",
      "Participant1: Will do! I'll check out the Honda Civic and the Toyota Prius. Thanks again for your help. (8)\n",
      "\n",
      "Participant2: You're welcome! Let me know if you have any questions or need further assistance. (Follow-up)```<|end|>\n",
      "== took 0:00:14.412996 (360 toks: 0:00:00.040036/tok; 24.977457236019852 tps) ==\n",
      "\n"
     ]
    },
    {
     "data": {
      "text/plain": [
       "\"```Participant1: Hey, I'm thinking about buying a new car. Any recommendations? (1)\\n\\nParticipant2: Sure! What are you looking for in a car? (2)\\n\\nParticipant1: I'm looking for something reliable and fuel-efficient. (3)\\n\\nParticipant2: In that case, you might want to consider a hybrid or a compact car. (Follow-up)\\n\\nParticipant1: That sounds like a good idea. Do you have any specific models in mind? (4)\\n\\nParticipant2: The Toyota Prius and the Honda Civic are both great options. (Follow-up)\\n\\nParticipant1: I've heard good things about the Honda Civic. What's the fuel efficiency like? (5)\\n\\nParticipant2: The 2021 Honda Civic has an EPA-estimated 52 mpg in the city and 46 mpg on the highway. (Follow-up)\\n\\nParticipant1: That's impressive! I'll definitely look into it. Thanks for the suggestion. (6)\\n\\nParticipant2: No problem! If you need any more information, feel free to ask. (7)\\n\\nParticipant1: Will do! I'll check out the Honda Civic and the Toyota Prius. Thanks again for your help. (8)\\n\\nParticipant2: You're welcome! Let me know if you have any questions or need further assistance. (Follow-up)```\""
      ]
     },
     "execution_count": 47,
     "metadata": {},
     "output_type": "execute_result"
    }
   ],
   "source": [
    "gen('''\n",
    "Here is an example of a format:\n",
    "```{}```\n",
    "\n",
    "Please apply this format to the following text content:\n",
    "```{}```\n",
    "'''.strip().format(strat_a_convs[0], strat_a_convs[1]))"
   ]
  },
  {
   "cell_type": "code",
   "execution_count": 53,
   "id": "2277be9e-e8ae-453b-91b2-03f33fc56439",
   "metadata": {
    "tags": []
   },
   "outputs": [
    {
     "name": "stdout",
     "output_type": "stream",
     "text": [
      "21\n",
      "21\n",
      "21\n"
     ]
    }
   ],
   "source": [
    "print(len(strat_a_convs))\n",
    "print(len(strat_a_convs_sf))\n",
    "print(len(strat_a_paras))\n"
   ]
  },
  {
   "cell_type": "code",
   "execution_count": 54,
   "id": "4da3fd6a-c9a6-4ee7-ac36-67c967c3aca1",
   "metadata": {
    "tags": []
   },
   "outputs": [
    {
     "data": {
      "image/png": "[encoded data removed]",
      "text/plain": [
       "<Figure size 640x480 with 1 Axes>"
      ]
     },
     "metadata": {},
     "output_type": "display_data"
    }
   ],
   "source": [
    "import matplotlib.pyplot as plt\n",
    "import numpy as np\n",
    "\n",
    "total_arr = strat_a_convs + strat_a_convs_sf + strat_a_paras\n",
    "total_len = len(total_arr)\n",
    "matrix = np.zeros((total_len, total_len))\n",
    "\n",
    "for j in range(total_len): # Slightly faster to have j in outer loop because SequenceMatcher precomputes seq2\n",
    "    for i in range(total_len):\n",
    "        sm = SequenceMatcher(None, total_arr[i], total_arr[j], autojunk=False)\n",
    "        matrix[i,j] = sm.ratio()\n",
    "\n",
    "plt.imshow(matrix, cmap='hot', interpolation='nearest')\n",
    "plt.show()"
   ]
  },
  {
   "cell_type": "code",
   "execution_count": 61,
   "id": "6e2f0060-8549-4278-ad1b-fcea86a0ad60",
   "metadata": {
    "tags": []
   },
   "outputs": [
    {
     "name": "stdout",
     "output_type": "stream",
     "text": [
      "0.2572972972972973\n",
      "===\n",
      "P\u001b[34marticipant1: \u001b[0mI\u001b[94m just \u001b[0mb\u001b[34mo\u001b[0m\u001b[94mug\u001b[0mht a fr\u001b[34mes\u001b[0m\u001b[94mh\u001b[0m, juicy \u001b[34ma\u001b[0mpple from\u001b[94m the \u001b[0mfa\u001b[34mr\u001b[0mm\u001b[94me\u001b[0mr'\u001b[34ms ma\u001b[0m\u001b[94mr\u001b[0mket. It'\u001b[34ms \u001b[0m\u001b[94ms\u001b[0m\u001b[34mo \u001b[0mcr\u001b[94mi\u001b[0msp\u001b[34m an\u001b[0m\u001b[94md\u001b[0m\u001b[34m \u001b[0msweet! (1)\n",
      "\n",
      "P\u001b[94marticipant2: That\u001b[0m sound\u001b[34ms \u001b[0mdeli\u001b[94mci\u001b[0mous! I've bee\u001b[34mn\u001b[0m me\u001b[94ma\u001b[0mn\u001b[34ming\u001b[0m\u001b[94m t\u001b[0mo t\u001b[34mr\u001b[0my a n\u001b[94me\u001b[0mw apple variety. What kind\u001b[34m di\u001b[0md\u001b[94m \u001b[0m\u001b[34my\u001b[0m\u001b[94mo\u001b[0mu\u001b[34m \u001b[0mg\u001b[94me\u001b[0mt\u001b[34m?\u001b[0m\u001b[94m \u001b[0m(2)\n",
      "\n",
      "P\u001b[34marticipant1: \u001b[0mI\u001b[94m \u001b[0mg\u001b[34mo\u001b[0m\u001b[94mt \u001b[0m\u001b[34ma\u001b[0m Hon\u001b[94me\u001b[0myc\u001b[34mris\u001b[0mp. I\u001b[94mt\u001b[0m'\u001b[34ms \u001b[0mmy\u001b[94m \u001b[0mnew f\u001b[34ma\u001b[0mvor\u001b[94mit\u001b[0me! Would you like \u001b[34mt\u001b[0mo try one? (Follow-up)\u001b[94m\u001b[0m\n",
      "===\n",
      "\n",
      "1. p\u001b[34marticipant1: \u001b[0mDid you know that zebras have unique stripe patterns,\u001b[94m just \u001b[0mlike human fingerprints?\n",
      "2. participant2: Really? I had n\u001b[34mo\u001b[0m idea. How do these stripes help them?\n",
      "3. participant1: Well, one theory s\u001b[94mug\u001b[0mg\u001b[34mes\u001b[0mts t\u001b[94mh\u001b[0m\u001b[34ma\u001b[0mt\u001b[94m the \u001b[0mst\u001b[34mr\u001b[0mip\u001b[94me\u001b[0m\u001b[34ms ma\u001b[0my help zeb\u001b[94mr\u001b[0ma\u001b[34ms \u001b[0mblend in with each other when they're in a group, making it harder for predator\u001b[94ms\u001b[0m t\u001b[34mo \u001b[0ms\u001b[94mi\u001b[0mngle out\u001b[34m an\u001b[0m in\u001b[94md\u001b[0mividual.\n",
      "4.\u001b[34m \u001b[0mp\u001b[94marticipant2: That\u001b[0m'\u001b[34ms \u001b[0mfas\u001b[94mci\u001b[0m\u001b[34mn\u001b[0m\u001b[94ma\u001b[0mt\u001b[34ming\u001b[0m! Are\u001b[94m t\u001b[0mhe\u001b[34mr\u001b[0m\u001b[94me\u001b[0m\u001b[34m di\u001b[0mfferent\u001b[94m \u001b[0mt\u001b[34my\u001b[0mpes \u001b[94mo\u001b[0mf\u001b[34m \u001b[0mz\u001b[94me\u001b[0mbras\u001b[34m?\u001b[0m\n",
      "5.\u001b[94m \u001b[0mp\u001b[34marticipant1: \u001b[0mYes,\u001b[94m \u001b[0mthere are actually three species \u001b[34mo\u001b[0mf zebras: the Plains zebra, the Mountain zebra, and the Grevy's zebra. Each has its own distinc\u001b[94mt \u001b[0mch\u001b[34ma\u001b[0mract\u001b[94me\u001b[0m\u001b[34mris\u001b[0m\u001b[94mt\u001b[0mic\u001b[34ms \u001b[0mand\u001b[94m \u001b[0mh\u001b[34ma\u001b[0mb\u001b[94mit\u001b[0ma\u001b[34mt\u001b[0ms.\u001b[94m\u001b[0m\n",
      "===\n",
      "\n",
      "0.2912280701754386\n",
      "===\n",
      "Participant1: I just bought a fresh, juicy a\u001b[34mpple\u001b[0m\u001b[94m \u001b[0m\u001b[34mf\u001b[0mrom\u001b[94m the \u001b[0mf\u001b[34mar\u001b[0mme\u001b[94mr\u001b[0m'\u001b[34ms \u001b[0mma\u001b[94mr\u001b[0m\u001b[34mk\u001b[0m\u001b[94me\u001b[0mt. It's so\u001b[34m crisp\u001b[0m\u001b[94m and sweet\u001b[0m! (1)\n",
      "\n",
      "P\u001b[34mart\u001b[0micip\u001b[94ma\u001b[0mnt2:\u001b[34m Th\u001b[0mat\u001b[94m \u001b[0ms\u001b[34mo\u001b[0munds delicious! I'v\u001b[94me \u001b[0mbee\u001b[34mn \u001b[0mme\u001b[94ma\u001b[0mning to try a new apple\u001b[34m variety\u001b[0m.\u001b[94m \u001b[0mW\u001b[34mh\u001b[0ma\u001b[94mt \u001b[0mki\u001b[34mnd \u001b[0mdi\u001b[94md \u001b[0myou get? (2)\n",
      "\n",
      "P\u001b[34mar\u001b[0m\u001b[94mti\u001b[0mc\u001b[34mi\u001b[0mpa\u001b[94mnt\u001b[0m1: I got a Honeycri\u001b[34ms\u001b[0mp. It's my new favorite! Would you\u001b[94m like \u001b[0m\u001b[34mt\u001b[0m\u001b[94mo\u001b[0m \u001b[34mt\u001b[0mry one? (Follow-up)\u001b[94m\u001b[0m\n",
      "===\n",
      "\n",
      "A\u001b[34mpple\u001b[0ms\u001b[94m \u001b[0mare one o\u001b[34mf\u001b[0m\u001b[94m the \u001b[0mmost popul\u001b[34mar\u001b[0m f\u001b[94mr\u001b[0muit\u001b[34ms \u001b[0mwo\u001b[94mr\u001b[0mldwide, \u001b[34mk\u001b[0mnown for th\u001b[94me\u001b[0mir\u001b[34m crisp\u001b[0m texture\u001b[94m and sweet\u001b[0m-t\u001b[34mart\u001b[0m fl\u001b[94ma\u001b[0mvor.\u001b[34m Th\u001b[0mey\u001b[94m \u001b[0mc\u001b[34mo\u001b[0mm\u001b[94me \u001b[0mi\u001b[34mn \u001b[0m\u001b[94ma\u001b[0m\u001b[34m variety\u001b[0m\u001b[94m \u001b[0mof colors, from brig\u001b[34mh\u001b[0m\u001b[94mt \u001b[0mreds to greens a\u001b[34mnd \u001b[0myellows, an\u001b[94md \u001b[0m\u001b[34mar\u001b[0me packed with essen\u001b[94mti\u001b[0mal nutr\u001b[34mi\u001b[0me\u001b[94mnt\u001b[0m\u001b[34ms\u001b[0m\u001b[94m like \u001b[0mfiber, vi\u001b[34mt\u001b[0mamin C, and anti\u001b[94mo\u001b[0mxidan\u001b[34mt\u001b[0ms.\u001b[94m\u001b[0m\n",
      "===\n",
      "\n"
     ]
    }
   ],
   "source": [
    "def exmatrix(i, j):\n",
    "    print(matrix[i, j])\n",
    "    print('===')\n",
    "    show_match(total_arr[i], total_arr[j])\n",
    "    \n",
    "exmatrix(0, 41)\n",
    "exmatrix(0, 42)"
   ]
  },
  {
   "cell_type": "markdown",
   "id": "e0b76d25-7330-4e11-b52c-cd2341d059a2",
   "metadata": {},
   "source": [
    "Observations:\n",
    "\n",
    "    - The sequence matching technique does clearly differentiate between conversations and paragraphs.\n",
    "    - But visually, doesn't seem to differentiate too well between the two different formats of conversation. Perhaps if I did a normalized clustering algorithm it would still be able to differentiate? Not sure.\n",
    "    - Looking at examples, it seems like random word piece matches are significantly contributing. And it doesn't catch e.g. repeating numbers.\n",
    "    - I know from trying with an LLM that it can \"style transfer\" one text to another, and it matches what I as a human expect.\n",
    "    - This makes me think it's more promising to look into pulling the style information out of an LLM, because I suspect it has an implicit understanding of what \"style\" means from a human perspective.\n",
    "    - As a backup, I can try making manual features to quantify the style of a text. But it's VERY hard to imagine that in this day and age that will produce better performance per hour worked than spending that time finding a way to extract the implicit information from an LLM, especially now that I can work at scale."
   ]
  },
  {
   "cell_type": "markdown",
   "id": "e4dc3b86-127c-498d-ac02-097181d4030e",
   "metadata": {},
   "source": [
    "# Strategy A.1: Use LLM to quantify the style of a text (\"Stylometry fingerprint\")"
   ]
  },
  {
   "cell_type": "code",
   "execution_count": 63,
   "id": "97b0f995-a3c8-47ae-8811-f15f93f26463",
   "metadata": {
    "tags": []
   },
   "outputs": [
    {
     "name": "stdout",
     "output_type": "stream",
     "text": [
      "Template for Abstract Style Text Description:\n",
      "\n",
      "\n",
      "Title: [Subject of Discussion] Experience Sharing\n",
      "\n",
      "\n",
      "Format:\n",
      "\n",
      "- [Participant Identifier]: [Emotive or descriptive statement about the subject] (Number)\n",
      "\n",
      "- [Participant Identifier]: [Response or related question, invoking curiosity or interest] (Number)\n",
      "\n",
      "- [Participant Identifier]: [Further engagement or offer, if applicable] (Follow-up)\n",
      "\n",
      "\n",
      "Example:\n",
      "\n",
      "- [Chef]: Just tried the newest spicy chili recipe. It's a game-changer! (1)\n",
      "\n",
      "- [Foodie]: Wow, that sounds intense! What makes it stand out from other chilis? (2)\n",
      "\n",
      "- [Chef]: It's the unique blend of rare peppers and a secret spice mix. Want to taste the difference? (Follow-up)<|end|>\n",
      "== took 0:00:07.852284 (206 toks: 0:00:00.038118/tok; 26.234404365822762 tps) ==\n",
      "\n"
     ]
    },
    {
     "data": {
      "text/plain": [
       "\"Template for Abstract Style Text Description:\\n\\n\\nTitle: [Subject of Discussion] Experience Sharing\\n\\n\\nFormat:\\n\\n- [Participant Identifier]: [Emotive or descriptive statement about the subject] (Number)\\n\\n- [Participant Identifier]: [Response or related question, invoking curiosity or interest] (Number)\\n\\n- [Participant Identifier]: [Further engagement or offer, if applicable] (Follow-up)\\n\\n\\nExample:\\n\\n- [Chef]: Just tried the newest spicy chili recipe. It's a game-changer! (1)\\n\\n- [Foodie]: Wow, that sounds intense! What makes it stand out from other chilis? (2)\\n\\n- [Chef]: It's the unique blend of rare peppers and a secret spice mix. Want to taste the difference? (Follow-up)\""
      ]
     },
     "execution_count": 63,
     "metadata": {},
     "output_type": "execute_result"
    }
   ],
   "source": [
    "gen(\"Consider the abstract style of this text. Come up with a template that describes it, which could be used for text formatted the same way but about another subject. \\n\\n ```{}```\".format(strat_a_convs[0]))"
   ]
  },
  {
   "cell_type": "code",
   "execution_count": 69,
   "id": "cc9fe6db-0613-47aa-9737-b50a64eeb78b",
   "metadata": {
    "tags": []
   },
   "outputs": [
    {
     "name": "stdout",
     "output_type": "stream",
     "text": [
      "Participant1: I'm thinking of buying a new jacket for the upcoming winter. Any recommendations?\n",
      "\n",
      "Participant2: Sure! Have you considered a parka? They're great for keeping you warm in cold weather.\n",
      "\n",
      "Participant1: That sounds like a good idea. Do you have any specific brand or style in mind?\n",
      "\n",
      "Participant2: I really like the North Face parka. It's durable and has a classic design. Would you like me to show you some options online?\n",
      "\n",
      "Participant1: Yes, please! I'd appreciate that.\n",
      "\n",
      "Follow-up:\n",
      "\n",
      "Participant2: Here are a few North Face parka options I found. Take a look and let me know what you think!\n",
      "======\n",
      "Participant1: Seeking advice on winter clothing. (1)\n",
      "Participant2: Recommends a specific type of jacket. (2)\n",
      "Participant1: Expresses interest in the recommendation. (3)\n",
      "Participant2: Suggests a brand and offers to show options. (4)\n",
      "Participant1: Grateful for the offer and agrees to review options. (5)\n",
      "Follow-up: Participant2 presents jacket options for consideration. (Follow-up)<|end|>\n",
      "== took 0:00:04.839193 (116 toks: 0:00:00.041717/tok; 23.970941056424827 tps) ==\n",
      "\n"
     ]
    }
   ],
   "source": [
    "sample = strat_a_convs[7]\n",
    "print(sample)\n",
    "print('======')\n",
    "\n",
    "_ = gen(\"\"\"\n",
    "Considering the style and format of the text, come up with an abstract template describing it. Consider these examples:\n",
    "\n",
    "<example>\n",
    "Text:\n",
    "```\n",
    "Participant1: I just bought a fresh, juicy apple from the farmer's market. It's so crisp and sweet! (1)\n",
    "\n",
    "Participant2: That sounds delicious! I've been meaning to try a new apple variety. What kind did you get? (2)\n",
    "\n",
    "Participant1: I got a Honeycrisp. It's my new favorite! Would you like to try one? (Follow-up)\n",
    "```\n",
    "\n",
    "Abstract Template:\n",
    "```\n",
    "Participant1: Excited text. (1)\n",
    "Participant2: Excited text. (2)\n",
    "...\n",
    "Participant1: Excited text. (Follow-up)\n",
    "```\n",
    "\n",
    "</example>\n",
    "\n",
    "<example>\n",
    "Text:\n",
    "```\n",
    "1. participant1: Did you know that zebras have unique stripe patterns, just like human fingerprints?\n",
    "2. participant2: Really? I had no idea. How do these stripes help them?\n",
    "3. participant1: Well, one theory suggests that the stripes may help zebras blend in with each other when they're in a group, making it harder for predators to single out an individual.\n",
    "4. participant2: That's fascinating! Are there different types of zebras?\n",
    "5. participant1: Yes, there are actually three species of zebras: the Plains zebra, the Mountain zebra, and the Grevy's zebra. Each has its own distinct characteristics and habitats.\n",
    "```\n",
    "\n",
    "Abstract Template:\n",
    "```\n",
    "1. participant1: Excited text.\n",
    "2. participant2: Excited text.\n",
    "...\n",
    "N. participant1: Excited text.\n",
    "```\n",
    "</example>\n",
    "\n",
    "<example>\n",
    "Text:\n",
    "```\n",
    "Apples are one of the most popular fruits worldwide, known for their crisp texture and sweet-tart flavor. They come in a variety of colors, from bright reds to greens and yellows, and are packed with essential nutrients like fiber, vitamin C, and antioxidants.\n",
    "```\n",
    "\n",
    "Abstract Template:\n",
    "```\n",
    "Factual text.\n",
    "```\n",
    "</example>\n",
    "\n",
    "Text:\n",
    "```\n",
    "{}\n",
    "```\n",
    "\"\"\".strip().format(sample))"
   ]
  },
  {
   "cell_type": "code",
   "execution_count": 70,
   "id": "266416c3-e885-4af4-9483-5c6ca1ef97c7",
   "metadata": {
    "tags": []
   },
   "outputs": [
    {
     "name": "stdout",
     "output_type": "stream",
     "text": [
      "The stylistic similarities between these two texts are:\n",
      "\n",
      "1. Conversational tone: Both texts are written in a casual, conversational style, as if the participants are having a friendly discussion.\n",
      "2. Question and response format: Each text follows a question-and-response format, with one participant asking a question and the other providing an answer or a follow-up question.\n",
      "3. Use of personal pronouns: Both texts use personal pronouns (e.g., \"I,\" \"you\") to create a sense of direct communication between the participants.\n",
      "4. Informal language: The language used in both texts is informal and conversational, with the use of contractions (e.g., \"I've,\" \"you'll\") and colloquial expressions (e.g., \"fresh, juicy apple,\" \"new car\").\n",
      "5. Subject-specific vocabulary: Both texts use subject-specific vocabulary related to their respective topics (e.g., \"Honeycrisp\" apple variety, \"hybrid\" or \"electric vehicle\").\n",
      "6. Use of follow-up questions: Both texts include follow-up questions, which help to maintain the flow of the conversation and encourage further discussion.\n",
      "7. Polite and friendly tone: The participants in both texts maintain a polite and friendly tone throughout the conversation, which helps to create a positive and engaging atmosphere.<|end|>\n",
      "== took 0:00:12.101767 (307 toks: 0:00:00.039419/tok; 25.36819555828407 tps) ==\n",
      "\n"
     ]
    },
    {
     "data": {
      "text/plain": [
       "'The stylistic similarities between these two texts are:\\n\\n1. Conversational tone: Both texts are written in a casual, conversational style, as if the participants are having a friendly discussion.\\n2. Question and response format: Each text follows a question-and-response format, with one participant asking a question and the other providing an answer or a follow-up question.\\n3. Use of personal pronouns: Both texts use personal pronouns (e.g., \"I,\" \"you\") to create a sense of direct communication between the participants.\\n4. Informal language: The language used in both texts is informal and conversational, with the use of contractions (e.g., \"I\\'ve,\" \"you\\'ll\") and colloquial expressions (e.g., \"fresh, juicy apple,\" \"new car\").\\n5. Subject-specific vocabulary: Both texts use subject-specific vocabulary related to their respective topics (e.g., \"Honeycrisp\" apple variety, \"hybrid\" or \"electric vehicle\").\\n6. Use of follow-up questions: Both texts include follow-up questions, which help to maintain the flow of the conversation and encourage further discussion.\\n7. Polite and friendly tone: The participants in both texts maintain a polite and friendly tone throughout the conversation, which helps to create a positive and engaging atmosphere.'"
      ]
     },
     "execution_count": 70,
     "metadata": {},
     "output_type": "execute_result"
    }
   ],
   "source": [
    "_ = gen('What are the stylistic similarities between these two texts? \\n ```\\n{}\\n``` \\n\\n ```\\n{}\\n```'.format(strat_a_convs[0], strat_a_convs[1]))"
   ]
  },
  {
   "cell_type": "code",
   "execution_count": 71,
   "id": "ac57ba44-bba7-4e00-9201-a61fa739b2e8",
   "metadata": {
    "tags": []
   },
   "outputs": [
    {
     "name": "stdout",
     "output_type": "stream",
     "text": [
      "The stylistic similarities between these two texts include:\n",
      "\n",
      "1. Informal and conversational tone: Both texts are written in a casual, friendly tone, as if the participants are having a conversation with each other.\n",
      "\n",
      "2. Use of exclamation marks: Both texts use exclamation marks to convey enthusiasm and excitement about the topic (e.g., \"It's so crisp and sweet!\" and \"That sounds delicious!\").\n",
      "\n",
      "3. Personal experience and opinions: Both texts share personal experiences and opinions about apples, such as Participant1's preference for Honeycrisp apples and Participant2's love for Honeycrisp apples.\n",
      "\n",
      "4. Recipe and baking references: Both texts involve discussions about apple-related recipes and baking, with Participant1 mentioning an apple pie and Participant2 expressing interest in learning how to make one.\n",
      "\n",
      "5. Invitation and collaboration: Both texts include an invitation for the other participant to join in an activity related to apples, such as Participant1 inviting Participant2 to a baking session.\n",
      "\n",
      "6. Use of questions: Both texts include questions to engage the other participant and continue the conversation, such as Participant2 asking about the type of apples Participant1 bought and Participant1 asking if Participant2 would like to join in a baking session.\n",
      "\n",
      "7. Use of specific apple varieties: Both texts mention specific apple varieties, such as Granny Smith and Honeycrisp, which adds to the authenticity of the conversation about apples.<|end|>\n",
      "== took 0:00:14.137031 (359 toks: 0:00:00.039379/tok; 25.394299374879427 tps) ==\n",
      "\n"
     ]
    }
   ],
   "source": [
    "_ = gen('What are the stylistic similarities between these two texts? \\n ```\\n{}\\n``` \\n\\n ```\\n{}\\n```'.format(strat_a_convs[0], strat_a_convs_sf[0]))"
   ]
  },
  {
   "cell_type": "code",
   "execution_count": 72,
   "id": "20426774-0fea-4b55-8f53-f62d1f10ec65",
   "metadata": {
    "tags": []
   },
   "outputs": [
    {
     "name": "stdout",
     "output_type": "stream",
     "text": [
      "The stylistic similarities between these two texts are:\n",
      "\n",
      "1. Informative tone: Both texts provide information about apples, their taste, and nutritional value.\n",
      "2. Use of descriptive language: Both texts use descriptive language to convey the qualities of apples, such as \"crisp texture,\" \"sweet-tart flavor,\" and \"essential nutrients.\"\n",
      "3. Conversational style: The first text is a dialogue between two participants, while the second text is written in a conversational style, as if explaining the topic to someone.\n",
      "4. Focus on apples: Both texts focus on apples as the main subject, discussing their taste, variety, and nutritional benefits.\n",
      "5. Use of simple sentences: Both texts use simple sentences to convey their message clearly and concisely.\n",
      "6. Use of direct address: The second text uses direct address (\"you\") to engage the reader and make the information more relatable.\n",
      "\n",
      "Overall, both texts share a similar informative and conversational style, with a focus on apples and their qualities. They use descriptive language and simple sentences to convey their message effectively.<|end|>\n",
      "== took 0:00:09.813061 (253 toks: 0:00:00.038787/tok; 25.781964336436516 tps) ==\n",
      "\n"
     ]
    }
   ],
   "source": [
    "_ = gen('What are the stylistic similarities between these two texts? \\n ```\\n{}\\n``` \\n\\n ```\\n{}\\n```'.format(strat_a_convs[0], strat_a_paras[0]))"
   ]
  },
  {
   "cell_type": "markdown",
   "id": "1e6594c7-dd5c-4612-b60f-15178eb2fd62",
   "metadata": {},
   "source": [
    "# Strategy B: Randomly perturb words in the input"
   ]
  },
  {
   "cell_type": "markdown",
   "id": "0f4e8460-7fcb-4b60-8c1f-d46c91866b29",
   "metadata": {
    "tags": []
   },
   "source": [
    "# Strategy C: Use diversity reward during decode to find as different of inputs as possible"
   ]
  }
 ],
 "metadata": {
  "kernelspec": {
   "display_name": "conda_pytorch_p310",
   "language": "python",
   "name": "conda_pytorch_p310"
  },
  "language_info": {
   "codemirror_mode": {
    "name": "ipython",
    "version": 3
   },
   "file_extension": ".py",
   "mimetype": "text/x-python",
   "name": "python",
   "nbconvert_exporter": "python",
   "pygments_lexer": "ipython3",
   "version": "3.10.14"
  }
 },
 "nbformat": 4,
 "nbformat_minor": 5
}
