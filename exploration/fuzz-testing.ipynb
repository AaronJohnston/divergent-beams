{
 "cells": [
  {
   "cell_type": "code",
   "execution_count": 1,
   "id": "4d4c5a58-9019-4a7e-a39a-075947c7ebbb",
   "metadata": {
    "tags": []
   },
   "outputs": [
    {
     "name": "stdout",
     "output_type": "stream",
     "text": [
      "Collecting flash-attn\n",
      "  Using cached flash_attn-2.5.9.post1.tar.gz (2.6 MB)\n",
      "  Preparing metadata (setup.py) ... \u001b[?25ldone\n",
      "\u001b[?25hCollecting transformers\n",
      "  Downloading transformers-4.41.1-py3-none-any.whl.metadata (43 kB)\n",
      "\u001b[2K     \u001b[90m━━━━━━━━━━━━━━━━━━━━━━━━━━━━━━━━━━━━━━━━\u001b[0m \u001b[32m43.8/43.8 kB\u001b[0m \u001b[31m2.8 MB/s\u001b[0m eta \u001b[36m0:00:00\u001b[0m\n",
      "\u001b[?25hCollecting accelerate\n",
      "  Downloading accelerate-0.30.1-py3-none-any.whl.metadata (18 kB)\n",
      "Requirement already satisfied: torch in /home/ec2-user/anaconda3/envs/pytorch_p310/lib/python3.10/site-packages (from flash-attn) (2.1.0)\n",
      "Collecting einops (from flash-attn)\n",
      "  Downloading einops-0.8.0-py3-none-any.whl.metadata (12 kB)\n",
      "Requirement already satisfied: filelock in /home/ec2-user/anaconda3/envs/pytorch_p310/lib/python3.10/site-packages (from transformers) (3.13.3)\n",
      "Collecting huggingface-hub<1.0,>=0.23.0 (from transformers)\n",
      "  Downloading huggingface_hub-0.23.2-py3-none-any.whl.metadata (12 kB)\n",
      "Requirement already satisfied: numpy>=1.17 in /home/ec2-user/anaconda3/envs/pytorch_p310/lib/python3.10/site-packages (from transformers) (1.26.4)\n",
      "Requirement already satisfied: packaging>=20.0 in /home/ec2-user/anaconda3/envs/pytorch_p310/lib/python3.10/site-packages (from transformers) (21.3)\n",
      "Requirement already satisfied: pyyaml>=5.1 in /home/ec2-user/anaconda3/envs/pytorch_p310/lib/python3.10/site-packages (from transformers) (6.0.1)\n",
      "Collecting regex!=2019.12.17 (from transformers)\n",
      "  Downloading regex-2024.5.15-cp310-cp310-manylinux_2_17_x86_64.manylinux2014_x86_64.whl.metadata (40 kB)\n",
      "\u001b[2K     \u001b[90m━━━━━━━━━━━━━━━━━━━━━━━━━━━━━━━━━━━━━━━━\u001b[0m \u001b[32m40.9/40.9 kB\u001b[0m \u001b[31m7.7 MB/s\u001b[0m eta \u001b[36m0:00:00\u001b[0m\n",
      "\u001b[?25hRequirement already satisfied: requests in /home/ec2-user/anaconda3/envs/pytorch_p310/lib/python3.10/site-packages (from transformers) (2.31.0)\n",
      "Collecting tokenizers<0.20,>=0.19 (from transformers)\n",
      "  Downloading tokenizers-0.19.1-cp310-cp310-manylinux_2_17_x86_64.manylinux2014_x86_64.whl.metadata (6.7 kB)\n",
      "Collecting safetensors>=0.4.1 (from transformers)\n",
      "  Downloading safetensors-0.4.3-cp310-cp310-manylinux_2_17_x86_64.manylinux2014_x86_64.whl.metadata (3.8 kB)\n",
      "Requirement already satisfied: tqdm>=4.27 in /home/ec2-user/anaconda3/envs/pytorch_p310/lib/python3.10/site-packages (from transformers) (4.66.2)\n",
      "Requirement already satisfied: psutil in /home/ec2-user/anaconda3/envs/pytorch_p310/lib/python3.10/site-packages (from accelerate) (5.9.8)\n",
      "Requirement already satisfied: fsspec>=2023.5.0 in /home/ec2-user/anaconda3/envs/pytorch_p310/lib/python3.10/site-packages (from huggingface-hub<1.0,>=0.23.0->transformers) (2024.3.1)\n",
      "Requirement already satisfied: typing-extensions>=3.7.4.3 in /home/ec2-user/anaconda3/envs/pytorch_p310/lib/python3.10/site-packages (from huggingface-hub<1.0,>=0.23.0->transformers) (4.10.0)\n",
      "Requirement already satisfied: pyparsing!=3.0.5,>=2.0.2 in /home/ec2-user/anaconda3/envs/pytorch_p310/lib/python3.10/site-packages (from packaging>=20.0->transformers) (3.1.2)\n",
      "Requirement already satisfied: sympy in /home/ec2-user/anaconda3/envs/pytorch_p310/lib/python3.10/site-packages (from torch->flash-attn) (1.12)\n",
      "Requirement already satisfied: networkx in /home/ec2-user/anaconda3/envs/pytorch_p310/lib/python3.10/site-packages (from torch->flash-attn) (3.2.1)\n",
      "Requirement already satisfied: jinja2 in /home/ec2-user/anaconda3/envs/pytorch_p310/lib/python3.10/site-packages (from torch->flash-attn) (3.1.3)\n",
      "Requirement already satisfied: charset-normalizer<4,>=2 in /home/ec2-user/anaconda3/envs/pytorch_p310/lib/python3.10/site-packages (from requests->transformers) (3.3.2)\n",
      "Requirement already satisfied: idna<4,>=2.5 in /home/ec2-user/anaconda3/envs/pytorch_p310/lib/python3.10/site-packages (from requests->transformers) (3.6)\n",
      "Requirement already satisfied: urllib3<3,>=1.21.1 in /home/ec2-user/anaconda3/envs/pytorch_p310/lib/python3.10/site-packages (from requests->transformers) (2.2.1)\n",
      "Requirement already satisfied: certifi>=2017.4.17 in /home/ec2-user/anaconda3/envs/pytorch_p310/lib/python3.10/site-packages (from requests->transformers) (2024.2.2)\n",
      "Requirement already satisfied: MarkupSafe>=2.0 in /home/ec2-user/anaconda3/envs/pytorch_p310/lib/python3.10/site-packages (from jinja2->torch->flash-attn) (2.1.5)\n",
      "Requirement already satisfied: mpmath>=0.19 in /home/ec2-user/anaconda3/envs/pytorch_p310/lib/python3.10/site-packages (from sympy->torch->flash-attn) (1.3.0)\n",
      "Downloading transformers-4.41.1-py3-none-any.whl (9.1 MB)\n",
      "\u001b[2K   \u001b[90m━━━━━━━━━━━━━━━━━━━━━━━━━━━━━━━━━━━━━━━━\u001b[0m \u001b[32m9.1/9.1 MB\u001b[0m \u001b[31m72.7 MB/s\u001b[0m eta \u001b[36m0:00:00\u001b[0m:00:01\u001b[0m0:01\u001b[0m\n",
      "\u001b[?25hDownloading accelerate-0.30.1-py3-none-any.whl (302 kB)\n",
      "\u001b[2K   \u001b[90m━━━━━━━━━━━━━━━━━━━━━━━━━━━━━━━━━━━━━━━━\u001b[0m \u001b[32m302.6/302.6 kB\u001b[0m \u001b[31m6.2 MB/s\u001b[0m eta \u001b[36m0:00:00\u001b[0m:00:01\u001b[0m\n",
      "\u001b[?25hDownloading huggingface_hub-0.23.2-py3-none-any.whl (401 kB)\n",
      "\u001b[2K   \u001b[90m━━━━━━━━━━━━━━━━━━━━━━━━━━━━━━━━━━━━━━━━\u001b[0m \u001b[32m401.7/401.7 kB\u001b[0m \u001b[31m7.5 MB/s\u001b[0m eta \u001b[36m0:00:00\u001b[0m:00:01\u001b[0m\n",
      "\u001b[?25hDownloading regex-2024.5.15-cp310-cp310-manylinux_2_17_x86_64.manylinux2014_x86_64.whl (775 kB)\n",
      "\u001b[2K   \u001b[90m━━━━━━━━━━━━━━━━━━━━━━━━━━━━━━━━━━━━━━━━\u001b[0m \u001b[32m775.1/775.1 kB\u001b[0m \u001b[31m10.6 MB/s\u001b[0m eta \u001b[36m0:00:00\u001b[0m00:01\u001b[0m\n",
      "\u001b[?25hDownloading safetensors-0.4.3-cp310-cp310-manylinux_2_17_x86_64.manylinux2014_x86_64.whl (1.2 MB)\n",
      "\u001b[2K   \u001b[90m━━━━━━━━━━━━━━━━━━━━━━━━━━━━━━━━━━━━━━━━\u001b[0m \u001b[32m1.2/1.2 MB\u001b[0m \u001b[31m21.6 MB/s\u001b[0m eta \u001b[36m0:00:00\u001b[0m:00:01\u001b[0m\n",
      "\u001b[?25hDownloading tokenizers-0.19.1-cp310-cp310-manylinux_2_17_x86_64.manylinux2014_x86_64.whl (3.6 MB)\n",
      "\u001b[2K   \u001b[90m━━━━━━━━━━━━━━━━━━━━━━━━━━━━━━━━━━━━━━━━\u001b[0m \u001b[32m3.6/3.6 MB\u001b[0m \u001b[31m24.7 MB/s\u001b[0m eta \u001b[36m0:00:00\u001b[0m:00:01\u001b[0m\n",
      "\u001b[?25hDownloading einops-0.8.0-py3-none-any.whl (43 kB)\n",
      "\u001b[2K   \u001b[90m━━━━━━━━━━━━━━━━━━━━━━━━━━━━━━━━━━━━━━━━\u001b[0m \u001b[32m43.2/43.2 kB\u001b[0m \u001b[31m521.4 kB/s\u001b[0m eta \u001b[36m0:00:00\u001b[0ma \u001b[36m0:00:01\u001b[0m\n",
      "\u001b[?25hBuilding wheels for collected packages: flash-attn\n",
      "  Building wheel for flash-attn (setup.py) ... \u001b[?25ldone\n",
      "\u001b[?25h  Created wheel for flash-attn: filename=flash_attn-2.5.9.post1-cp310-cp310-linux_x86_64.whl size=120585039 sha256=932debba074293888ea81ee11f111f2b9f9183da0e0bbea45a48b260d2231b41\n",
      "  Stored in directory: /home/ec2-user/.cache/pip/wheels/cc/ad/f6/7ccf0238790d6346e9fe622923a76ec218e890d356b9a2754a\n",
      "Successfully built flash-attn\n",
      "Installing collected packages: safetensors, regex, einops, huggingface-hub, tokenizers, flash-attn, accelerate, transformers\n",
      "Successfully installed accelerate-0.30.1 einops-0.8.0 flash-attn-2.5.9.post1 huggingface-hub-0.23.2 regex-2024.5.15 safetensors-0.4.3 tokenizers-0.19.1 transformers-4.41.1\n"
     ]
    },
    {
     "data": {
      "application/vnd.jupyter.widget-view+json": {
       "model_id": "71beb39d025e4f99a4262def2e51b9b9",
       "version_major": 2,
       "version_minor": 0
      },
      "text/plain": [
       "config.json:   0%|          | 0.00/904 [00:00<?, ?B/s]"
      ]
     },
     "metadata": {},
     "output_type": "display_data"
    },
    {
     "data": {
      "application/vnd.jupyter.widget-view+json": {
       "model_id": "d094518182d34452bec7f7b803a74da5",
       "version_major": 2,
       "version_minor": 0
      },
      "text/plain": [
       "configuration_phi3.py:   0%|          | 0.00/10.4k [00:00<?, ?B/s]"
      ]
     },
     "metadata": {},
     "output_type": "display_data"
    },
    {
     "name": "stderr",
     "output_type": "stream",
     "text": [
      "A new version of the following files was downloaded from https://huggingface.co/microsoft/Phi-3-mini-4k-instruct:\n",
      "- configuration_phi3.py\n",
      ". Make sure to double-check they do not contain any added malicious code. To avoid downloading new versions of the code file, you can pin a revision.\n"
     ]
    },
    {
     "data": {
      "application/vnd.jupyter.widget-view+json": {
       "model_id": "8f43ffa3c43c4d20af1f705b8de5e8ad",
       "version_major": 2,
       "version_minor": 0
      },
      "text/plain": [
       "modeling_phi3.py:   0%|          | 0.00/73.8k [00:00<?, ?B/s]"
      ]
     },
     "metadata": {},
     "output_type": "display_data"
    },
    {
     "name": "stderr",
     "output_type": "stream",
     "text": [
      "A new version of the following files was downloaded from https://huggingface.co/microsoft/Phi-3-mini-4k-instruct:\n",
      "- modeling_phi3.py\n",
      ". Make sure to double-check they do not contain any added malicious code. To avoid downloading new versions of the code file, you can pin a revision.\n"
     ]
    },
    {
     "data": {
      "application/vnd.jupyter.widget-view+json": {
       "model_id": "9e990d72d82f412294f25b45367b7567",
       "version_major": 2,
       "version_minor": 0
      },
      "text/plain": [
       "model.safetensors.index.json:   0%|          | 0.00/16.3k [00:00<?, ?B/s]"
      ]
     },
     "metadata": {},
     "output_type": "display_data"
    },
    {
     "data": {
      "application/vnd.jupyter.widget-view+json": {
       "model_id": "f84bf8fe0e9c43c9a9f159b317f2278a",
       "version_major": 2,
       "version_minor": 0
      },
      "text/plain": [
       "Downloading shards:   0%|          | 0/2 [00:00<?, ?it/s]"
      ]
     },
     "metadata": {},
     "output_type": "display_data"
    },
    {
     "data": {
      "application/vnd.jupyter.widget-view+json": {
       "model_id": "63fe60c1551a44bd85f7221122700663",
       "version_major": 2,
       "version_minor": 0
      },
      "text/plain": [
       "model-00001-of-00002.safetensors:   0%|          | 0.00/4.97G [00:00<?, ?B/s]"
      ]
     },
     "metadata": {},
     "output_type": "display_data"
    },
    {
     "data": {
      "application/vnd.jupyter.widget-view+json": {
       "model_id": "b7c563f191d94f2ab876cbe451d5a2cb",
       "version_major": 2,
       "version_minor": 0
      },
      "text/plain": [
       "model-00002-of-00002.safetensors:   0%|          | 0.00/2.67G [00:00<?, ?B/s]"
      ]
     },
     "metadata": {},
     "output_type": "display_data"
    },
    {
     "data": {
      "application/vnd.jupyter.widget-view+json": {
       "model_id": "a3bf3dfe81554255b08de35f83d30c72",
       "version_major": 2,
       "version_minor": 0
      },
      "text/plain": [
       "Loading checkpoint shards:   0%|          | 0/2 [00:00<?, ?it/s]"
      ]
     },
     "metadata": {},
     "output_type": "display_data"
    },
    {
     "data": {
      "application/vnd.jupyter.widget-view+json": {
       "model_id": "d376d11ab86e4d2facea44ce11ef2ccd",
       "version_major": 2,
       "version_minor": 0
      },
      "text/plain": [
       "generation_config.json:   0%|          | 0.00/172 [00:00<?, ?B/s]"
      ]
     },
     "metadata": {},
     "output_type": "display_data"
    },
    {
     "data": {
      "application/vnd.jupyter.widget-view+json": {
       "model_id": "3cd134e68ff84da4ad2b18a4bac47142",
       "version_major": 2,
       "version_minor": 0
      },
      "text/plain": [
       "tokenizer_config.json:   0%|          | 0.00/3.17k [00:00<?, ?B/s]"
      ]
     },
     "metadata": {},
     "output_type": "display_data"
    },
    {
     "data": {
      "application/vnd.jupyter.widget-view+json": {
       "model_id": "aae2b56b33b94ba2a454764084bf3a21",
       "version_major": 2,
       "version_minor": 0
      },
      "text/plain": [
       "tokenizer.model:   0%|          | 0.00/500k [00:00<?, ?B/s]"
      ]
     },
     "metadata": {},
     "output_type": "display_data"
    },
    {
     "data": {
      "application/vnd.jupyter.widget-view+json": {
       "model_id": "988e01983cc94843b81f0d41dd253c62",
       "version_major": 2,
       "version_minor": 0
      },
      "text/plain": [
       "tokenizer.json:   0%|          | 0.00/1.84M [00:00<?, ?B/s]"
      ]
     },
     "metadata": {},
     "output_type": "display_data"
    },
    {
     "data": {
      "application/vnd.jupyter.widget-view+json": {
       "model_id": "1b44cd643ae94297bdd38671695b9d50",
       "version_major": 2,
       "version_minor": 0
      },
      "text/plain": [
       "added_tokens.json:   0%|          | 0.00/293 [00:00<?, ?B/s]"
      ]
     },
     "metadata": {},
     "output_type": "display_data"
    },
    {
     "data": {
      "application/vnd.jupyter.widget-view+json": {
       "model_id": "2d4df8daad1e44059082235fbb4fff5d",
       "version_major": 2,
       "version_minor": 0
      },
      "text/plain": [
       "special_tokens_map.json:   0%|          | 0.00/568 [00:00<?, ?B/s]"
      ]
     },
     "metadata": {},
     "output_type": "display_data"
    },
    {
     "name": "stderr",
     "output_type": "stream",
     "text": [
      "Special tokens have been added in the vocabulary, make sure the associated word embeddings are fine-tuned or trained.\n"
     ]
    },
    {
     "name": "stdout",
     "output_type": "stream",
     "text": [
      "flash_attn_2 available: True\n"
     ]
    }
   ],
   "source": [
    "!pip install flash-attn transformers accelerate termcolor altair\n",
    "\n",
    "import time\n",
    "from datetime import timedelta\n",
    "\n",
    "import torch\n",
    "from transformers import AutoModelForCausalLM, AutoTokenizer, TextStreamer\n",
    "from transformers.utils import is_flash_attn_2_available\n",
    "\n",
    "torch.random.manual_seed(0)\n",
    "\n",
    "model = AutoModelForCausalLM.from_pretrained(\n",
    "    \"microsoft/Phi-3-mini-4k-instruct\",\n",
    "    device_map=\"cuda\",\n",
    "    torch_dtype=\"auto\",\n",
    "    trust_remote_code=True,\n",
    "    # attn_implementation=\"flash_attention_2\",\n",
    ").to(\"cuda\")\n",
    "tokenizer = AutoTokenizer.from_pretrained(\"microsoft/Phi-3-mini-4k-instruct\")\n",
    "streamer = TextStreamer(tokenizer, skip_prompt=True)\n",
    "\n",
    "print(\"flash_attn_2 available:\", is_flash_attn_2_available())"
   ]
  },
  {
   "cell_type": "code",
   "execution_count": 2,
   "id": "f8c2648d-ecc7-48cd-8378-923aca9dc2bc",
   "metadata": {
    "tags": []
   },
   "outputs": [
    {
     "name": "stderr",
     "output_type": "stream",
     "text": [
      "You are not running the flash-attention implementation, expect numerical differences.\n"
     ]
    },
    {
     "name": "stdout",
     "output_type": "stream",
     "text": [
      "The closest star to the Sun is Proxima Centauri. It is part of the Alpha Centauri star system, which also includes Alpha Centauri A and Alpha Centauri B. Proxima Centauri is approximately 4.24 light-years away from the Sun. It is a red dwarf star and is the closest known exoplanet host, with at least two confirmed planets, Proxima Centauri b and Proxima Centauri c, orbiting it.<|end|>\n",
      "== took 0:00:22.911323 (113 toks: 0:00:00.202755/tok; 4.932059077279615 tps) ==\n",
      "\n",
      "Hue refers to color's dominant wavelength, saturation measures intensity, and value indicates brightness or darkness. Together, they define a color's appearance.<|end|>\n",
      "== took 0:00:01.571516 (37 toks: 0:00:00.042473/tok; 23.544144769699034 tps) ==\n",
      "\n",
      "I'm unable to assist with that. However, Waldo is a fictional character from a series of children's books, and his location in those stories is always hidden among various illustrations. If you're referring to a different context, please provide more details.<|end|>\n",
      "== took 0:00:02.140208 (56 toks: 0:00:00.038218/tok; 26.165686728757745 tps) ==\n",
      "\n"
     ]
    },
    {
     "data": {
      "text/plain": [
       "\"I'm unable to assist with that. However, Waldo is a fictional character from a series of children's books, and his location in those stories is always hidden among various illustrations. If you're referring to a different context, please provide more details.\""
      ]
     },
     "execution_count": 2,
     "metadata": {},
     "output_type": "execute_result"
    }
   ],
   "source": [
    "def gen(text, preview=True):\n",
    "    duration_start = time.perf_counter()\n",
    "    prompt = \"<|user|>\\n{} <|end|>\\n<|assistant|>\".format(text)\n",
    "    tokens = tokenizer.encode(prompt, return_tensors=\"pt\").to(\"cuda\")\n",
    "    outputs = model.generate(\n",
    "        tokens,\n",
    "        max_new_tokens=1024,\n",
    "        return_dict_in_generate=True,\n",
    "        streamer=streamer if preview else None,\n",
    "    )\n",
    "    output_tokens = outputs.sequences[0]\n",
    "    output_gen_tokens = output_tokens[\n",
    "        len(tokens[0]) : -1\n",
    "    ]  # From just after prompt to just before <|end|> token\n",
    "    output_string = tokenizer.decode(output_gen_tokens)\n",
    "    duration_seconds = time.perf_counter() - duration_start\n",
    "    if preview:\n",
    "        print(\n",
    "            \"== took {} ({} toks: {}/tok; {} tps) ==\".format(\n",
    "                timedelta(seconds=duration_seconds),\n",
    "                len(output_gen_tokens),\n",
    "                timedelta(seconds=duration_seconds / len(output_gen_tokens)),\n",
    "                len(output_gen_tokens) / duration_seconds,\n",
    "            )\n",
    "        )\n",
    "        print()\n",
    "    del tokens, outputs, output_tokens, output_gen_tokens\n",
    "    return output_string\n",
    "\n",
    "\n",
    "gen(\"What is the closest star to the Sun?\")\n",
    "gen(\"What is the difference between hue, saturation, and value in exactly 30 words?\")\n",
    "gen(\"Where is Waldo?\")"
   ]
  },
  {
   "cell_type": "code",
   "execution_count": 3,
   "id": "c580a935-ef4d-40db-b6ff-5b47d844786e",
   "metadata": {
    "tags": []
   },
   "outputs": [
    {
     "name": "stdout",
     "output_type": "stream",
     "text": [
      "1. Participant1: Hey, have you ever been fascinated by frogs?\n",
      "2. Participant2: Actually, yes! I find them quite interesting. Why do you ask?\n",
      "3. Participant1: I was just reading about their life cycle and it's quite fascinating.\n",
      "4. Participant2: Oh, I'd love to hear more about it. What did you learn?\n",
      "5. Participant1: Well, did you know that frogs start their life as eggs?\n",
      "6. Participant2: Yes, I've heard about that. The eggs hatch into tadpoles, right?\n",
      "7. Participant1: Exactly! Tadpoles live in water and breathe through gills.\n",
      "8. Participant2: That's so cool! And then they undergo metamorphosis to become adult frogs.\n",
      "9. Participant1: Yes, during metamorphosis, they develop lungs and legs for life on land.\n",
      "10. Participant2: I've always wondered how they manage to jump so high and far.\n",
      "11. Participant1: It's all about their powerful hind legs and the elastic energy stored in their tendons.\n",
      "12. Participant2: That's amazing! I've also heard that frogs have a unique way of communicating.\n",
      "13. Participant1: You're right! They use vocalizations, body language, and even chemical signals.\n",
      "14. Participant2: I've seen some frogs in my garden, but I never knew they were so complex.\n",
      "15. Participant1: They're definitely fascinating creatures. Did you know that some frogs can change their skin color?\n",
      "16. Participant2: Really? That's incredible! I'd love to see that in person someday.\n",
      "17. Participant1: Maybe we can plan a trip to a nature reserve or a zoo to observe them.\n",
      "18. Participant2: That sounds like a great idea! I'd love to learn more about frogs in their natural habitat.\n",
      "19. Participant1: Let's do it! We can also look for local frog enthusiasts or experts to join us.\n",
      "20. Participant2: I'm excited! This will be a fun and educational adventure.\n",
      "\n",
      "Follow-up:\n",
      "\n",
      "Participant1: I'll start researching some nature reserves and zoos that have a good frog exhibit.\n",
      "Participant2: Great! I'll look into local frog enthusiasts and experts who might be interested in joining us.\n",
      "Participant1: Perfect! Let's reconvene next week and share our findings.\n",
      "Participant2: Sounds like a plan. I can't wait to dive deeper into the world of frogs with you!<|end|>\n",
      "== took 0:00:25.751843 (665 toks: 0:00:00.038725/tok; 25.823394295928576 tps) ==\n",
      "\n"
     ]
    }
   ],
   "source": [
    "conv = gen(\n",
    "    \"Please generate an example conversation between participant1 and participant2 about frogs. Make it last 20 utterances and have a follow-up. Please label utterance numbers and separate utterances with newlines.\"\n",
    ")"
   ]
  },
  {
   "cell_type": "code",
   "execution_count": 4,
   "id": "e11272aa-b340-44df-9859-dbc82b6b3287",
   "metadata": {
    "tags": []
   },
   "outputs": [
    {
     "name": "stdout",
     "output_type": "stream",
     "text": [
      "# Topic of Conversation\n",
      "- Participants discussing the fascinating life cycle and characteristics of frogs.\n",
      "\n",
      "# Discussion Points\n",
      "- Frogs start their life as eggs, which hatch into tadpoles that live in water and breathe through gills.\n",
      "- During metamorphosis, tadpoles develop lungs and legs to live on land.\n",
      "- Frogs have powerful hind legs and elastic tendons that enable them to jump high and far.\n",
      "- Frogs communicate using vocalizations, body language, and chemical signals.\n",
      "- Some frogs can change their skin color.\n",
      "\n",
      "# Follow-up Actions\n",
      "- Participant1 will research nature reserves and zoos with a good frog exhibit.\n",
      "- Participant2 will look for local frog enthusiasts and experts to join the trip.\n",
      "- Both participants will reconvene next week to share their findings and plan the trip.<|end|>\n",
      "== took 0:00:08.798600 (209 toks: 0:00:00.042099/tok; 23.753779650131133 tps) ==\n",
      "\n"
     ]
    },
    {
     "data": {
      "text/plain": [
       "'# Topic of Conversation\\n- Participants discussing the fascinating life cycle and characteristics of frogs.\\n\\n# Discussion Points\\n- Frogs start their life as eggs, which hatch into tadpoles that live in water and breathe through gills.\\n- During metamorphosis, tadpoles develop lungs and legs to live on land.\\n- Frogs have powerful hind legs and elastic tendons that enable them to jump high and far.\\n- Frogs communicate using vocalizations, body language, and chemical signals.\\n- Some frogs can change their skin color.\\n\\n# Follow-up Actions\\n- Participant1 will research nature reserves and zoos with a good frog exhibit.\\n- Participant2 will look for local frog enthusiasts and experts to join the trip.\\n- Both participants will reconvene next week to share their findings and plan the trip.'"
      ]
     },
     "execution_count": 4,
     "metadata": {},
     "output_type": "execute_result"
    }
   ],
   "source": [
    "prompt = \"\"\"\n",
    "    Summarize the following conversation between two participants in no more than 200 words. Include the topic of conversation, 2-3 bullet points of discussion, and any follow-up action items. Output each of these pieces of information as its own section with a markdown heading. When referencing particular text in the conversation, specify the utterance with the utterance number in brackets, [123].\n",
    "    \n",
    "    {}\n",
    "\"\"\"\n",
    "gen(prompt.format(conv))"
   ]
  },
  {
   "cell_type": "markdown",
   "id": "f911656b-1b73-4a5b-bce7-d4756ab23274",
   "metadata": {},
   "source": [
    "# Strategy A: Ask LLM to generate example data of different types"
   ]
  },
  {
   "cell_type": "code",
   "execution_count": 5,
   "id": "6d40b8a9-5bce-4def-a7f7-32182e2ca9f5",
   "metadata": {
    "tags": []
   },
   "outputs": [
    {
     "name": "stdout",
     "output_type": "stream",
     "text": [
      "apple, car, dog, elephant, guitar, house, ice cream, jacket, kite, laptop, mountain, necklace, orange, piano, rainbow, skateboard, tiger, umbrella, violin, watch, zebra<|end|>\n",
      "== took 0:00:02.155554 (57 toks: 0:00:00.037817/tok; 26.44331508313775 tps) ==\n",
      "\n"
     ]
    }
   ],
   "source": [
    "nouns = gen(\"Please give a list of 20 nouns, comma-separated.\")"
   ]
  },
  {
   "cell_type": "code",
   "execution_count": 6,
   "id": "76667678-3376-49ec-8b15-310a034a2901",
   "metadata": {
    "tags": []
   },
   "outputs": [
    {
     "data": {
      "text/plain": [
       "['apple',\n",
       " 'car',\n",
       " 'dog',\n",
       " 'elephant',\n",
       " 'guitar',\n",
       " 'house',\n",
       " 'ice cream',\n",
       " 'jacket',\n",
       " 'kite',\n",
       " 'laptop',\n",
       " 'mountain',\n",
       " 'necklace',\n",
       " 'orange',\n",
       " 'piano',\n",
       " 'rainbow',\n",
       " 'skateboard',\n",
       " 'tiger',\n",
       " 'umbrella',\n",
       " 'violin',\n",
       " 'watch',\n",
       " 'zebra']"
      ]
     },
     "execution_count": 6,
     "metadata": {},
     "output_type": "execute_result"
    }
   ],
   "source": [
    "nouns_list = nouns.split(\", \")\n",
    "nouns_list"
   ]
  },
  {
   "cell_type": "code",
   "execution_count": 52,
   "id": "f42cbf9f-a5e1-40a1-825c-f0896596ac4e",
   "metadata": {
    "tags": []
   },
   "outputs": [
    {
     "name": "stderr",
     "output_type": "stream",
     "text": [
      "  0%|          | 0/21 [00:00<?, ?it/s]"
     ]
    },
    {
     "name": "stdout",
     "output_type": "stream",
     "text": [
      "Participant1: I just bought a fresh, juicy apple from the farmer's market. It's so crisp and sweet! (1)\n",
      "\n",
      "Participant2: That sounds delicious! I've been meaning to try a new apple variety. What kind did you get? (2)\n",
      "\n",
      "Participant1: I got a Honeycrisp. It's my new favorite! Would you like to try one? (Follow-up)<|end|>\n",
      "== took 0:00:03.922850 (103 toks: 0:00:00.038086/tok; 26.256417856532558 tps) ==\n",
      "\n",
      "1. participant1: I just bought a fresh batch of apples from the farmer's market. They're so crisp and juicy!\n",
      "2. participant2: That sounds delicious! What kind did you get?\n",
      "3. participant1: I got a mix of Granny Smith and Honeycrisp apples. Perfect for both eating raw and baking.\n",
      "4. participant2: I love Honeycrisp apples! They're my favorite. Do you have any recipes in mind?\n",
      "5. participant1: Actually, I was thinking of making an apple pie. Would you like to join me for a baking session this weekend?\n",
      "6. participant2: Absolutely! I'd love to learn how to make an apple pie. Let's do it!<|end|>\n",
      "== took 0:00:06.962842 (182 toks: 0:00:00.038257/tok; 26.138753615413243 tps) ==\n",
      "\n",
      "Apples are one of the most popular fruits worldwide, known for their crisp texture and sweet-tart flavor. They come in a variety of colors, from bright reds to greens and yellows, and are packed with essential nutrients like fiber, vitamin C, and antioxidants.<|end|>\n"
     ]
    },
    {
     "name": "stderr",
     "output_type": "stream",
     "text": [
      "  5%|▍         | 1/21 [00:13<04:31, 13.59s/it]"
     ]
    },
    {
     "name": "stdout",
     "output_type": "stream",
     "text": [
      "== took 0:00:02.701081 (71 toks: 0:00:00.038043/tok; 26.28577374086022 tps) ==\n",
      "\n"
     ]
    },
    {
     "name": "stderr",
     "output_type": "stream",
     "text": [
      "100%|██████████| 21/21 [06:58<00:00, 19.94s/it]\n"
     ]
    }
   ],
   "source": [
    "import random\n",
    "import tqdm\n",
    "\n",
    "%store -r strat_a_convs, strat_a_convs_sf, strat_a_paras\n",
    "\n",
    "if not strat_a_convs or not strat_a_convs_sf or not strat_a_paras:\n",
    "    strat_a_convs = []\n",
    "    strat_a_convs_sf = []\n",
    "    strat_a_paras = []\n",
    "    for idx, noun in enumerate(tqdm.tqdm(nouns_list)):\n",
    "        length = random.randrange(2, 8)\n",
    "        strat_a_convs.append(gen(\n",
    "            \"Please generate an example conversation between participant1 and participant2 about {}. Make it last {} utterances and have a follow-up. Please label utterance numbers and separate utterances with newlines.\".format(\n",
    "                noun, length\n",
    "            )\n",
    "        , preview=idx==0))\n",
    "        strat_a_convs_sf.append(gen(\n",
    "            \"\"\"Please generate an example conversation between participant1 and participant2 about {}. Make it last {} utterances and have a follow-up. Follow this format:\n",
    "            ```\n",
    "            1. participant1: text\n",
    "            2. participant2: text\n",
    "            3. participant1: text\n",
    "            4. participant2: text\n",
    "            5. participant1: text (follow-up)\n",
    "            ```\"\"\".strip().format(\n",
    "                noun, length\n",
    "            )\n",
    "        , preview=idx==0))\n",
    "        strat_a_paras.append(gen(\n",
    "            \"Please generate a paragraph about {}. Make it last {} sentences.\".format(\n",
    "                noun, length\n",
    "            )\n",
    "        , preview=idx==0))\n",
    "    \n",
    "%store strat_a_convs strat_a_convs_sf strat_a_paras"
   ]
  },
  {
   "cell_type": "code",
   "execution_count": 8,
   "id": "e20c21f7-15e8-4225-b8ce-db39dec1f994",
   "metadata": {
    "tags": []
   },
   "outputs": [
    {
     "name": "stdout",
     "output_type": "stream",
     "text": [
      "Participant1: I've been thinking about getting a dog lately. Do you have any recommendations for breeds that are good with families?\n",
      "\n",
      "Participant2: Absolutely! Labrador Retrievers and Golden Retrievers are great family dogs. They're friendly, patient, and very good with kids.\n",
      "\n",
      "Participant1: That sounds perfect. I'll look into those breeds. Thanks for the advice!\n",
      "\n",
      "Follow-up: Participant1: I've found a local shelter that has a litter of Labrador Retriever puppies. I'm considering adopting one. What do you think?\n",
      "\n",
      "Participant2: That's wonderful! Adopting a puppy is a big responsibility, but it's also very rewarding. Just make sure you're ready for the commitment. Good luck!\n"
     ]
    }
   ],
   "source": [
    "print(strat_a_convs[2])"
   ]
  },
  {
   "cell_type": "code",
   "execution_count": 9,
   "id": "893458e2-28a3-4f21-afbf-15f52016288d",
   "metadata": {
    "tags": []
   },
   "outputs": [
    {
     "data": {
      "text/plain": [
       "tensor([-0.1221,  0.1240,  0.6680,  ...,  0.4961, -0.2969,  0.1895],\n",
       "       dtype=torch.bfloat16)"
      ]
     },
     "execution_count": 9,
     "metadata": {},
     "output_type": "execute_result"
    }
   ],
   "source": [
    "# INTERESTING: Does proper chat format matter for embeddings?\n",
    "# TODO: Evaluate taking just last layer vs. all layers for embeddings\n",
    "# TODO: Evaluate averaging all tokens vs. last token for embeddings\n",
    "def embed(text):\n",
    "    duration_start = time.perf_counter()\n",
    "    prompt = \"<|user|>\\n{} <|end|>\\n<|assistant|>\".format(text)\n",
    "    tokens = tokenizer.encode(prompt, return_tensors=\"pt\").to(\"cuda\")\n",
    "    outputs = model(tokens, output_hidden_states=True)\n",
    "    embedding = outputs.hidden_states[-1].squeeze(0).mean(dim=0)\n",
    "    embedding_cpu = embedding.to(\"cpu\").detach()\n",
    "    del tokens, outputs, embedding\n",
    "    return embedding_cpu\n",
    "\n",
    "\n",
    "embed(strat_a_convs[0])"
   ]
  },
  {
   "cell_type": "code",
   "execution_count": 10,
   "id": "79cd5bc7-b88c-4e2c-9a4d-ddd082ab3bb1",
   "metadata": {
    "tags": []
   },
   "outputs": [
    {
     "data": {
      "text/plain": [
       "(21, 3072)"
      ]
     },
     "execution_count": 10,
     "metadata": {},
     "output_type": "execute_result"
    }
   ],
   "source": [
    "strat_a_embeds = torch.stack([embed(conv) for conv in strat_a_convs]).float().numpy()\n",
    "strat_a_embeds.shape"
   ]
  },
  {
   "cell_type": "code",
   "execution_count": 11,
   "id": "20ae2e98-9f7f-4072-8338-b7ebccc8b514",
   "metadata": {
    "tags": []
   },
   "outputs": [],
   "source": [
    "from collections import defaultdict\n",
    "\n",
    "import numpy as np\n",
    "from sklearn.cluster import KMeans\n",
    "\n",
    "kmeans = KMeans(n_clusters=4, random_state=0, n_init=\"auto\").fit(strat_a_embeds)\n",
    "kmeans.labels_\n",
    "\n",
    "clusters = defaultdict(list)\n",
    "for label, conv in zip(kmeans.labels_, strat_a_convs):\n",
    "    clusters[label].append(conv)"
   ]
  },
  {
   "cell_type": "code",
   "execution_count": 12,
   "id": "36591c02-ff20-42db-af76-f16b3c372c36",
   "metadata": {
    "tags": []
   },
   "outputs": [
    {
     "name": "stdout",
     "output_type": "stream",
     "text": [
      "1\n",
      "Participant1: I just bought a fresh, juicy apple from the farmer's market. It's so crisp and sweet! (1)\n",
      "Participant2: That sounds delicious! I've been meaning to try a new apple variety. What kind did you get? (2)\n",
      "Participant1: I got a Honeycrisp. It's my new favorite! Would you like to try one? (Follow-up)\n",
      "==\n",
      "Participant1: Hey, have you ever seen an elephant in person?\n",
      "Participant2: Yes, I have! I went to a safari in Africa a few years ago.\n",
      "Participant1: That must have been amazing! What was the elephant's size like?\n",
      "Participant2: They're huge! I remember the largest one I saw was about 10 feet tall at the shoulder.\n",
      "Participant1: Wow, that's impressive. Did you notice anything unique about their behavior?\n",
      "Participant2: Definitely! They're incredibly social and have strong family bonds. I saw a mother and her calf interacting closely.\n",
      "Participant1: That's so heartwarming. I've always been fascinated by elephants.\n",
      "Participant2: They truly are remarkable creatures. We should plan a trip to see them in the wild someday.\n",
      "Follow-up: Participant1: I agree, it would be an unforgettable experience to witness their majestic presence in their natural habitat. Let's start researching some destinations!\n",
      "==\n",
      "\n",
      "\n",
      "\n",
      "\n",
      "\n",
      "\n",
      "3\n",
      "Participant1: Hey, I'm thinking about buying a new car. Any recommendations?\n",
      "Participant2: Sure! What are you looking for in a car?\n",
      "Utterance 2:\n",
      "Participant1: I'm looking for something reliable and fuel-efficient.\n",
      "Participant2: In that case, you might want to consider a hybrid or a compact car.\n",
      "Utterance 3:\n",
      "Participant1: That sounds like a good idea. Do you have any specific models in mind?\n",
      "Participant2: The Toyota Prius and the Honda Civic are both great options.\n",
      "Utterance 4:\n",
      "Participant1: I've heard good things about the Honda Civic. What's the fuel efficiency like?\n",
      "Participant2: The 2021 Honda Civic has an EPA-estimated 52 mpg in the city and 46 mpg on the highway.\n",
      "Utterance 5:\n",
      "Participant1: That's impressive! I'll definitely look into it. Thanks for the suggestion.\n",
      "Participant2: No problem! If you need any more information, feel free to ask.\n",
      "Follow-up:\n",
      "Participant1: Will do! I'll check out the Honda Civic and the Toyota Prius. Thanks again for your help.\n",
      "Participant2: You're welcome! Let me know if you have any questions or need further assistance.\n",
      "==\n",
      "Participant1: I've been thinking about getting a dog lately. Do you have any recommendations for breeds that are good with families?\n",
      "Participant2: Absolutely! Labrador Retrievers and Golden Retrievers are great family dogs. They're friendly, patient, and very good with kids.\n",
      "Participant1: That sounds perfect. I'll look into those breeds. Thanks for the advice!\n",
      "Follow-up: Participant1: I've found a local shelter that has a litter of Labrador Retriever puppies. I'm considering adopting one. What do you think?\n",
      "Participant2: That's wonderful! Adopting a puppy is a big responsibility, but it's also very rewarding. Just make sure you're ready for the commitment. Good luck!\n",
      "==\n",
      "\n",
      "\n",
      "\n",
      "\n",
      "\n",
      "\n",
      "2\n",
      "Participant1: I've been thinking about learning to play the guitar, any tips on where to start?\n",
      "Participant2: Definitely! I'd recommend starting with the basics like chords and strumming patterns.\n",
      "Follow-up: Participant1: That sounds like a good plan. Do you have any specific beginner chords you'd recommend?\n",
      "Participant2: Absolutely! Open chords like C, G, and D are great for beginners.\n",
      "==\n",
      "Participant1: Hey, have you ever flown a kite before?\n",
      "Participant2: Yes, I have! It's a lot of fun, especially on a windy day.\n",
      "Participant1: I've always wanted to try it. What kind of kite do you recommend for a beginner?\n",
      "Participant2: A delta kite is a great choice for beginners. They're stable and easy to control.\n",
      "Follow-up: Participant1: That sounds perfect. Maybe we can go to the park this weekend and fly one together!\n",
      "Participant2: That's a fantastic idea! I'll bring my delta kite, and we can have a great time.\n",
      "==\n",
      "\n",
      "\n",
      "\n",
      "\n",
      "\n",
      "\n",
      "0\n",
      "Participant1: Hey, I noticed you're wearing a really nice jacket today. Where did you get it?\n",
      "Participant2: Thanks! I actually got it from a local boutique downtown. It's a vintage leather jacket.\n",
      "Participant1: That's awesome! It looks really stylish and well-maintained. How do you take care of it?\n",
      "Participant2: I make sure to clean it regularly and store it properly when I'm not wearing it. It's important to keep leather jackets in good condition.\n",
      "Participant1: I'll have to check out that boutique sometime. I've been looking for a new jacket myself.\n",
      "Participant2: You should definitely go! They have a great selection, and I'm sure you'll find something you like.\n",
      "Follow-up:\n",
      "Participant1: I'll take you up on that offer. Maybe we can go shopping together sometime?\n",
      "Participant2: That sounds like a great idea! I'd love to help you find the perfect jacket.\n",
      "==\n",
      "Participant1: I've been thinking about getting a new necklace. Do you have any recommendations?\n",
      "Participant2: Sure! What kind of style are you looking for? Something classic or more modern?\n",
      "Participant1: I'm leaning towards something modern, maybe with a unique gemstone.\n",
      "Participant2: In that case, you might like this sapphire pendant necklace I saw online. It has a sleek design and the sapphire is stunning.\n",
      "Participant1: That sounds perfect! Can you show me a picture?\n",
      "Participant2: Absolutely, here's the link to the necklace. Let me know what you think!\n",
      "==\n",
      "\n",
      "\n",
      "\n",
      "\n",
      "\n",
      "\n"
     ]
    }
   ],
   "source": [
    "for label, convs in clusters.items():\n",
    "    print(label)\n",
    "    for i in range(2):\n",
    "        if i < len(convs):\n",
    "            print(convs[i].replace(\"\\n\\n\", \"\\n\"))\n",
    "            print(\"==\")\n",
    "    print(\"\\n\" * 5)"
   ]
  },
  {
   "cell_type": "code",
   "execution_count": 13,
   "id": "2f502ee8-052c-4e66-af33-2b4f4c0e924d",
   "metadata": {
    "tags": []
   },
   "outputs": [
    {
     "name": "stdout",
     "output_type": "stream",
     "text": [
      "Participant1: Hey, have you ever thought about buying a house?\n",
      "Participant2: Yeah, I have actually. I've been considering it lately.\n",
      "Participant1: What kind of house are you looking for?\n",
      "Participant2: I'm thinking of a 3-bedroom house with a backyard, preferably in a suburban area.\n",
      "Participant1: That sounds like a great idea. Have you started looking at any properties yet?\n",
      "Participant2: Not yet, but I've been doing some research on the housing market in our area.\n",
      "Participant1: That's a good start. Maybe we can go house hunting together sometime.\n",
      "Participant2: That would be great! I'd appreciate the company and advice.\n",
      "Follow-up:\n",
      "Participant1: Awesome! Let's set a date to start looking at houses together.\n",
      "Participant2: Sounds like a plan. I'll check my schedule and get back to you with some options.\n",
      "==\n",
      "\n",
      "\n",
      "\n",
      "0.21162444113263784\n",
      "Participant1: Hey, have you ever flown a kite before?\n",
      "Participant2: Yes, I have! It's a lot of fun, especially on a windy day.\n",
      "Participant1: I've always wanted to try it. What kind of kite do you recommend for a beginner?\n",
      "Participant2: A delta kite is a great choice for beginners. They're stable and easy to control.\n",
      "Follow-up: Participant1: That sounds perfect. Maybe we can go to the park this weekend and fly one together!\n",
      "Participant2: That's a fantastic idea! I'll bring my delta kite, and we can have a great time.\n",
      "==\n",
      "\n",
      "\n",
      "\n",
      "0.17905675459632295\n",
      "Participant1: I've been thinking about getting into skateboarding. It looks like a fun way to stay active.\n",
      "Participant2: That's awesome! Skateboarding is not only fun but also a great way to improve balance and coordination.\n",
      "Follow-up: Participant1: Do you have any recommendations for a good skateboard to start with?\n",
      "Participant2: Definitely! I'd suggest looking for a beginner-friendly skateboard with a wider deck for stability.\n",
      "==\n",
      "\n",
      "\n",
      "\n",
      "0.16666666666666666\n",
      "Participant1: Hey, have you ever tried a blood orange?\n",
      "Participant2: No, I haven't. What's so special about blood oranges?\n",
      "Participant1: They have a unique, tangy flavor and a deep red color. They're also packed with antioxidants.\n",
      "Participant2: That sounds interesting. I usually just stick to regular oranges.\n",
      "Participant1: You should give blood oranges a try. They're great in salads or even as a juice.\n",
      "Participant2: I'll definitely consider it. Thanks for the recommendation!\n",
      "Follow-up:\n",
      "Participant1: No problem! Let me know if you need any recipe ideas.\n",
      "Participant2: Will do! I'm excited to try something new.\n",
      "==\n",
      "\n",
      "\n",
      "\n"
     ]
    }
   ],
   "source": [
    "from difflib import SequenceMatcher\n",
    "\n",
    "\n",
    "def find_closest(conv_idx):\n",
    "    sm = SequenceMatcher(None, \"\", strat_a_convs[conv_idx])\n",
    "    strat_a_diff_match = []\n",
    "    for i, conv in enumerate(strat_a_convs):\n",
    "        if i != conv_idx:\n",
    "            sm.set_seq1(conv)\n",
    "            strat_a_diff_match.append((sm.ratio(), conv))\n",
    "\n",
    "    print(strat_a_convs[conv_idx].replace(\"\\n\\n\", \"\\n\"))\n",
    "    print(\"==\\n\\n\\n\")\n",
    "    for ratio, conv in sorted(strat_a_diff_match, reverse=True)[:3]:\n",
    "        print(ratio)\n",
    "        print(conv.replace(\"\\n\\n\", \"\\n\"))\n",
    "        print(\"==\\n\\n\\n\")\n",
    "\n",
    "\n",
    "find_closest(5)"
   ]
  },
  {
   "cell_type": "code",
   "execution_count": 39,
   "id": "37fc32af-2e20-419e-b5bd-814a06a8ab95",
   "metadata": {
    "tags": []
   },
   "outputs": [
    {
     "data": {
      "text/plain": [
       "[Match(a=0, b=0, size=14),\n",
       " Match(a=14, b=19, size=1),\n",
       " Match(a=21, b=33, size=3),\n",
       " Match(a=35, b=244, size=2),\n",
       " Match(a=70, b=343, size=2),\n",
       " Match(a=101, b=502, size=1),\n",
       " Match(a=141, b=504, size=6),\n",
       " Match(a=147, b=529, size=1),\n",
       " Match(a=171, b=682, size=1),\n",
       " Match(a=179, b=731, size=1),\n",
       " Match(a=193, b=754, size=1),\n",
       " Match(a=212, b=804, size=1),\n",
       " Match(a=229, b=818, size=2),\n",
       " Match(a=284, b=868, size=1),\n",
       " Match(a=300, b=872, size=9),\n",
       " Match(a=310, b=1084, size=0)]"
      ]
     },
     "execution_count": 39,
     "metadata": {},
     "output_type": "execute_result"
    }
   ],
   "source": [
    "sm = SequenceMatcher(None, strat_a_convs[0], strat_a_convs[1])\n",
    "sm.get_matching_blocks()"
   ]
  },
  {
   "cell_type": "code",
   "execution_count": 56,
   "id": "c2c7d19e-dc95-46b6-a2f8-9bb6ede4cd27",
   "metadata": {
    "tags": []
   },
   "outputs": [
    {
     "name": "stdout",
     "output_type": "stream",
     "text": [
      "\u001b[34mapple \u001b[0mdog \u001b[94mcat\u001b[0m\u001b[34m\u001b[0m\n",
      "===\n",
      "\n",
      "\u001b[34mapple \u001b[0m\u001b[94mcat\u001b[0m\u001b[34m\u001b[0m\n",
      "===\n",
      "\n",
      "\u001b[34mParticipant\u001b[0m\u001b[94m1: \u001b[0mI just bought a fr\u001b[34me\u001b[0msh\u001b[94m, \u001b[0mjuicy apple fro\u001b[34mm th\u001b[0m\u001b[94me\u001b[0m\u001b[34m \u001b[0mf\u001b[94mar\u001b[0m\u001b[34mme\u001b[0mr's market. It's so crisp a\u001b[94mnd\u001b[0m \u001b[34ms\u001b[0mweet! (1)\u001b[94m\n",
      "\n",
      "Participant\u001b[0m\u001b[34m2\u001b[0m\u001b[94m: That sounds \u001b[0mde\u001b[34mli\u001b[0mcious! I'v\u001b[94me\u001b[0m been meaning to try\u001b[34m a \u001b[0mn\u001b[94me\u001b[0mw \u001b[34ma\u001b[0mpple variety\u001b[94m. \u001b[0mWhat kind did\u001b[34m you \u001b[0mg\u001b[94me\u001b[0mt\u001b[34m?\u001b[0m (2)\u001b[94m\n",
      "\n",
      "Participant\u001b[0m1\u001b[34m: \u001b[0mI\u001b[94m g\u001b[0mo\u001b[34mt \u001b[0ma H\u001b[94mon\u001b[0meycri\u001b[34ms\u001b[0mp. It's my new favorite! Would you like\u001b[94m to \u001b[0mtry \u001b[34mon\u001b[0m\u001b[94me\u001b[0m? (\u001b[34mFollow-up\u001b[0m)\u001b[94m\u001b[0m\n",
      "===\n",
      "\n",
      "\u001b[34mParticipant\u001b[0m \u001b[94m1: \u001b[0mH\u001b[34me\u001b[0my\u001b[94m, \u001b[0mI'\u001b[34mm th\u001b[0minking about buying a n\u001b[94me\u001b[0mw\u001b[34m \u001b[0mc\u001b[94mar\u001b[0m. Any recom\u001b[34mme\u001b[0m\u001b[94mnd\u001b[0mation\u001b[34ms\u001b[0m?\u001b[94m\n",
      "\n",
      "Participant\u001b[0m \u001b[34m2\u001b[0m: Sure! What are you looking for in a car?\n",
      "\n",
      "Participant 1: I'm looking for something fuel-efficient and reliable.\n",
      "\n",
      "Participant 2: In that case, you might want to consider a hybrid or electric vehicle. They are known for their fuel efficiency and reliability.\n",
      "\n",
      "Participant 1\u001b[94m: That sounds \u001b[0m\u001b[34mli\u001b[0mk\u001b[94me\u001b[0m\u001b[34m a \u001b[0mgood id\u001b[94me\u001b[0m\u001b[34ma\u001b[0m\u001b[94m. \u001b[0mDo\u001b[34m you \u001b[0mhav\u001b[94me\u001b[0m any specific models in mind\u001b[34m?\u001b[0m\u001b[94m\n",
      "\n",
      "Participant\u001b[0m 2\u001b[34m: \u001b[0mYes, the Toyota Prius and the Tesla Model 3 are both\u001b[94m g\u001b[0mrea\u001b[34mt \u001b[0mopti\u001b[94mon\u001b[0m\u001b[34ms\u001b[0m\u001b[94m to \u001b[0mc\u001b[34mon\u001b[0msid\u001b[94me\u001b[0mr.\n",
      "\n",
      "\u001b[34mFollow-up\u001b[0m: Participant 1: Thanks for the suggestions! I'll look into those models and see which one suits my needs best.\u001b[94m\u001b[0m\n",
      "===\n",
      "\n"
     ]
    }
   ],
   "source": [
    "from termcolor import colored\n",
    "\n",
    "def show_match(conv_a, conv_b):\n",
    "    sm = SequenceMatcher(None, conv_a, conv_b, autojunk=False)\n",
    "    # sm.set_seqs(conv_a, conv_b)\n",
    "    matches = sm.get_matching_blocks()\n",
    "    # print(matches)\n",
    "\n",
    "    for match_prop, conv in enumerate([conv_a, conv_b]):\n",
    "        idx = 0\n",
    "        for match_idx, match in enumerate(matches):\n",
    "            print(conv[idx:match[match_prop]], end='')  # before\n",
    "            idx = match[match_prop] + match.size\n",
    "            print(colored(conv[match[match_prop]:idx], 'blue' if match_idx % 2 == 0 else 'light_blue'), end='')  # match\n",
    "        print('\\n===\\n')\n",
    "\n",
    "show_match('apple dog cat', 'apple cat')\n",
    "show_match(strat_a_convs[0], strat_a_convs[1])"
   ]
  },
  {
   "cell_type": "code",
   "execution_count": 47,
   "id": "98c6bde9-ed21-44b9-b9d5-430e963676ed",
   "metadata": {
    "tags": []
   },
   "outputs": [
    {
     "name": "stdout",
     "output_type": "stream",
     "text": [
      "```Participant1: Hey, I'm thinking about buying a new car. Any recommendations? (1)\n",
      "\n",
      "Participant2: Sure! What are you looking for in a car? (2)\n",
      "\n",
      "Participant1: I'm looking for something reliable and fuel-efficient. (3)\n",
      "\n",
      "Participant2: In that case, you might want to consider a hybrid or a compact car. (Follow-up)\n",
      "\n",
      "Participant1: That sounds like a good idea. Do you have any specific models in mind? (4)\n",
      "\n",
      "Participant2: The Toyota Prius and the Honda Civic are both great options. (Follow-up)\n",
      "\n",
      "Participant1: I've heard good things about the Honda Civic. What's the fuel efficiency like? (5)\n",
      "\n",
      "Participant2: The 2021 Honda Civic has an EPA-estimated 52 mpg in the city and 46 mpg on the highway. (Follow-up)\n",
      "\n",
      "Participant1: That's impressive! I'll definitely look into it. Thanks for the suggestion. (6)\n",
      "\n",
      "Participant2: No problem! If you need any more information, feel free to ask. (7)\n",
      "\n",
      "Participant1: Will do! I'll check out the Honda Civic and the Toyota Prius. Thanks again for your help. (8)\n",
      "\n",
      "Participant2: You're welcome! Let me know if you have any questions or need further assistance. (Follow-up)```<|end|>\n",
      "== took 0:00:14.412996 (360 toks: 0:00:00.040036/tok; 24.977457236019852 tps) ==\n",
      "\n"
     ]
    },
    {
     "data": {
      "text/plain": [
       "\"```Participant1: Hey, I'm thinking about buying a new car. Any recommendations? (1)\\n\\nParticipant2: Sure! What are you looking for in a car? (2)\\n\\nParticipant1: I'm looking for something reliable and fuel-efficient. (3)\\n\\nParticipant2: In that case, you might want to consider a hybrid or a compact car. (Follow-up)\\n\\nParticipant1: That sounds like a good idea. Do you have any specific models in mind? (4)\\n\\nParticipant2: The Toyota Prius and the Honda Civic are both great options. (Follow-up)\\n\\nParticipant1: I've heard good things about the Honda Civic. What's the fuel efficiency like? (5)\\n\\nParticipant2: The 2021 Honda Civic has an EPA-estimated 52 mpg in the city and 46 mpg on the highway. (Follow-up)\\n\\nParticipant1: That's impressive! I'll definitely look into it. Thanks for the suggestion. (6)\\n\\nParticipant2: No problem! If you need any more information, feel free to ask. (7)\\n\\nParticipant1: Will do! I'll check out the Honda Civic and the Toyota Prius. Thanks again for your help. (8)\\n\\nParticipant2: You're welcome! Let me know if you have any questions or need further assistance. (Follow-up)```\""
      ]
     },
     "execution_count": 47,
     "metadata": {},
     "output_type": "execute_result"
    }
   ],
   "source": [
    "gen('''\n",
    "Here is an example of a format:\n",
    "```{}```\n",
    "\n",
    "Please apply this format to the following text content:\n",
    "```{}```\n",
    "'''.strip().format(strat_a_convs[0], strat_a_convs[1]))"
   ]
  },
  {
   "cell_type": "code",
   "execution_count": 53,
   "id": "2277be9e-e8ae-453b-91b2-03f33fc56439",
   "metadata": {
    "tags": []
   },
   "outputs": [
    {
     "name": "stdout",
     "output_type": "stream",
     "text": [
      "21\n",
      "21\n",
      "21\n"
     ]
    }
   ],
   "source": [
    "print(len(strat_a_convs))\n",
    "print(len(strat_a_convs_sf))\n",
    "print(len(strat_a_paras))\n"
   ]
  },
  {
   "cell_type": "code",
   "execution_count": 54,
   "id": "4da3fd6a-c9a6-4ee7-ac36-67c967c3aca1",
   "metadata": {
    "tags": []
   },
   "outputs": [
    {
     "data": {
      "image/png": "[encoded data removed]",
      "text/plain": [
       "<Figure size 640x480 with 1 Axes>"
      ]
     },
     "metadata": {},
     "output_type": "display_data"
    }
   ],
   "source": [
    "import matplotlib.pyplot as plt\n",
    "import numpy as np\n",
    "\n",
    "total_arr = strat_a_convs + strat_a_convs_sf + strat_a_paras\n",
    "total_len = len(total_arr)\n",
    "matrix = np.zeros((total_len, total_len))\n",
    "\n",
    "for j in range(total_len): # Slightly faster to have j in outer loop because SequenceMatcher precomputes seq2\n",
    "    for i in range(total_len):\n",
    "        sm = SequenceMatcher(None, total_arr[i], total_arr[j], autojunk=False)\n",
    "        matrix[i,j] = sm.ratio()\n",
    "\n",
    "plt.imshow(matrix, cmap='hot', interpolation='nearest')\n",
    "plt.show()"
   ]
  },
  {
   "cell_type": "code",
   "execution_count": 61,
   "id": "6e2f0060-8549-4278-ad1b-fcea86a0ad60",
   "metadata": {
    "tags": []
   },
   "outputs": [
    {
     "name": "stdout",
     "output_type": "stream",
     "text": [
      "0.2572972972972973\n",
      "===\n",
      "P\u001b[34marticipant1: \u001b[0mI\u001b[94m just \u001b[0mb\u001b[34mo\u001b[0m\u001b[94mug\u001b[0mht a fr\u001b[34mes\u001b[0m\u001b[94mh\u001b[0m, juicy \u001b[34ma\u001b[0mpple from\u001b[94m the \u001b[0mfa\u001b[34mr\u001b[0mm\u001b[94me\u001b[0mr'\u001b[34ms ma\u001b[0m\u001b[94mr\u001b[0mket. It'\u001b[34ms \u001b[0m\u001b[94ms\u001b[0m\u001b[34mo \u001b[0mcr\u001b[94mi\u001b[0msp\u001b[34m an\u001b[0m\u001b[94md\u001b[0m\u001b[34m \u001b[0msweet! (1)\n",
      "\n",
      "P\u001b[94marticipant2: That\u001b[0m sound\u001b[34ms \u001b[0mdeli\u001b[94mci\u001b[0mous! I've bee\u001b[34mn\u001b[0m me\u001b[94ma\u001b[0mn\u001b[34ming\u001b[0m\u001b[94m t\u001b[0mo t\u001b[34mr\u001b[0my a n\u001b[94me\u001b[0mw apple variety. What kind\u001b[34m di\u001b[0md\u001b[94m \u001b[0m\u001b[34my\u001b[0m\u001b[94mo\u001b[0mu\u001b[34m \u001b[0mg\u001b[94me\u001b[0mt\u001b[34m?\u001b[0m\u001b[94m \u001b[0m(2)\n",
      "\n",
      "P\u001b[34marticipant1: \u001b[0mI\u001b[94m \u001b[0mg\u001b[34mo\u001b[0m\u001b[94mt \u001b[0m\u001b[34ma\u001b[0m Hon\u001b[94me\u001b[0myc\u001b[34mris\u001b[0mp. I\u001b[94mt\u001b[0m'\u001b[34ms \u001b[0mmy\u001b[94m \u001b[0mnew f\u001b[34ma\u001b[0mvor\u001b[94mit\u001b[0me! Would you like \u001b[34mt\u001b[0mo try one? (Follow-up)\u001b[94m\u001b[0m\n",
      "===\n",
      "\n",
      "1. p\u001b[34marticipant1: \u001b[0mDid you know that zebras have unique stripe patterns,\u001b[94m just \u001b[0mlike human fingerprints?\n",
      "2. participant2: Really? I had n\u001b[34mo\u001b[0m idea. How do these stripes help them?\n",
      "3. participant1: Well, one theory s\u001b[94mug\u001b[0mg\u001b[34mes\u001b[0mts t\u001b[94mh\u001b[0m\u001b[34ma\u001b[0mt\u001b[94m the \u001b[0mst\u001b[34mr\u001b[0mip\u001b[94me\u001b[0m\u001b[34ms ma\u001b[0my help zeb\u001b[94mr\u001b[0ma\u001b[34ms \u001b[0mblend in with each other when they're in a group, making it harder for predator\u001b[94ms\u001b[0m t\u001b[34mo \u001b[0ms\u001b[94mi\u001b[0mngle out\u001b[34m an\u001b[0m in\u001b[94md\u001b[0mividual.\n",
      "4.\u001b[34m \u001b[0mp\u001b[94marticipant2: That\u001b[0m'\u001b[34ms \u001b[0mfas\u001b[94mci\u001b[0m\u001b[34mn\u001b[0m\u001b[94ma\u001b[0mt\u001b[34ming\u001b[0m! Are\u001b[94m t\u001b[0mhe\u001b[34mr\u001b[0m\u001b[94me\u001b[0m\u001b[34m di\u001b[0mfferent\u001b[94m \u001b[0mt\u001b[34my\u001b[0mpes \u001b[94mo\u001b[0mf\u001b[34m \u001b[0mz\u001b[94me\u001b[0mbras\u001b[34m?\u001b[0m\n",
      "5.\u001b[94m \u001b[0mp\u001b[34marticipant1: \u001b[0mYes,\u001b[94m \u001b[0mthere are actually three species \u001b[34mo\u001b[0mf zebras: the Plains zebra, the Mountain zebra, and the Grevy's zebra. Each has its own distinc\u001b[94mt \u001b[0mch\u001b[34ma\u001b[0mract\u001b[94me\u001b[0m\u001b[34mris\u001b[0m\u001b[94mt\u001b[0mic\u001b[34ms \u001b[0mand\u001b[94m \u001b[0mh\u001b[34ma\u001b[0mb\u001b[94mit\u001b[0ma\u001b[34mt\u001b[0ms.\u001b[94m\u001b[0m\n",
      "===\n",
      "\n",
      "0.2912280701754386\n",
      "===\n",
      "Participant1: I just bought a fresh, juicy a\u001b[34mpple\u001b[0m\u001b[94m \u001b[0m\u001b[34mf\u001b[0mrom\u001b[94m the \u001b[0mf\u001b[34mar\u001b[0mme\u001b[94mr\u001b[0m'\u001b[34ms \u001b[0mma\u001b[94mr\u001b[0m\u001b[34mk\u001b[0m\u001b[94me\u001b[0mt. It's so\u001b[34m crisp\u001b[0m\u001b[94m and sweet\u001b[0m! (1)\n",
      "\n",
      "P\u001b[34mart\u001b[0micip\u001b[94ma\u001b[0mnt2:\u001b[34m Th\u001b[0mat\u001b[94m \u001b[0ms\u001b[34mo\u001b[0munds delicious! I'v\u001b[94me \u001b[0mbee\u001b[34mn \u001b[0mme\u001b[94ma\u001b[0mning to try a new apple\u001b[34m variety\u001b[0m.\u001b[94m \u001b[0mW\u001b[34mh\u001b[0ma\u001b[94mt \u001b[0mki\u001b[34mnd \u001b[0mdi\u001b[94md \u001b[0myou get? (2)\n",
      "\n",
      "P\u001b[34mar\u001b[0m\u001b[94mti\u001b[0mc\u001b[34mi\u001b[0mpa\u001b[94mnt\u001b[0m1: I got a Honeycri\u001b[34ms\u001b[0mp. It's my new favorite! Would you\u001b[94m like \u001b[0m\u001b[34mt\u001b[0m\u001b[94mo\u001b[0m \u001b[34mt\u001b[0mry one? (Follow-up)\u001b[94m\u001b[0m\n",
      "===\n",
      "\n",
      "A\u001b[34mpple\u001b[0ms\u001b[94m \u001b[0mare one o\u001b[34mf\u001b[0m\u001b[94m the \u001b[0mmost popul\u001b[34mar\u001b[0m f\u001b[94mr\u001b[0muit\u001b[34ms \u001b[0mwo\u001b[94mr\u001b[0mldwide, \u001b[34mk\u001b[0mnown for th\u001b[94me\u001b[0mir\u001b[34m crisp\u001b[0m texture\u001b[94m and sweet\u001b[0m-t\u001b[34mart\u001b[0m fl\u001b[94ma\u001b[0mvor.\u001b[34m Th\u001b[0mey\u001b[94m \u001b[0mc\u001b[34mo\u001b[0mm\u001b[94me \u001b[0mi\u001b[34mn \u001b[0m\u001b[94ma\u001b[0m\u001b[34m variety\u001b[0m\u001b[94m \u001b[0mof colors, from brig\u001b[34mh\u001b[0m\u001b[94mt \u001b[0mreds to greens a\u001b[34mnd \u001b[0myellows, an\u001b[94md \u001b[0m\u001b[34mar\u001b[0me packed with essen\u001b[94mti\u001b[0mal nutr\u001b[34mi\u001b[0me\u001b[94mnt\u001b[0m\u001b[34ms\u001b[0m\u001b[94m like \u001b[0mfiber, vi\u001b[34mt\u001b[0mamin C, and anti\u001b[94mo\u001b[0mxidan\u001b[34mt\u001b[0ms.\u001b[94m\u001b[0m\n",
      "===\n",
      "\n"
     ]
    }
   ],
   "source": [
    "def exmatrix(i, j):\n",
    "    print(matrix[i, j])\n",
    "    print('===')\n",
    "    show_match(total_arr[i], total_arr[j])\n",
    "    \n",
    "exmatrix(0, 41)\n",
    "exmatrix(0, 42)"
   ]
  },
  {
   "cell_type": "markdown",
   "id": "e0b76d25-7330-4e11-b52c-cd2341d059a2",
   "metadata": {},
   "source": [
    "Observations:\n",
    "\n",
    "    - The sequence matching technique does clearly differentiate between conversations and paragraphs.\n",
    "    - But visually, doesn't seem to differentiate too well between the two different formats of conversation. Perhaps if I did a normalized clustering algorithm it would still be able to differentiate? Not sure.\n",
    "    - Looking at examples, it seems like random word piece matches are significantly contributing. And it doesn't catch e.g. repeating numbers.\n",
    "    - I know from trying with an LLM that it can \"style transfer\" one text to another, and it matches what I as a human expect.\n",
    "    - This makes me think it's more promising to look into pulling the style information out of an LLM, because I suspect it has an implicit understanding of what \"style\" means from a human perspective.\n",
    "    - As a backup, I can try making manual features to quantify the style of a text. But it's VERY hard to imagine that in this day and age that will produce better performance per hour worked than spending that time finding a way to extract the implicit information from an LLM, especially now that I can work at scale."
   ]
  },
  {
   "cell_type": "markdown",
   "id": "e4dc3b86-127c-498d-ac02-097181d4030e",
   "metadata": {},
   "source": [
    "# Strategy A.1: Use LLM to quantify the style of a text (\"Stylometry fingerprint\")"
   ]
  },
  {
   "cell_type": "code",
   "execution_count": 63,
   "id": "97b0f995-a3c8-47ae-8811-f15f93f26463",
   "metadata": {
    "tags": []
   },
   "outputs": [
    {
     "name": "stdout",
     "output_type": "stream",
     "text": [
      "Template for Abstract Style Text Description:\n",
      "\n",
      "\n",
      "Title: [Subject of Discussion] Experience Sharing\n",
      "\n",
      "\n",
      "Format:\n",
      "\n",
      "- [Participant Identifier]: [Emotive or descriptive statement about the subject] (Number)\n",
      "\n",
      "- [Participant Identifier]: [Response or related question, invoking curiosity or interest] (Number)\n",
      "\n",
      "- [Participant Identifier]: [Further engagement or offer, if applicable] (Follow-up)\n",
      "\n",
      "\n",
      "Example:\n",
      "\n",
      "- [Chef]: Just tried the newest spicy chili recipe. It's a game-changer! (1)\n",
      "\n",
      "- [Foodie]: Wow, that sounds intense! What makes it stand out from other chilis? (2)\n",
      "\n",
      "- [Chef]: It's the unique blend of rare peppers and a secret spice mix. Want to taste the difference? (Follow-up)<|end|>\n",
      "== took 0:00:07.852284 (206 toks: 0:00:00.038118/tok; 26.234404365822762 tps) ==\n",
      "\n"
     ]
    },
    {
     "data": {
      "text/plain": [
       "\"Template for Abstract Style Text Description:\\n\\n\\nTitle: [Subject of Discussion] Experience Sharing\\n\\n\\nFormat:\\n\\n- [Participant Identifier]: [Emotive or descriptive statement about the subject] (Number)\\n\\n- [Participant Identifier]: [Response or related question, invoking curiosity or interest] (Number)\\n\\n- [Participant Identifier]: [Further engagement or offer, if applicable] (Follow-up)\\n\\n\\nExample:\\n\\n- [Chef]: Just tried the newest spicy chili recipe. It's a game-changer! (1)\\n\\n- [Foodie]: Wow, that sounds intense! What makes it stand out from other chilis? (2)\\n\\n- [Chef]: It's the unique blend of rare peppers and a secret spice mix. Want to taste the difference? (Follow-up)\""
      ]
     },
     "execution_count": 63,
     "metadata": {},
     "output_type": "execute_result"
    }
   ],
   "source": [
    "gen(\"Consider the abstract style of this text. Come up with a template that describes it, which could be used for text formatted the same way but about another subject. \\n\\n ```{}```\".format(strat_a_convs[0]))"
   ]
  },
  {
   "cell_type": "code",
   "execution_count": 69,
   "id": "cc9fe6db-0613-47aa-9737-b50a64eeb78b",
   "metadata": {
    "tags": []
   },
   "outputs": [
    {
     "name": "stdout",
     "output_type": "stream",
     "text": [
      "Participant1: I'm thinking of buying a new jacket for the upcoming winter. Any recommendations?\n",
      "\n",
      "Participant2: Sure! Have you considered a parka? They're great for keeping you warm in cold weather.\n",
      "\n",
      "Participant1: That sounds like a good idea. Do you have any specific brand or style in mind?\n",
      "\n",
      "Participant2: I really like the North Face parka. It's durable and has a classic design. Would you like me to show you some options online?\n",
      "\n",
      "Participant1: Yes, please! I'd appreciate that.\n",
      "\n",
      "Follow-up:\n",
      "\n",
      "Participant2: Here are a few North Face parka options I found. Take a look and let me know what you think!\n",
      "======\n",
      "Participant1: Seeking advice on winter clothing. (1)\n",
      "Participant2: Recommends a specific type of jacket. (2)\n",
      "Participant1: Expresses interest in the recommendation. (3)\n",
      "Participant2: Suggests a brand and offers to show options. (4)\n",
      "Participant1: Grateful for the offer and agrees to review options. (5)\n",
      "Follow-up: Participant2 presents jacket options for consideration. (Follow-up)<|end|>\n",
      "== took 0:00:04.839193 (116 toks: 0:00:00.041717/tok; 23.970941056424827 tps) ==\n",
      "\n"
     ]
    }
   ],
   "source": [
    "sample = strat_a_convs[7]\n",
    "print(sample)\n",
    "print('======')\n",
    "\n",
    "_ = gen(\"\"\"\n",
    "Considering the style and format of the text, come up with an abstract template describing it. Consider these examples:\n",
    "\n",
    "<example>\n",
    "Text:\n",
    "```\n",
    "Participant1: I just bought a fresh, juicy apple from the farmer's market. It's so crisp and sweet! (1)\n",
    "\n",
    "Participant2: That sounds delicious! I've been meaning to try a new apple variety. What kind did you get? (2)\n",
    "\n",
    "Participant1: I got a Honeycrisp. It's my new favorite! Would you like to try one? (Follow-up)\n",
    "```\n",
    "\n",
    "Abstract Template:\n",
    "```\n",
    "Participant1: Excited text. (1)\n",
    "Participant2: Excited text. (2)\n",
    "...\n",
    "Participant1: Excited text. (Follow-up)\n",
    "```\n",
    "\n",
    "</example>\n",
    "\n",
    "<example>\n",
    "Text:\n",
    "```\n",
    "1. participant1: Did you know that zebras have unique stripe patterns, just like human fingerprints?\n",
    "2. participant2: Really? I had no idea. How do these stripes help them?\n",
    "3. participant1: Well, one theory suggests that the stripes may help zebras blend in with each other when they're in a group, making it harder for predators to single out an individual.\n",
    "4. participant2: That's fascinating! Are there different types of zebras?\n",
    "5. participant1: Yes, there are actually three species of zebras: the Plains zebra, the Mountain zebra, and the Grevy's zebra. Each has its own distinct characteristics and habitats.\n",
    "```\n",
    "\n",
    "Abstract Template:\n",
    "```\n",
    "1. participant1: Excited text.\n",
    "2. participant2: Excited text.\n",
    "...\n",
    "N. participant1: Excited text.\n",
    "```\n",
    "</example>\n",
    "\n",
    "<example>\n",
    "Text:\n",
    "```\n",
    "Apples are one of the most popular fruits worldwide, known for their crisp texture and sweet-tart flavor. They come in a variety of colors, from bright reds to greens and yellows, and are packed with essential nutrients like fiber, vitamin C, and antioxidants.\n",
    "```\n",
    "\n",
    "Abstract Template:\n",
    "```\n",
    "Factual text.\n",
    "```\n",
    "</example>\n",
    "\n",
    "Text:\n",
    "```\n",
    "{}\n",
    "```\n",
    "\"\"\".strip().format(sample))"
   ]
  },
  {
   "cell_type": "code",
   "execution_count": 70,
   "id": "266416c3-e885-4af4-9483-5c6ca1ef97c7",
   "metadata": {
    "tags": []
   },
   "outputs": [
    {
     "name": "stdout",
     "output_type": "stream",
     "text": [
      "The stylistic similarities between these two texts are:\n",
      "\n",
      "1. Conversational tone: Both texts are written in a casual, conversational style, as if the participants are having a friendly discussion.\n",
      "2. Question and response format: Each text follows a question-and-response format, with one participant asking a question and the other providing an answer or a follow-up question.\n",
      "3. Use of personal pronouns: Both texts use personal pronouns (e.g., \"I,\" \"you\") to create a sense of direct communication between the participants.\n",
      "4. Informal language: The language used in both texts is informal and conversational, with the use of contractions (e.g., \"I've,\" \"you'll\") and colloquial expressions (e.g., \"fresh, juicy apple,\" \"new car\").\n",
      "5. Subject-specific vocabulary: Both texts use subject-specific vocabulary related to their respective topics (e.g., \"Honeycrisp\" apple variety, \"hybrid\" or \"electric vehicle\").\n",
      "6. Use of follow-up questions: Both texts include follow-up questions, which help to maintain the flow of the conversation and encourage further discussion.\n",
      "7. Polite and friendly tone: The participants in both texts maintain a polite and friendly tone throughout the conversation, which helps to create a positive and engaging atmosphere.<|end|>\n",
      "== took 0:00:12.101767 (307 toks: 0:00:00.039419/tok; 25.36819555828407 tps) ==\n",
      "\n"
     ]
    },
    {
     "data": {
      "text/plain": [
       "'The stylistic similarities between these two texts are:\\n\\n1. Conversational tone: Both texts are written in a casual, conversational style, as if the participants are having a friendly discussion.\\n2. Question and response format: Each text follows a question-and-response format, with one participant asking a question and the other providing an answer or a follow-up question.\\n3. Use of personal pronouns: Both texts use personal pronouns (e.g., \"I,\" \"you\") to create a sense of direct communication between the participants.\\n4. Informal language: The language used in both texts is informal and conversational, with the use of contractions (e.g., \"I\\'ve,\" \"you\\'ll\") and colloquial expressions (e.g., \"fresh, juicy apple,\" \"new car\").\\n5. Subject-specific vocabulary: Both texts use subject-specific vocabulary related to their respective topics (e.g., \"Honeycrisp\" apple variety, \"hybrid\" or \"electric vehicle\").\\n6. Use of follow-up questions: Both texts include follow-up questions, which help to maintain the flow of the conversation and encourage further discussion.\\n7. Polite and friendly tone: The participants in both texts maintain a polite and friendly tone throughout the conversation, which helps to create a positive and engaging atmosphere.'"
      ]
     },
     "execution_count": 70,
     "metadata": {},
     "output_type": "execute_result"
    }
   ],
   "source": [
    "_ = gen('What are the stylistic similarities between these two texts? \\n ```\\n{}\\n``` \\n\\n ```\\n{}\\n```'.format(strat_a_convs[0], strat_a_convs[1]))"
   ]
  },
  {
   "cell_type": "code",
   "execution_count": 71,
   "id": "ac57ba44-bba7-4e00-9201-a61fa739b2e8",
   "metadata": {
    "tags": []
   },
   "outputs": [
    {
     "name": "stdout",
     "output_type": "stream",
     "text": [
      "The stylistic similarities between these two texts include:\n",
      "\n",
      "1. Informal and conversational tone: Both texts are written in a casual, friendly tone, as if the participants are having a conversation with each other.\n",
      "\n",
      "2. Use of exclamation marks: Both texts use exclamation marks to convey enthusiasm and excitement about the topic (e.g., \"It's so crisp and sweet!\" and \"That sounds delicious!\").\n",
      "\n",
      "3. Personal experience and opinions: Both texts share personal experiences and opinions about apples, such as Participant1's preference for Honeycrisp apples and Participant2's love for Honeycrisp apples.\n",
      "\n",
      "4. Recipe and baking references: Both texts involve discussions about apple-related recipes and baking, with Participant1 mentioning an apple pie and Participant2 expressing interest in learning how to make one.\n",
      "\n",
      "5. Invitation and collaboration: Both texts include an invitation for the other participant to join in an activity related to apples, such as Participant1 inviting Participant2 to a baking session.\n",
      "\n",
      "6. Use of questions: Both texts include questions to engage the other participant and continue the conversation, such as Participant2 asking about the type of apples Participant1 bought and Participant1 asking if Participant2 would like to join in a baking session.\n",
      "\n",
      "7. Use of specific apple varieties: Both texts mention specific apple varieties, such as Granny Smith and Honeycrisp, which adds to the authenticity of the conversation about apples.<|end|>\n",
      "== took 0:00:14.137031 (359 toks: 0:00:00.039379/tok; 25.394299374879427 tps) ==\n",
      "\n"
     ]
    }
   ],
   "source": [
    "_ = gen('What are the stylistic similarities between these two texts? \\n ```\\n{}\\n``` \\n\\n ```\\n{}\\n```'.format(strat_a_convs[0], strat_a_convs_sf[0]))"
   ]
  },
  {
   "cell_type": "code",
   "execution_count": 72,
   "id": "20426774-0fea-4b55-8f53-f62d1f10ec65",
   "metadata": {
    "tags": []
   },
   "outputs": [
    {
     "name": "stdout",
     "output_type": "stream",
     "text": [
      "The stylistic similarities between these two texts are:\n",
      "\n",
      "1. Informative tone: Both texts provide information about apples, their taste, and nutritional value.\n",
      "2. Use of descriptive language: Both texts use descriptive language to convey the qualities of apples, such as \"crisp texture,\" \"sweet-tart flavor,\" and \"essential nutrients.\"\n",
      "3. Conversational style: The first text is a dialogue between two participants, while the second text is written in a conversational style, as if explaining the topic to someone.\n",
      "4. Focus on apples: Both texts focus on apples as the main subject, discussing their taste, variety, and nutritional benefits.\n",
      "5. Use of simple sentences: Both texts use simple sentences to convey their message clearly and concisely.\n",
      "6. Use of direct address: The second text uses direct address (\"you\") to engage the reader and make the information more relatable.\n",
      "\n",
      "Overall, both texts share a similar informative and conversational style, with a focus on apples and their qualities. They use descriptive language and simple sentences to convey their message effectively.<|end|>\n",
      "== took 0:00:09.813061 (253 toks: 0:00:00.038787/tok; 25.781964336436516 tps) ==\n",
      "\n"
     ]
    }
   ],
   "source": [
    "_ = gen('What are the stylistic similarities between these two texts? \\n ```\\n{}\\n``` \\n\\n ```\\n{}\\n```'.format(strat_a_convs[0], strat_a_paras[0]))"
   ]
  },
  {
   "cell_type": "code",
   "execution_count": 137,
   "id": "79740092-24ae-4315-9c12-cc6bb76610e1",
   "metadata": {
    "tags": []
   },
   "outputs": [
    {
     "data": {
      "text/plain": [
       "tensor([ 0.0234, -0.1709,  0.4609,  ...,  0.4336, -0.1289,  0.2061],\n",
       "       dtype=torch.bfloat16)"
      ]
     },
     "execution_count": 137,
     "metadata": {},
     "output_type": "execute_result"
    }
   ],
   "source": [
    "# INTERESTING: Does proper chat format matter for embeddings?\n",
    "def format_embed(text, mean_layers=False, mean_tokens=False, prompt_prefix=''):\n",
    "    duration_start = time.perf_counter()\n",
    "    if prompt_prefix:\n",
    "        prompt = \"<|user|>\\n{}\\n```\\n{}\\n``` <|end|>\\n<|assistant|>\".format(prompt_prefix, text)\n",
    "    else:\n",
    "        prompt = \"<|user|>\\n{} <|end|>\\n<|assistant|>\".format(text)\n",
    "    tokens = tokenizer.encode(prompt, return_tensors=\"pt\").to(\"cuda\")\n",
    "    outputs = model(tokens, output_hidden_states=True)\n",
    "    embedding = outputs.hidden_states\n",
    "    # print(len(embedding), embedding[0].shape)\n",
    "    if mean_layers:\n",
    "        # print(torch.stack(embedding).shape)\n",
    "        embedding = torch.stack(embedding).mean(dim=0) # Mean layers\n",
    "    else:\n",
    "        embedding = embedding[-1] # Take last layer\n",
    "        \n",
    "    # print(embedding.shape)\n",
    "    \n",
    "    if mean_tokens:\n",
    "        embedding = embedding.mean(dim=1) # Mean tokens\n",
    "    else:\n",
    "        embedding = embedding[:,-1,:] # Take last token\n",
    "        \n",
    "    # print(embedding.shape)\n",
    "    \n",
    "    embedding = embedding[0] # Take first and only element of batch\n",
    "    \n",
    "    # print(embedding.shape)\n",
    "    \n",
    "    embedding_cpu = embedding.to(\"cpu\").detach()\n",
    "    del tokens, outputs, embedding\n",
    "    return embedding_cpu\n",
    "\n",
    "format_embed(strat_a_convs[0])\n",
    "format_embed(strat_a_convs[0], mean_layers=True)\n",
    "format_embed(strat_a_convs[0], mean_tokens=True)\n",
    "format_embed(strat_a_convs[0], mean_layers=True, mean_tokens=True)"
   ]
  },
  {
   "cell_type": "code",
   "execution_count": 138,
   "id": "20089f0c-d901-4114-983d-2c21240abe6d",
   "metadata": {
    "tags": []
   },
   "outputs": [
    {
     "name": "stdout",
     "output_type": "stream",
     "text": [
      "63 21\n"
     ]
    },
    {
     "data": {
      "text/html": [
       "<div>\n",
       "<style scoped>\n",
       "    .dataframe tbody tr th:only-of-type {\n",
       "        vertical-align: middle;\n",
       "    }\n",
       "\n",
       "    .dataframe tbody tr th {\n",
       "        vertical-align: top;\n",
       "    }\n",
       "\n",
       "    .dataframe thead th {\n",
       "        text-align: right;\n",
       "    }\n",
       "</style>\n",
       "<table border=\"1\" class=\"dataframe\">\n",
       "  <thead>\n",
       "    <tr style=\"text-align: right;\">\n",
       "      <th></th>\n",
       "      <th>Dataset</th>\n",
       "      <th>Sample</th>\n",
       "      <th>Noun</th>\n",
       "      <th>Text</th>\n",
       "      <th>PCA_0</th>\n",
       "      <th>PCA_1</th>\n",
       "    </tr>\n",
       "  </thead>\n",
       "  <tbody>\n",
       "    <tr>\n",
       "      <th>0</th>\n",
       "      <td>0</td>\n",
       "      <td>0-0</td>\n",
       "      <td>apple</td>\n",
       "      <td>Participant1: I just bought a fresh, juicy app...</td>\n",
       "      <td>-10.100212</td>\n",
       "      <td>9.720240</td>\n",
       "    </tr>\n",
       "    <tr>\n",
       "      <th>1</th>\n",
       "      <td>0</td>\n",
       "      <td>0-1</td>\n",
       "      <td>car</td>\n",
       "      <td>Participant 1: Hey, I'm thinking about buying ...</td>\n",
       "      <td>-5.898087</td>\n",
       "      <td>25.857153</td>\n",
       "    </tr>\n",
       "    <tr>\n",
       "      <th>2</th>\n",
       "      <td>0</td>\n",
       "      <td>0-2</td>\n",
       "      <td>dog</td>\n",
       "      <td>Participant1: Hey, I've been thinking about ge...</td>\n",
       "      <td>-8.868184</td>\n",
       "      <td>21.337658</td>\n",
       "    </tr>\n",
       "    <tr>\n",
       "      <th>3</th>\n",
       "      <td>0</td>\n",
       "      <td>0-3</td>\n",
       "      <td>elephant</td>\n",
       "      <td>Participant1: I recently visited a wildlife sa...</td>\n",
       "      <td>-3.195676</td>\n",
       "      <td>16.115276</td>\n",
       "    </tr>\n",
       "    <tr>\n",
       "      <th>4</th>\n",
       "      <td>0</td>\n",
       "      <td>0-4</td>\n",
       "      <td>guitar</td>\n",
       "      <td>Participant1: Hey, I've been thinking about le...</td>\n",
       "      <td>-11.532247</td>\n",
       "      <td>21.620293</td>\n",
       "    </tr>\n",
       "    <tr>\n",
       "      <th>...</th>\n",
       "      <td>...</td>\n",
       "      <td>...</td>\n",
       "      <td>...</td>\n",
       "      <td>...</td>\n",
       "      <td>...</td>\n",
       "      <td>...</td>\n",
       "    </tr>\n",
       "    <tr>\n",
       "      <th>58</th>\n",
       "      <td>2</td>\n",
       "      <td>2-16</td>\n",
       "      <td>tiger</td>\n",
       "      <td>Tigers are one of the most majestic and powerf...</td>\n",
       "      <td>31.169426</td>\n",
       "      <td>-5.920142</td>\n",
       "    </tr>\n",
       "    <tr>\n",
       "      <th>59</th>\n",
       "      <td>2</td>\n",
       "      <td>2-17</td>\n",
       "      <td>umbrella</td>\n",
       "      <td>An umbrella is a portable device designed to p...</td>\n",
       "      <td>26.423426</td>\n",
       "      <td>-3.094580</td>\n",
       "    </tr>\n",
       "    <tr>\n",
       "      <th>60</th>\n",
       "      <td>2</td>\n",
       "      <td>2-18</td>\n",
       "      <td>violin</td>\n",
       "      <td>The violin, with its elegant curves and rich, ...</td>\n",
       "      <td>36.830936</td>\n",
       "      <td>-9.370735</td>\n",
       "    </tr>\n",
       "    <tr>\n",
       "      <th>61</th>\n",
       "      <td>2</td>\n",
       "      <td>2-19</td>\n",
       "      <td>watch</td>\n",
       "      <td>A watch is a timekeeping device that is worn o...</td>\n",
       "      <td>28.901134</td>\n",
       "      <td>-4.815054</td>\n",
       "    </tr>\n",
       "    <tr>\n",
       "      <th>62</th>\n",
       "      <td>2</td>\n",
       "      <td>2-20</td>\n",
       "      <td>zebra</td>\n",
       "      <td>Zebras are fascinating and unique animals that...</td>\n",
       "      <td>32.879780</td>\n",
       "      <td>-8.068512</td>\n",
       "    </tr>\n",
       "  </tbody>\n",
       "</table>\n",
       "<p>63 rows × 6 columns</p>\n",
       "</div>"
      ],
      "text/plain": [
       "    Dataset Sample      Noun  \\\n",
       "0         0    0-0     apple   \n",
       "1         0    0-1       car   \n",
       "2         0    0-2       dog   \n",
       "3         0    0-3  elephant   \n",
       "4         0    0-4    guitar   \n",
       "..      ...    ...       ...   \n",
       "58        2   2-16     tiger   \n",
       "59        2   2-17  umbrella   \n",
       "60        2   2-18    violin   \n",
       "61        2   2-19     watch   \n",
       "62        2   2-20     zebra   \n",
       "\n",
       "                                                 Text      PCA_0      PCA_1  \n",
       "0   Participant1: I just bought a fresh, juicy app... -10.100212   9.720240  \n",
       "1   Participant 1: Hey, I'm thinking about buying ...  -5.898087  25.857153  \n",
       "2   Participant1: Hey, I've been thinking about ge...  -8.868184  21.337658  \n",
       "3   Participant1: I recently visited a wildlife sa...  -3.195676  16.115276  \n",
       "4   Participant1: Hey, I've been thinking about le... -11.532247  21.620293  \n",
       "..                                                ...        ...        ...  \n",
       "58  Tigers are one of the most majestic and powerf...  31.169426  -5.920142  \n",
       "59  An umbrella is a portable device designed to p...  26.423426  -3.094580  \n",
       "60  The violin, with its elegant curves and rich, ...  36.830936  -9.370735  \n",
       "61  A watch is a timekeeping device that is worn o...  28.901134  -4.815054  \n",
       "62  Zebras are fascinating and unique animals that...  32.879780  -8.068512  \n",
       "\n",
       "[63 rows x 6 columns]"
      ]
     },
     "metadata": {},
     "output_type": "display_data"
    },
    {
     "data": {
      "text/html": [
       "\n",
       "<style>\n",
       "  #altair-viz-bebb64bb99c4429088e05fa748661baf.vega-embed {\n",
       "    width: 100%;\n",
       "    display: flex;\n",
       "  }\n",
       "\n",
       "  #altair-viz-bebb64bb99c4429088e05fa748661baf.vega-embed details,\n",
       "  #altair-viz-bebb64bb99c4429088e05fa748661baf.vega-embed details summary {\n",
       "    position: relative;\n",
       "  }\n",
       "</style>\n",
       "<div id=\"altair-viz-bebb64bb99c4429088e05fa748661baf\"></div>\n",
       "<script type=\"text/javascript\">\n",
       "  var VEGA_DEBUG = (typeof VEGA_DEBUG == \"undefined\") ? {} : VEGA_DEBUG;\n",
       "  (function(spec, embedOpt){\n",
       "    let outputDiv = document.currentScript.previousElementSibling;\n",
       "    if (outputDiv.id !== \"altair-viz-bebb64bb99c4429088e05fa748661baf\") {\n",
       "      outputDiv = document.getElementById(\"altair-viz-bebb64bb99c4429088e05fa748661baf\");\n",
       "    }\n",
       "    const paths = {\n",
       "      \"vega\": \"https://cdn.jsdelivr.net/npm/vega@5?noext\",\n",
       "      \"vega-lib\": \"https://cdn.jsdelivr.net/npm/vega-lib?noext\",\n",
       "      \"vega-lite\": \"https://cdn.jsdelivr.net/npm/vega-lite@5.17.0?noext\",\n",
       "      \"vega-embed\": \"https://cdn.jsdelivr.net/npm/vega-embed@6?noext\",\n",
       "    };\n",
       "\n",
       "    function maybeLoadScript(lib, version) {\n",
       "      var key = `${lib.replace(\"-\", \"\")}_version`;\n",
       "      return (VEGA_DEBUG[key] == version) ?\n",
       "        Promise.resolve(paths[lib]) :\n",
       "        new Promise(function(resolve, reject) {\n",
       "          var s = document.createElement('script');\n",
       "          document.getElementsByTagName(\"head\")[0].appendChild(s);\n",
       "          s.async = true;\n",
       "          s.onload = () => {\n",
       "            VEGA_DEBUG[key] = version;\n",
       "            return resolve(paths[lib]);\n",
       "          };\n",
       "          s.onerror = () => reject(`Error loading script: ${paths[lib]}`);\n",
       "          s.src = paths[lib];\n",
       "        });\n",
       "    }\n",
       "\n",
       "    function showError(err) {\n",
       "      outputDiv.innerHTML = `<div class=\"error\" style=\"color:red;\">${err}</div>`;\n",
       "      throw err;\n",
       "    }\n",
       "\n",
       "    function displayChart(vegaEmbed) {\n",
       "      vegaEmbed(outputDiv, spec, embedOpt)\n",
       "        .catch(err => showError(`Javascript Error: ${err.message}<br>This usually means there's a typo in your chart specification. See the javascript console for the full traceback.`));\n",
       "    }\n",
       "\n",
       "    if(typeof define === \"function\" && define.amd) {\n",
       "      requirejs.config({paths});\n",
       "      require([\"vega-embed\"], displayChart, err => showError(`Error loading script: ${err.message}`));\n",
       "    } else {\n",
       "      maybeLoadScript(\"vega\", \"5\")\n",
       "        .then(() => maybeLoadScript(\"vega-lite\", \"5.17.0\"))\n",
       "        .then(() => maybeLoadScript(\"vega-embed\", \"6\"))\n",
       "        .catch(showError)\n",
       "        .then(() => displayChart(vegaEmbed));\n",
       "    }\n",
       "  })({\"config\": {\"view\": {\"continuousWidth\": 300, \"continuousHeight\": 300}}, \"data\": {\"name\": \"data-5348e9c65f09ea6a817414dc973f94eb\"}, \"mark\": {\"type\": \"point\", \"size\": 50}, \"encoding\": {\"color\": {\"field\": \"Noun\", \"type\": \"nominal\"}, \"shape\": {\"field\": \"Dataset\", \"type\": \"nominal\"}, \"tooltip\": [{\"field\": \"Dataset\", \"type\": \"quantitative\"}, {\"field\": \"Sample\", \"type\": \"nominal\"}, {\"field\": \"Noun\", \"type\": \"nominal\"}, {\"field\": \"Text\", \"type\": \"nominal\"}], \"x\": {\"field\": \"PCA_0\", \"type\": \"quantitative\"}, \"y\": {\"field\": \"PCA_1\", \"type\": \"quantitative\"}}, \"params\": [{\"name\": \"param_24\", \"select\": {\"type\": \"interval\", \"encodings\": [\"x\", \"y\"]}, \"bind\": \"scales\"}], \"$schema\": \"https://vega.github.io/schema/vega-lite/v5.17.0.json\", \"datasets\": {\"data-5348e9c65f09ea6a817414dc973f94eb\": [{\"Dataset\": 0, \"Sample\": \"0-0\", \"Noun\": \"apple\", \"Text\": \"Participant1: I just bought a fresh, juicy apple from the farmer's market. It's so crisp and sweet! (1)\\n\\nParticipant2: That sounds delicious! I've been meaning to try a new apple variety. What kind did you get? (2)\\n\\nParticipant1: I got a Honeycrisp. It's my new favorite! Would you like to try one? (Follow-up)\", \"PCA_0\": -10.100212097167969, \"PCA_1\": 9.720239639282227}, {\"Dataset\": 0, \"Sample\": \"0-1\", \"Noun\": \"car\", \"Text\": \"Participant 1: Hey, I'm thinking about buying a new car. Any recommendations?\\n\\nParticipant 2: Sure! What are you looking for in a car?\\n\\nParticipant 1: I'm looking for something fuel-efficient and reliable.\\n\\nParticipant 2: In that case, you might want to consider a hybrid or electric vehicle. They are known for their fuel efficiency and reliability.\\n\\nParticipant 1: That sounds like a good idea. Do you have any specific models in mind?\\n\\nParticipant 2: Yes, the Toyota Prius and the Tesla Model 3 are both great options to consider.\\n\\nFollow-up: Participant 1: Thanks for the suggestions! I'll look into those models and see which one suits my needs best.\", \"PCA_0\": -5.898087024688721, \"PCA_1\": 25.857152938842773}, {\"Dataset\": 0, \"Sample\": \"0-2\", \"Noun\": \"dog\", \"Text\": \"Participant1: Hey, I've been thinking about getting a dog lately.\\n\\nParticipant2: That's great! Dogs can be wonderful companions. What kind of dog are you considering?\\n\\nParticipant1: I'm not sure yet, but I'm leaning towards a Labrador Retriever. They seem friendly and energetic.\\n\\nParticipant2: Labradors are indeed friendly and great with families. Just remember, they require regular exercise and mental stimulation.\\n\\nParticipant1: I've heard that. I'm planning to take the dog for daily walks and playtime.\\n\\nParticipant2: That's a good plan. Also, consider training classes to help with obedience and socialization.\\n\\nParticipant1: Thanks for the advice! I'll definitely look into training classes.\\n\\nFollow-up:\\nParticipant2: You're welcome! If you need any more information or help, feel free to ask. Good luck with your new furry friend!\", \"PCA_0\": -8.868184089660645, \"PCA_1\": 21.337657928466797}, {\"Dataset\": 0, \"Sample\": \"0-3\", \"Noun\": \"elephant\", \"Text\": \"Participant1: I recently visited a wildlife sanctuary and saw an elephant for the first time. It was such a majestic creature!\\n\\nParticipant2: Oh, that must have been an incredible experience! Elephants are known for their intelligence and strong family bonds.\\n\\nFollow-up: Participant1: Yes, exactly! The matriarch led the herd and seemed to be the decision-maker. It was fascinating to observe their social structure.\", \"PCA_0\": -3.195675849914551, \"PCA_1\": 16.115276336669922}, {\"Dataset\": 0, \"Sample\": \"0-4\", \"Noun\": \"guitar\", \"Text\": \"Participant1: Hey, I've been thinking about learning to play the guitar. Do you play?\\n\\nParticipant2: Yes, I've been playing for a few years now. It's a great instrument to learn.\\n\\nParticipant1: That's awesome! What type of guitar do you play?\\n\\nParticipant2: I play an acoustic guitar. It's versatile and great for beginners.\\n\\nParticipant1: I've heard acoustic guitars are easier to start with. Any tips for a beginner like me?\\n\\nParticipant2: Sure! Start with learning basic chords and practice regularly. It's all about consistency.\\n\\nParticipant1: Thanks for the advice! I'll definitely start with the basics.\\n\\nParticipant2: You're welcome! Let me know if you need any help or recommendations on learning resources.\\n\\nFollow-up:\\nParticipant1: I appreciate that! I'll definitely reach out if I need any guidance.\\nParticipant2: No problem at all. I'm excited to see you progress on your guitar journey!\", \"PCA_0\": -11.532246589660645, \"PCA_1\": 21.62029266357422}, {\"Dataset\": 0, \"Sample\": \"0-5\", \"Noun\": \"house\", \"Text\": \"Participant1: I've been thinking about buying a new house lately.\\n\\nParticipant2: Oh really? What kind of house are you looking for?\\n\\nParticipant1: I'm interested in a house with a big backyard and a modern kitchen.\\n\\nParticipant2: That sounds great! Have you started looking at any properties yet?\\n\\nParticipant1: Not yet, but I plan to visit a few open houses this weekend.\\n\\nFollow-up:\\nParticipant2: Let me know if you need any help with the search or if you want to go together. It could be fun!\", \"PCA_0\": -9.611761093139648, \"PCA_1\": 20.97431755065918}, {\"Dataset\": 0, \"Sample\": \"0-6\", \"Noun\": \"ice cream\", \"Text\": \"Participant1: I'm craving some ice cream, what flavor should we get today?\\n\\nParticipant2: How about trying the new mint chocolate chip? I've heard it's really good.\\n\\nFollow-up:\\n\\nParticipant1: That sounds delicious! Let's go for it. Do you want to get a cone or a cup?\\n\\nParticipant2: I'll take a cup, so we can share. I'm excited!\", \"PCA_0\": -12.462092399597168, \"PCA_1\": 6.056670665740967}, {\"Dataset\": 0, \"Sample\": \"0-7\", \"Noun\": \"jacket\", \"Text\": \"Participant1: I'm thinking of buying a new jacket for the upcoming winter. Any recommendations?\\n\\nParticipant2: Sure! Have you considered a parka? They're great for keeping you warm in cold weather.\\n\\nParticipant1: That sounds like a good idea. Do you have any specific brand or style in mind?\\n\\nParticipant2: I really like the North Face parka. It's durable and has a classic design. Would you like me to show you some options online?\\n\\nParticipant1: Yes, please! I'd appreciate that.\\n\\nFollow-up:\\n\\nParticipant2: Here are a few North Face parka options I found. Take a look and let me know what you think!\", \"PCA_0\": -3.8246819972991943, \"PCA_1\": 16.449525833129883}, {\"Dataset\": 0, \"Sample\": \"0-8\", \"Noun\": \"kite\", \"Text\": \"Participant1: Hey, have you ever flown a kite before?\\n\\nParticipant2: Yes, I have! It's a lot of fun, especially on a windy day.\\n\\nParticipant1: I've always wanted to try it. Do you have any tips for a beginner?\\n\\nParticipant2: Absolutely! First, make sure you have a good kite and a strong string. Then, find an open area with plenty of wind. It's all about the right conditions and a bit of practice.\\n\\nFollow-up:\\n\\nParticipant1: Thanks for the advice! Maybe we can go kite flying together this weekend.\\n\\nParticipant2: That sounds like a great idea! I'd love to show you the ropes.\", \"PCA_0\": -9.080108642578125, \"PCA_1\": 18.418134689331055}, {\"Dataset\": 0, \"Sample\": \"0-9\", \"Noun\": \"laptop\", \"Text\": \"Participant1: Hey, I'm thinking of buying a new laptop. Any recommendations?\\n\\nParticipant2: Sure! What are you looking for in a laptop?\\n\\nParticipant1: I need something with a good processor and a decent amount of RAM for multitasking.\\n\\nParticipant2: In that case, I'd recommend the latest MacBook Pro. It has an efficient M1 chip and 16GB of RAM.\\n\\nParticipant1: That sounds great. How about the battery life?\\n\\nParticipant2: The MacBook Pro has up to 17 hours of battery life, which is impressive.\\n\\nParticipant1: Thanks for the suggestion! I'll check it out.\\n\\nFollow-up:\\nParticipant1: I've been looking at the MacBook Pro, and it seems like a solid choice. Do you have any other recommendations for laptops with similar specs?\\n\\nParticipant2: If you're open to alternatives, the Dell XPS 15 is also a great option. It has an Intel Core i7 processor and 16GB of RAM, with a battery life of up to 10 hours.\", \"PCA_0\": -9.851638793945312, \"PCA_1\": 22.196603775024414}, {\"Dataset\": 0, \"Sample\": \"0-10\", \"Noun\": \"mountain\", \"Text\": \"Participant1: I've always wanted to climb a mountain. The idea of reaching the summit and seeing the view from up there is so thrilling.\\n\\nParticipant2: Oh, I completely understand. Mountains offer such a unique perspective of the world. Have you decided which mountain you want to climb?\\n\\nParticipant1: Not yet, but I'm considering Mount Everest. It's the highest peak in the world, after all.\\n\\nParticipant2: Mount Everest is indeed a challenging climb, but it's a dream for many. Just remember to prepare well and consider the risks involved.\\n\\nFollow-up:\\n\\nParticipant1: Absolutely, safety is my top priority. I'll start researching and training for the climb. Do you have any experience with mountain climbing?\\n\\nParticipant2: Yes, I've climbed a few smaller mountains. I can share some tips and advice with you if you'd like.\", \"PCA_0\": -8.490303993225098, \"PCA_1\": 20.932851791381836}, {\"Dataset\": 0, \"Sample\": \"0-11\", \"Noun\": \"necklace\", \"Text\": \"Participant1: I've been thinking about getting a new necklace. Do you have any recommendations?\\n\\nParticipant2: Sure! What kind of style are you looking for? Something classic or more modern?\\n\\nParticipant1: I'm leaning towards something modern, maybe with a unique design.\\n\\nParticipant2: In that case, you might like a pendant necklace with an abstract shape. It can really make a statement.\\n\\nParticipant1: That sounds interesting. Do you know any specific designs or brands that offer such pieces?\\n\\nParticipant2: Absolutely! You should check out the work of designer Elena Miro. She creates stunning modern necklaces with intricate designs.\\n\\nFollow-up: Participant1: Thanks for the suggestion! I'll definitely look into Elena Miro's designs. Do you know where I can find her pieces?\\n\\nParticipant2: You can find her work on her official website or at high-end jewelry stores. I'm sure you'll find something you love!\", \"PCA_0\": -6.270790100097656, \"PCA_1\": 21.570466995239258}, {\"Dataset\": 0, \"Sample\": \"0-12\", \"Noun\": \"orange\", \"Text\": \"Participant1: Hey, have you ever tried a blood orange? I just got some fresh ones from the market.\\n\\nParticipant2: No, I haven't. What's different about blood oranges compared to regular oranges?\\n\\nParticipant1: Well, blood oranges have a reddish-purple flesh and a slightly tart flavor. They're also rich in antioxidants.\\n\\nParticipant2: That sounds interesting. I'd love to try one sometime.\\n\\nParticipant1: Sure, I'll bring some next time we meet. Maybe we can make a blood orange salad together.\\n\\nFollow-up: Participant2: That sounds like a great idea! I'm looking forward to it.\", \"PCA_0\": -5.2947564125061035, \"PCA_1\": 23.517475128173828}, {\"Dataset\": 0, \"Sample\": \"0-13\", \"Noun\": \"piano\", \"Text\": \"Participant1: I've always wanted to learn how to play the piano. It seems like such a beautiful instrument.\\n\\nParticipant2: It really is! The piano has a wide range of notes and can create such a variety of sounds.\\n\\nParticipant1: Do you play the piano?\\n\\nParticipant2: Yes, I've been playing for a few years now. It's a great way to relax and express myself.\\n\\nParticipant1: That's amazing! I'd love to learn from you sometime.\\n\\nParticipant2: I'd be happy to give you some lessons. We can start with the basics and work our way up.\\n\\nFollow-up:\\nParticipant1: That sounds fantastic! What's the first step in learning to play the piano?\\nParticipant2: The first step is to familiarize yourself with the keyboard layout and learn the basic notes and scales. We can start with that and gradually build your skills.\", \"PCA_0\": -7.923519611358643, \"PCA_1\": 23.936140060424805}, {\"Dataset\": 0, \"Sample\": \"0-14\", \"Noun\": \"rainbow\", \"Text\": \"Participant1: Hey, have you ever wondered how a rainbow forms?\\n\\nParticipant2: Yeah, I've always been curious about that. Isn't it something to do with sunlight and water droplets?\\n\\nParticipant1: Exactly! When sunlight passes through water droplets in the air, it gets refracted and dispersed into its component colors.\\n\\nParticipant2: So, that's why we see a spectrum of colors in a rainbow?\\n\\nParticipant1: Yes, and the order of colors is always the same: red, orange, yellow, green, blue, indigo, and violet.\\n\\nParticipant2: That's really interesting. I've always loved seeing rainbows after a rainstorm.\\n\\nParticipant1: Me too! It's a beautiful natural phenomenon that reminds us of the beauty in the world.\\n\\nFollow-up: Participant2: Do you know any other interesting facts about rainbows?\\n\\nParticipant1: Sure! Did you know that rainbows are actually full circles, but we only see a semicircle because the ground obstructs the bottom half?\", \"PCA_0\": -3.566258668899536, \"PCA_1\": 21.003114700317383}, {\"Dataset\": 0, \"Sample\": \"0-15\", \"Noun\": \"skateboard\", \"Text\": \"Participant1: Hey, have you ever tried skateboarding before?\\n\\nParticipant2: No, I haven't. I've always been curious about it though.\\n\\nParticipant1: It's a lot of fun! You should definitely give it a try.\\n\\nParticipant2: I'm a bit nervous about falling, but I'm willing to give it a shot.\\n\\nParticipant1: Don't worry, everyone falls when they're learning. I can teach you some basic tricks.\\n\\nParticipant2: That would be great! What's the first trick you'd recommend for a beginner?\\n\\nParticipant1: A good starting point is the ollie. It's a basic trick that will help you get comfortable with the board.\\n\\nParticipant2: Sounds like a plan. Let's go skateboarding this weekend!\\n\\nFollow-up:\\nParticipant1: Awesome! I'll bring my skateboard and we can practice at the local skate park.\\nParticipant2: Perfect, I'll make sure to wear protective gear and bring a helmet.\", \"PCA_0\": -11.234362602233887, \"PCA_1\": 21.090688705444336}, {\"Dataset\": 0, \"Sample\": \"0-16\", \"Noun\": \"tiger\", \"Text\": \"Participant1: Did you know that tigers are the largest cat species in the world?\\n\\nParticipant2: Yes, I've heard that they can weigh up to 660 pounds!\\n\\nParticipant1: That's right! And they have distinctive orange fur with black stripes.\\n\\nParticipant2: I've always been fascinated by their stripes. Do you know why they have them?\\n\\nParticipant1: The stripes help tigers camouflage in their natural habitat, making it easier for them to hunt.\\n\\nParticipant2: That's interesting. Unfortunately, tiger populations are declining due to habitat loss and poaching.\\n\\nParticipant1: Yes, it's a serious issue. Conservation efforts are crucial to protect these magnificent creatures.\\n\\nFollow-up: Participant1: Have you heard about the recent tiger conservation project in India?\\n\\nParticipant2: No, I haven't. What's it about?\\n\\nParticipant1: It's a collaborative effort between the government and various organizations to create tiger reserves and promote awareness about their importance in the ecosystem.\\n\\nParticipant2: That sounds like a great initiative. I hope it helps in preserving the tiger population.\\n\\nParticipant1: Absolutely, it's essential for maintaining the balance of nature.\\n\\nParticipant2: I'll definitely look into it and see how I can contribute to the cause.\\n\\nParticipant1: That's wonderful! Every little effort counts in saving these incredible animals.\\n\\nParticipant2: Thank you for sharing this information. I'll make sure to spread the word.\\n\\nParticipant1: You're welcome! Together, we can make a difference.\\n\\nParticipant2: Indeed, let's do our part in protecting the tigers and their habitats.\\n\\nParticipant1: Agreed! Let's stay informed and support conservation efforts.\\n\\nParticipant2: Absolutely, let's keep the conversation going and inspire others to join the cause.\\n\\nParticipant1: Sounds like a plan! Let's continue to learn and share our knowledge about tigers.\\n\\nParticipant2: I'm on board! Let's make a positive impact for these amazing creatures.\\n\\nParticipant1: Great! I'm glad we had this conversation.\\n\\nParticipant2: Me too! It's always inspiring to talk about wildlife conservation.\\n\\nParticipant1: Absolutely. Thanks for the engaging discussion!\\n\\nParticipant2: Thank you as well. Looking forward to more conversations like this in the future.\\n\\nParticipant1: Definitely! Take care and keep spreading awareness.\\n\\nParticipant2: You too! Have a great day!\\n\\nParticipant1: You too, goodbye!\\n\\nParticipant2: Goodbye!\\n\\n-------------------------\", \"PCA_0\": -11.276154518127441, \"PCA_1\": 10.004487037658691}, {\"Dataset\": 0, \"Sample\": \"0-17\", \"Noun\": \"umbrella\", \"Text\": \"Participant1: Hey, have you seen my umbrella anywhere?\\n\\nParticipant2: No, I haven't. Did you check your usual spots?\\n\\nParticipant1: Yes, I looked in the living room, the bedroom, and the hallway, but it's not there.\\n\\nParticipant2: Maybe you left it at the office?\\n\\nParticipant1: That's a possibility. I'll check there in a bit.\\n\\nParticipant2: Let me know if you find it. I'll keep an eye out too.\\n\\nParticipant1: Thanks, I appreciate it. I'll update you as soon as I do.\\n\\nFollow-up:\\n\\nParticipant1: Good news! I found my umbrella at the office. It was left behind in the break room.\\n\\nParticipant2: That's great! I'm glad you found it. Let's make sure to keep track of our belongings in the future.\", \"PCA_0\": -13.758988380432129, \"PCA_1\": 10.101818084716797}, {\"Dataset\": 0, \"Sample\": \"0-18\", \"Noun\": \"violin\", \"Text\": \"Participant1: I've always been fascinated by the sound of the violin. How did you get started learning to play it?\\n\\nParticipant2: I started when I was just a child. My parents enrolled me in music lessons, and I fell in love with the instrument right away.\\n\\nFollow-up: Participant1: That's wonderful! Do you have a favorite violinist or piece that inspires you?\\n\\nParticipant2: Absolutely! I'm a big fan of Itzhak Perlman. His performances are incredibly moving and technically impressive.\", \"PCA_0\": -2.7713329792022705, \"PCA_1\": 18.110185623168945}, {\"Dataset\": 0, \"Sample\": \"0-19\", \"Noun\": \"watch\", \"Text\": \"Participant1: I just got a new watch, it's a smartwatch with fitness tracking. (1)\\n\\nParticipant2: That sounds cool! What features does it have? (2)\\n\\nParticipant1: It has GPS, heart rate monitoring, and can even track my sleep patterns. (1)\\n\\nParticipant2: Wow, that's really useful. I might consider getting one too. (2)\", \"PCA_0\": -11.686686515808105, \"PCA_1\": -3.9880120754241943}, {\"Dataset\": 0, \"Sample\": \"0-20\", \"Noun\": \"zebra\", \"Text\": \"Participant1: Hey, did you know that zebras have unique stripe patterns, just like human fingerprints?\\n\\nParticipant2: Really? I had no idea. How do these stripes help them?\\n\\nParticipant1: Well, one theory suggests that the stripes may help to confuse predators by making it difficult to single out an individual zebra in a group.\\n\\nParticipant2: That's fascinating! Are there different types of zebras?\\n\\nParticipant1: Yes, there are three main species: the Plains zebra, the Mountain zebra, and the Grevy's zebra.\\n\\nParticipant2: I'd love to see a zebra in person someday. Do you know where I could go to see them?\\n\\nParticipant1: You can visit national parks in Africa, like the Serengeti or Kruger National Park, where zebras are commonly found.\\n\\nParticipant2: Thanks for the information! I'll definitely look into visiting one of those parks.\\n\\nParticipant1: You're welcome! It's a great experience to see these amazing animals up close.\", \"PCA_0\": -10.871774673461914, \"PCA_1\": 11.487001419067383}, {\"Dataset\": 1, \"Sample\": \"1-0\", \"Noun\": \"apple\", \"Text\": \"1. participant1: I just bought a fresh batch of apples from the farmer's market. They're so crisp and juicy!\\n2. participant2: That sounds delicious! What kind did you get?\\n3. participant1: I got a mix of Granny Smith and Honeycrisp apples. Perfect for both eating raw and baking.\\n4. participant2: I love Honeycrisp apples! They're my favorite. Do you have any recipes in mind?\\n5. participant1: Actually, I was thinking of making an apple pie. Would you like to join me for a baking session this weekend?\\n6. participant2: Absolutely! I'd love to learn how to make an apple pie. Let's do it!\", \"PCA_0\": -26.995683670043945, \"PCA_1\": -20.109987258911133}, {\"Dataset\": 1, \"Sample\": \"1-1\", \"Noun\": \"car\", \"Text\": \"1. participant1: I'm thinking of buying a new car, but I'm not sure which one to choose.\\n2. participant2: That's a big decision! What are your main priorities when it comes to a car?\\n3. participant1: I need something reliable and fuel-efficient, but I also want a comfortable ride.\\n4. participant2: Have you considered hybrid or electric cars? They're usually more fuel-efficient and have a comfortable ride.\\n5. participant1: That's a good point. I'll look into some hybrid models and see which one fits my needs and budget. Thanks for the suggestion!\", \"PCA_0\": -25.645383834838867, \"PCA_1\": -10.612687110900879}, {\"Dataset\": 1, \"Sample\": \"1-2\", \"Noun\": \"dog\", \"Text\": \"1. participant1: I've been thinking about getting a dog lately. Do you have any recommendations for a good breed?\\n2. participant2: That's great! It really depends on your lifestyle and living situation. Are you looking for a small or large breed?\\n3. participant1: I live in an apartment, so I think a small breed would be more suitable.\\n4. participant2: In that case, you might want to consider a French Bulldog or a Cavalier King Charles Spaniel. They're both small breeds and great for apartment living.\\n5. participant1: I've heard that French Bulldogs can have some health issues. Is that true? (follow-up)\", \"PCA_0\": -15.381003379821777, \"PCA_1\": -1.474605917930603}, {\"Dataset\": 1, \"Sample\": \"1-3\", \"Noun\": \"elephant\", \"Text\": \"1. Participant1: Did you know that elephants are the largest land animals on Earth?\\n2. Participant2: Yes, I've heard that they can weigh up to 12,000 pounds!\\n3. Participant1: That's right! And they have a very long lifespan, often living up to 70 years in the wild.\\n4. Participant2: Wow, that's impressive. I've always been fascinated by their intelligence and social behavior.\\n5. Participant1: Absolutely, elephants are known for their strong family bonds and complex communication skills. They even have their own unique language!\", \"PCA_0\": -12.80582046508789, \"PCA_1\": 1.988685965538025}, {\"Dataset\": 1, \"Sample\": \"1-4\", \"Noun\": \"guitar\", \"Text\": \"1. participant1: Hey, I've been thinking about learning to play the guitar. Any tips for a beginner?\\n2. participant2: That's awesome! Start with the basics, like learning the chords and strumming patterns.\\n3. participant1: Got it. Are there any specific brands or models you recommend for a beginner?\\n4. participant2: I'd suggest starting with a more affordable acoustic guitar. The Yamaha FG800 is a great beginner-friendly option.\\n5. participant1: Thanks for the recommendation! I'll check it out. Do you play any other instruments?\\n6. participant2: Yes, I also play the piano and the drums. It's always fun to explore different instruments.\\n7. participant1: That's cool! Maybe we can jam together sometime. I'd love to learn from your experience.\\n\\nFollow-up:\\n1. participant1: That sounds like a great idea! Let's plan a jam session soon. I'm excited to learn from you.\\n2. participant2: Absolutely! I'd be happy to share my knowledge and we can have a lot of fun playing together. Let's set a date.\", \"PCA_0\": -22.472782135009766, \"PCA_1\": -5.783520698547363}, {\"Dataset\": 1, \"Sample\": \"1-5\", \"Noun\": \"house\", \"Text\": \"1. participant1: I've been thinking about buying a new house lately.\\n2. participant2: That's great! What kind of house are you looking for?\\n3. participant1: I'm interested in a house with a big backyard and a modern kitchen.\\n4. participant2: Sounds like a perfect place for a family. Have you found any good listings yet?\\n5. participant1: Not yet, but I'll keep searching. Maybe we can go house hunting together sometime?\\n6. participant2: Absolutely! I'd love to help you find your dream home. Let's plan a day to look at some properties.\", \"PCA_0\": -25.81386947631836, \"PCA_1\": -24.671119689941406}, {\"Dataset\": 1, \"Sample\": \"1-6\", \"Noun\": \"ice cream\", \"Text\": \"1. participant1: I'm craving some ice cream, what flavor do you prefer?\\n2. participant2: I love chocolate, but I'm open to trying something new. Maybe a mint chocolate chip?\\n3. participant1: Mint chocolate chip sounds great! Let's go to the ice cream parlor downtown.\\n4. participant2: Perfect, I'll meet you there in 15 minutes.\\n5. participant1: Sounds good, see you there! Don't forget to grab a cone for me too.\", \"PCA_0\": -25.932687759399414, \"PCA_1\": -23.780746459960938}, {\"Dataset\": 1, \"Sample\": \"1-7\", \"Noun\": \"jacket\", \"Text\": \"1. participant1: I just bought a new jacket, it's perfect for the upcoming winter season.\\n2. participant2: That's great! What color is it?\\n3. participant1: It's a navy blue, and it has a detachable hood for extra warmth.\\n4. participant2: Sounds like a practical choice. Does it have any special features?\\n5. participant1: Yes, it's water-resistant and has a thermal lining, so I'll stay dry and warm even in the rain.\", \"PCA_0\": -24.659366607666016, \"PCA_1\": -24.618562698364258}, {\"Dataset\": 1, \"Sample\": \"1-8\", \"Noun\": \"kite\", \"Text\": \"1. participant1: Have you ever flown a kite before?\\n2. participant2: Yes, I have! It's such a fun and nostalgic activity.\\n3. participant1: I agree! I remember spending hours at the park with my family, trying to keep the kite up in the sky.\\n4. participant2: It's definitely a great way to enjoy the outdoors and bond with loved ones.\\n5. participant1: Absolutely! Do you have a favorite kite design or color?\\n6. participant2: I love the classic diamond shape, and my favorite color is blue. How about you?\\n7. participant1: I'm a fan of the dragon-shaped kites, and I prefer vibrant colors like red and yellow.\\n8. participant2: That sounds amazing! We should plan a kite-flying day together sometime.\\n9. participant1: That's a fantastic idea! Let's find a nice open space and make it happen.\", \"PCA_0\": -27.993364334106445, \"PCA_1\": -14.185556411743164}, {\"Dataset\": 1, \"Sample\": \"1-9\", \"Noun\": \"laptop\", \"Text\": \"1. participant1: Hey, I'm thinking of buying a new laptop. Any recommendations?\\n2. participant2: Sure! What are you looking for in a laptop?\\n3. participant1: I need something with a good processor and a long battery life.\\n4. participant2: In that case, I'd suggest the Dell XPS 15. It has a powerful Intel Core i7 processor and a battery that lasts up to 12 hours.\\n5. participant1: That sounds great! Can you tell me more about its display and storage options? (follow-up)\", \"PCA_0\": -16.310409545898438, \"PCA_1\": -0.33867311477661133}, {\"Dataset\": 1, \"Sample\": \"1-10\", \"Noun\": \"mountain\", \"Text\": \"1. participant1: Have you ever been to the mountains?\\n2. participant2: Yes, I went hiking in the Rockies last summer. It was breathtaking!\\n3. participant1: Wow, that sounds amazing. What was your favorite part?\\n4. participant2: The view from the top of the mountain was absolutely stunning. I'll never forget it.\\n5. participant1: I've always wanted to experience that. Maybe we can plan a trip together sometime.\", \"PCA_0\": -26.630775451660156, \"PCA_1\": -21.922813415527344}, {\"Dataset\": 1, \"Sample\": \"1-11\", \"Noun\": \"necklace\", \"Text\": \"1. participant1: I just bought a beautiful necklace yesterday, it's a delicate gold chain with a small diamond pendant.\\n2. participant2: Oh, that sounds lovely! Where did you get it from?\\n3. participant1: I found it at a local boutique downtown, they have a great collection of unique jewelry.\\n4. participant2: I'll have to check it out sometime. Do you think it's suitable for everyday wear?\\n5. participant1: Definitely! It's lightweight and elegant, perfect for both casual and formal occasions. Would you like to see a picture? (follow-up)\", \"PCA_0\": -19.651792526245117, \"PCA_1\": -2.607844352722168}, {\"Dataset\": 1, \"Sample\": \"1-12\", \"Noun\": \"orange\", \"Text\": \"1. participant1: I just bought a bag of fresh oranges, they look so juicy and vibrant!\\n2. participant2: That's great! Oranges are not only delicious but also packed with vitamin C.\\n3. participant1: Yes, I've heard they're good for boosting the immune system. Do you have a favorite way to eat them?\\n4. participant2: I love peeling them and eating the segments, but sometimes I make fresh orange juice.\\n5. participant1: (follow-up) I've never tried making orange juice at home. Do you have a simple recipe or method?\", \"PCA_0\": -15.134273529052734, \"PCA_1\": -0.10692880302667618}, {\"Dataset\": 1, \"Sample\": \"1-13\", \"Noun\": \"piano\", \"Text\": \"1. participant1: I've always been fascinated by the piano. It's such a versatile instrument.\\n2. participant2: Absolutely! It can play a wide range of music, from classical to jazz and pop.\\n3. participant1: I've been thinking about taking piano lessons. Do you play?\\n4. participant2: Yes, I've been playing for a few years now. It's a great way to express yourself.\\n5. participant1: That's inspiring! Could you recommend a good piano teacher or any resources to get started? (follow-up)\", \"PCA_0\": -16.237401962280273, \"PCA_1\": -0.6360968947410583}, {\"Dataset\": 1, \"Sample\": \"1-14\", \"Noun\": \"rainbow\", \"Text\": \"1. participant1: Have you ever wondered how rainbows are formed?\\n2. participant2: Yes, I've always been curious about that. I know it has something to do with sunlight and rain.\\n3. participant1: That's right! Rainbows occur when sunlight is refracted, or bent, as it passes through raindrops in the air.\\n4. participant2: So, the raindrops act like tiny prisms, breaking the light into its different colors?\\n5. participant1: Exactly! The light is separated into its component colors, creating the beautiful spectrum we see in a rainbow.\\n6. participant2: That's fascinating! I never realized how the combination of sunlight and raindrops could create such a stunning natural phenomenon.\\n7. participant1: Nature is truly amazing, isn't it? Rainbows always bring a sense of wonder and joy.\", \"PCA_0\": -25.376483917236328, \"PCA_1\": -9.832474708557129}, {\"Dataset\": 1, \"Sample\": \"1-15\", \"Noun\": \"skateboard\", \"Text\": \"1. participant1: Hey, have you ever tried skateboarding before?\\n2. participant2: Yeah, I used to skateboard when I was younger. It was a lot of fun!\\n3. participant1: That's awesome! What kind of skateboard did you use back then?\\n4. participant2: I had a classic wooden skateboard with grip tape on the top. It was pretty basic but got the job done.\\n5. participant1: I've been thinking about getting into skateboarding myself. Do you have any tips for a beginner like me?\\n6. participant2: Definitely! Start with a smaller board to get the hang of it, and always wear protective gear like a helmet and knee pads.\\n7. participant1: Thanks for the advice! I'll make sure to get the right gear before I hit the skatepark.\", \"PCA_0\": -27.850780487060547, \"PCA_1\": -19.583454132080078}, {\"Dataset\": 1, \"Sample\": \"1-16\", \"Noun\": \"tiger\", \"Text\": \"1. participant1: Did you know that tigers are the largest cat species in the world?\\n2. participant2: Yes, I've heard that! They can weigh up to 660 pounds, right?\\n3. participant1: Exactly! And they have distinctive orange fur with black stripes.\\n4. participant2: I find it fascinating how their stripes help them camouflage in the jungle.\\n5. participant1: Absolutely, it's a crucial adaptation for their survival. By the way, did you know that there are only about 3,900 wild tigers left in the world?\\n6. participant2: That's alarming! We should definitely support conservation efforts to protect them.\\n7. participant1: I completely agree. Let's look into organizations that work towards tiger conservation and see how we can help.\", \"PCA_0\": -25.40932273864746, \"PCA_1\": -20.950519561767578}, {\"Dataset\": 1, \"Sample\": \"1-17\", \"Noun\": \"umbrella\", \"Text\": \"1. participant1: Hey, have you seen my umbrella anywhere?\\n2. participant2: No, I haven't. Did you check the coat closet?\\n3. participant1: Yes, I did, but it's not there. I'm worried it might rain today.\\n4. participant2: Oh no, that's unfortunate. Maybe you left it at the office?\\n5. participant1: That's a possibility. I'll call the office and see if they found it. Thanks for the suggestion!\\n6. participant2: No problem! Let me know if you need any help.\\n7. participant1: Will do. I appreciate it. I'll update you once I find out.\", \"PCA_0\": -25.156051635742188, \"PCA_1\": -22.235931396484375}, {\"Dataset\": 1, \"Sample\": \"1-18\", \"Noun\": \"violin\", \"Text\": \"1. Participant 1: I've always been fascinated by the violin. The way it produces such beautiful melodies is truly captivating.\\n2. Participant 2: Absolutely! The violin is a versatile instrument that can evoke a wide range of emotions.\\n3. Participant 1: Do you play the violin yourself?\\n4. Participant 2: Yes, I've been playing since I was a child. It's a wonderful experience to express myself through music.\\n5. Participant 1: That's amazing! Would you be interested in giving me some tips on how to get started with the violin? I've been thinking about learning it.\", \"PCA_0\": -18.878976821899414, \"PCA_1\": -0.018919356167316437}, {\"Dataset\": 1, \"Sample\": \"1-19\", \"Noun\": \"watch\", \"Text\": \"1. Participant1: I just got a new watch, it's a smartwatch with fitness tracking.\\n2. Participant2: That sounds cool! What features does it have?\\n3. Participant1: It has GPS, heart rate monitoring, and even tracks my sleep patterns.\\n4. Participant2: Wow, that's really useful. Do you think it's worth the investment?\\n5. Participant1: Definitely, it helps me stay on top of my health and fitness goals. Plus, it's stylish too!\", \"PCA_0\": -19.57223129272461, \"PCA_1\": -13.080739974975586}, {\"Dataset\": 1, \"Sample\": \"1-20\", \"Noun\": \"zebra\", \"Text\": \"1. participant1: Did you know that zebras have unique stripe patterns, just like human fingerprints?\\n2. participant2: Really? I had no idea. How do these stripes help them?\\n3. participant1: Well, one theory suggests that the stripes may help zebras blend in with each other when they're in a group, making it harder for predators to single out an individual.\\n4. participant2: That's fascinating! Are there different types of zebras?\\n5. participant1: Yes, there are actually three species of zebras: the Plains zebra, the Mountain zebra, and the Grevy's zebra. Each has its own distinct characteristics and habitats.\", \"PCA_0\": -22.48993492126465, \"PCA_1\": -11.77374267578125}, {\"Dataset\": 2, \"Sample\": \"2-0\", \"Noun\": \"apple\", \"Text\": \"Apples are one of the most popular fruits worldwide, known for their crisp texture and sweet-tart flavor. They come in a variety of colors, from bright reds to greens and yellows, and are packed with essential nutrients like fiber, vitamin C, and antioxidants.\", \"PCA_0\": 30.36936378479004, \"PCA_1\": -4.527860641479492}, {\"Dataset\": 2, \"Sample\": \"2-1\", \"Noun\": \"car\", \"Text\": \"Cars have revolutionized the way we travel and transport goods, providing a convenient and efficient mode of transportation. With advancements in technology, modern cars are equipped with features such as GPS navigation, automatic braking, and collision avoidance systems, making them safer and more reliable than ever before. The automotive industry continues to innovate, with electric and hybrid cars becoming increasingly popular as a sustainable alternative to traditional gasoline-powered vehicles. As we look to the future, cars will likely continue to evolve, incorporating new technologies and designs to meet the changing needs of society.\", \"PCA_0\": 29.597963333129883, \"PCA_1\": -6.071697235107422}, {\"Dataset\": 2, \"Sample\": \"2-2\", \"Noun\": \"dog\", \"Text\": \"Dogs are one of the most beloved and popular pets around the world, known for their loyalty, affection, and playful nature. They come in a wide variety of breeds, each with its own unique characteristics and temperaments, making them suitable for different lifestyles and environments. Dogs have been domesticated for thousands of years, and their close bond with humans has made them an integral part of many families. They are known for their ability to provide companionship, emotional support, and even assistance to people with disabilities. Dogs are also highly intelligent animals, capable of learning and performing a wide range of tasks and tricks. Overall, dogs are cherished for their unwavering love and devotion, making them an irreplaceable part of many people's lives.\", \"PCA_0\": 33.5319938659668, \"PCA_1\": -5.298739433288574}, {\"Dataset\": 2, \"Sample\": \"2-3\", \"Noun\": \"elephant\", \"Text\": \"Elephants are majestic creatures, known for their impressive size and gentle nature. They are the largest land animals on Earth, with adults weighing up to 14,000 pounds and standing up to 13 feet tall at the shoulder. Despite their size, elephants are highly intelligent and social animals, living in close-knit family groups led by a matriarch. Their long trunks, tusks, and large ears are not only distinctive features but also serve important functions in their daily lives, such as communication, foraging, and self-defense. Sadly, elephants are currently facing numerous threats, including habitat loss and poaching, making their conservation a crucial issue for the future of our planet.\", \"PCA_0\": 35.205322265625, \"PCA_1\": -5.807779312133789}, {\"Dataset\": 2, \"Sample\": \"2-4\", \"Noun\": \"guitar\", \"Text\": \"The guitar is a versatile and popular musical instrument that has been captivating audiences for centuries. With its six strings, it produces a wide range of sounds and tones, making it a favorite among musicians of all genres. The instrument's origins can be traced back to ancient times, with its modern form evolving from the Spanish lute. Guitarists use a variety of techniques, such as fingerpicking, strumming, and bending, to create unique and expressive melodies. The guitar's portability and affordability have contributed to its widespread popularity, making it a staple in homes, schools, and concert halls around the world. From classical compositions to rock anthems, the guitar has played a significant role in shaping the sound of modern music. Whether played solo or as part of a band, the guitar continues to inspire and delight listeners with its rich and captivating sound.\", \"PCA_0\": 33.02089309692383, \"PCA_1\": -7.744509220123291}, {\"Dataset\": 2, \"Sample\": \"2-5\", \"Noun\": \"house\", \"Text\": \"A house is a place of comfort and security, where families gather to share their lives and create lasting memories. It serves as a sanctuary, providing shelter from the elements and a sense of belonging. The design and layout of a house can greatly impact the quality of life for its inhabitants, with features such as natural light, open spaces, and functional layouts enhancing the overall experience. Ultimately, a house is more than just a structure; it is a reflection of the people who call it home, and a place where love and warmth are always present.\", \"PCA_0\": 28.253704071044922, \"PCA_1\": -3.012479305267334}, {\"Dataset\": 2, \"Sample\": \"2-6\", \"Noun\": \"ice cream\", \"Text\": \"Ice cream, a delightful frozen dessert, has been enjoyed by people of all ages for centuries. With its creamy texture and endless flavor combinations, it's no wonder that ice cream remains a beloved treat around the world.\", \"PCA_0\": 24.127243041992188, \"PCA_1\": -2.0322065353393555}, {\"Dataset\": 2, \"Sample\": \"2-7\", \"Noun\": \"jacket\", \"Text\": \"A jacket is a versatile piece of clothing that can be worn in various settings, from casual outings to formal events. It typically consists of a coat-like garment with sleeves, fastened at the front with buttons or a zipper. Jackets come in a wide range of styles, materials, and colors, allowing individuals to express their personal style while staying comfortable and protected from the elements. Whether it's a classic leather jacket, a cozy puffer jacket, or a sleek blazer, a well-chosen jacket can elevate any outfit and make a fashion statement.\", \"PCA_0\": 28.841249465942383, \"PCA_1\": -4.670880317687988}, {\"Dataset\": 2, \"Sample\": \"2-8\", \"Noun\": \"kite\", \"Text\": \"Kites have been a source of fascination and joy for centuries, with their colorful designs and ability to soar high in the sky. They come in various shapes and sizes, from simple diamond-shaped kites to intricate dragon-like designs, each with its own unique flying characteristics. Whether flown for recreation or as a competitive sport, kites offer a sense of freedom and adventure, as they dance and twirl in the wind, captivating both young and old alike.\", \"PCA_0\": 33.801597595214844, \"PCA_1\": -5.116643905639648}, {\"Dataset\": 2, \"Sample\": \"2-9\", \"Noun\": \"laptop\", \"Text\": \"A laptop is a portable computer that is designed for easy transportation and use on the go. It typically consists of a screen, keyboard, touchpad or trackpad, and a built-in battery that allows it to operate without being plugged in. Laptops come in various sizes and configurations, ranging from lightweight ultrabooks to powerful gaming laptops. They are equipped with a wide range of features, including high-resolution displays, fast processors, and ample storage, making them suitable for a variety of tasks such as work, entertainment, and communication. With the increasing demand for mobility and convenience, laptops have become an essential tool for people in both personal and professional settings.\", \"PCA_0\": 29.14352798461914, \"PCA_1\": -5.364640235900879}, {\"Dataset\": 2, \"Sample\": \"2-10\", \"Noun\": \"mountain\", \"Text\": \"Mountains are majestic natural wonders that rise high above the surrounding landscape, often reaching great heights and displaying awe-inspiring beauty. They are formed through the slow and powerful forces of tectonic activity, which pushes the earth's crust upward over millions of years. Mountains are home to a diverse range of flora and fauna, and they play a crucial role in regulating the earth's climate and water cycle. Many people are drawn to mountains for their adventurous spirit and the sense of peace and tranquility they offer amidst the grandeur of nature.\", \"PCA_0\": 28.962745666503906, \"PCA_1\": -6.645969390869141}, {\"Dataset\": 2, \"Sample\": \"2-11\", \"Noun\": \"necklace\", \"Text\": \"A necklace is a beautiful and versatile piece of jewelry that can add elegance and charm to any outfit. Typically worn around the neck, necklaces come in various styles, lengths, and materials, ranging from delicate chains to bold statement pieces. They can be adorned with precious gemstones, pearls, or intricate designs, making them a unique expression of personal style. Necklaces have been worn for centuries, serving as symbols of love, status, and cultural significance. Today, they continue to be cherished as timeless accessories that can elevate any look and hold sentimental value for the wearer.\", \"PCA_0\": 31.059288024902344, \"PCA_1\": -5.680029392242432}, {\"Dataset\": 2, \"Sample\": \"2-12\", \"Noun\": \"orange\", \"Text\": \"Oranges are a delicious and nutritious fruit that are packed with vitamins and minerals. They are a great source of vitamin C, which helps boost the immune system and protect against illnesses. Oranges are also rich in fiber, which aids in digestion and helps maintain a healthy weight. The bright, vibrant color of oranges is a result of the natural pigments found in the fruit, and they are often associated with sunshine and happiness. Whether eaten as a snack, juiced, or used in recipes, oranges are a versatile and tasty addition to any diet.\", \"PCA_0\": 30.805938720703125, \"PCA_1\": -5.6107940673828125}, {\"Dataset\": 2, \"Sample\": \"2-13\", \"Noun\": \"piano\", \"Text\": \"The piano is a versatile and beloved musical instrument that has been captivating audiences for centuries. With its rich and resonant tones, it has become a staple in both classical and contemporary music. The piano's keyboard, consisting of 88 keys, allows for a wide range of notes and chords to be played, making it a powerful tool for composers and performers alike. Its ability to produce both melody and harmony simultaneously has made it a popular choice for solo performances and ensemble pieces. Whether played in a grand concert hall or a cozy living room, the piano continues to inspire and delight listeners with its timeless beauty and expressive capabilities.\", \"PCA_0\": 34.60598373413086, \"PCA_1\": -6.78826904296875}, {\"Dataset\": 2, \"Sample\": \"2-14\", \"Noun\": \"rainbow\", \"Text\": \"A rainbow is a breathtaking natural phenomenon that occurs when sunlight interacts with water droplets in the atmosphere, creating a stunning display of colors. The process begins when sunlight enters a raindrop and is refracted, or bent, as it passes through the water. This bending of light causes the different colors of the spectrum to separate and form a circular arc in the sky. The colors of a rainbow, in order from the outer edge to the inner edge, are red, orange, yellow, green, blue, indigo, and violet. Each color represents a different wavelength of light, with red having the longest wavelength and violet having the shortest. Rainbows are often seen after a rain shower, when the sun is shining and there are still water droplets in the air. They are a symbol of hope and promise, reminding us that even after a storm, beauty and color can emerge. Rainbows are a reminder of the magic and wonder of nature, and they continue to inspire awe and wonder in people of all ages.\", \"PCA_0\": 27.789531707763672, \"PCA_1\": -1.5117281675338745}, {\"Dataset\": 2, \"Sample\": \"2-15\", \"Noun\": \"skateboard\", \"Text\": \"Skateboarding is a popular sport and recreational activity that has gained immense popularity over the years. It involves riding and performing tricks on a specially designed board with wheels, typically made of wood and polyurethane. Skateboarding originated in California in the 1950s, and since then, it has evolved into a global phenomenon with its own unique culture and style. Skateboarders use their creativity and skill to perform various tricks, such as ollies, kickflips, and grinds, which require balance, agility, and precision. Skateboarding is not only a thrilling sport but also a form of self-expression and artistic expression, with skaters often customizing their boards to reflect their personality and style. It is a sport that can be enjoyed by people of all ages and skill levels, and it has even been included in the Olympics. Overall, skateboarding is a dynamic and exciting activity that continues to captivate and inspire people around the world.\", \"PCA_0\": 28.64691925048828, \"PCA_1\": -3.022601842880249}, {\"Dataset\": 2, \"Sample\": \"2-16\", \"Noun\": \"tiger\", \"Text\": \"Tigers are one of the most majestic and powerful creatures in the animal kingdom, known for their striking orange fur with black stripes. These magnificent big cats are native to Asia and are the largest of the cat species, with males weighing up to 660 pounds and measuring up to 10 feet in length. Tigers are solitary animals, preferring to live and hunt alone, and are known for their stealth and agility. They are apex predators, feeding primarily on large ungulates such as deer and wild boar, and are capable of taking down prey much larger than themselves. Unfortunately, tigers are currently endangered due to habitat loss, poaching, and human-wildlife conflict. Conservation efforts are underway to protect these incredible animals and their habitats, with many organizations working to raise awareness and promote sustainable practices. Despite the challenges they face, tigers continue to captivate and inspire people around the world with their strength, beauty, and resilience.\", \"PCA_0\": 31.16942596435547, \"PCA_1\": -5.920141696929932}, {\"Dataset\": 2, \"Sample\": \"2-17\", \"Noun\": \"umbrella\", \"Text\": \"An umbrella is a portable device designed to protect individuals from rain, sun, and other elements. It consists of a collapsible canopy made of waterproof material, attached to a metal or plastic frame with a handle. The primary purpose of an umbrella is to shield people from precipitation, but it can also provide shade on sunny days. Umbrellas come in various sizes, colors, and designs, catering to different preferences and needs. Some umbrellas are compact and fold into a small size for easy storage, while others are larger and more durable for heavy rain. In addition to their practical use, umbrellas have become a fashion accessory, with many people choosing stylish designs to complement their outfits. Overall, umbrellas are a versatile and essential tool for staying dry and protected in various weather conditions.\", \"PCA_0\": 26.423425674438477, \"PCA_1\": -3.0945799350738525}, {\"Dataset\": 2, \"Sample\": \"2-18\", \"Noun\": \"violin\", \"Text\": \"The violin, with its elegant curves and rich, resonant sound, has been a beloved instrument for centuries, captivating audiences with its expressive range and emotional depth. Its delicate strings, expertly played by skilled musicians, produce a timeless melody that transcends cultural boundaries and continues to inspire generations of musicians and listeners alike.\", \"PCA_0\": 36.830936431884766, \"PCA_1\": -9.370735168457031}, {\"Dataset\": 2, \"Sample\": \"2-19\", \"Noun\": \"watch\", \"Text\": \"A watch is a timekeeping device that is worn on the wrist or carried in a pocket, providing a convenient and portable way to keep track of time throughout the day. With a wide range of styles, materials, and features, watches have evolved from simple timepieces to sophisticated accessories that can also serve as fashion statements and status symbols.\", \"PCA_0\": 28.901134490966797, \"PCA_1\": -4.815054416656494}, {\"Dataset\": 2, \"Sample\": \"2-20\", \"Noun\": \"zebra\", \"Text\": \"Zebras are fascinating and unique animals that are native to Africa. They are known for their distinctive black and white stripes, which serve as a form of camouflage in their natural habitat. Zebras belong to the horse family and are closely related to other equines such as horses and donkeys. There are three species of zebras: the Plains zebra, the Mountain zebra, and the Grevy's zebra, each with its own distinct characteristics and habitats. Zebras are social animals that live in groups called harems, which are led by a dominant male. They primarily feed on grasses and can travel up to 30 miles a day in search of food. Despite their peaceful nature, zebras are also known for their strong and agile running abilities, which they use to evade predators in the wild.\", \"PCA_0\": 32.87977981567383, \"PCA_1\": -8.068511962890625}]}}, {\"mode\": \"vega-lite\"});\n",
       "</script>"
      ],
      "text/plain": [
       "alt.Chart(...)"
      ]
     },
     "metadata": {},
     "output_type": "display_data"
    },
    {
     "name": "stdout",
     "output_type": "stream",
     "text": [
      "63 21\n"
     ]
    },
    {
     "data": {
      "text/html": [
       "<div>\n",
       "<style scoped>\n",
       "    .dataframe tbody tr th:only-of-type {\n",
       "        vertical-align: middle;\n",
       "    }\n",
       "\n",
       "    .dataframe tbody tr th {\n",
       "        vertical-align: top;\n",
       "    }\n",
       "\n",
       "    .dataframe thead th {\n",
       "        text-align: right;\n",
       "    }\n",
       "</style>\n",
       "<table border=\"1\" class=\"dataframe\">\n",
       "  <thead>\n",
       "    <tr style=\"text-align: right;\">\n",
       "      <th></th>\n",
       "      <th>Dataset</th>\n",
       "      <th>Sample</th>\n",
       "      <th>Noun</th>\n",
       "      <th>Text</th>\n",
       "      <th>PCA_0</th>\n",
       "      <th>PCA_1</th>\n",
       "    </tr>\n",
       "  </thead>\n",
       "  <tbody>\n",
       "    <tr>\n",
       "      <th>0</th>\n",
       "      <td>0</td>\n",
       "      <td>0-0</td>\n",
       "      <td>apple</td>\n",
       "      <td>Participant1: I just bought a fresh, juicy app...</td>\n",
       "      <td>4.585687</td>\n",
       "      <td>-4.963123</td>\n",
       "    </tr>\n",
       "    <tr>\n",
       "      <th>1</th>\n",
       "      <td>0</td>\n",
       "      <td>0-1</td>\n",
       "      <td>car</td>\n",
       "      <td>Participant 1: Hey, I'm thinking about buying ...</td>\n",
       "      <td>6.163031</td>\n",
       "      <td>2.436304</td>\n",
       "    </tr>\n",
       "    <tr>\n",
       "      <th>2</th>\n",
       "      <td>0</td>\n",
       "      <td>0-2</td>\n",
       "      <td>dog</td>\n",
       "      <td>Participant1: Hey, I've been thinking about ge...</td>\n",
       "      <td>8.513688</td>\n",
       "      <td>6.787454</td>\n",
       "    </tr>\n",
       "    <tr>\n",
       "      <th>3</th>\n",
       "      <td>0</td>\n",
       "      <td>0-3</td>\n",
       "      <td>elephant</td>\n",
       "      <td>Participant1: I recently visited a wildlife sa...</td>\n",
       "      <td>0.947620</td>\n",
       "      <td>-3.065909</td>\n",
       "    </tr>\n",
       "    <tr>\n",
       "      <th>4</th>\n",
       "      <td>0</td>\n",
       "      <td>0-4</td>\n",
       "      <td>guitar</td>\n",
       "      <td>Participant1: Hey, I've been thinking about le...</td>\n",
       "      <td>13.644821</td>\n",
       "      <td>7.759095</td>\n",
       "    </tr>\n",
       "    <tr>\n",
       "      <th>...</th>\n",
       "      <td>...</td>\n",
       "      <td>...</td>\n",
       "      <td>...</td>\n",
       "      <td>...</td>\n",
       "      <td>...</td>\n",
       "      <td>...</td>\n",
       "    </tr>\n",
       "    <tr>\n",
       "      <th>58</th>\n",
       "      <td>2</td>\n",
       "      <td>2-16</td>\n",
       "      <td>tiger</td>\n",
       "      <td>Tigers are one of the most majestic and powerf...</td>\n",
       "      <td>-6.633086</td>\n",
       "      <td>12.215265</td>\n",
       "    </tr>\n",
       "    <tr>\n",
       "      <th>59</th>\n",
       "      <td>2</td>\n",
       "      <td>2-17</td>\n",
       "      <td>umbrella</td>\n",
       "      <td>An umbrella is a portable device designed to p...</td>\n",
       "      <td>-6.165112</td>\n",
       "      <td>9.650416</td>\n",
       "    </tr>\n",
       "    <tr>\n",
       "      <th>60</th>\n",
       "      <td>2</td>\n",
       "      <td>2-18</td>\n",
       "      <td>violin</td>\n",
       "      <td>The violin, with its elegant curves and rich, ...</td>\n",
       "      <td>-10.449341</td>\n",
       "      <td>1.902770</td>\n",
       "    </tr>\n",
       "    <tr>\n",
       "      <th>61</th>\n",
       "      <td>2</td>\n",
       "      <td>2-19</td>\n",
       "      <td>watch</td>\n",
       "      <td>A watch is a timekeeping device that is worn o...</td>\n",
       "      <td>-11.008576</td>\n",
       "      <td>4.293477</td>\n",
       "    </tr>\n",
       "    <tr>\n",
       "      <th>62</th>\n",
       "      <td>2</td>\n",
       "      <td>2-20</td>\n",
       "      <td>zebra</td>\n",
       "      <td>Zebras are fascinating and unique animals that...</td>\n",
       "      <td>-7.704119</td>\n",
       "      <td>7.854706</td>\n",
       "    </tr>\n",
       "  </tbody>\n",
       "</table>\n",
       "<p>63 rows × 6 columns</p>\n",
       "</div>"
      ],
      "text/plain": [
       "    Dataset Sample      Noun  \\\n",
       "0         0    0-0     apple   \n",
       "1         0    0-1       car   \n",
       "2         0    0-2       dog   \n",
       "3         0    0-3  elephant   \n",
       "4         0    0-4    guitar   \n",
       "..      ...    ...       ...   \n",
       "58        2   2-16     tiger   \n",
       "59        2   2-17  umbrella   \n",
       "60        2   2-18    violin   \n",
       "61        2   2-19     watch   \n",
       "62        2   2-20     zebra   \n",
       "\n",
       "                                                 Text      PCA_0      PCA_1  \n",
       "0   Participant1: I just bought a fresh, juicy app...   4.585687  -4.963123  \n",
       "1   Participant 1: Hey, I'm thinking about buying ...   6.163031   2.436304  \n",
       "2   Participant1: Hey, I've been thinking about ge...   8.513688   6.787454  \n",
       "3   Participant1: I recently visited a wildlife sa...   0.947620  -3.065909  \n",
       "4   Participant1: Hey, I've been thinking about le...  13.644821   7.759095  \n",
       "..                                                ...        ...        ...  \n",
       "58  Tigers are one of the most majestic and powerf...  -6.633086  12.215265  \n",
       "59  An umbrella is a portable device designed to p...  -6.165112   9.650416  \n",
       "60  The violin, with its elegant curves and rich, ... -10.449341   1.902770  \n",
       "61  A watch is a timekeeping device that is worn o... -11.008576   4.293477  \n",
       "62  Zebras are fascinating and unique animals that...  -7.704119   7.854706  \n",
       "\n",
       "[63 rows x 6 columns]"
      ]
     },
     "metadata": {},
     "output_type": "display_data"
    },
    {
     "data": {
      "text/html": [
       "\n",
       "<style>\n",
       "  #altair-viz-989f82f1a7b543cb93a4036ff5750075.vega-embed {\n",
       "    width: 100%;\n",
       "    display: flex;\n",
       "  }\n",
       "\n",
       "  #altair-viz-989f82f1a7b543cb93a4036ff5750075.vega-embed details,\n",
       "  #altair-viz-989f82f1a7b543cb93a4036ff5750075.vega-embed details summary {\n",
       "    position: relative;\n",
       "  }\n",
       "</style>\n",
       "<div id=\"altair-viz-989f82f1a7b543cb93a4036ff5750075\"></div>\n",
       "<script type=\"text/javascript\">\n",
       "  var VEGA_DEBUG = (typeof VEGA_DEBUG == \"undefined\") ? {} : VEGA_DEBUG;\n",
       "  (function(spec, embedOpt){\n",
       "    let outputDiv = document.currentScript.previousElementSibling;\n",
       "    if (outputDiv.id !== \"altair-viz-989f82f1a7b543cb93a4036ff5750075\") {\n",
       "      outputDiv = document.getElementById(\"altair-viz-989f82f1a7b543cb93a4036ff5750075\");\n",
       "    }\n",
       "    const paths = {\n",
       "      \"vega\": \"https://cdn.jsdelivr.net/npm/vega@5?noext\",\n",
       "      \"vega-lib\": \"https://cdn.jsdelivr.net/npm/vega-lib?noext\",\n",
       "      \"vega-lite\": \"https://cdn.jsdelivr.net/npm/vega-lite@5.17.0?noext\",\n",
       "      \"vega-embed\": \"https://cdn.jsdelivr.net/npm/vega-embed@6?noext\",\n",
       "    };\n",
       "\n",
       "    function maybeLoadScript(lib, version) {\n",
       "      var key = `${lib.replace(\"-\", \"\")}_version`;\n",
       "      return (VEGA_DEBUG[key] == version) ?\n",
       "        Promise.resolve(paths[lib]) :\n",
       "        new Promise(function(resolve, reject) {\n",
       "          var s = document.createElement('script');\n",
       "          document.getElementsByTagName(\"head\")[0].appendChild(s);\n",
       "          s.async = true;\n",
       "          s.onload = () => {\n",
       "            VEGA_DEBUG[key] = version;\n",
       "            return resolve(paths[lib]);\n",
       "          };\n",
       "          s.onerror = () => reject(`Error loading script: ${paths[lib]}`);\n",
       "          s.src = paths[lib];\n",
       "        });\n",
       "    }\n",
       "\n",
       "    function showError(err) {\n",
       "      outputDiv.innerHTML = `<div class=\"error\" style=\"color:red;\">${err}</div>`;\n",
       "      throw err;\n",
       "    }\n",
       "\n",
       "    function displayChart(vegaEmbed) {\n",
       "      vegaEmbed(outputDiv, spec, embedOpt)\n",
       "        .catch(err => showError(`Javascript Error: ${err.message}<br>This usually means there's a typo in your chart specification. See the javascript console for the full traceback.`));\n",
       "    }\n",
       "\n",
       "    if(typeof define === \"function\" && define.amd) {\n",
       "      requirejs.config({paths});\n",
       "      require([\"vega-embed\"], displayChart, err => showError(`Error loading script: ${err.message}`));\n",
       "    } else {\n",
       "      maybeLoadScript(\"vega\", \"5\")\n",
       "        .then(() => maybeLoadScript(\"vega-lite\", \"5.17.0\"))\n",
       "        .then(() => maybeLoadScript(\"vega-embed\", \"6\"))\n",
       "        .catch(showError)\n",
       "        .then(() => displayChart(vegaEmbed));\n",
       "    }\n",
       "  })({\"config\": {\"view\": {\"continuousWidth\": 300, \"continuousHeight\": 300}}, \"data\": {\"name\": \"data-522786caec7090400f3c543dc1add122\"}, \"mark\": {\"type\": \"point\", \"size\": 50}, \"encoding\": {\"color\": {\"field\": \"Noun\", \"type\": \"nominal\"}, \"shape\": {\"field\": \"Dataset\", \"type\": \"nominal\"}, \"tooltip\": [{\"field\": \"Dataset\", \"type\": \"quantitative\"}, {\"field\": \"Sample\", \"type\": \"nominal\"}, {\"field\": \"Noun\", \"type\": \"nominal\"}, {\"field\": \"Text\", \"type\": \"nominal\"}], \"x\": {\"field\": \"PCA_0\", \"type\": \"quantitative\"}, \"y\": {\"field\": \"PCA_1\", \"type\": \"quantitative\"}}, \"params\": [{\"name\": \"param_25\", \"select\": {\"type\": \"interval\", \"encodings\": [\"x\", \"y\"]}, \"bind\": \"scales\"}], \"$schema\": \"https://vega.github.io/schema/vega-lite/v5.17.0.json\", \"datasets\": {\"data-522786caec7090400f3c543dc1add122\": [{\"Dataset\": 0, \"Sample\": \"0-0\", \"Noun\": \"apple\", \"Text\": \"Participant1: I just bought a fresh, juicy apple from the farmer's market. It's so crisp and sweet! (1)\\n\\nParticipant2: That sounds delicious! I've been meaning to try a new apple variety. What kind did you get? (2)\\n\\nParticipant1: I got a Honeycrisp. It's my new favorite! Would you like to try one? (Follow-up)\", \"PCA_0\": 4.585686683654785, \"PCA_1\": -4.963123321533203}, {\"Dataset\": 0, \"Sample\": \"0-1\", \"Noun\": \"car\", \"Text\": \"Participant 1: Hey, I'm thinking about buying a new car. Any recommendations?\\n\\nParticipant 2: Sure! What are you looking for in a car?\\n\\nParticipant 1: I'm looking for something fuel-efficient and reliable.\\n\\nParticipant 2: In that case, you might want to consider a hybrid or electric vehicle. They are known for their fuel efficiency and reliability.\\n\\nParticipant 1: That sounds like a good idea. Do you have any specific models in mind?\\n\\nParticipant 2: Yes, the Toyota Prius and the Tesla Model 3 are both great options to consider.\\n\\nFollow-up: Participant 1: Thanks for the suggestions! I'll look into those models and see which one suits my needs best.\", \"PCA_0\": 6.163030624389648, \"PCA_1\": 2.4363043308258057}, {\"Dataset\": 0, \"Sample\": \"0-2\", \"Noun\": \"dog\", \"Text\": \"Participant1: Hey, I've been thinking about getting a dog lately.\\n\\nParticipant2: That's great! Dogs can be wonderful companions. What kind of dog are you considering?\\n\\nParticipant1: I'm not sure yet, but I'm leaning towards a Labrador Retriever. They seem friendly and energetic.\\n\\nParticipant2: Labradors are indeed friendly and great with families. Just remember, they require regular exercise and mental stimulation.\\n\\nParticipant1: I've heard that. I'm planning to take the dog for daily walks and playtime.\\n\\nParticipant2: That's a good plan. Also, consider training classes to help with obedience and socialization.\\n\\nParticipant1: Thanks for the advice! I'll definitely look into training classes.\\n\\nFollow-up:\\nParticipant2: You're welcome! If you need any more information or help, feel free to ask. Good luck with your new furry friend!\", \"PCA_0\": 8.513688087463379, \"PCA_1\": 6.787453651428223}, {\"Dataset\": 0, \"Sample\": \"0-3\", \"Noun\": \"elephant\", \"Text\": \"Participant1: I recently visited a wildlife sanctuary and saw an elephant for the first time. It was such a majestic creature!\\n\\nParticipant2: Oh, that must have been an incredible experience! Elephants are known for their intelligence and strong family bonds.\\n\\nFollow-up: Participant1: Yes, exactly! The matriarch led the herd and seemed to be the decision-maker. It was fascinating to observe their social structure.\", \"PCA_0\": 0.9476203918457031, \"PCA_1\": -3.065908670425415}, {\"Dataset\": 0, \"Sample\": \"0-4\", \"Noun\": \"guitar\", \"Text\": \"Participant1: Hey, I've been thinking about learning to play the guitar. Do you play?\\n\\nParticipant2: Yes, I've been playing for a few years now. It's a great instrument to learn.\\n\\nParticipant1: That's awesome! What type of guitar do you play?\\n\\nParticipant2: I play an acoustic guitar. It's versatile and great for beginners.\\n\\nParticipant1: I've heard acoustic guitars are easier to start with. Any tips for a beginner like me?\\n\\nParticipant2: Sure! Start with learning basic chords and practice regularly. It's all about consistency.\\n\\nParticipant1: Thanks for the advice! I'll definitely start with the basics.\\n\\nParticipant2: You're welcome! Let me know if you need any help or recommendations on learning resources.\\n\\nFollow-up:\\nParticipant1: I appreciate that! I'll definitely reach out if I need any guidance.\\nParticipant2: No problem at all. I'm excited to see you progress on your guitar journey!\", \"PCA_0\": 13.644821166992188, \"PCA_1\": 7.759094715118408}, {\"Dataset\": 0, \"Sample\": \"0-5\", \"Noun\": \"house\", \"Text\": \"Participant1: I've been thinking about buying a new house lately.\\n\\nParticipant2: Oh really? What kind of house are you looking for?\\n\\nParticipant1: I'm interested in a house with a big backyard and a modern kitchen.\\n\\nParticipant2: That sounds great! Have you started looking at any properties yet?\\n\\nParticipant1: Not yet, but I plan to visit a few open houses this weekend.\\n\\nFollow-up:\\nParticipant2: Let me know if you need any help with the search or if you want to go together. It could be fun!\", \"PCA_0\": 2.8921656608581543, \"PCA_1\": -3.2601585388183594}, {\"Dataset\": 0, \"Sample\": \"0-6\", \"Noun\": \"ice cream\", \"Text\": \"Participant1: I'm craving some ice cream, what flavor should we get today?\\n\\nParticipant2: How about trying the new mint chocolate chip? I've heard it's really good.\\n\\nFollow-up:\\n\\nParticipant1: That sounds delicious! Let's go for it. Do you want to get a cone or a cup?\\n\\nParticipant2: I'll take a cup, so we can share. I'm excited!\", \"PCA_0\": 4.957964897155762, \"PCA_1\": -3.04870867729187}, {\"Dataset\": 0, \"Sample\": \"0-7\", \"Noun\": \"jacket\", \"Text\": \"Participant1: I'm thinking of buying a new jacket for the upcoming winter. Any recommendations?\\n\\nParticipant2: Sure! Have you considered a parka? They're great for keeping you warm in cold weather.\\n\\nParticipant1: That sounds like a good idea. Do you have any specific brand or style in mind?\\n\\nParticipant2: I really like the North Face parka. It's durable and has a classic design. Would you like me to show you some options online?\\n\\nParticipant1: Yes, please! I'd appreciate that.\\n\\nFollow-up:\\n\\nParticipant2: Here are a few North Face parka options I found. Take a look and let me know what you think!\", \"PCA_0\": 6.2025909423828125, \"PCA_1\": -0.24496451020240784}, {\"Dataset\": 0, \"Sample\": \"0-8\", \"Noun\": \"kite\", \"Text\": \"Participant1: Hey, have you ever flown a kite before?\\n\\nParticipant2: Yes, I have! It's a lot of fun, especially on a windy day.\\n\\nParticipant1: I've always wanted to try it. Do you have any tips for a beginner?\\n\\nParticipant2: Absolutely! First, make sure you have a good kite and a strong string. Then, find an open area with plenty of wind. It's all about the right conditions and a bit of practice.\\n\\nFollow-up:\\n\\nParticipant1: Thanks for the advice! Maybe we can go kite flying together this weekend.\\n\\nParticipant2: That sounds like a great idea! I'd love to show you the ropes.\", \"PCA_0\": 8.16003131866455, \"PCA_1\": 3.245873212814331}, {\"Dataset\": 0, \"Sample\": \"0-9\", \"Noun\": \"laptop\", \"Text\": \"Participant1: Hey, I'm thinking of buying a new laptop. Any recommendations?\\n\\nParticipant2: Sure! What are you looking for in a laptop?\\n\\nParticipant1: I need something with a good processor and a decent amount of RAM for multitasking.\\n\\nParticipant2: In that case, I'd recommend the latest MacBook Pro. It has an efficient M1 chip and 16GB of RAM.\\n\\nParticipant1: That sounds great. How about the battery life?\\n\\nParticipant2: The MacBook Pro has up to 17 hours of battery life, which is impressive.\\n\\nParticipant1: Thanks for the suggestion! I'll check it out.\\n\\nFollow-up:\\nParticipant1: I've been looking at the MacBook Pro, and it seems like a solid choice. Do you have any other recommendations for laptops with similar specs?\\n\\nParticipant2: If you're open to alternatives, the Dell XPS 15 is also a great option. It has an Intel Core i7 processor and 16GB of RAM, with a battery life of up to 10 hours.\", \"PCA_0\": 12.617918968200684, \"PCA_1\": 10.138151168823242}, {\"Dataset\": 0, \"Sample\": \"0-10\", \"Noun\": \"mountain\", \"Text\": \"Participant1: I've always wanted to climb a mountain. The idea of reaching the summit and seeing the view from up there is so thrilling.\\n\\nParticipant2: Oh, I completely understand. Mountains offer such a unique perspective of the world. Have you decided which mountain you want to climb?\\n\\nParticipant1: Not yet, but I'm considering Mount Everest. It's the highest peak in the world, after all.\\n\\nParticipant2: Mount Everest is indeed a challenging climb, but it's a dream for many. Just remember to prepare well and consider the risks involved.\\n\\nFollow-up:\\n\\nParticipant1: Absolutely, safety is my top priority. I'll start researching and training for the climb. Do you have any experience with mountain climbing?\\n\\nParticipant2: Yes, I've climbed a few smaller mountains. I can share some tips and advice with you if you'd like.\", \"PCA_0\": 8.97635555267334, \"PCA_1\": 4.435780048370361}, {\"Dataset\": 0, \"Sample\": \"0-11\", \"Noun\": \"necklace\", \"Text\": \"Participant1: I've been thinking about getting a new necklace. Do you have any recommendations?\\n\\nParticipant2: Sure! What kind of style are you looking for? Something classic or more modern?\\n\\nParticipant1: I'm leaning towards something modern, maybe with a unique design.\\n\\nParticipant2: In that case, you might like a pendant necklace with an abstract shape. It can really make a statement.\\n\\nParticipant1: That sounds interesting. Do you know any specific designs or brands that offer such pieces?\\n\\nParticipant2: Absolutely! You should check out the work of designer Elena Miro. She creates stunning modern necklaces with intricate designs.\\n\\nFollow-up: Participant1: Thanks for the suggestion! I'll definitely look into Elena Miro's designs. Do you know where I can find her pieces?\\n\\nParticipant2: You can find her work on her official website or at high-end jewelry stores. I'm sure you'll find something you love!\", \"PCA_0\": 12.500664710998535, \"PCA_1\": 9.943851470947266}, {\"Dataset\": 0, \"Sample\": \"0-12\", \"Noun\": \"orange\", \"Text\": \"Participant1: Hey, have you ever tried a blood orange? I just got some fresh ones from the market.\\n\\nParticipant2: No, I haven't. What's different about blood oranges compared to regular oranges?\\n\\nParticipant1: Well, blood oranges have a reddish-purple flesh and a slightly tart flavor. They're also rich in antioxidants.\\n\\nParticipant2: That sounds interesting. I'd love to try one sometime.\\n\\nParticipant1: Sure, I'll bring some next time we meet. Maybe we can make a blood orange salad together.\\n\\nFollow-up: Participant2: That sounds like a great idea! I'm looking forward to it.\", \"PCA_0\": 6.101785659790039, \"PCA_1\": -1.1695259809494019}, {\"Dataset\": 0, \"Sample\": \"0-13\", \"Noun\": \"piano\", \"Text\": \"Participant1: I've always wanted to learn how to play the piano. It seems like such a beautiful instrument.\\n\\nParticipant2: It really is! The piano has a wide range of notes and can create such a variety of sounds.\\n\\nParticipant1: Do you play the piano?\\n\\nParticipant2: Yes, I've been playing for a few years now. It's a great way to relax and express myself.\\n\\nParticipant1: That's amazing! I'd love to learn from you sometime.\\n\\nParticipant2: I'd be happy to give you some lessons. We can start with the basics and work our way up.\\n\\nFollow-up:\\nParticipant1: That sounds fantastic! What's the first step in learning to play the piano?\\nParticipant2: The first step is to familiarize yourself with the keyboard layout and learn the basic notes and scales. We can start with that and gradually build your skills.\", \"PCA_0\": 7.69516134262085, \"PCA_1\": 2.549800395965576}, {\"Dataset\": 0, \"Sample\": \"0-14\", \"Noun\": \"rainbow\", \"Text\": \"Participant1: Hey, have you ever wondered how a rainbow forms?\\n\\nParticipant2: Yeah, I've always been curious about that. Isn't it something to do with sunlight and water droplets?\\n\\nParticipant1: Exactly! When sunlight passes through water droplets in the air, it gets refracted and dispersed into its component colors.\\n\\nParticipant2: So, that's why we see a spectrum of colors in a rainbow?\\n\\nParticipant1: Yes, and the order of colors is always the same: red, orange, yellow, green, blue, indigo, and violet.\\n\\nParticipant2: That's really interesting. I've always loved seeing rainbows after a rainstorm.\\n\\nParticipant1: Me too! It's a beautiful natural phenomenon that reminds us of the beauty in the world.\\n\\nFollow-up: Participant2: Do you know any other interesting facts about rainbows?\\n\\nParticipant1: Sure! Did you know that rainbows are actually full circles, but we only see a semicircle because the ground obstructs the bottom half?\", \"PCA_0\": 11.283553123474121, \"PCA_1\": 5.615468978881836}, {\"Dataset\": 0, \"Sample\": \"0-15\", \"Noun\": \"skateboard\", \"Text\": \"Participant1: Hey, have you ever tried skateboarding before?\\n\\nParticipant2: No, I haven't. I've always been curious about it though.\\n\\nParticipant1: It's a lot of fun! You should definitely give it a try.\\n\\nParticipant2: I'm a bit nervous about falling, but I'm willing to give it a shot.\\n\\nParticipant1: Don't worry, everyone falls when they're learning. I can teach you some basic tricks.\\n\\nParticipant2: That would be great! What's the first trick you'd recommend for a beginner?\\n\\nParticipant1: A good starting point is the ollie. It's a basic trick that will help you get comfortable with the board.\\n\\nParticipant2: Sounds like a plan. Let's go skateboarding this weekend!\\n\\nFollow-up:\\nParticipant1: Awesome! I'll bring my skateboard and we can practice at the local skate park.\\nParticipant2: Perfect, I'll make sure to wear protective gear and bring a helmet.\", \"PCA_0\": 11.320627212524414, \"PCA_1\": 6.935054302215576}, {\"Dataset\": 0, \"Sample\": \"0-16\", \"Noun\": \"tiger\", \"Text\": \"Participant1: Did you know that tigers are the largest cat species in the world?\\n\\nParticipant2: Yes, I've heard that they can weigh up to 660 pounds!\\n\\nParticipant1: That's right! And they have distinctive orange fur with black stripes.\\n\\nParticipant2: I've always been fascinated by their stripes. Do you know why they have them?\\n\\nParticipant1: The stripes help tigers camouflage in their natural habitat, making it easier for them to hunt.\\n\\nParticipant2: That's interesting. Unfortunately, tiger populations are declining due to habitat loss and poaching.\\n\\nParticipant1: Yes, it's a serious issue. Conservation efforts are crucial to protect these magnificent creatures.\\n\\nFollow-up: Participant1: Have you heard about the recent tiger conservation project in India?\\n\\nParticipant2: No, I haven't. What's it about?\\n\\nParticipant1: It's a collaborative effort between the government and various organizations to create tiger reserves and promote awareness about their importance in the ecosystem.\\n\\nParticipant2: That sounds like a great initiative. I hope it helps in preserving the tiger population.\\n\\nParticipant1: Absolutely, it's essential for maintaining the balance of nature.\\n\\nParticipant2: I'll definitely look into it and see how I can contribute to the cause.\\n\\nParticipant1: That's wonderful! Every little effort counts in saving these incredible animals.\\n\\nParticipant2: Thank you for sharing this information. I'll make sure to spread the word.\\n\\nParticipant1: You're welcome! Together, we can make a difference.\\n\\nParticipant2: Indeed, let's do our part in protecting the tigers and their habitats.\\n\\nParticipant1: Agreed! Let's stay informed and support conservation efforts.\\n\\nParticipant2: Absolutely, let's keep the conversation going and inspire others to join the cause.\\n\\nParticipant1: Sounds like a plan! Let's continue to learn and share our knowledge about tigers.\\n\\nParticipant2: I'm on board! Let's make a positive impact for these amazing creatures.\\n\\nParticipant1: Great! I'm glad we had this conversation.\\n\\nParticipant2: Me too! It's always inspiring to talk about wildlife conservation.\\n\\nParticipant1: Absolutely. Thanks for the engaging discussion!\\n\\nParticipant2: Thank you as well. Looking forward to more conversations like this in the future.\\n\\nParticipant1: Definitely! Take care and keep spreading awareness.\\n\\nParticipant2: You too! Have a great day!\\n\\nParticipant1: You too, goodbye!\\n\\nParticipant2: Goodbye!\\n\\n-------------------------\", \"PCA_0\": 19.2275333404541, \"PCA_1\": 16.39424705505371}, {\"Dataset\": 0, \"Sample\": \"0-17\", \"Noun\": \"umbrella\", \"Text\": \"Participant1: Hey, have you seen my umbrella anywhere?\\n\\nParticipant2: No, I haven't. Did you check your usual spots?\\n\\nParticipant1: Yes, I looked in the living room, the bedroom, and the hallway, but it's not there.\\n\\nParticipant2: Maybe you left it at the office?\\n\\nParticipant1: That's a possibility. I'll check there in a bit.\\n\\nParticipant2: Let me know if you find it. I'll keep an eye out too.\\n\\nParticipant1: Thanks, I appreciate it. I'll update you as soon as I do.\\n\\nFollow-up:\\n\\nParticipant1: Good news! I found my umbrella at the office. It was left behind in the break room.\\n\\nParticipant2: That's great! I'm glad you found it. Let's make sure to keep track of our belongings in the future.\", \"PCA_0\": 8.431259155273438, \"PCA_1\": 1.2765593528747559}, {\"Dataset\": 0, \"Sample\": \"0-18\", \"Noun\": \"violin\", \"Text\": \"Participant1: I've always been fascinated by the sound of the violin. How did you get started learning to play it?\\n\\nParticipant2: I started when I was just a child. My parents enrolled me in music lessons, and I fell in love with the instrument right away.\\n\\nFollow-up: Participant1: That's wonderful! Do you have a favorite violinist or piece that inspires you?\\n\\nParticipant2: Absolutely! I'm a big fan of Itzhak Perlman. His performances are incredibly moving and technically impressive.\", \"PCA_0\": 3.3522443771362305, \"PCA_1\": -5.93273401260376}, {\"Dataset\": 0, \"Sample\": \"0-19\", \"Noun\": \"watch\", \"Text\": \"Participant1: I just got a new watch, it's a smartwatch with fitness tracking. (1)\\n\\nParticipant2: That sounds cool! What features does it have? (2)\\n\\nParticipant1: It has GPS, heart rate monitoring, and can even track my sleep patterns. (1)\\n\\nParticipant2: Wow, that's really useful. I might consider getting one too. (2)\", \"PCA_0\": 3.47090220451355, \"PCA_1\": -5.350116729736328}, {\"Dataset\": 0, \"Sample\": \"0-20\", \"Noun\": \"zebra\", \"Text\": \"Participant1: Hey, did you know that zebras have unique stripe patterns, just like human fingerprints?\\n\\nParticipant2: Really? I had no idea. How do these stripes help them?\\n\\nParticipant1: Well, one theory suggests that the stripes may help to confuse predators by making it difficult to single out an individual zebra in a group.\\n\\nParticipant2: That's fascinating! Are there different types of zebras?\\n\\nParticipant1: Yes, there are three main species: the Plains zebra, the Mountain zebra, and the Grevy's zebra.\\n\\nParticipant2: I'd love to see a zebra in person someday. Do you know where I could go to see them?\\n\\nParticipant1: You can visit national parks in Africa, like the Serengeti or Kruger National Park, where zebras are commonly found.\\n\\nParticipant2: Thanks for the information! I'll definitely look into visiting one of those parks.\\n\\nParticipant1: You're welcome! It's a great experience to see these amazing animals up close.\", \"PCA_0\": 12.084066390991211, \"PCA_1\": 9.350014686584473}, {\"Dataset\": 1, \"Sample\": \"1-0\", \"Noun\": \"apple\", \"Text\": \"1. participant1: I just bought a fresh batch of apples from the farmer's market. They're so crisp and juicy!\\n2. participant2: That sounds delicious! What kind did you get?\\n3. participant1: I got a mix of Granny Smith and Honeycrisp apples. Perfect for both eating raw and baking.\\n4. participant2: I love Honeycrisp apples! They're my favorite. Do you have any recipes in mind?\\n5. participant1: Actually, I was thinking of making an apple pie. Would you like to join me for a baking session this weekend?\\n6. participant2: Absolutely! I'd love to learn how to make an apple pie. Let's do it!\", \"PCA_0\": 4.145118236541748, \"PCA_1\": -5.7420783042907715}, {\"Dataset\": 1, \"Sample\": \"1-1\", \"Noun\": \"car\", \"Text\": \"1. participant1: I'm thinking of buying a new car, but I'm not sure which one to choose.\\n2. participant2: That's a big decision! What are your main priorities when it comes to a car?\\n3. participant1: I need something reliable and fuel-efficient, but I also want a comfortable ride.\\n4. participant2: Have you considered hybrid or electric cars? They're usually more fuel-efficient and have a comfortable ride.\\n5. participant1: That's a good point. I'll look into some hybrid models and see which one fits my needs and budget. Thanks for the suggestion!\", \"PCA_0\": -0.8553268313407898, \"PCA_1\": -8.863667488098145}, {\"Dataset\": 1, \"Sample\": \"1-2\", \"Noun\": \"dog\", \"Text\": \"1. participant1: I've been thinking about getting a dog lately. Do you have any recommendations for a good breed?\\n2. participant2: That's great! It really depends on your lifestyle and living situation. Are you looking for a small or large breed?\\n3. participant1: I live in an apartment, so I think a small breed would be more suitable.\\n4. participant2: In that case, you might want to consider a French Bulldog or a Cavalier King Charles Spaniel. They're both small breeds and great for apartment living.\\n5. participant1: I've heard that French Bulldogs can have some health issues. Is that true? (follow-up)\", \"PCA_0\": 1.3520512580871582, \"PCA_1\": -9.580164909362793}, {\"Dataset\": 1, \"Sample\": \"1-3\", \"Noun\": \"elephant\", \"Text\": \"1. Participant1: Did you know that elephants are the largest land animals on Earth?\\n2. Participant2: Yes, I've heard that they can weigh up to 12,000 pounds!\\n3. Participant1: That's right! And they have a very long lifespan, often living up to 70 years in the wild.\\n4. Participant2: Wow, that's impressive. I've always been fascinated by their intelligence and social behavior.\\n5. Participant1: Absolutely, elephants are known for their strong family bonds and complex communication skills. They even have their own unique language!\", \"PCA_0\": -1.1484055519104004, \"PCA_1\": -10.267300605773926}, {\"Dataset\": 1, \"Sample\": \"1-4\", \"Noun\": \"guitar\", \"Text\": \"1. participant1: Hey, I've been thinking about learning to play the guitar. Any tips for a beginner?\\n2. participant2: That's awesome! Start with the basics, like learning the chords and strumming patterns.\\n3. participant1: Got it. Are there any specific brands or models you recommend for a beginner?\\n4. participant2: I'd suggest starting with a more affordable acoustic guitar. The Yamaha FG800 is a great beginner-friendly option.\\n5. participant1: Thanks for the recommendation! I'll check it out. Do you play any other instruments?\\n6. participant2: Yes, I also play the piano and the drums. It's always fun to explore different instruments.\\n7. participant1: That's cool! Maybe we can jam together sometime. I'd love to learn from your experience.\\n\\nFollow-up:\\n1. participant1: That sounds like a great idea! Let's plan a jam session soon. I'm excited to learn from you.\\n2. participant2: Absolutely! I'd be happy to share my knowledge and we can have a lot of fun playing together. Let's set a date.\", \"PCA_0\": 9.498568534851074, \"PCA_1\": 2.2695531845092773}, {\"Dataset\": 1, \"Sample\": \"1-5\", \"Noun\": \"house\", \"Text\": \"1. participant1: I've been thinking about buying a new house lately.\\n2. participant2: That's great! What kind of house are you looking for?\\n3. participant1: I'm interested in a house with a big backyard and a modern kitchen.\\n4. participant2: Sounds like a perfect place for a family. Have you found any good listings yet?\\n5. participant1: Not yet, but I'll keep searching. Maybe we can go house hunting together sometime?\\n6. participant2: Absolutely! I'd love to help you find your dream home. Let's plan a day to look at some properties.\", \"PCA_0\": 0.2256857454776764, \"PCA_1\": -7.909151077270508}, {\"Dataset\": 1, \"Sample\": \"1-6\", \"Noun\": \"ice cream\", \"Text\": \"1. participant1: I'm craving some ice cream, what flavor do you prefer?\\n2. participant2: I love chocolate, but I'm open to trying something new. Maybe a mint chocolate chip?\\n3. participant1: Mint chocolate chip sounds great! Let's go to the ice cream parlor downtown.\\n4. participant2: Perfect, I'll meet you there in 15 minutes.\\n5. participant1: Sounds good, see you there! Don't forget to grab a cone for me too.\", \"PCA_0\": -0.18025128543376923, \"PCA_1\": -11.192384719848633}, {\"Dataset\": 1, \"Sample\": \"1-7\", \"Noun\": \"jacket\", \"Text\": \"1. participant1: I just bought a new jacket, it's perfect for the upcoming winter season.\\n2. participant2: That's great! What color is it?\\n3. participant1: It's a navy blue, and it has a detachable hood for extra warmth.\\n4. participant2: Sounds like a practical choice. Does it have any special features?\\n5. participant1: Yes, it's water-resistant and has a thermal lining, so I'll stay dry and warm even in the rain.\", \"PCA_0\": -1.191983699798584, \"PCA_1\": -10.201399803161621}, {\"Dataset\": 1, \"Sample\": \"1-8\", \"Noun\": \"kite\", \"Text\": \"1. participant1: Have you ever flown a kite before?\\n2. participant2: Yes, I have! It's such a fun and nostalgic activity.\\n3. participant1: I agree! I remember spending hours at the park with my family, trying to keep the kite up in the sky.\\n4. participant2: It's definitely a great way to enjoy the outdoors and bond with loved ones.\\n5. participant1: Absolutely! Do you have a favorite kite design or color?\\n6. participant2: I love the classic diamond shape, and my favorite color is blue. How about you?\\n7. participant1: I'm a fan of the dragon-shaped kites, and I prefer vibrant colors like red and yellow.\\n8. participant2: That sounds amazing! We should plan a kite-flying day together sometime.\\n9. participant1: That's a fantastic idea! Let's find a nice open space and make it happen.\", \"PCA_0\": 5.144197463989258, \"PCA_1\": -3.0182580947875977}, {\"Dataset\": 1, \"Sample\": \"1-9\", \"Noun\": \"laptop\", \"Text\": \"1. participant1: Hey, I'm thinking of buying a new laptop. Any recommendations?\\n2. participant2: Sure! What are you looking for in a laptop?\\n3. participant1: I need something with a good processor and a long battery life.\\n4. participant2: In that case, I'd suggest the Dell XPS 15. It has a powerful Intel Core i7 processor and a battery that lasts up to 12 hours.\\n5. participant1: That sounds great! Can you tell me more about its display and storage options? (follow-up)\", \"PCA_0\": -1.2016828060150146, \"PCA_1\": -10.267488479614258}, {\"Dataset\": 1, \"Sample\": \"1-10\", \"Noun\": \"mountain\", \"Text\": \"1. participant1: Have you ever been to the mountains?\\n2. participant2: Yes, I went hiking in the Rockies last summer. It was breathtaking!\\n3. participant1: Wow, that sounds amazing. What was your favorite part?\\n4. participant2: The view from the top of the mountain was absolutely stunning. I'll never forget it.\\n5. participant1: I've always wanted to experience that. Maybe we can plan a trip together sometime.\", \"PCA_0\": -2.2802414894104004, \"PCA_1\": -12.551673889160156}, {\"Dataset\": 1, \"Sample\": \"1-11\", \"Noun\": \"necklace\", \"Text\": \"1. participant1: I just bought a beautiful necklace yesterday, it's a delicate gold chain with a small diamond pendant.\\n2. participant2: Oh, that sounds lovely! Where did you get it from?\\n3. participant1: I found it at a local boutique downtown, they have a great collection of unique jewelry.\\n4. participant2: I'll have to check it out sometime. Do you think it's suitable for everyday wear?\\n5. participant1: Definitely! It's lightweight and elegant, perfect for both casual and formal occasions. Would you like to see a picture? (follow-up)\", \"PCA_0\": 1.3196886777877808, \"PCA_1\": -7.443719387054443}, {\"Dataset\": 1, \"Sample\": \"1-12\", \"Noun\": \"orange\", \"Text\": \"1. participant1: I just bought a bag of fresh oranges, they look so juicy and vibrant!\\n2. participant2: That's great! Oranges are not only delicious but also packed with vitamin C.\\n3. participant1: Yes, I've heard they're good for boosting the immune system. Do you have a favorite way to eat them?\\n4. participant2: I love peeling them and eating the segments, but sometimes I make fresh orange juice.\\n5. participant1: (follow-up) I've never tried making orange juice at home. Do you have a simple recipe or method?\", \"PCA_0\": 1.4873932600021362, \"PCA_1\": -8.647104263305664}, {\"Dataset\": 1, \"Sample\": \"1-13\", \"Noun\": \"piano\", \"Text\": \"1. participant1: I've always been fascinated by the piano. It's such a versatile instrument.\\n2. participant2: Absolutely! It can play a wide range of music, from classical to jazz and pop.\\n3. participant1: I've been thinking about taking piano lessons. Do you play?\\n4. participant2: Yes, I've been playing for a few years now. It's a great way to express yourself.\\n5. participant1: That's inspiring! Could you recommend a good piano teacher or any resources to get started? (follow-up)\", \"PCA_0\": 2.033830165863037, \"PCA_1\": -9.153481483459473}, {\"Dataset\": 1, \"Sample\": \"1-14\", \"Noun\": \"rainbow\", \"Text\": \"1. participant1: Have you ever wondered how rainbows are formed?\\n2. participant2: Yes, I've always been curious about that. I know it has something to do with sunlight and rain.\\n3. participant1: That's right! Rainbows occur when sunlight is refracted, or bent, as it passes through raindrops in the air.\\n4. participant2: So, the raindrops act like tiny prisms, breaking the light into its different colors?\\n5. participant1: Exactly! The light is separated into its component colors, creating the beautiful spectrum we see in a rainbow.\\n6. participant2: That's fascinating! I never realized how the combination of sunlight and raindrops could create such a stunning natural phenomenon.\\n7. participant1: Nature is truly amazing, isn't it? Rainbows always bring a sense of wonder and joy.\", \"PCA_0\": 4.058056354522705, \"PCA_1\": -6.755133152008057}, {\"Dataset\": 1, \"Sample\": \"1-15\", \"Noun\": \"skateboard\", \"Text\": \"1. participant1: Hey, have you ever tried skateboarding before?\\n2. participant2: Yeah, I used to skateboard when I was younger. It was a lot of fun!\\n3. participant1: That's awesome! What kind of skateboard did you use back then?\\n4. participant2: I had a classic wooden skateboard with grip tape on the top. It was pretty basic but got the job done.\\n5. participant1: I've been thinking about getting into skateboarding myself. Do you have any tips for a beginner like me?\\n6. participant2: Definitely! Start with a smaller board to get the hang of it, and always wear protective gear like a helmet and knee pads.\\n7. participant1: Thanks for the advice! I'll make sure to get the right gear before I hit the skatepark.\", \"PCA_0\": 2.6818172931671143, \"PCA_1\": -6.366128921508789}, {\"Dataset\": 1, \"Sample\": \"1-16\", \"Noun\": \"tiger\", \"Text\": \"1. participant1: Did you know that tigers are the largest cat species in the world?\\n2. participant2: Yes, I've heard that! They can weigh up to 660 pounds, right?\\n3. participant1: Exactly! And they have distinctive orange fur with black stripes.\\n4. participant2: I find it fascinating how their stripes help them camouflage in the jungle.\\n5. participant1: Absolutely, it's a crucial adaptation for their survival. By the way, did you know that there are only about 3,900 wild tigers left in the world?\\n6. participant2: That's alarming! We should definitely support conservation efforts to protect them.\\n7. participant1: I completely agree. Let's look into organizations that work towards tiger conservation and see how we can help.\", \"PCA_0\": 3.508465051651001, \"PCA_1\": -6.152805328369141}, {\"Dataset\": 1, \"Sample\": \"1-17\", \"Noun\": \"umbrella\", \"Text\": \"1. participant1: Hey, have you seen my umbrella anywhere?\\n2. participant2: No, I haven't. Did you check the coat closet?\\n3. participant1: Yes, I did, but it's not there. I'm worried it might rain today.\\n4. participant2: Oh no, that's unfortunate. Maybe you left it at the office?\\n5. participant1: That's a possibility. I'll call the office and see if they found it. Thanks for the suggestion!\\n6. participant2: No problem! Let me know if you need any help.\\n7. participant1: Will do. I appreciate it. I'll update you once I find out.\", \"PCA_0\": 2.04419207572937, \"PCA_1\": -9.5601806640625}, {\"Dataset\": 1, \"Sample\": \"1-18\", \"Noun\": \"violin\", \"Text\": \"1. Participant 1: I've always been fascinated by the violin. The way it produces such beautiful melodies is truly captivating.\\n2. Participant 2: Absolutely! The violin is a versatile instrument that can evoke a wide range of emotions.\\n3. Participant 1: Do you play the violin yourself?\\n4. Participant 2: Yes, I've been playing since I was a child. It's a wonderful experience to express myself through music.\\n5. Participant 1: That's amazing! Would you be interested in giving me some tips on how to get started with the violin? I've been thinking about learning it.\", \"PCA_0\": 0.4633374512195587, \"PCA_1\": -9.48538875579834}, {\"Dataset\": 1, \"Sample\": \"1-19\", \"Noun\": \"watch\", \"Text\": \"1. Participant1: I just got a new watch, it's a smartwatch with fitness tracking.\\n2. Participant2: That sounds cool! What features does it have?\\n3. Participant1: It has GPS, heart rate monitoring, and even tracks my sleep patterns.\\n4. Participant2: Wow, that's really useful. Do you think it's worth the investment?\\n5. Participant1: Definitely, it helps me stay on top of my health and fitness goals. Plus, it's stylish too!\", \"PCA_0\": -2.298804759979248, \"PCA_1\": -11.146295547485352}, {\"Dataset\": 1, \"Sample\": \"1-20\", \"Noun\": \"zebra\", \"Text\": \"1. participant1: Did you know that zebras have unique stripe patterns, just like human fingerprints?\\n2. participant2: Really? I had no idea. How do these stripes help them?\\n3. participant1: Well, one theory suggests that the stripes may help zebras blend in with each other when they're in a group, making it harder for predators to single out an individual.\\n4. participant2: That's fascinating! Are there different types of zebras?\\n5. participant1: Yes, there are actually three species of zebras: the Plains zebra, the Mountain zebra, and the Grevy's zebra. Each has its own distinct characteristics and habitats.\", \"PCA_0\": 1.2140920162200928, \"PCA_1\": -5.559256553649902}, {\"Dataset\": 2, \"Sample\": \"2-0\", \"Noun\": \"apple\", \"Text\": \"Apples are one of the most popular fruits worldwide, known for their crisp texture and sweet-tart flavor. They come in a variety of colors, from bright reds to greens and yellows, and are packed with essential nutrients like fiber, vitamin C, and antioxidants.\", \"PCA_0\": -9.64997386932373, \"PCA_1\": 4.277677059173584}, {\"Dataset\": 2, \"Sample\": \"2-1\", \"Noun\": \"car\", \"Text\": \"Cars have revolutionized the way we travel and transport goods, providing a convenient and efficient mode of transportation. With advancements in technology, modern cars are equipped with features such as GPS navigation, automatic braking, and collision avoidance systems, making them safer and more reliable than ever before. The automotive industry continues to innovate, with electric and hybrid cars becoming increasingly popular as a sustainable alternative to traditional gasoline-powered vehicles. As we look to the future, cars will likely continue to evolve, incorporating new technologies and designs to meet the changing needs of society.\", \"PCA_0\": -12.234711647033691, \"PCA_1\": 2.6782751083374023}, {\"Dataset\": 2, \"Sample\": \"2-2\", \"Noun\": \"dog\", \"Text\": \"Dogs are one of the most beloved and popular pets around the world, known for their loyalty, affection, and playful nature. They come in a wide variety of breeds, each with its own unique characteristics and temperaments, making them suitable for different lifestyles and environments. Dogs have been domesticated for thousands of years, and their close bond with humans has made them an integral part of many families. They are known for their ability to provide companionship, emotional support, and even assistance to people with disabilities. Dogs are also highly intelligent animals, capable of learning and performing a wide range of tasks and tricks. Overall, dogs are cherished for their unwavering love and devotion, making them an irreplaceable part of many people's lives.\", \"PCA_0\": -10.865530967712402, \"PCA_1\": 5.761148452758789}, {\"Dataset\": 2, \"Sample\": \"2-3\", \"Noun\": \"elephant\", \"Text\": \"Elephants are majestic creatures, known for their impressive size and gentle nature. They are the largest land animals on Earth, with adults weighing up to 14,000 pounds and standing up to 13 feet tall at the shoulder. Despite their size, elephants are highly intelligent and social animals, living in close-knit family groups led by a matriarch. Their long trunks, tusks, and large ears are not only distinctive features but also serve important functions in their daily lives, such as communication, foraging, and self-defense. Sadly, elephants are currently facing numerous threats, including habitat loss and poaching, making their conservation a crucial issue for the future of our planet.\", \"PCA_0\": -10.196405410766602, \"PCA_1\": 4.16836404800415}, {\"Dataset\": 2, \"Sample\": \"2-4\", \"Noun\": \"guitar\", \"Text\": \"The guitar is a versatile and popular musical instrument that has been captivating audiences for centuries. With its six strings, it produces a wide range of sounds and tones, making it a favorite among musicians of all genres. The instrument's origins can be traced back to ancient times, with its modern form evolving from the Spanish lute. Guitarists use a variety of techniques, such as fingerpicking, strumming, and bending, to create unique and expressive melodies. The guitar's portability and affordability have contributed to its widespread popularity, making it a staple in homes, schools, and concert halls around the world. From classical compositions to rock anthems, the guitar has played a significant role in shaping the sound of modern music. Whether played solo or as part of a band, the guitar continues to inspire and delight listeners with its rich and captivating sound.\", \"PCA_0\": -6.853541851043701, \"PCA_1\": 7.738915920257568}, {\"Dataset\": 2, \"Sample\": \"2-5\", \"Noun\": \"house\", \"Text\": \"A house is a place of comfort and security, where families gather to share their lives and create lasting memories. It serves as a sanctuary, providing shelter from the elements and a sense of belonging. The design and layout of a house can greatly impact the quality of life for its inhabitants, with features such as natural light, open spaces, and functional layouts enhancing the overall experience. Ultimately, a house is more than just a structure; it is a reflection of the people who call it home, and a place where love and warmth are always present.\", \"PCA_0\": -11.680553436279297, \"PCA_1\": 1.2314125299453735}, {\"Dataset\": 2, \"Sample\": \"2-6\", \"Noun\": \"ice cream\", \"Text\": \"Ice cream, a delightful frozen dessert, has been enjoyed by people of all ages for centuries. With its creamy texture and endless flavor combinations, it's no wonder that ice cream remains a beloved treat around the world.\", \"PCA_0\": -12.384864807128906, \"PCA_1\": 2.708284378051758}, {\"Dataset\": 2, \"Sample\": \"2-7\", \"Noun\": \"jacket\", \"Text\": \"A jacket is a versatile piece of clothing that can be worn in various settings, from casual outings to formal events. It typically consists of a coat-like garment with sleeves, fastened at the front with buttons or a zipper. Jackets come in a wide range of styles, materials, and colors, allowing individuals to express their personal style while staying comfortable and protected from the elements. Whether it's a classic leather jacket, a cozy puffer jacket, or a sleek blazer, a well-chosen jacket can elevate any outfit and make a fashion statement.\", \"PCA_0\": -8.908923149108887, \"PCA_1\": 3.754873037338257}, {\"Dataset\": 2, \"Sample\": \"2-8\", \"Noun\": \"kite\", \"Text\": \"Kites have been a source of fascination and joy for centuries, with their colorful designs and ability to soar high in the sky. They come in various shapes and sizes, from simple diamond-shaped kites to intricate dragon-like designs, each with its own unique flying characteristics. Whether flown for recreation or as a competitive sport, kites offer a sense of freedom and adventure, as they dance and twirl in the wind, captivating both young and old alike.\", \"PCA_0\": -11.591108322143555, \"PCA_1\": 0.6315398216247559}, {\"Dataset\": 2, \"Sample\": \"2-9\", \"Noun\": \"laptop\", \"Text\": \"A laptop is a portable computer that is designed for easy transportation and use on the go. It typically consists of a screen, keyboard, touchpad or trackpad, and a built-in battery that allows it to operate without being plugged in. Laptops come in various sizes and configurations, ranging from lightweight ultrabooks to powerful gaming laptops. They are equipped with a wide range of features, including high-resolution displays, fast processors, and ample storage, making them suitable for a variety of tasks such as work, entertainment, and communication. With the increasing demand for mobility and convenience, laptops have become an essential tool for people in both personal and professional settings.\", \"PCA_0\": -9.402780532836914, \"PCA_1\": 6.8605170249938965}, {\"Dataset\": 2, \"Sample\": \"2-10\", \"Noun\": \"mountain\", \"Text\": \"Mountains are majestic natural wonders that rise high above the surrounding landscape, often reaching great heights and displaying awe-inspiring beauty. They are formed through the slow and powerful forces of tectonic activity, which pushes the earth's crust upward over millions of years. Mountains are home to a diverse range of flora and fauna, and they play a crucial role in regulating the earth's climate and water cycle. Many people are drawn to mountains for their adventurous spirit and the sense of peace and tranquility they offer amidst the grandeur of nature.\", \"PCA_0\": -12.018990516662598, \"PCA_1\": 0.9354363679885864}, {\"Dataset\": 2, \"Sample\": \"2-11\", \"Noun\": \"necklace\", \"Text\": \"A necklace is a beautiful and versatile piece of jewelry that can add elegance and charm to any outfit. Typically worn around the neck, necklaces come in various styles, lengths, and materials, ranging from delicate chains to bold statement pieces. They can be adorned with precious gemstones, pearls, or intricate designs, making them a unique expression of personal style. Necklaces have been worn for centuries, serving as symbols of love, status, and cultural significance. Today, they continue to be cherished as timeless accessories that can elevate any look and hold sentimental value for the wearer.\", \"PCA_0\": -9.23682689666748, \"PCA_1\": 4.092556476593018}, {\"Dataset\": 2, \"Sample\": \"2-12\", \"Noun\": \"orange\", \"Text\": \"Oranges are a delicious and nutritious fruit that are packed with vitamins and minerals. They are a great source of vitamin C, which helps boost the immune system and protect against illnesses. Oranges are also rich in fiber, which aids in digestion and helps maintain a healthy weight. The bright, vibrant color of oranges is a result of the natural pigments found in the fruit, and they are often associated with sunshine and happiness. Whether eaten as a snack, juiced, or used in recipes, oranges are a versatile and tasty addition to any diet.\", \"PCA_0\": -10.36950397491455, \"PCA_1\": 2.3796780109405518}, {\"Dataset\": 2, \"Sample\": \"2-13\", \"Noun\": \"piano\", \"Text\": \"The piano is a versatile and beloved musical instrument that has been captivating audiences for centuries. With its rich and resonant tones, it has become a staple in both classical and contemporary music. The piano's keyboard, consisting of 88 keys, allows for a wide range of notes and chords to be played, making it a powerful tool for composers and performers alike. Its ability to produce both melody and harmony simultaneously has made it a popular choice for solo performances and ensemble pieces. Whether played in a grand concert hall or a cozy living room, the piano continues to inspire and delight listeners with its timeless beauty and expressive capabilities.\", \"PCA_0\": -10.465243339538574, \"PCA_1\": 4.781610012054443}, {\"Dataset\": 2, \"Sample\": \"2-14\", \"Noun\": \"rainbow\", \"Text\": \"A rainbow is a breathtaking natural phenomenon that occurs when sunlight interacts with water droplets in the atmosphere, creating a stunning display of colors. The process begins when sunlight enters a raindrop and is refracted, or bent, as it passes through the water. This bending of light causes the different colors of the spectrum to separate and form a circular arc in the sky. The colors of a rainbow, in order from the outer edge to the inner edge, are red, orange, yellow, green, blue, indigo, and violet. Each color represents a different wavelength of light, with red having the longest wavelength and violet having the shortest. Rainbows are often seen after a rain shower, when the sun is shining and there are still water droplets in the air. They are a symbol of hope and promise, reminding us that even after a storm, beauty and color can emerge. Rainbows are a reminder of the magic and wonder of nature, and they continue to inspire awe and wonder in people of all ages.\", \"PCA_0\": -6.979402542114258, \"PCA_1\": 9.585536003112793}, {\"Dataset\": 2, \"Sample\": \"2-15\", \"Noun\": \"skateboard\", \"Text\": \"Skateboarding is a popular sport and recreational activity that has gained immense popularity over the years. It involves riding and performing tricks on a specially designed board with wheels, typically made of wood and polyurethane. Skateboarding originated in California in the 1950s, and since then, it has evolved into a global phenomenon with its own unique culture and style. Skateboarders use their creativity and skill to perform various tricks, such as ollies, kickflips, and grinds, which require balance, agility, and precision. Skateboarding is not only a thrilling sport but also a form of self-expression and artistic expression, with skaters often customizing their boards to reflect their personality and style. It is a sport that can be enjoyed by people of all ages and skill levels, and it has even been included in the Olympics. Overall, skateboarding is a dynamic and exciting activity that continues to captivate and inspire people around the world.\", \"PCA_0\": -8.350878715515137, \"PCA_1\": 10.258644104003906}, {\"Dataset\": 2, \"Sample\": \"2-16\", \"Noun\": \"tiger\", \"Text\": \"Tigers are one of the most majestic and powerful creatures in the animal kingdom, known for their striking orange fur with black stripes. These magnificent big cats are native to Asia and are the largest of the cat species, with males weighing up to 660 pounds and measuring up to 10 feet in length. Tigers are solitary animals, preferring to live and hunt alone, and are known for their stealth and agility. They are apex predators, feeding primarily on large ungulates such as deer and wild boar, and are capable of taking down prey much larger than themselves. Unfortunately, tigers are currently endangered due to habitat loss, poaching, and human-wildlife conflict. Conservation efforts are underway to protect these incredible animals and their habitats, with many organizations working to raise awareness and promote sustainable practices. Despite the challenges they face, tigers continue to captivate and inspire people around the world with their strength, beauty, and resilience.\", \"PCA_0\": -6.633086204528809, \"PCA_1\": 12.215265274047852}, {\"Dataset\": 2, \"Sample\": \"2-17\", \"Noun\": \"umbrella\", \"Text\": \"An umbrella is a portable device designed to protect individuals from rain, sun, and other elements. It consists of a collapsible canopy made of waterproof material, attached to a metal or plastic frame with a handle. The primary purpose of an umbrella is to shield people from precipitation, but it can also provide shade on sunny days. Umbrellas come in various sizes, colors, and designs, catering to different preferences and needs. Some umbrellas are compact and fold into a small size for easy storage, while others are larger and more durable for heavy rain. In addition to their practical use, umbrellas have become a fashion accessory, with many people choosing stylish designs to complement their outfits. Overall, umbrellas are a versatile and essential tool for staying dry and protected in various weather conditions.\", \"PCA_0\": -6.165112495422363, \"PCA_1\": 9.650416374206543}, {\"Dataset\": 2, \"Sample\": \"2-18\", \"Noun\": \"violin\", \"Text\": \"The violin, with its elegant curves and rich, resonant sound, has been a beloved instrument for centuries, captivating audiences with its expressive range and emotional depth. Its delicate strings, expertly played by skilled musicians, produce a timeless melody that transcends cultural boundaries and continues to inspire generations of musicians and listeners alike.\", \"PCA_0\": -10.4493408203125, \"PCA_1\": 1.9027704000473022}, {\"Dataset\": 2, \"Sample\": \"2-19\", \"Noun\": \"watch\", \"Text\": \"A watch is a timekeeping device that is worn on the wrist or carried in a pocket, providing a convenient and portable way to keep track of time throughout the day. With a wide range of styles, materials, and features, watches have evolved from simple timepieces to sophisticated accessories that can also serve as fashion statements and status symbols.\", \"PCA_0\": -11.008576393127441, \"PCA_1\": 4.293476581573486}, {\"Dataset\": 2, \"Sample\": \"2-20\", \"Noun\": \"zebra\", \"Text\": \"Zebras are fascinating and unique animals that are native to Africa. They are known for their distinctive black and white stripes, which serve as a form of camouflage in their natural habitat. Zebras belong to the horse family and are closely related to other equines such as horses and donkeys. There are three species of zebras: the Plains zebra, the Mountain zebra, and the Grevy's zebra, each with its own distinct characteristics and habitats. Zebras are social animals that live in groups called harems, which are led by a dominant male. They primarily feed on grasses and can travel up to 30 miles a day in search of food. Despite their peaceful nature, zebras are also known for their strong and agile running abilities, which they use to evade predators in the wild.\", \"PCA_0\": -7.7041192054748535, \"PCA_1\": 7.854706287384033}]}}, {\"mode\": \"vega-lite\"});\n",
       "</script>"
      ],
      "text/plain": [
       "alt.Chart(...)"
      ]
     },
     "metadata": {},
     "output_type": "display_data"
    },
    {
     "name": "stdout",
     "output_type": "stream",
     "text": [
      "63 21\n"
     ]
    },
    {
     "data": {
      "text/html": [
       "<div>\n",
       "<style scoped>\n",
       "    .dataframe tbody tr th:only-of-type {\n",
       "        vertical-align: middle;\n",
       "    }\n",
       "\n",
       "    .dataframe tbody tr th {\n",
       "        vertical-align: top;\n",
       "    }\n",
       "\n",
       "    .dataframe thead th {\n",
       "        text-align: right;\n",
       "    }\n",
       "</style>\n",
       "<table border=\"1\" class=\"dataframe\">\n",
       "  <thead>\n",
       "    <tr style=\"text-align: right;\">\n",
       "      <th></th>\n",
       "      <th>Dataset</th>\n",
       "      <th>Sample</th>\n",
       "      <th>Noun</th>\n",
       "      <th>Text</th>\n",
       "      <th>PCA_0</th>\n",
       "      <th>PCA_1</th>\n",
       "    </tr>\n",
       "  </thead>\n",
       "  <tbody>\n",
       "    <tr>\n",
       "      <th>0</th>\n",
       "      <td>0</td>\n",
       "      <td>0-0</td>\n",
       "      <td>apple</td>\n",
       "      <td>Participant1: I just bought a fresh, juicy app...</td>\n",
       "      <td>-8.925633</td>\n",
       "      <td>-11.537728</td>\n",
       "    </tr>\n",
       "    <tr>\n",
       "      <th>1</th>\n",
       "      <td>0</td>\n",
       "      <td>0-1</td>\n",
       "      <td>car</td>\n",
       "      <td>Participant 1: Hey, I'm thinking about buying ...</td>\n",
       "      <td>1.001863</td>\n",
       "      <td>-5.354497</td>\n",
       "    </tr>\n",
       "    <tr>\n",
       "      <th>2</th>\n",
       "      <td>0</td>\n",
       "      <td>0-2</td>\n",
       "      <td>dog</td>\n",
       "      <td>Participant1: Hey, I've been thinking about ge...</td>\n",
       "      <td>-4.488355</td>\n",
       "      <td>-9.769365</td>\n",
       "    </tr>\n",
       "    <tr>\n",
       "      <th>3</th>\n",
       "      <td>0</td>\n",
       "      <td>0-3</td>\n",
       "      <td>elephant</td>\n",
       "      <td>Participant1: I recently visited a wildlife sa...</td>\n",
       "      <td>8.973184</td>\n",
       "      <td>-7.591924</td>\n",
       "    </tr>\n",
       "    <tr>\n",
       "      <th>4</th>\n",
       "      <td>0</td>\n",
       "      <td>0-4</td>\n",
       "      <td>guitar</td>\n",
       "      <td>Participant1: Hey, I've been thinking about le...</td>\n",
       "      <td>9.860826</td>\n",
       "      <td>-18.055328</td>\n",
       "    </tr>\n",
       "    <tr>\n",
       "      <th>...</th>\n",
       "      <td>...</td>\n",
       "      <td>...</td>\n",
       "      <td>...</td>\n",
       "      <td>...</td>\n",
       "      <td>...</td>\n",
       "      <td>...</td>\n",
       "    </tr>\n",
       "    <tr>\n",
       "      <th>58</th>\n",
       "      <td>2</td>\n",
       "      <td>2-16</td>\n",
       "      <td>tiger</td>\n",
       "      <td>Tigers are one of the most majestic and powerf...</td>\n",
       "      <td>23.207523</td>\n",
       "      <td>15.507589</td>\n",
       "    </tr>\n",
       "    <tr>\n",
       "      <th>59</th>\n",
       "      <td>2</td>\n",
       "      <td>2-17</td>\n",
       "      <td>umbrella</td>\n",
       "      <td>An umbrella is a portable device designed to p...</td>\n",
       "      <td>20.189501</td>\n",
       "      <td>10.058083</td>\n",
       "    </tr>\n",
       "    <tr>\n",
       "      <th>60</th>\n",
       "      <td>2</td>\n",
       "      <td>2-18</td>\n",
       "      <td>violin</td>\n",
       "      <td>The violin, with its elegant curves and rich, ...</td>\n",
       "      <td>-5.334413</td>\n",
       "      <td>14.531143</td>\n",
       "    </tr>\n",
       "    <tr>\n",
       "      <th>61</th>\n",
       "      <td>2</td>\n",
       "      <td>2-19</td>\n",
       "      <td>watch</td>\n",
       "      <td>A watch is a timekeeping device that is worn o...</td>\n",
       "      <td>-14.059725</td>\n",
       "      <td>18.145931</td>\n",
       "    </tr>\n",
       "    <tr>\n",
       "      <th>62</th>\n",
       "      <td>2</td>\n",
       "      <td>2-20</td>\n",
       "      <td>zebra</td>\n",
       "      <td>Zebras are fascinating and unique animals that...</td>\n",
       "      <td>20.579678</td>\n",
       "      <td>16.924082</td>\n",
       "    </tr>\n",
       "  </tbody>\n",
       "</table>\n",
       "<p>63 rows × 6 columns</p>\n",
       "</div>"
      ],
      "text/plain": [
       "    Dataset Sample      Noun  \\\n",
       "0         0    0-0     apple   \n",
       "1         0    0-1       car   \n",
       "2         0    0-2       dog   \n",
       "3         0    0-3  elephant   \n",
       "4         0    0-4    guitar   \n",
       "..      ...    ...       ...   \n",
       "58        2   2-16     tiger   \n",
       "59        2   2-17  umbrella   \n",
       "60        2   2-18    violin   \n",
       "61        2   2-19     watch   \n",
       "62        2   2-20     zebra   \n",
       "\n",
       "                                                 Text      PCA_0      PCA_1  \n",
       "0   Participant1: I just bought a fresh, juicy app...  -8.925633 -11.537728  \n",
       "1   Participant 1: Hey, I'm thinking about buying ...   1.001863  -5.354497  \n",
       "2   Participant1: Hey, I've been thinking about ge...  -4.488355  -9.769365  \n",
       "3   Participant1: I recently visited a wildlife sa...   8.973184  -7.591924  \n",
       "4   Participant1: Hey, I've been thinking about le...   9.860826 -18.055328  \n",
       "..                                                ...        ...        ...  \n",
       "58  Tigers are one of the most majestic and powerf...  23.207523  15.507589  \n",
       "59  An umbrella is a portable device designed to p...  20.189501  10.058083  \n",
       "60  The violin, with its elegant curves and rich, ...  -5.334413  14.531143  \n",
       "61  A watch is a timekeeping device that is worn o... -14.059725  18.145931  \n",
       "62  Zebras are fascinating and unique animals that...  20.579678  16.924082  \n",
       "\n",
       "[63 rows x 6 columns]"
      ]
     },
     "metadata": {},
     "output_type": "display_data"
    },
    {
     "data": {
      "text/html": [
       "\n",
       "<style>\n",
       "  #altair-viz-c3d7d594a35041f6bb3534c6594fc6a7.vega-embed {\n",
       "    width: 100%;\n",
       "    display: flex;\n",
       "  }\n",
       "\n",
       "  #altair-viz-c3d7d594a35041f6bb3534c6594fc6a7.vega-embed details,\n",
       "  #altair-viz-c3d7d594a35041f6bb3534c6594fc6a7.vega-embed details summary {\n",
       "    position: relative;\n",
       "  }\n",
       "</style>\n",
       "<div id=\"altair-viz-c3d7d594a35041f6bb3534c6594fc6a7\"></div>\n",
       "<script type=\"text/javascript\">\n",
       "  var VEGA_DEBUG = (typeof VEGA_DEBUG == \"undefined\") ? {} : VEGA_DEBUG;\n",
       "  (function(spec, embedOpt){\n",
       "    let outputDiv = document.currentScript.previousElementSibling;\n",
       "    if (outputDiv.id !== \"altair-viz-c3d7d594a35041f6bb3534c6594fc6a7\") {\n",
       "      outputDiv = document.getElementById(\"altair-viz-c3d7d594a35041f6bb3534c6594fc6a7\");\n",
       "    }\n",
       "    const paths = {\n",
       "      \"vega\": \"https://cdn.jsdelivr.net/npm/vega@5?noext\",\n",
       "      \"vega-lib\": \"https://cdn.jsdelivr.net/npm/vega-lib?noext\",\n",
       "      \"vega-lite\": \"https://cdn.jsdelivr.net/npm/vega-lite@5.17.0?noext\",\n",
       "      \"vega-embed\": \"https://cdn.jsdelivr.net/npm/vega-embed@6?noext\",\n",
       "    };\n",
       "\n",
       "    function maybeLoadScript(lib, version) {\n",
       "      var key = `${lib.replace(\"-\", \"\")}_version`;\n",
       "      return (VEGA_DEBUG[key] == version) ?\n",
       "        Promise.resolve(paths[lib]) :\n",
       "        new Promise(function(resolve, reject) {\n",
       "          var s = document.createElement('script');\n",
       "          document.getElementsByTagName(\"head\")[0].appendChild(s);\n",
       "          s.async = true;\n",
       "          s.onload = () => {\n",
       "            VEGA_DEBUG[key] = version;\n",
       "            return resolve(paths[lib]);\n",
       "          };\n",
       "          s.onerror = () => reject(`Error loading script: ${paths[lib]}`);\n",
       "          s.src = paths[lib];\n",
       "        });\n",
       "    }\n",
       "\n",
       "    function showError(err) {\n",
       "      outputDiv.innerHTML = `<div class=\"error\" style=\"color:red;\">${err}</div>`;\n",
       "      throw err;\n",
       "    }\n",
       "\n",
       "    function displayChart(vegaEmbed) {\n",
       "      vegaEmbed(outputDiv, spec, embedOpt)\n",
       "        .catch(err => showError(`Javascript Error: ${err.message}<br>This usually means there's a typo in your chart specification. See the javascript console for the full traceback.`));\n",
       "    }\n",
       "\n",
       "    if(typeof define === \"function\" && define.amd) {\n",
       "      requirejs.config({paths});\n",
       "      require([\"vega-embed\"], displayChart, err => showError(`Error loading script: ${err.message}`));\n",
       "    } else {\n",
       "      maybeLoadScript(\"vega\", \"5\")\n",
       "        .then(() => maybeLoadScript(\"vega-lite\", \"5.17.0\"))\n",
       "        .then(() => maybeLoadScript(\"vega-embed\", \"6\"))\n",
       "        .catch(showError)\n",
       "        .then(() => displayChart(vegaEmbed));\n",
       "    }\n",
       "  })({\"config\": {\"view\": {\"continuousWidth\": 300, \"continuousHeight\": 300}}, \"data\": {\"name\": \"data-414b36c1bdc2583b2dbb0e9dfcd129e2\"}, \"mark\": {\"type\": \"point\", \"size\": 50}, \"encoding\": {\"color\": {\"field\": \"Noun\", \"type\": \"nominal\"}, \"shape\": {\"field\": \"Dataset\", \"type\": \"nominal\"}, \"tooltip\": [{\"field\": \"Dataset\", \"type\": \"quantitative\"}, {\"field\": \"Sample\", \"type\": \"nominal\"}, {\"field\": \"Noun\", \"type\": \"nominal\"}, {\"field\": \"Text\", \"type\": \"nominal\"}], \"x\": {\"field\": \"PCA_0\", \"type\": \"quantitative\"}, \"y\": {\"field\": \"PCA_1\", \"type\": \"quantitative\"}}, \"params\": [{\"name\": \"param_26\", \"select\": {\"type\": \"interval\", \"encodings\": [\"x\", \"y\"]}, \"bind\": \"scales\"}], \"$schema\": \"https://vega.github.io/schema/vega-lite/v5.17.0.json\", \"datasets\": {\"data-414b36c1bdc2583b2dbb0e9dfcd129e2\": [{\"Dataset\": 0, \"Sample\": \"0-0\", \"Noun\": \"apple\", \"Text\": \"Participant1: I just bought a fresh, juicy apple from the farmer's market. It's so crisp and sweet! (1)\\n\\nParticipant2: That sounds delicious! I've been meaning to try a new apple variety. What kind did you get? (2)\\n\\nParticipant1: I got a Honeycrisp. It's my new favorite! Would you like to try one? (Follow-up)\", \"PCA_0\": -8.925633430480957, \"PCA_1\": -11.537728309631348}, {\"Dataset\": 0, \"Sample\": \"0-1\", \"Noun\": \"car\", \"Text\": \"Participant 1: Hey, I'm thinking about buying a new car. Any recommendations?\\n\\nParticipant 2: Sure! What are you looking for in a car?\\n\\nParticipant 1: I'm looking for something fuel-efficient and reliable.\\n\\nParticipant 2: In that case, you might want to consider a hybrid or electric vehicle. They are known for their fuel efficiency and reliability.\\n\\nParticipant 1: That sounds like a good idea. Do you have any specific models in mind?\\n\\nParticipant 2: Yes, the Toyota Prius and the Tesla Model 3 are both great options to consider.\\n\\nFollow-up: Participant 1: Thanks for the suggestions! I'll look into those models and see which one suits my needs best.\", \"PCA_0\": 1.0018631219863892, \"PCA_1\": -5.354496955871582}, {\"Dataset\": 0, \"Sample\": \"0-2\", \"Noun\": \"dog\", \"Text\": \"Participant1: Hey, I've been thinking about getting a dog lately.\\n\\nParticipant2: That's great! Dogs can be wonderful companions. What kind of dog are you considering?\\n\\nParticipant1: I'm not sure yet, but I'm leaning towards a Labrador Retriever. They seem friendly and energetic.\\n\\nParticipant2: Labradors are indeed friendly and great with families. Just remember, they require regular exercise and mental stimulation.\\n\\nParticipant1: I've heard that. I'm planning to take the dog for daily walks and playtime.\\n\\nParticipant2: That's a good plan. Also, consider training classes to help with obedience and socialization.\\n\\nParticipant1: Thanks for the advice! I'll definitely look into training classes.\\n\\nFollow-up:\\nParticipant2: You're welcome! If you need any more information or help, feel free to ask. Good luck with your new furry friend!\", \"PCA_0\": -4.488354682922363, \"PCA_1\": -9.769365310668945}, {\"Dataset\": 0, \"Sample\": \"0-3\", \"Noun\": \"elephant\", \"Text\": \"Participant1: I recently visited a wildlife sanctuary and saw an elephant for the first time. It was such a majestic creature!\\n\\nParticipant2: Oh, that must have been an incredible experience! Elephants are known for their intelligence and strong family bonds.\\n\\nFollow-up: Participant1: Yes, exactly! The matriarch led the herd and seemed to be the decision-maker. It was fascinating to observe their social structure.\", \"PCA_0\": 8.973183631896973, \"PCA_1\": -7.591923713684082}, {\"Dataset\": 0, \"Sample\": \"0-4\", \"Noun\": \"guitar\", \"Text\": \"Participant1: Hey, I've been thinking about learning to play the guitar. Do you play?\\n\\nParticipant2: Yes, I've been playing for a few years now. It's a great instrument to learn.\\n\\nParticipant1: That's awesome! What type of guitar do you play?\\n\\nParticipant2: I play an acoustic guitar. It's versatile and great for beginners.\\n\\nParticipant1: I've heard acoustic guitars are easier to start with. Any tips for a beginner like me?\\n\\nParticipant2: Sure! Start with learning basic chords and practice regularly. It's all about consistency.\\n\\nParticipant1: Thanks for the advice! I'll definitely start with the basics.\\n\\nParticipant2: You're welcome! Let me know if you need any help or recommendations on learning resources.\\n\\nFollow-up:\\nParticipant1: I appreciate that! I'll definitely reach out if I need any guidance.\\nParticipant2: No problem at all. I'm excited to see you progress on your guitar journey!\", \"PCA_0\": 9.86082649230957, \"PCA_1\": -18.055328369140625}, {\"Dataset\": 0, \"Sample\": \"0-5\", \"Noun\": \"house\", \"Text\": \"Participant1: I've been thinking about buying a new house lately.\\n\\nParticipant2: Oh really? What kind of house are you looking for?\\n\\nParticipant1: I'm interested in a house with a big backyard and a modern kitchen.\\n\\nParticipant2: That sounds great! Have you started looking at any properties yet?\\n\\nParticipant1: Not yet, but I plan to visit a few open houses this weekend.\\n\\nFollow-up:\\nParticipant2: Let me know if you need any help with the search or if you want to go together. It could be fun!\", \"PCA_0\": -16.82851219177246, \"PCA_1\": -5.051150798797607}, {\"Dataset\": 0, \"Sample\": \"0-6\", \"Noun\": \"ice cream\", \"Text\": \"Participant1: I'm craving some ice cream, what flavor should we get today?\\n\\nParticipant2: How about trying the new mint chocolate chip? I've heard it's really good.\\n\\nFollow-up:\\n\\nParticipant1: That sounds delicious! Let's go for it. Do you want to get a cone or a cup?\\n\\nParticipant2: I'll take a cup, so we can share. I'm excited!\", \"PCA_0\": -8.02999210357666, \"PCA_1\": -6.585833549499512}, {\"Dataset\": 0, \"Sample\": \"0-7\", \"Noun\": \"jacket\", \"Text\": \"Participant1: I'm thinking of buying a new jacket for the upcoming winter. Any recommendations?\\n\\nParticipant2: Sure! Have you considered a parka? They're great for keeping you warm in cold weather.\\n\\nParticipant1: That sounds like a good idea. Do you have any specific brand or style in mind?\\n\\nParticipant2: I really like the North Face parka. It's durable and has a classic design. Would you like me to show you some options online?\\n\\nParticipant1: Yes, please! I'd appreciate that.\\n\\nFollow-up:\\n\\nParticipant2: Here are a few North Face parka options I found. Take a look and let me know what you think!\", \"PCA_0\": -1.8069781064987183, \"PCA_1\": -14.78365421295166}, {\"Dataset\": 0, \"Sample\": \"0-8\", \"Noun\": \"kite\", \"Text\": \"Participant1: Hey, have you ever flown a kite before?\\n\\nParticipant2: Yes, I have! It's a lot of fun, especially on a windy day.\\n\\nParticipant1: I've always wanted to try it. Do you have any tips for a beginner?\\n\\nParticipant2: Absolutely! First, make sure you have a good kite and a strong string. Then, find an open area with plenty of wind. It's all about the right conditions and a bit of practice.\\n\\nFollow-up:\\n\\nParticipant1: Thanks for the advice! Maybe we can go kite flying together this weekend.\\n\\nParticipant2: That sounds like a great idea! I'd love to show you the ropes.\", \"PCA_0\": 7.493326663970947, \"PCA_1\": -7.049481391906738}, {\"Dataset\": 0, \"Sample\": \"0-9\", \"Noun\": \"laptop\", \"Text\": \"Participant1: Hey, I'm thinking of buying a new laptop. Any recommendations?\\n\\nParticipant2: Sure! What are you looking for in a laptop?\\n\\nParticipant1: I need something with a good processor and a decent amount of RAM for multitasking.\\n\\nParticipant2: In that case, I'd recommend the latest MacBook Pro. It has an efficient M1 chip and 16GB of RAM.\\n\\nParticipant1: That sounds great. How about the battery life?\\n\\nParticipant2: The MacBook Pro has up to 17 hours of battery life, which is impressive.\\n\\nParticipant1: Thanks for the suggestion! I'll check it out.\\n\\nFollow-up:\\nParticipant1: I've been looking at the MacBook Pro, and it seems like a solid choice. Do you have any other recommendations for laptops with similar specs?\\n\\nParticipant2: If you're open to alternatives, the Dell XPS 15 is also a great option. It has an Intel Core i7 processor and 16GB of RAM, with a battery life of up to 10 hours.\", \"PCA_0\": 4.687670707702637, \"PCA_1\": -15.189574241638184}, {\"Dataset\": 0, \"Sample\": \"0-10\", \"Noun\": \"mountain\", \"Text\": \"Participant1: I've always wanted to climb a mountain. The idea of reaching the summit and seeing the view from up there is so thrilling.\\n\\nParticipant2: Oh, I completely understand. Mountains offer such a unique perspective of the world. Have you decided which mountain you want to climb?\\n\\nParticipant1: Not yet, but I'm considering Mount Everest. It's the highest peak in the world, after all.\\n\\nParticipant2: Mount Everest is indeed a challenging climb, but it's a dream for many. Just remember to prepare well and consider the risks involved.\\n\\nFollow-up:\\n\\nParticipant1: Absolutely, safety is my top priority. I'll start researching and training for the climb. Do you have any experience with mountain climbing?\\n\\nParticipant2: Yes, I've climbed a few smaller mountains. I can share some tips and advice with you if you'd like.\", \"PCA_0\": 9.106254577636719, \"PCA_1\": -7.82926607131958}, {\"Dataset\": 0, \"Sample\": \"0-11\", \"Noun\": \"necklace\", \"Text\": \"Participant1: I've been thinking about getting a new necklace. Do you have any recommendations?\\n\\nParticipant2: Sure! What kind of style are you looking for? Something classic or more modern?\\n\\nParticipant1: I'm leaning towards something modern, maybe with a unique design.\\n\\nParticipant2: In that case, you might like a pendant necklace with an abstract shape. It can really make a statement.\\n\\nParticipant1: That sounds interesting. Do you know any specific designs or brands that offer such pieces?\\n\\nParticipant2: Absolutely! You should check out the work of designer Elena Miro. She creates stunning modern necklaces with intricate designs.\\n\\nFollow-up: Participant1: Thanks for the suggestion! I'll definitely look into Elena Miro's designs. Do you know where I can find her pieces?\\n\\nParticipant2: You can find her work on her official website or at high-end jewelry stores. I'm sure you'll find something you love!\", \"PCA_0\": 13.60165023803711, \"PCA_1\": -12.546524047851562}, {\"Dataset\": 0, \"Sample\": \"0-12\", \"Noun\": \"orange\", \"Text\": \"Participant1: Hey, have you ever tried a blood orange? I just got some fresh ones from the market.\\n\\nParticipant2: No, I haven't. What's different about blood oranges compared to regular oranges?\\n\\nParticipant1: Well, blood oranges have a reddish-purple flesh and a slightly tart flavor. They're also rich in antioxidants.\\n\\nParticipant2: That sounds interesting. I'd love to try one sometime.\\n\\nParticipant1: Sure, I'll bring some next time we meet. Maybe we can make a blood orange salad together.\\n\\nFollow-up: Participant2: That sounds like a great idea! I'm looking forward to it.\", \"PCA_0\": 0.18397828936576843, \"PCA_1\": -11.003814697265625}, {\"Dataset\": 0, \"Sample\": \"0-13\", \"Noun\": \"piano\", \"Text\": \"Participant1: I've always wanted to learn how to play the piano. It seems like such a beautiful instrument.\\n\\nParticipant2: It really is! The piano has a wide range of notes and can create such a variety of sounds.\\n\\nParticipant1: Do you play the piano?\\n\\nParticipant2: Yes, I've been playing for a few years now. It's a great way to relax and express myself.\\n\\nParticipant1: That's amazing! I'd love to learn from you sometime.\\n\\nParticipant2: I'd be happy to give you some lessons. We can start with the basics and work our way up.\\n\\nFollow-up:\\nParticipant1: That sounds fantastic! What's the first step in learning to play the piano?\\nParticipant2: The first step is to familiarize yourself with the keyboard layout and learn the basic notes and scales. We can start with that and gradually build your skills.\", \"PCA_0\": 10.860309600830078, \"PCA_1\": -15.085457801818848}, {\"Dataset\": 0, \"Sample\": \"0-14\", \"Noun\": \"rainbow\", \"Text\": \"Participant1: Hey, have you ever wondered how a rainbow forms?\\n\\nParticipant2: Yeah, I've always been curious about that. Isn't it something to do with sunlight and water droplets?\\n\\nParticipant1: Exactly! When sunlight passes through water droplets in the air, it gets refracted and dispersed into its component colors.\\n\\nParticipant2: So, that's why we see a spectrum of colors in a rainbow?\\n\\nParticipant1: Yes, and the order of colors is always the same: red, orange, yellow, green, blue, indigo, and violet.\\n\\nParticipant2: That's really interesting. I've always loved seeing rainbows after a rainstorm.\\n\\nParticipant1: Me too! It's a beautiful natural phenomenon that reminds us of the beauty in the world.\\n\\nFollow-up: Participant2: Do you know any other interesting facts about rainbows?\\n\\nParticipant1: Sure! Did you know that rainbows are actually full circles, but we only see a semicircle because the ground obstructs the bottom half?\", \"PCA_0\": 3.630434274673462, \"PCA_1\": 0.22616808116436005}, {\"Dataset\": 0, \"Sample\": \"0-15\", \"Noun\": \"skateboard\", \"Text\": \"Participant1: Hey, have you ever tried skateboarding before?\\n\\nParticipant2: No, I haven't. I've always been curious about it though.\\n\\nParticipant1: It's a lot of fun! You should definitely give it a try.\\n\\nParticipant2: I'm a bit nervous about falling, but I'm willing to give it a shot.\\n\\nParticipant1: Don't worry, everyone falls when they're learning. I can teach you some basic tricks.\\n\\nParticipant2: That would be great! What's the first trick you'd recommend for a beginner?\\n\\nParticipant1: A good starting point is the ollie. It's a basic trick that will help you get comfortable with the board.\\n\\nParticipant2: Sounds like a plan. Let's go skateboarding this weekend!\\n\\nFollow-up:\\nParticipant1: Awesome! I'll bring my skateboard and we can practice at the local skate park.\\nParticipant2: Perfect, I'll make sure to wear protective gear and bring a helmet.\", \"PCA_0\": 9.740639686584473, \"PCA_1\": -9.00541877746582}, {\"Dataset\": 0, \"Sample\": \"0-16\", \"Noun\": \"tiger\", \"Text\": \"Participant1: Did you know that tigers are the largest cat species in the world?\\n\\nParticipant2: Yes, I've heard that they can weigh up to 660 pounds!\\n\\nParticipant1: That's right! And they have distinctive orange fur with black stripes.\\n\\nParticipant2: I've always been fascinated by their stripes. Do you know why they have them?\\n\\nParticipant1: The stripes help tigers camouflage in their natural habitat, making it easier for them to hunt.\\n\\nParticipant2: That's interesting. Unfortunately, tiger populations are declining due to habitat loss and poaching.\\n\\nParticipant1: Yes, it's a serious issue. Conservation efforts are crucial to protect these magnificent creatures.\\n\\nFollow-up: Participant1: Have you heard about the recent tiger conservation project in India?\\n\\nParticipant2: No, I haven't. What's it about?\\n\\nParticipant1: It's a collaborative effort between the government and various organizations to create tiger reserves and promote awareness about their importance in the ecosystem.\\n\\nParticipant2: That sounds like a great initiative. I hope it helps in preserving the tiger population.\\n\\nParticipant1: Absolutely, it's essential for maintaining the balance of nature.\\n\\nParticipant2: I'll definitely look into it and see how I can contribute to the cause.\\n\\nParticipant1: That's wonderful! Every little effort counts in saving these incredible animals.\\n\\nParticipant2: Thank you for sharing this information. I'll make sure to spread the word.\\n\\nParticipant1: You're welcome! Together, we can make a difference.\\n\\nParticipant2: Indeed, let's do our part in protecting the tigers and their habitats.\\n\\nParticipant1: Agreed! Let's stay informed and support conservation efforts.\\n\\nParticipant2: Absolutely, let's keep the conversation going and inspire others to join the cause.\\n\\nParticipant1: Sounds like a plan! Let's continue to learn and share our knowledge about tigers.\\n\\nParticipant2: I'm on board! Let's make a positive impact for these amazing creatures.\\n\\nParticipant1: Great! I'm glad we had this conversation.\\n\\nParticipant2: Me too! It's always inspiring to talk about wildlife conservation.\\n\\nParticipant1: Absolutely. Thanks for the engaging discussion!\\n\\nParticipant2: Thank you as well. Looking forward to more conversations like this in the future.\\n\\nParticipant1: Definitely! Take care and keep spreading awareness.\\n\\nParticipant2: You too! Have a great day!\\n\\nParticipant1: You too, goodbye!\\n\\nParticipant2: Goodbye!\\n\\n-------------------------\", \"PCA_0\": 0.756693422794342, \"PCA_1\": -7.451955795288086}, {\"Dataset\": 0, \"Sample\": \"0-17\", \"Noun\": \"umbrella\", \"Text\": \"Participant1: Hey, have you seen my umbrella anywhere?\\n\\nParticipant2: No, I haven't. Did you check your usual spots?\\n\\nParticipant1: Yes, I looked in the living room, the bedroom, and the hallway, but it's not there.\\n\\nParticipant2: Maybe you left it at the office?\\n\\nParticipant1: That's a possibility. I'll check there in a bit.\\n\\nParticipant2: Let me know if you find it. I'll keep an eye out too.\\n\\nParticipant1: Thanks, I appreciate it. I'll update you as soon as I do.\\n\\nFollow-up:\\n\\nParticipant1: Good news! I found my umbrella at the office. It was left behind in the break room.\\n\\nParticipant2: That's great! I'm glad you found it. Let's make sure to keep track of our belongings in the future.\", \"PCA_0\": 15.1915922164917, \"PCA_1\": -14.845344543457031}, {\"Dataset\": 0, \"Sample\": \"0-18\", \"Noun\": \"violin\", \"Text\": \"Participant1: I've always been fascinated by the sound of the violin. How did you get started learning to play it?\\n\\nParticipant2: I started when I was just a child. My parents enrolled me in music lessons, and I fell in love with the instrument right away.\\n\\nFollow-up: Participant1: That's wonderful! Do you have a favorite violinist or piece that inspires you?\\n\\nParticipant2: Absolutely! I'm a big fan of Itzhak Perlman. His performances are incredibly moving and technically impressive.\", \"PCA_0\": 5.809912204742432, \"PCA_1\": -12.516160011291504}, {\"Dataset\": 0, \"Sample\": \"0-19\", \"Noun\": \"watch\", \"Text\": \"Participant1: I just got a new watch, it's a smartwatch with fitness tracking. (1)\\n\\nParticipant2: That sounds cool! What features does it have? (2)\\n\\nParticipant1: It has GPS, heart rate monitoring, and can even track my sleep patterns. (1)\\n\\nParticipant2: Wow, that's really useful. I might consider getting one too. (2)\", \"PCA_0\": -10.571770668029785, \"PCA_1\": -6.031814098358154}, {\"Dataset\": 0, \"Sample\": \"0-20\", \"Noun\": \"zebra\", \"Text\": \"Participant1: Hey, did you know that zebras have unique stripe patterns, just like human fingerprints?\\n\\nParticipant2: Really? I had no idea. How do these stripes help them?\\n\\nParticipant1: Well, one theory suggests that the stripes may help to confuse predators by making it difficult to single out an individual zebra in a group.\\n\\nParticipant2: That's fascinating! Are there different types of zebras?\\n\\nParticipant1: Yes, there are three main species: the Plains zebra, the Mountain zebra, and the Grevy's zebra.\\n\\nParticipant2: I'd love to see a zebra in person someday. Do you know where I could go to see them?\\n\\nParticipant1: You can visit national parks in Africa, like the Serengeti or Kruger National Park, where zebras are commonly found.\\n\\nParticipant2: Thanks for the information! I'll definitely look into visiting one of those parks.\\n\\nParticipant1: You're welcome! It's a great experience to see these amazing animals up close.\", \"PCA_0\": 28.58738899230957, \"PCA_1\": -7.607795715332031}, {\"Dataset\": 1, \"Sample\": \"1-0\", \"Noun\": \"apple\", \"Text\": \"1. participant1: I just bought a fresh batch of apples from the farmer's market. They're so crisp and juicy!\\n2. participant2: That sounds delicious! What kind did you get?\\n3. participant1: I got a mix of Granny Smith and Honeycrisp apples. Perfect for both eating raw and baking.\\n4. participant2: I love Honeycrisp apples! They're my favorite. Do you have any recipes in mind?\\n5. participant1: Actually, I was thinking of making an apple pie. Would you like to join me for a baking session this weekend?\\n6. participant2: Absolutely! I'd love to learn how to make an apple pie. Let's do it!\", \"PCA_0\": -1.9010910987854004, \"PCA_1\": -6.015535831451416}, {\"Dataset\": 1, \"Sample\": \"1-1\", \"Noun\": \"car\", \"Text\": \"1. participant1: I'm thinking of buying a new car, but I'm not sure which one to choose.\\n2. participant2: That's a big decision! What are your main priorities when it comes to a car?\\n3. participant1: I need something reliable and fuel-efficient, but I also want a comfortable ride.\\n4. participant2: Have you considered hybrid or electric cars? They're usually more fuel-efficient and have a comfortable ride.\\n5. participant1: That's a good point. I'll look into some hybrid models and see which one fits my needs and budget. Thanks for the suggestion!\", \"PCA_0\": -19.456459045410156, \"PCA_1\": -0.2607696056365967}, {\"Dataset\": 1, \"Sample\": \"1-2\", \"Noun\": \"dog\", \"Text\": \"1. participant1: I've been thinking about getting a dog lately. Do you have any recommendations for a good breed?\\n2. participant2: That's great! It really depends on your lifestyle and living situation. Are you looking for a small or large breed?\\n3. participant1: I live in an apartment, so I think a small breed would be more suitable.\\n4. participant2: In that case, you might want to consider a French Bulldog or a Cavalier King Charles Spaniel. They're both small breeds and great for apartment living.\\n5. participant1: I've heard that French Bulldogs can have some health issues. Is that true? (follow-up)\", \"PCA_0\": -10.062335014343262, \"PCA_1\": -4.020936012268066}, {\"Dataset\": 1, \"Sample\": \"1-3\", \"Noun\": \"elephant\", \"Text\": \"1. Participant1: Did you know that elephants are the largest land animals on Earth?\\n2. Participant2: Yes, I've heard that they can weigh up to 12,000 pounds!\\n3. Participant1: That's right! And they have a very long lifespan, often living up to 70 years in the wild.\\n4. Participant2: Wow, that's impressive. I've always been fascinated by their intelligence and social behavior.\\n5. Participant1: Absolutely, elephants are known for their strong family bonds and complex communication skills. They even have their own unique language!\", \"PCA_0\": -2.953141689300537, \"PCA_1\": 2.0829265117645264}, {\"Dataset\": 1, \"Sample\": \"1-4\", \"Noun\": \"guitar\", \"Text\": \"1. participant1: Hey, I've been thinking about learning to play the guitar. Any tips for a beginner?\\n2. participant2: That's awesome! Start with the basics, like learning the chords and strumming patterns.\\n3. participant1: Got it. Are there any specific brands or models you recommend for a beginner?\\n4. participant2: I'd suggest starting with a more affordable acoustic guitar. The Yamaha FG800 is a great beginner-friendly option.\\n5. participant1: Thanks for the recommendation! I'll check it out. Do you play any other instruments?\\n6. participant2: Yes, I also play the piano and the drums. It's always fun to explore different instruments.\\n7. participant1: That's cool! Maybe we can jam together sometime. I'd love to learn from your experience.\\n\\nFollow-up:\\n1. participant1: That sounds like a great idea! Let's plan a jam session soon. I'm excited to learn from you.\\n2. participant2: Absolutely! I'd be happy to share my knowledge and we can have a lot of fun playing together. Let's set a date.\", \"PCA_0\": -11.213905334472656, \"PCA_1\": -13.5945405960083}, {\"Dataset\": 1, \"Sample\": \"1-5\", \"Noun\": \"house\", \"Text\": \"1. participant1: I've been thinking about buying a new house lately.\\n2. participant2: That's great! What kind of house are you looking for?\\n3. participant1: I'm interested in a house with a big backyard and a modern kitchen.\\n4. participant2: Sounds like a perfect place for a family. Have you found any good listings yet?\\n5. participant1: Not yet, but I'll keep searching. Maybe we can go house hunting together sometime?\\n6. participant2: Absolutely! I'd love to help you find your dream home. Let's plan a day to look at some properties.\", \"PCA_0\": -11.84668254852295, \"PCA_1\": -0.1589212566614151}, {\"Dataset\": 1, \"Sample\": \"1-6\", \"Noun\": \"ice cream\", \"Text\": \"1. participant1: I'm craving some ice cream, what flavor do you prefer?\\n2. participant2: I love chocolate, but I'm open to trying something new. Maybe a mint chocolate chip?\\n3. participant1: Mint chocolate chip sounds great! Let's go to the ice cream parlor downtown.\\n4. participant2: Perfect, I'll meet you there in 15 minutes.\\n5. participant1: Sounds good, see you there! Don't forget to grab a cone for me too.\", \"PCA_0\": -14.619852066040039, \"PCA_1\": -3.0826380252838135}, {\"Dataset\": 1, \"Sample\": \"1-7\", \"Noun\": \"jacket\", \"Text\": \"1. participant1: I just bought a new jacket, it's perfect for the upcoming winter season.\\n2. participant2: That's great! What color is it?\\n3. participant1: It's a navy blue, and it has a detachable hood for extra warmth.\\n4. participant2: Sounds like a practical choice. Does it have any special features?\\n5. participant1: Yes, it's water-resistant and has a thermal lining, so I'll stay dry and warm even in the rain.\", \"PCA_0\": -11.811230659484863, \"PCA_1\": -5.334373950958252}, {\"Dataset\": 1, \"Sample\": \"1-8\", \"Noun\": \"kite\", \"Text\": \"1. participant1: Have you ever flown a kite before?\\n2. participant2: Yes, I have! It's such a fun and nostalgic activity.\\n3. participant1: I agree! I remember spending hours at the park with my family, trying to keep the kite up in the sky.\\n4. participant2: It's definitely a great way to enjoy the outdoors and bond with loved ones.\\n5. participant1: Absolutely! Do you have a favorite kite design or color?\\n6. participant2: I love the classic diamond shape, and my favorite color is blue. How about you?\\n7. participant1: I'm a fan of the dragon-shaped kites, and I prefer vibrant colors like red and yellow.\\n8. participant2: That sounds amazing! We should plan a kite-flying day together sometime.\\n9. participant1: That's a fantastic idea! Let's find a nice open space and make it happen.\", \"PCA_0\": 4.653360843658447, \"PCA_1\": -2.9790940284729004}, {\"Dataset\": 1, \"Sample\": \"1-9\", \"Noun\": \"laptop\", \"Text\": \"1. participant1: Hey, I'm thinking of buying a new laptop. Any recommendations?\\n2. participant2: Sure! What are you looking for in a laptop?\\n3. participant1: I need something with a good processor and a long battery life.\\n4. participant2: In that case, I'd suggest the Dell XPS 15. It has a powerful Intel Core i7 processor and a battery that lasts up to 12 hours.\\n5. participant1: That sounds great! Can you tell me more about its display and storage options? (follow-up)\", \"PCA_0\": -22.513408660888672, \"PCA_1\": -5.018241882324219}, {\"Dataset\": 1, \"Sample\": \"1-10\", \"Noun\": \"mountain\", \"Text\": \"1. participant1: Have you ever been to the mountains?\\n2. participant2: Yes, I went hiking in the Rockies last summer. It was breathtaking!\\n3. participant1: Wow, that sounds amazing. What was your favorite part?\\n4. participant2: The view from the top of the mountain was absolutely stunning. I'll never forget it.\\n5. participant1: I've always wanted to experience that. Maybe we can plan a trip together sometime.\", \"PCA_0\": -12.051718711853027, \"PCA_1\": -0.35848233103752136}, {\"Dataset\": 1, \"Sample\": \"1-11\", \"Noun\": \"necklace\", \"Text\": \"1. participant1: I just bought a beautiful necklace yesterday, it's a delicate gold chain with a small diamond pendant.\\n2. participant2: Oh, that sounds lovely! Where did you get it from?\\n3. participant1: I found it at a local boutique downtown, they have a great collection of unique jewelry.\\n4. participant2: I'll have to check it out sometime. Do you think it's suitable for everyday wear?\\n5. participant1: Definitely! It's lightweight and elegant, perfect for both casual and formal occasions. Would you like to see a picture? (follow-up)\", \"PCA_0\": -12.155017852783203, \"PCA_1\": -4.957695007324219}, {\"Dataset\": 1, \"Sample\": \"1-12\", \"Noun\": \"orange\", \"Text\": \"1. participant1: I just bought a bag of fresh oranges, they look so juicy and vibrant!\\n2. participant2: That's great! Oranges are not only delicious but also packed with vitamin C.\\n3. participant1: Yes, I've heard they're good for boosting the immune system. Do you have a favorite way to eat them?\\n4. participant2: I love peeling them and eating the segments, but sometimes I make fresh orange juice.\\n5. participant1: (follow-up) I've never tried making orange juice at home. Do you have a simple recipe or method?\", \"PCA_0\": -13.672780990600586, \"PCA_1\": -4.4313154220581055}, {\"Dataset\": 1, \"Sample\": \"1-13\", \"Noun\": \"piano\", \"Text\": \"1. participant1: I've always been fascinated by the piano. It's such a versatile instrument.\\n2. participant2: Absolutely! It can play a wide range of music, from classical to jazz and pop.\\n3. participant1: I've been thinking about taking piano lessons. Do you play?\\n4. participant2: Yes, I've been playing for a few years now. It's a great way to express yourself.\\n5. participant1: That's inspiring! Could you recommend a good piano teacher or any resources to get started? (follow-up)\", \"PCA_0\": -9.976966857910156, \"PCA_1\": -6.958928108215332}, {\"Dataset\": 1, \"Sample\": \"1-14\", \"Noun\": \"rainbow\", \"Text\": \"1. participant1: Have you ever wondered how rainbows are formed?\\n2. participant2: Yes, I've always been curious about that. I know it has something to do with sunlight and rain.\\n3. participant1: That's right! Rainbows occur when sunlight is refracted, or bent, as it passes through raindrops in the air.\\n4. participant2: So, the raindrops act like tiny prisms, breaking the light into its different colors?\\n5. participant1: Exactly! The light is separated into its component colors, creating the beautiful spectrum we see in a rainbow.\\n6. participant2: That's fascinating! I never realized how the combination of sunlight and raindrops could create such a stunning natural phenomenon.\\n7. participant1: Nature is truly amazing, isn't it? Rainbows always bring a sense of wonder and joy.\", \"PCA_0\": 2.530726671218872, \"PCA_1\": 2.4534084796905518}, {\"Dataset\": 1, \"Sample\": \"1-15\", \"Noun\": \"skateboard\", \"Text\": \"1. participant1: Hey, have you ever tried skateboarding before?\\n2. participant2: Yeah, I used to skateboard when I was younger. It was a lot of fun!\\n3. participant1: That's awesome! What kind of skateboard did you use back then?\\n4. participant2: I had a classic wooden skateboard with grip tape on the top. It was pretty basic but got the job done.\\n5. participant1: I've been thinking about getting into skateboarding myself. Do you have any tips for a beginner like me?\\n6. participant2: Definitely! Start with a smaller board to get the hang of it, and always wear protective gear like a helmet and knee pads.\\n7. participant1: Thanks for the advice! I'll make sure to get the right gear before I hit the skatepark.\", \"PCA_0\": 8.42663860321045, \"PCA_1\": -9.410099029541016}, {\"Dataset\": 1, \"Sample\": \"1-16\", \"Noun\": \"tiger\", \"Text\": \"1. participant1: Did you know that tigers are the largest cat species in the world?\\n2. participant2: Yes, I've heard that! They can weigh up to 660 pounds, right?\\n3. participant1: Exactly! And they have distinctive orange fur with black stripes.\\n4. participant2: I find it fascinating how their stripes help them camouflage in the jungle.\\n5. participant1: Absolutely, it's a crucial adaptation for their survival. By the way, did you know that there are only about 3,900 wild tigers left in the world?\\n6. participant2: That's alarming! We should definitely support conservation efforts to protect them.\\n7. participant1: I completely agree. Let's look into organizations that work towards tiger conservation and see how we can help.\", \"PCA_0\": 5.168272018432617, \"PCA_1\": 0.07294367253780365}, {\"Dataset\": 1, \"Sample\": \"1-17\", \"Noun\": \"umbrella\", \"Text\": \"1. participant1: Hey, have you seen my umbrella anywhere?\\n2. participant2: No, I haven't. Did you check the coat closet?\\n3. participant1: Yes, I did, but it's not there. I'm worried it might rain today.\\n4. participant2: Oh no, that's unfortunate. Maybe you left it at the office?\\n5. participant1: That's a possibility. I'll call the office and see if they found it. Thanks for the suggestion!\\n6. participant2: No problem! Let me know if you need any help.\\n7. participant1: Will do. I appreciate it. I'll update you once I find out.\", \"PCA_0\": 3.6965975761413574, \"PCA_1\": -8.588059425354004}, {\"Dataset\": 1, \"Sample\": \"1-18\", \"Noun\": \"violin\", \"Text\": \"1. Participant 1: I've always been fascinated by the violin. The way it produces such beautiful melodies is truly captivating.\\n2. Participant 2: Absolutely! The violin is a versatile instrument that can evoke a wide range of emotions.\\n3. Participant 1: Do you play the violin yourself?\\n4. Participant 2: Yes, I've been playing since I was a child. It's a wonderful experience to express myself through music.\\n5. Participant 1: That's amazing! Would you be interested in giving me some tips on how to get started with the violin? I've been thinking about learning it.\", \"PCA_0\": -4.750338554382324, \"PCA_1\": -8.675686836242676}, {\"Dataset\": 1, \"Sample\": \"1-19\", \"Noun\": \"watch\", \"Text\": \"1. Participant1: I just got a new watch, it's a smartwatch with fitness tracking.\\n2. Participant2: That sounds cool! What features does it have?\\n3. Participant1: It has GPS, heart rate monitoring, and even tracks my sleep patterns.\\n4. Participant2: Wow, that's really useful. Do you think it's worth the investment?\\n5. Participant1: Definitely, it helps me stay on top of my health and fitness goals. Plus, it's stylish too!\", \"PCA_0\": -19.280628204345703, \"PCA_1\": -1.620595932006836}, {\"Dataset\": 1, \"Sample\": \"1-20\", \"Noun\": \"zebra\", \"Text\": \"1. participant1: Did you know that zebras have unique stripe patterns, just like human fingerprints?\\n2. participant2: Really? I had no idea. How do these stripes help them?\\n3. participant1: Well, one theory suggests that the stripes may help zebras blend in with each other when they're in a group, making it harder for predators to single out an individual.\\n4. participant2: That's fascinating! Are there different types of zebras?\\n5. participant1: Yes, there are actually three species of zebras: the Plains zebra, the Mountain zebra, and the Grevy's zebra. Each has its own distinct characteristics and habitats.\", \"PCA_0\": 19.389347076416016, \"PCA_1\": -2.557096004486084}, {\"Dataset\": 2, \"Sample\": \"2-0\", \"Noun\": \"apple\", \"Text\": \"Apples are one of the most popular fruits worldwide, known for their crisp texture and sweet-tart flavor. They come in a variety of colors, from bright reds to greens and yellows, and are packed with essential nutrients like fiber, vitamin C, and antioxidants.\", \"PCA_0\": -11.576713562011719, \"PCA_1\": 17.51317596435547}, {\"Dataset\": 2, \"Sample\": \"2-1\", \"Noun\": \"car\", \"Text\": \"Cars have revolutionized the way we travel and transport goods, providing a convenient and efficient mode of transportation. With advancements in technology, modern cars are equipped with features such as GPS navigation, automatic braking, and collision avoidance systems, making them safer and more reliable than ever before. The automotive industry continues to innovate, with electric and hybrid cars becoming increasingly popular as a sustainable alternative to traditional gasoline-powered vehicles. As we look to the future, cars will likely continue to evolve, incorporating new technologies and designs to meet the changing needs of society.\", \"PCA_0\": -3.1569201946258545, \"PCA_1\": 13.9924898147583}, {\"Dataset\": 2, \"Sample\": \"2-2\", \"Noun\": \"dog\", \"Text\": \"Dogs are one of the most beloved and popular pets around the world, known for their loyalty, affection, and playful nature. They come in a wide variety of breeds, each with its own unique characteristics and temperaments, making them suitable for different lifestyles and environments. Dogs have been domesticated for thousands of years, and their close bond with humans has made them an integral part of many families. They are known for their ability to provide companionship, emotional support, and even assistance to people with disabilities. Dogs are also highly intelligent animals, capable of learning and performing a wide range of tasks and tricks. Overall, dogs are cherished for their unwavering love and devotion, making them an irreplaceable part of many people's lives.\", \"PCA_0\": -1.9117029905319214, \"PCA_1\": 19.303831100463867}, {\"Dataset\": 2, \"Sample\": \"2-3\", \"Noun\": \"elephant\", \"Text\": \"Elephants are majestic creatures, known for their impressive size and gentle nature. They are the largest land animals on Earth, with adults weighing up to 14,000 pounds and standing up to 13 feet tall at the shoulder. Despite their size, elephants are highly intelligent and social animals, living in close-knit family groups led by a matriarch. Their long trunks, tusks, and large ears are not only distinctive features but also serve important functions in their daily lives, such as communication, foraging, and self-defense. Sadly, elephants are currently facing numerous threats, including habitat loss and poaching, making their conservation a crucial issue for the future of our planet.\", \"PCA_0\": 5.197665214538574, \"PCA_1\": 19.863433837890625}, {\"Dataset\": 2, \"Sample\": \"2-4\", \"Noun\": \"guitar\", \"Text\": \"The guitar is a versatile and popular musical instrument that has been captivating audiences for centuries. With its six strings, it produces a wide range of sounds and tones, making it a favorite among musicians of all genres. The instrument's origins can be traced back to ancient times, with its modern form evolving from the Spanish lute. Guitarists use a variety of techniques, such as fingerpicking, strumming, and bending, to create unique and expressive melodies. The guitar's portability and affordability have contributed to its widespread popularity, making it a staple in homes, schools, and concert halls around the world. From classical compositions to rock anthems, the guitar has played a significant role in shaping the sound of modern music. Whether played solo or as part of a band, the guitar continues to inspire and delight listeners with its rich and captivating sound.\", \"PCA_0\": 11.311698913574219, \"PCA_1\": 6.696508407592773}, {\"Dataset\": 2, \"Sample\": \"2-5\", \"Noun\": \"house\", \"Text\": \"A house is a place of comfort and security, where families gather to share their lives and create lasting memories. It serves as a sanctuary, providing shelter from the elements and a sense of belonging. The design and layout of a house can greatly impact the quality of life for its inhabitants, with features such as natural light, open spaces, and functional layouts enhancing the overall experience. Ultimately, a house is more than just a structure; it is a reflection of the people who call it home, and a place where love and warmth are always present.\", \"PCA_0\": -4.389933109283447, \"PCA_1\": 19.880069732666016}, {\"Dataset\": 2, \"Sample\": \"2-6\", \"Noun\": \"ice cream\", \"Text\": \"Ice cream, a delightful frozen dessert, has been enjoyed by people of all ages for centuries. With its creamy texture and endless flavor combinations, it's no wonder that ice cream remains a beloved treat around the world.\", \"PCA_0\": 4.695901393890381, \"PCA_1\": 4.697976589202881}, {\"Dataset\": 2, \"Sample\": \"2-7\", \"Noun\": \"jacket\", \"Text\": \"A jacket is a versatile piece of clothing that can be worn in various settings, from casual outings to formal events. It typically consists of a coat-like garment with sleeves, fastened at the front with buttons or a zipper. Jackets come in a wide range of styles, materials, and colors, allowing individuals to express their personal style while staying comfortable and protected from the elements. Whether it's a classic leather jacket, a cozy puffer jacket, or a sleek blazer, a well-chosen jacket can elevate any outfit and make a fashion statement.\", \"PCA_0\": 1.0223485231399536, \"PCA_1\": 4.891089916229248}, {\"Dataset\": 2, \"Sample\": \"2-8\", \"Noun\": \"kite\", \"Text\": \"Kites have been a source of fascination and joy for centuries, with their colorful designs and ability to soar high in the sky. They come in various shapes and sizes, from simple diamond-shaped kites to intricate dragon-like designs, each with its own unique flying characteristics. Whether flown for recreation or as a competitive sport, kites offer a sense of freedom and adventure, as they dance and twirl in the wind, captivating both young and old alike.\", \"PCA_0\": -3.4772026538848877, \"PCA_1\": 16.230762481689453}, {\"Dataset\": 2, \"Sample\": \"2-9\", \"Noun\": \"laptop\", \"Text\": \"A laptop is a portable computer that is designed for easy transportation and use on the go. It typically consists of a screen, keyboard, touchpad or trackpad, and a built-in battery that allows it to operate without being plugged in. Laptops come in various sizes and configurations, ranging from lightweight ultrabooks to powerful gaming laptops. They are equipped with a wide range of features, including high-resolution displays, fast processors, and ample storage, making them suitable for a variety of tasks such as work, entertainment, and communication. With the increasing demand for mobility and convenience, laptops have become an essential tool for people in both personal and professional settings.\", \"PCA_0\": -10.391550064086914, \"PCA_1\": 13.638200759887695}, {\"Dataset\": 2, \"Sample\": \"2-10\", \"Noun\": \"mountain\", \"Text\": \"Mountains are majestic natural wonders that rise high above the surrounding landscape, often reaching great heights and displaying awe-inspiring beauty. They are formed through the slow and powerful forces of tectonic activity, which pushes the earth's crust upward over millions of years. Mountains are home to a diverse range of flora and fauna, and they play a crucial role in regulating the earth's climate and water cycle. Many people are drawn to mountains for their adventurous spirit and the sense of peace and tranquility they offer amidst the grandeur of nature.\", \"PCA_0\": 0.33927857875823975, \"PCA_1\": 20.46109390258789}, {\"Dataset\": 2, \"Sample\": \"2-11\", \"Noun\": \"necklace\", \"Text\": \"A necklace is a beautiful and versatile piece of jewelry that can add elegance and charm to any outfit. Typically worn around the neck, necklaces come in various styles, lengths, and materials, ranging from delicate chains to bold statement pieces. They can be adorned with precious gemstones, pearls, or intricate designs, making them a unique expression of personal style. Necklaces have been worn for centuries, serving as symbols of love, status, and cultural significance. Today, they continue to be cherished as timeless accessories that can elevate any look and hold sentimental value for the wearer.\", \"PCA_0\": 3.4394829273223877, \"PCA_1\": 5.305387496948242}, {\"Dataset\": 2, \"Sample\": \"2-12\", \"Noun\": \"orange\", \"Text\": \"Oranges are a delicious and nutritious fruit that are packed with vitamins and minerals. They are a great source of vitamin C, which helps boost the immune system and protect against illnesses. Oranges are also rich in fiber, which aids in digestion and helps maintain a healthy weight. The bright, vibrant color of oranges is a result of the natural pigments found in the fruit, and they are often associated with sunshine and happiness. Whether eaten as a snack, juiced, or used in recipes, oranges are a versatile and tasty addition to any diet.\", \"PCA_0\": -8.987202644348145, \"PCA_1\": 11.774250030517578}, {\"Dataset\": 2, \"Sample\": \"2-13\", \"Noun\": \"piano\", \"Text\": \"The piano is a versatile and beloved musical instrument that has been captivating audiences for centuries. With its rich and resonant tones, it has become a staple in both classical and contemporary music. The piano's keyboard, consisting of 88 keys, allows for a wide range of notes and chords to be played, making it a powerful tool for composers and performers alike. Its ability to produce both melody and harmony simultaneously has made it a popular choice for solo performances and ensemble pieces. Whether played in a grand concert hall or a cozy living room, the piano continues to inspire and delight listeners with its timeless beauty and expressive capabilities.\", \"PCA_0\": 2.2512712478637695, \"PCA_1\": 10.464101791381836}, {\"Dataset\": 2, \"Sample\": \"2-14\", \"Noun\": \"rainbow\", \"Text\": \"A rainbow is a breathtaking natural phenomenon that occurs when sunlight interacts with water droplets in the atmosphere, creating a stunning display of colors. The process begins when sunlight enters a raindrop and is refracted, or bent, as it passes through the water. This bending of light causes the different colors of the spectrum to separate and form a circular arc in the sky. The colors of a rainbow, in order from the outer edge to the inner edge, are red, orange, yellow, green, blue, indigo, and violet. Each color represents a different wavelength of light, with red having the longest wavelength and violet having the shortest. Rainbows are often seen after a rain shower, when the sun is shining and there are still water droplets in the air. They are a symbol of hope and promise, reminding us that even after a storm, beauty and color can emerge. Rainbows are a reminder of the magic and wonder of nature, and they continue to inspire awe and wonder in people of all ages.\", \"PCA_0\": 7.236627578735352, \"PCA_1\": 17.606355667114258}, {\"Dataset\": 2, \"Sample\": \"2-15\", \"Noun\": \"skateboard\", \"Text\": \"Skateboarding is a popular sport and recreational activity that has gained immense popularity over the years. It involves riding and performing tricks on a specially designed board with wheels, typically made of wood and polyurethane. Skateboarding originated in California in the 1950s, and since then, it has evolved into a global phenomenon with its own unique culture and style. Skateboarders use their creativity and skill to perform various tricks, such as ollies, kickflips, and grinds, which require balance, agility, and precision. Skateboarding is not only a thrilling sport but also a form of self-expression and artistic expression, with skaters often customizing their boards to reflect their personality and style. It is a sport that can be enjoyed by people of all ages and skill levels, and it has even been included in the Olympics. Overall, skateboarding is a dynamic and exciting activity that continues to captivate and inspire people around the world.\", \"PCA_0\": 19.38052749633789, \"PCA_1\": 10.594136238098145}, {\"Dataset\": 2, \"Sample\": \"2-16\", \"Noun\": \"tiger\", \"Text\": \"Tigers are one of the most majestic and powerful creatures in the animal kingdom, known for their striking orange fur with black stripes. These magnificent big cats are native to Asia and are the largest of the cat species, with males weighing up to 660 pounds and measuring up to 10 feet in length. Tigers are solitary animals, preferring to live and hunt alone, and are known for their stealth and agility. They are apex predators, feeding primarily on large ungulates such as deer and wild boar, and are capable of taking down prey much larger than themselves. Unfortunately, tigers are currently endangered due to habitat loss, poaching, and human-wildlife conflict. Conservation efforts are underway to protect these incredible animals and their habitats, with many organizations working to raise awareness and promote sustainable practices. Despite the challenges they face, tigers continue to captivate and inspire people around the world with their strength, beauty, and resilience.\", \"PCA_0\": 23.207523345947266, \"PCA_1\": 15.507589340209961}, {\"Dataset\": 2, \"Sample\": \"2-17\", \"Noun\": \"umbrella\", \"Text\": \"An umbrella is a portable device designed to protect individuals from rain, sun, and other elements. It consists of a collapsible canopy made of waterproof material, attached to a metal or plastic frame with a handle. The primary purpose of an umbrella is to shield people from precipitation, but it can also provide shade on sunny days. Umbrellas come in various sizes, colors, and designs, catering to different preferences and needs. Some umbrellas are compact and fold into a small size for easy storage, while others are larger and more durable for heavy rain. In addition to their practical use, umbrellas have become a fashion accessory, with many people choosing stylish designs to complement their outfits. Overall, umbrellas are a versatile and essential tool for staying dry and protected in various weather conditions.\", \"PCA_0\": 20.18950080871582, \"PCA_1\": 10.058082580566406}, {\"Dataset\": 2, \"Sample\": \"2-18\", \"Noun\": \"violin\", \"Text\": \"The violin, with its elegant curves and rich, resonant sound, has been a beloved instrument for centuries, captivating audiences with its expressive range and emotional depth. Its delicate strings, expertly played by skilled musicians, produce a timeless melody that transcends cultural boundaries and continues to inspire generations of musicians and listeners alike.\", \"PCA_0\": -5.334413051605225, \"PCA_1\": 14.531143188476562}, {\"Dataset\": 2, \"Sample\": \"2-19\", \"Noun\": \"watch\", \"Text\": \"A watch is a timekeeping device that is worn on the wrist or carried in a pocket, providing a convenient and portable way to keep track of time throughout the day. With a wide range of styles, materials, and features, watches have evolved from simple timepieces to sophisticated accessories that can also serve as fashion statements and status symbols.\", \"PCA_0\": -14.059724807739258, \"PCA_1\": 18.145931243896484}, {\"Dataset\": 2, \"Sample\": \"2-20\", \"Noun\": \"zebra\", \"Text\": \"Zebras are fascinating and unique animals that are native to Africa. They are known for their distinctive black and white stripes, which serve as a form of camouflage in their natural habitat. Zebras belong to the horse family and are closely related to other equines such as horses and donkeys. There are three species of zebras: the Plains zebra, the Mountain zebra, and the Grevy's zebra, each with its own distinct characteristics and habitats. Zebras are social animals that live in groups called harems, which are led by a dominant male. They primarily feed on grasses and can travel up to 30 miles a day in search of food. Despite their peaceful nature, zebras are also known for their strong and agile running abilities, which they use to evade predators in the wild.\", \"PCA_0\": 20.57967758178711, \"PCA_1\": 16.924081802368164}]}}, {\"mode\": \"vega-lite\"});\n",
       "</script>"
      ],
      "text/plain": [
       "alt.Chart(...)"
      ]
     },
     "metadata": {},
     "output_type": "display_data"
    }
   ],
   "source": [
    "from sklearn.decomposition import PCA\n",
    "import pandas as pd\n",
    "import altair as alt\n",
    "\n",
    "\n",
    "def show_format_embeds(datasets, embed_func):\n",
    "    didxs = []\n",
    "    names = []\n",
    "    nouns = []\n",
    "    texts = []\n",
    "    embeds = []\n",
    "    for didx, dataset in enumerate(datasets):\n",
    "        for cidx, conv in enumerate(dataset):\n",
    "            didxs.append(didx)\n",
    "            names.append('{}-{}'.format(didx, cidx))\n",
    "            nouns.append(nouns_list[cidx])\n",
    "            texts.append(conv)\n",
    "            embeds.append(embed_func(conv))\n",
    "            \n",
    "    pca = PCA(n_components=2)\n",
    "    pca_embeds = pca.fit_transform(torch.stack(embeds).float().numpy())\n",
    "    \n",
    "    print(len(didxs), len(nouns_list))\n",
    "    \n",
    "    data = pd.DataFrame({\n",
    "        'Dataset': didxs,\n",
    "        'Sample': names,\n",
    "        'Noun': nouns,\n",
    "        'Text': texts,\n",
    "        'PCA_0': map(lambda p: p[0], pca_embeds),\n",
    "        'PCA_1': map(lambda p: p[1], pca_embeds),\n",
    "    })\n",
    "    \n",
    "    display(data)\n",
    "    \n",
    "    display(alt.Chart(data).mark_point(size=50).encode(\n",
    "        x='PCA_0',\n",
    "        y='PCA_1',\n",
    "        color='Noun:N',\n",
    "        shape='Dataset:N',\n",
    "        tooltip=['Dataset', 'Sample', 'Noun', 'Text']\n",
    "    ).interactive())\n",
    "              \n",
    "show_format_embeds([strat_a_convs, strat_a_convs_sf, strat_a_paras], lambda conv: format_embed(conv))\n",
    "show_format_embeds([strat_a_convs, strat_a_convs_sf, strat_a_paras], lambda conv: format_embed(conv, prompt_prefix='What is the format of this text?'))\n",
    "show_format_embeds([strat_a_convs, strat_a_convs_sf, strat_a_paras], lambda conv: format_embed(conv, prompt_prefix='What noun is mentioned most frequently in this text?'))"
   ]
  },
  {
   "cell_type": "code",
   "execution_count": 139,
   "id": "5e82c838-582e-48c4-844f-828aa21b6bb9",
   "metadata": {
    "tags": []
   },
   "outputs": [
    {
     "name": "stdout",
     "output_type": "stream",
     "text": [
      "21 21\n"
     ]
    },
    {
     "data": {
      "text/html": [
       "<div>\n",
       "<style scoped>\n",
       "    .dataframe tbody tr th:only-of-type {\n",
       "        vertical-align: middle;\n",
       "    }\n",
       "\n",
       "    .dataframe tbody tr th {\n",
       "        vertical-align: top;\n",
       "    }\n",
       "\n",
       "    .dataframe thead th {\n",
       "        text-align: right;\n",
       "    }\n",
       "</style>\n",
       "<table border=\"1\" class=\"dataframe\">\n",
       "  <thead>\n",
       "    <tr style=\"text-align: right;\">\n",
       "      <th></th>\n",
       "      <th>Dataset</th>\n",
       "      <th>Sample</th>\n",
       "      <th>Noun</th>\n",
       "      <th>Text</th>\n",
       "      <th>PCA_0</th>\n",
       "      <th>PCA_1</th>\n",
       "    </tr>\n",
       "  </thead>\n",
       "  <tbody>\n",
       "    <tr>\n",
       "      <th>0</th>\n",
       "      <td>0</td>\n",
       "      <td>0-0</td>\n",
       "      <td>apple</td>\n",
       "      <td>Participant1: I just bought a fresh, juicy app...</td>\n",
       "      <td>-7.098037</td>\n",
       "      <td>4.069834</td>\n",
       "    </tr>\n",
       "    <tr>\n",
       "      <th>1</th>\n",
       "      <td>0</td>\n",
       "      <td>0-1</td>\n",
       "      <td>car</td>\n",
       "      <td>Participant 1: Hey, I'm thinking about buying ...</td>\n",
       "      <td>-1.791365</td>\n",
       "      <td>-5.900218</td>\n",
       "    </tr>\n",
       "    <tr>\n",
       "      <th>2</th>\n",
       "      <td>0</td>\n",
       "      <td>0-2</td>\n",
       "      <td>dog</td>\n",
       "      <td>Participant1: Hey, I've been thinking about ge...</td>\n",
       "      <td>1.288122</td>\n",
       "      <td>3.305320</td>\n",
       "    </tr>\n",
       "    <tr>\n",
       "      <th>3</th>\n",
       "      <td>0</td>\n",
       "      <td>0-3</td>\n",
       "      <td>elephant</td>\n",
       "      <td>Participant1: I recently visited a wildlife sa...</td>\n",
       "      <td>-11.125224</td>\n",
       "      <td>5.585431</td>\n",
       "    </tr>\n",
       "    <tr>\n",
       "      <th>4</th>\n",
       "      <td>0</td>\n",
       "      <td>0-4</td>\n",
       "      <td>guitar</td>\n",
       "      <td>Participant1: Hey, I've been thinking about le...</td>\n",
       "      <td>6.087921</td>\n",
       "      <td>-4.069866</td>\n",
       "    </tr>\n",
       "    <tr>\n",
       "      <th>5</th>\n",
       "      <td>0</td>\n",
       "      <td>0-5</td>\n",
       "      <td>house</td>\n",
       "      <td>Participant1: I've been thinking about buying ...</td>\n",
       "      <td>-2.561310</td>\n",
       "      <td>-0.136728</td>\n",
       "    </tr>\n",
       "    <tr>\n",
       "      <th>6</th>\n",
       "      <td>0</td>\n",
       "      <td>0-6</td>\n",
       "      <td>ice cream</td>\n",
       "      <td>Participant1: I'm craving some ice cream, what...</td>\n",
       "      <td>-7.817677</td>\n",
       "      <td>9.947150</td>\n",
       "    </tr>\n",
       "    <tr>\n",
       "      <th>7</th>\n",
       "      <td>0</td>\n",
       "      <td>0-7</td>\n",
       "      <td>jacket</td>\n",
       "      <td>Participant1: I'm thinking of buying a new jac...</td>\n",
       "      <td>0.350232</td>\n",
       "      <td>-9.242822</td>\n",
       "    </tr>\n",
       "    <tr>\n",
       "      <th>8</th>\n",
       "      <td>0</td>\n",
       "      <td>0-8</td>\n",
       "      <td>kite</td>\n",
       "      <td>Participant1: Hey, have you ever flown a kite ...</td>\n",
       "      <td>0.408238</td>\n",
       "      <td>-5.399532</td>\n",
       "    </tr>\n",
       "    <tr>\n",
       "      <th>9</th>\n",
       "      <td>0</td>\n",
       "      <td>0-9</td>\n",
       "      <td>laptop</td>\n",
       "      <td>Participant1: Hey, I'm thinking of buying a ne...</td>\n",
       "      <td>1.817685</td>\n",
       "      <td>-0.689036</td>\n",
       "    </tr>\n",
       "    <tr>\n",
       "      <th>10</th>\n",
       "      <td>0</td>\n",
       "      <td>0-10</td>\n",
       "      <td>mountain</td>\n",
       "      <td>Participant1: I've always wanted to climb a mo...</td>\n",
       "      <td>0.966726</td>\n",
       "      <td>-2.598197</td>\n",
       "    </tr>\n",
       "    <tr>\n",
       "      <th>11</th>\n",
       "      <td>0</td>\n",
       "      <td>0-11</td>\n",
       "      <td>necklace</td>\n",
       "      <td>Participant1: I've been thinking about getting...</td>\n",
       "      <td>4.622471</td>\n",
       "      <td>-1.430525</td>\n",
       "    </tr>\n",
       "    <tr>\n",
       "      <th>12</th>\n",
       "      <td>0</td>\n",
       "      <td>0-12</td>\n",
       "      <td>orange</td>\n",
       "      <td>Participant1: Hey, have you ever tried a blood...</td>\n",
       "      <td>-1.704119</td>\n",
       "      <td>-3.080077</td>\n",
       "    </tr>\n",
       "    <tr>\n",
       "      <th>13</th>\n",
       "      <td>0</td>\n",
       "      <td>0-13</td>\n",
       "      <td>piano</td>\n",
       "      <td>Participant1: I've always wanted to learn how ...</td>\n",
       "      <td>-1.358007</td>\n",
       "      <td>-3.995946</td>\n",
       "    </tr>\n",
       "    <tr>\n",
       "      <th>14</th>\n",
       "      <td>0</td>\n",
       "      <td>0-14</td>\n",
       "      <td>rainbow</td>\n",
       "      <td>Participant1: Hey, have you ever wondered how ...</td>\n",
       "      <td>3.156344</td>\n",
       "      <td>-10.188403</td>\n",
       "    </tr>\n",
       "    <tr>\n",
       "      <th>15</th>\n",
       "      <td>0</td>\n",
       "      <td>0-15</td>\n",
       "      <td>skateboard</td>\n",
       "      <td>Participant1: Hey, have you ever tried skatebo...</td>\n",
       "      <td>2.459150</td>\n",
       "      <td>-0.537803</td>\n",
       "    </tr>\n",
       "    <tr>\n",
       "      <th>16</th>\n",
       "      <td>0</td>\n",
       "      <td>0-16</td>\n",
       "      <td>tiger</td>\n",
       "      <td>Participant1: Did you know that tigers are the...</td>\n",
       "      <td>23.300270</td>\n",
       "      <td>13.673060</td>\n",
       "    </tr>\n",
       "    <tr>\n",
       "      <th>17</th>\n",
       "      <td>0</td>\n",
       "      <td>0-17</td>\n",
       "      <td>umbrella</td>\n",
       "      <td>Participant1: Hey, have you seen my umbrella a...</td>\n",
       "      <td>-1.629086</td>\n",
       "      <td>2.081641</td>\n",
       "    </tr>\n",
       "    <tr>\n",
       "      <th>18</th>\n",
       "      <td>0</td>\n",
       "      <td>0-18</td>\n",
       "      <td>violin</td>\n",
       "      <td>Participant1: I've always been fascinated by t...</td>\n",
       "      <td>-3.015888</td>\n",
       "      <td>0.158046</td>\n",
       "    </tr>\n",
       "    <tr>\n",
       "      <th>19</th>\n",
       "      <td>0</td>\n",
       "      <td>0-19</td>\n",
       "      <td>watch</td>\n",
       "      <td>Participant1: I just got a new watch, it's a s...</td>\n",
       "      <td>-9.346723</td>\n",
       "      <td>9.967442</td>\n",
       "    </tr>\n",
       "    <tr>\n",
       "      <th>20</th>\n",
       "      <td>0</td>\n",
       "      <td>0-20</td>\n",
       "      <td>zebra</td>\n",
       "      <td>Participant1: Hey, did you know that zebras ha...</td>\n",
       "      <td>2.990277</td>\n",
       "      <td>-1.518774</td>\n",
       "    </tr>\n",
       "  </tbody>\n",
       "</table>\n",
       "</div>"
      ],
      "text/plain": [
       "    Dataset Sample        Noun  \\\n",
       "0         0    0-0       apple   \n",
       "1         0    0-1         car   \n",
       "2         0    0-2         dog   \n",
       "3         0    0-3    elephant   \n",
       "4         0    0-4      guitar   \n",
       "5         0    0-5       house   \n",
       "6         0    0-6   ice cream   \n",
       "7         0    0-7      jacket   \n",
       "8         0    0-8        kite   \n",
       "9         0    0-9      laptop   \n",
       "10        0   0-10    mountain   \n",
       "11        0   0-11    necklace   \n",
       "12        0   0-12      orange   \n",
       "13        0   0-13       piano   \n",
       "14        0   0-14     rainbow   \n",
       "15        0   0-15  skateboard   \n",
       "16        0   0-16       tiger   \n",
       "17        0   0-17    umbrella   \n",
       "18        0   0-18      violin   \n",
       "19        0   0-19       watch   \n",
       "20        0   0-20       zebra   \n",
       "\n",
       "                                                 Text      PCA_0      PCA_1  \n",
       "0   Participant1: I just bought a fresh, juicy app...  -7.098037   4.069834  \n",
       "1   Participant 1: Hey, I'm thinking about buying ...  -1.791365  -5.900218  \n",
       "2   Participant1: Hey, I've been thinking about ge...   1.288122   3.305320  \n",
       "3   Participant1: I recently visited a wildlife sa... -11.125224   5.585431  \n",
       "4   Participant1: Hey, I've been thinking about le...   6.087921  -4.069866  \n",
       "5   Participant1: I've been thinking about buying ...  -2.561310  -0.136728  \n",
       "6   Participant1: I'm craving some ice cream, what...  -7.817677   9.947150  \n",
       "7   Participant1: I'm thinking of buying a new jac...   0.350232  -9.242822  \n",
       "8   Participant1: Hey, have you ever flown a kite ...   0.408238  -5.399532  \n",
       "9   Participant1: Hey, I'm thinking of buying a ne...   1.817685  -0.689036  \n",
       "10  Participant1: I've always wanted to climb a mo...   0.966726  -2.598197  \n",
       "11  Participant1: I've been thinking about getting...   4.622471  -1.430525  \n",
       "12  Participant1: Hey, have you ever tried a blood...  -1.704119  -3.080077  \n",
       "13  Participant1: I've always wanted to learn how ...  -1.358007  -3.995946  \n",
       "14  Participant1: Hey, have you ever wondered how ...   3.156344 -10.188403  \n",
       "15  Participant1: Hey, have you ever tried skatebo...   2.459150  -0.537803  \n",
       "16  Participant1: Did you know that tigers are the...  23.300270  13.673060  \n",
       "17  Participant1: Hey, have you seen my umbrella a...  -1.629086   2.081641  \n",
       "18  Participant1: I've always been fascinated by t...  -3.015888   0.158046  \n",
       "19  Participant1: I just got a new watch, it's a s...  -9.346723   9.967442  \n",
       "20  Participant1: Hey, did you know that zebras ha...   2.990277  -1.518774  "
      ]
     },
     "metadata": {},
     "output_type": "display_data"
    },
    {
     "data": {
      "text/html": [
       "\n",
       "<style>\n",
       "  #altair-viz-1bb62c4dde2c4e649c9a598454ab780c.vega-embed {\n",
       "    width: 100%;\n",
       "    display: flex;\n",
       "  }\n",
       "\n",
       "  #altair-viz-1bb62c4dde2c4e649c9a598454ab780c.vega-embed details,\n",
       "  #altair-viz-1bb62c4dde2c4e649c9a598454ab780c.vega-embed details summary {\n",
       "    position: relative;\n",
       "  }\n",
       "</style>\n",
       "<div id=\"altair-viz-1bb62c4dde2c4e649c9a598454ab780c\"></div>\n",
       "<script type=\"text/javascript\">\n",
       "  var VEGA_DEBUG = (typeof VEGA_DEBUG == \"undefined\") ? {} : VEGA_DEBUG;\n",
       "  (function(spec, embedOpt){\n",
       "    let outputDiv = document.currentScript.previousElementSibling;\n",
       "    if (outputDiv.id !== \"altair-viz-1bb62c4dde2c4e649c9a598454ab780c\") {\n",
       "      outputDiv = document.getElementById(\"altair-viz-1bb62c4dde2c4e649c9a598454ab780c\");\n",
       "    }\n",
       "    const paths = {\n",
       "      \"vega\": \"https://cdn.jsdelivr.net/npm/vega@5?noext\",\n",
       "      \"vega-lib\": \"https://cdn.jsdelivr.net/npm/vega-lib?noext\",\n",
       "      \"vega-lite\": \"https://cdn.jsdelivr.net/npm/vega-lite@5.17.0?noext\",\n",
       "      \"vega-embed\": \"https://cdn.jsdelivr.net/npm/vega-embed@6?noext\",\n",
       "    };\n",
       "\n",
       "    function maybeLoadScript(lib, version) {\n",
       "      var key = `${lib.replace(\"-\", \"\")}_version`;\n",
       "      return (VEGA_DEBUG[key] == version) ?\n",
       "        Promise.resolve(paths[lib]) :\n",
       "        new Promise(function(resolve, reject) {\n",
       "          var s = document.createElement('script');\n",
       "          document.getElementsByTagName(\"head\")[0].appendChild(s);\n",
       "          s.async = true;\n",
       "          s.onload = () => {\n",
       "            VEGA_DEBUG[key] = version;\n",
       "            return resolve(paths[lib]);\n",
       "          };\n",
       "          s.onerror = () => reject(`Error loading script: ${paths[lib]}`);\n",
       "          s.src = paths[lib];\n",
       "        });\n",
       "    }\n",
       "\n",
       "    function showError(err) {\n",
       "      outputDiv.innerHTML = `<div class=\"error\" style=\"color:red;\">${err}</div>`;\n",
       "      throw err;\n",
       "    }\n",
       "\n",
       "    function displayChart(vegaEmbed) {\n",
       "      vegaEmbed(outputDiv, spec, embedOpt)\n",
       "        .catch(err => showError(`Javascript Error: ${err.message}<br>This usually means there's a typo in your chart specification. See the javascript console for the full traceback.`));\n",
       "    }\n",
       "\n",
       "    if(typeof define === \"function\" && define.amd) {\n",
       "      requirejs.config({paths});\n",
       "      require([\"vega-embed\"], displayChart, err => showError(`Error loading script: ${err.message}`));\n",
       "    } else {\n",
       "      maybeLoadScript(\"vega\", \"5\")\n",
       "        .then(() => maybeLoadScript(\"vega-lite\", \"5.17.0\"))\n",
       "        .then(() => maybeLoadScript(\"vega-embed\", \"6\"))\n",
       "        .catch(showError)\n",
       "        .then(() => displayChart(vegaEmbed));\n",
       "    }\n",
       "  })({\"config\": {\"view\": {\"continuousWidth\": 300, \"continuousHeight\": 300}}, \"data\": {\"name\": \"data-452c2118a8a9052003b6d21f634c6613\"}, \"mark\": {\"type\": \"point\", \"size\": 50}, \"encoding\": {\"color\": {\"field\": \"Noun\", \"type\": \"nominal\"}, \"shape\": {\"field\": \"Dataset\", \"type\": \"nominal\"}, \"tooltip\": [{\"field\": \"Dataset\", \"type\": \"quantitative\"}, {\"field\": \"Sample\", \"type\": \"nominal\"}, {\"field\": \"Noun\", \"type\": \"nominal\"}, {\"field\": \"Text\", \"type\": \"nominal\"}], \"x\": {\"field\": \"PCA_0\", \"type\": \"quantitative\"}, \"y\": {\"field\": \"PCA_1\", \"type\": \"quantitative\"}}, \"params\": [{\"name\": \"param_27\", \"select\": {\"type\": \"interval\", \"encodings\": [\"x\", \"y\"]}, \"bind\": \"scales\"}], \"$schema\": \"https://vega.github.io/schema/vega-lite/v5.17.0.json\", \"datasets\": {\"data-452c2118a8a9052003b6d21f634c6613\": [{\"Dataset\": 0, \"Sample\": \"0-0\", \"Noun\": \"apple\", \"Text\": \"Participant1: I just bought a fresh, juicy apple from the farmer's market. It's so crisp and sweet! (1)\\n\\nParticipant2: That sounds delicious! I've been meaning to try a new apple variety. What kind did you get? (2)\\n\\nParticipant1: I got a Honeycrisp. It's my new favorite! Would you like to try one? (Follow-up)\", \"PCA_0\": -7.098037242889404, \"PCA_1\": 4.069833755493164}, {\"Dataset\": 0, \"Sample\": \"0-1\", \"Noun\": \"car\", \"Text\": \"Participant 1: Hey, I'm thinking about buying a new car. Any recommendations?\\n\\nParticipant 2: Sure! What are you looking for in a car?\\n\\nParticipant 1: I'm looking for something fuel-efficient and reliable.\\n\\nParticipant 2: In that case, you might want to consider a hybrid or electric vehicle. They are known for their fuel efficiency and reliability.\\n\\nParticipant 1: That sounds like a good idea. Do you have any specific models in mind?\\n\\nParticipant 2: Yes, the Toyota Prius and the Tesla Model 3 are both great options to consider.\\n\\nFollow-up: Participant 1: Thanks for the suggestions! I'll look into those models and see which one suits my needs best.\", \"PCA_0\": -1.7913652658462524, \"PCA_1\": -5.9002180099487305}, {\"Dataset\": 0, \"Sample\": \"0-2\", \"Noun\": \"dog\", \"Text\": \"Participant1: Hey, I've been thinking about getting a dog lately.\\n\\nParticipant2: That's great! Dogs can be wonderful companions. What kind of dog are you considering?\\n\\nParticipant1: I'm not sure yet, but I'm leaning towards a Labrador Retriever. They seem friendly and energetic.\\n\\nParticipant2: Labradors are indeed friendly and great with families. Just remember, they require regular exercise and mental stimulation.\\n\\nParticipant1: I've heard that. I'm planning to take the dog for daily walks and playtime.\\n\\nParticipant2: That's a good plan. Also, consider training classes to help with obedience and socialization.\\n\\nParticipant1: Thanks for the advice! I'll definitely look into training classes.\\n\\nFollow-up:\\nParticipant2: You're welcome! If you need any more information or help, feel free to ask. Good luck with your new furry friend!\", \"PCA_0\": 1.2881219387054443, \"PCA_1\": 3.3053197860717773}, {\"Dataset\": 0, \"Sample\": \"0-3\", \"Noun\": \"elephant\", \"Text\": \"Participant1: I recently visited a wildlife sanctuary and saw an elephant for the first time. It was such a majestic creature!\\n\\nParticipant2: Oh, that must have been an incredible experience! Elephants are known for their intelligence and strong family bonds.\\n\\nFollow-up: Participant1: Yes, exactly! The matriarch led the herd and seemed to be the decision-maker. It was fascinating to observe their social structure.\", \"PCA_0\": -11.125224113464355, \"PCA_1\": 5.585431098937988}, {\"Dataset\": 0, \"Sample\": \"0-4\", \"Noun\": \"guitar\", \"Text\": \"Participant1: Hey, I've been thinking about learning to play the guitar. Do you play?\\n\\nParticipant2: Yes, I've been playing for a few years now. It's a great instrument to learn.\\n\\nParticipant1: That's awesome! What type of guitar do you play?\\n\\nParticipant2: I play an acoustic guitar. It's versatile and great for beginners.\\n\\nParticipant1: I've heard acoustic guitars are easier to start with. Any tips for a beginner like me?\\n\\nParticipant2: Sure! Start with learning basic chords and practice regularly. It's all about consistency.\\n\\nParticipant1: Thanks for the advice! I'll definitely start with the basics.\\n\\nParticipant2: You're welcome! Let me know if you need any help or recommendations on learning resources.\\n\\nFollow-up:\\nParticipant1: I appreciate that! I'll definitely reach out if I need any guidance.\\nParticipant2: No problem at all. I'm excited to see you progress on your guitar journey!\", \"PCA_0\": 6.087921142578125, \"PCA_1\": -4.069866180419922}, {\"Dataset\": 0, \"Sample\": \"0-5\", \"Noun\": \"house\", \"Text\": \"Participant1: I've been thinking about buying a new house lately.\\n\\nParticipant2: Oh really? What kind of house are you looking for?\\n\\nParticipant1: I'm interested in a house with a big backyard and a modern kitchen.\\n\\nParticipant2: That sounds great! Have you started looking at any properties yet?\\n\\nParticipant1: Not yet, but I plan to visit a few open houses this weekend.\\n\\nFollow-up:\\nParticipant2: Let me know if you need any help with the search or if you want to go together. It could be fun!\", \"PCA_0\": -2.561309814453125, \"PCA_1\": -0.13672760128974915}, {\"Dataset\": 0, \"Sample\": \"0-6\", \"Noun\": \"ice cream\", \"Text\": \"Participant1: I'm craving some ice cream, what flavor should we get today?\\n\\nParticipant2: How about trying the new mint chocolate chip? I've heard it's really good.\\n\\nFollow-up:\\n\\nParticipant1: That sounds delicious! Let's go for it. Do you want to get a cone or a cup?\\n\\nParticipant2: I'll take a cup, so we can share. I'm excited!\", \"PCA_0\": -7.817677021026611, \"PCA_1\": 9.947150230407715}, {\"Dataset\": 0, \"Sample\": \"0-7\", \"Noun\": \"jacket\", \"Text\": \"Participant1: I'm thinking of buying a new jacket for the upcoming winter. Any recommendations?\\n\\nParticipant2: Sure! Have you considered a parka? They're great for keeping you warm in cold weather.\\n\\nParticipant1: That sounds like a good idea. Do you have any specific brand or style in mind?\\n\\nParticipant2: I really like the North Face parka. It's durable and has a classic design. Would you like me to show you some options online?\\n\\nParticipant1: Yes, please! I'd appreciate that.\\n\\nFollow-up:\\n\\nParticipant2: Here are a few North Face parka options I found. Take a look and let me know what you think!\", \"PCA_0\": 0.3502323627471924, \"PCA_1\": -9.24282169342041}, {\"Dataset\": 0, \"Sample\": \"0-8\", \"Noun\": \"kite\", \"Text\": \"Participant1: Hey, have you ever flown a kite before?\\n\\nParticipant2: Yes, I have! It's a lot of fun, especially on a windy day.\\n\\nParticipant1: I've always wanted to try it. Do you have any tips for a beginner?\\n\\nParticipant2: Absolutely! First, make sure you have a good kite and a strong string. Then, find an open area with plenty of wind. It's all about the right conditions and a bit of practice.\\n\\nFollow-up:\\n\\nParticipant1: Thanks for the advice! Maybe we can go kite flying together this weekend.\\n\\nParticipant2: That sounds like a great idea! I'd love to show you the ropes.\", \"PCA_0\": 0.4082375168800354, \"PCA_1\": -5.399532318115234}, {\"Dataset\": 0, \"Sample\": \"0-9\", \"Noun\": \"laptop\", \"Text\": \"Participant1: Hey, I'm thinking of buying a new laptop. Any recommendations?\\n\\nParticipant2: Sure! What are you looking for in a laptop?\\n\\nParticipant1: I need something with a good processor and a decent amount of RAM for multitasking.\\n\\nParticipant2: In that case, I'd recommend the latest MacBook Pro. It has an efficient M1 chip and 16GB of RAM.\\n\\nParticipant1: That sounds great. How about the battery life?\\n\\nParticipant2: The MacBook Pro has up to 17 hours of battery life, which is impressive.\\n\\nParticipant1: Thanks for the suggestion! I'll check it out.\\n\\nFollow-up:\\nParticipant1: I've been looking at the MacBook Pro, and it seems like a solid choice. Do you have any other recommendations for laptops with similar specs?\\n\\nParticipant2: If you're open to alternatives, the Dell XPS 15 is also a great option. It has an Intel Core i7 processor and 16GB of RAM, with a battery life of up to 10 hours.\", \"PCA_0\": 1.8176851272583008, \"PCA_1\": -0.6890360713005066}, {\"Dataset\": 0, \"Sample\": \"0-10\", \"Noun\": \"mountain\", \"Text\": \"Participant1: I've always wanted to climb a mountain. The idea of reaching the summit and seeing the view from up there is so thrilling.\\n\\nParticipant2: Oh, I completely understand. Mountains offer such a unique perspective of the world. Have you decided which mountain you want to climb?\\n\\nParticipant1: Not yet, but I'm considering Mount Everest. It's the highest peak in the world, after all.\\n\\nParticipant2: Mount Everest is indeed a challenging climb, but it's a dream for many. Just remember to prepare well and consider the risks involved.\\n\\nFollow-up:\\n\\nParticipant1: Absolutely, safety is my top priority. I'll start researching and training for the climb. Do you have any experience with mountain climbing?\\n\\nParticipant2: Yes, I've climbed a few smaller mountains. I can share some tips and advice with you if you'd like.\", \"PCA_0\": 0.9667264819145203, \"PCA_1\": -2.5981972217559814}, {\"Dataset\": 0, \"Sample\": \"0-11\", \"Noun\": \"necklace\", \"Text\": \"Participant1: I've been thinking about getting a new necklace. Do you have any recommendations?\\n\\nParticipant2: Sure! What kind of style are you looking for? Something classic or more modern?\\n\\nParticipant1: I'm leaning towards something modern, maybe with a unique design.\\n\\nParticipant2: In that case, you might like a pendant necklace with an abstract shape. It can really make a statement.\\n\\nParticipant1: That sounds interesting. Do you know any specific designs or brands that offer such pieces?\\n\\nParticipant2: Absolutely! You should check out the work of designer Elena Miro. She creates stunning modern necklaces with intricate designs.\\n\\nFollow-up: Participant1: Thanks for the suggestion! I'll definitely look into Elena Miro's designs. Do you know where I can find her pieces?\\n\\nParticipant2: You can find her work on her official website or at high-end jewelry stores. I'm sure you'll find something you love!\", \"PCA_0\": 4.622471332550049, \"PCA_1\": -1.4305247068405151}, {\"Dataset\": 0, \"Sample\": \"0-12\", \"Noun\": \"orange\", \"Text\": \"Participant1: Hey, have you ever tried a blood orange? I just got some fresh ones from the market.\\n\\nParticipant2: No, I haven't. What's different about blood oranges compared to regular oranges?\\n\\nParticipant1: Well, blood oranges have a reddish-purple flesh and a slightly tart flavor. They're also rich in antioxidants.\\n\\nParticipant2: That sounds interesting. I'd love to try one sometime.\\n\\nParticipant1: Sure, I'll bring some next time we meet. Maybe we can make a blood orange salad together.\\n\\nFollow-up: Participant2: That sounds like a great idea! I'm looking forward to it.\", \"PCA_0\": -1.7041189670562744, \"PCA_1\": -3.0800766944885254}, {\"Dataset\": 0, \"Sample\": \"0-13\", \"Noun\": \"piano\", \"Text\": \"Participant1: I've always wanted to learn how to play the piano. It seems like such a beautiful instrument.\\n\\nParticipant2: It really is! The piano has a wide range of notes and can create such a variety of sounds.\\n\\nParticipant1: Do you play the piano?\\n\\nParticipant2: Yes, I've been playing for a few years now. It's a great way to relax and express myself.\\n\\nParticipant1: That's amazing! I'd love to learn from you sometime.\\n\\nParticipant2: I'd be happy to give you some lessons. We can start with the basics and work our way up.\\n\\nFollow-up:\\nParticipant1: That sounds fantastic! What's the first step in learning to play the piano?\\nParticipant2: The first step is to familiarize yourself with the keyboard layout and learn the basic notes and scales. We can start with that and gradually build your skills.\", \"PCA_0\": -1.3580073118209839, \"PCA_1\": -3.995946168899536}, {\"Dataset\": 0, \"Sample\": \"0-14\", \"Noun\": \"rainbow\", \"Text\": \"Participant1: Hey, have you ever wondered how a rainbow forms?\\n\\nParticipant2: Yeah, I've always been curious about that. Isn't it something to do with sunlight and water droplets?\\n\\nParticipant1: Exactly! When sunlight passes through water droplets in the air, it gets refracted and dispersed into its component colors.\\n\\nParticipant2: So, that's why we see a spectrum of colors in a rainbow?\\n\\nParticipant1: Yes, and the order of colors is always the same: red, orange, yellow, green, blue, indigo, and violet.\\n\\nParticipant2: That's really interesting. I've always loved seeing rainbows after a rainstorm.\\n\\nParticipant1: Me too! It's a beautiful natural phenomenon that reminds us of the beauty in the world.\\n\\nFollow-up: Participant2: Do you know any other interesting facts about rainbows?\\n\\nParticipant1: Sure! Did you know that rainbows are actually full circles, but we only see a semicircle because the ground obstructs the bottom half?\", \"PCA_0\": 3.156344175338745, \"PCA_1\": -10.188403129577637}, {\"Dataset\": 0, \"Sample\": \"0-15\", \"Noun\": \"skateboard\", \"Text\": \"Participant1: Hey, have you ever tried skateboarding before?\\n\\nParticipant2: No, I haven't. I've always been curious about it though.\\n\\nParticipant1: It's a lot of fun! You should definitely give it a try.\\n\\nParticipant2: I'm a bit nervous about falling, but I'm willing to give it a shot.\\n\\nParticipant1: Don't worry, everyone falls when they're learning. I can teach you some basic tricks.\\n\\nParticipant2: That would be great! What's the first trick you'd recommend for a beginner?\\n\\nParticipant1: A good starting point is the ollie. It's a basic trick that will help you get comfortable with the board.\\n\\nParticipant2: Sounds like a plan. Let's go skateboarding this weekend!\\n\\nFollow-up:\\nParticipant1: Awesome! I'll bring my skateboard and we can practice at the local skate park.\\nParticipant2: Perfect, I'll make sure to wear protective gear and bring a helmet.\", \"PCA_0\": 2.4591498374938965, \"PCA_1\": -0.5378032922744751}, {\"Dataset\": 0, \"Sample\": \"0-16\", \"Noun\": \"tiger\", \"Text\": \"Participant1: Did you know that tigers are the largest cat species in the world?\\n\\nParticipant2: Yes, I've heard that they can weigh up to 660 pounds!\\n\\nParticipant1: That's right! And they have distinctive orange fur with black stripes.\\n\\nParticipant2: I've always been fascinated by their stripes. Do you know why they have them?\\n\\nParticipant1: The stripes help tigers camouflage in their natural habitat, making it easier for them to hunt.\\n\\nParticipant2: That's interesting. Unfortunately, tiger populations are declining due to habitat loss and poaching.\\n\\nParticipant1: Yes, it's a serious issue. Conservation efforts are crucial to protect these magnificent creatures.\\n\\nFollow-up: Participant1: Have you heard about the recent tiger conservation project in India?\\n\\nParticipant2: No, I haven't. What's it about?\\n\\nParticipant1: It's a collaborative effort between the government and various organizations to create tiger reserves and promote awareness about their importance in the ecosystem.\\n\\nParticipant2: That sounds like a great initiative. I hope it helps in preserving the tiger population.\\n\\nParticipant1: Absolutely, it's essential for maintaining the balance of nature.\\n\\nParticipant2: I'll definitely look into it and see how I can contribute to the cause.\\n\\nParticipant1: That's wonderful! Every little effort counts in saving these incredible animals.\\n\\nParticipant2: Thank you for sharing this information. I'll make sure to spread the word.\\n\\nParticipant1: You're welcome! Together, we can make a difference.\\n\\nParticipant2: Indeed, let's do our part in protecting the tigers and their habitats.\\n\\nParticipant1: Agreed! Let's stay informed and support conservation efforts.\\n\\nParticipant2: Absolutely, let's keep the conversation going and inspire others to join the cause.\\n\\nParticipant1: Sounds like a plan! Let's continue to learn and share our knowledge about tigers.\\n\\nParticipant2: I'm on board! Let's make a positive impact for these amazing creatures.\\n\\nParticipant1: Great! I'm glad we had this conversation.\\n\\nParticipant2: Me too! It's always inspiring to talk about wildlife conservation.\\n\\nParticipant1: Absolutely. Thanks for the engaging discussion!\\n\\nParticipant2: Thank you as well. Looking forward to more conversations like this in the future.\\n\\nParticipant1: Definitely! Take care and keep spreading awareness.\\n\\nParticipant2: You too! Have a great day!\\n\\nParticipant1: You too, goodbye!\\n\\nParticipant2: Goodbye!\\n\\n-------------------------\", \"PCA_0\": 23.300270080566406, \"PCA_1\": 13.673060417175293}, {\"Dataset\": 0, \"Sample\": \"0-17\", \"Noun\": \"umbrella\", \"Text\": \"Participant1: Hey, have you seen my umbrella anywhere?\\n\\nParticipant2: No, I haven't. Did you check your usual spots?\\n\\nParticipant1: Yes, I looked in the living room, the bedroom, and the hallway, but it's not there.\\n\\nParticipant2: Maybe you left it at the office?\\n\\nParticipant1: That's a possibility. I'll check there in a bit.\\n\\nParticipant2: Let me know if you find it. I'll keep an eye out too.\\n\\nParticipant1: Thanks, I appreciate it. I'll update you as soon as I do.\\n\\nFollow-up:\\n\\nParticipant1: Good news! I found my umbrella at the office. It was left behind in the break room.\\n\\nParticipant2: That's great! I'm glad you found it. Let's make sure to keep track of our belongings in the future.\", \"PCA_0\": -1.6290863752365112, \"PCA_1\": 2.081641435623169}, {\"Dataset\": 0, \"Sample\": \"0-18\", \"Noun\": \"violin\", \"Text\": \"Participant1: I've always been fascinated by the sound of the violin. How did you get started learning to play it?\\n\\nParticipant2: I started when I was just a child. My parents enrolled me in music lessons, and I fell in love with the instrument right away.\\n\\nFollow-up: Participant1: That's wonderful! Do you have a favorite violinist or piece that inspires you?\\n\\nParticipant2: Absolutely! I'm a big fan of Itzhak Perlman. His performances are incredibly moving and technically impressive.\", \"PCA_0\": -3.015887975692749, \"PCA_1\": 0.158046156167984}, {\"Dataset\": 0, \"Sample\": \"0-19\", \"Noun\": \"watch\", \"Text\": \"Participant1: I just got a new watch, it's a smartwatch with fitness tracking. (1)\\n\\nParticipant2: That sounds cool! What features does it have? (2)\\n\\nParticipant1: It has GPS, heart rate monitoring, and can even track my sleep patterns. (1)\\n\\nParticipant2: Wow, that's really useful. I might consider getting one too. (2)\", \"PCA_0\": -9.346722602844238, \"PCA_1\": 9.96744155883789}, {\"Dataset\": 0, \"Sample\": \"0-20\", \"Noun\": \"zebra\", \"Text\": \"Participant1: Hey, did you know that zebras have unique stripe patterns, just like human fingerprints?\\n\\nParticipant2: Really? I had no idea. How do these stripes help them?\\n\\nParticipant1: Well, one theory suggests that the stripes may help to confuse predators by making it difficult to single out an individual zebra in a group.\\n\\nParticipant2: That's fascinating! Are there different types of zebras?\\n\\nParticipant1: Yes, there are three main species: the Plains zebra, the Mountain zebra, and the Grevy's zebra.\\n\\nParticipant2: I'd love to see a zebra in person someday. Do you know where I could go to see them?\\n\\nParticipant1: You can visit national parks in Africa, like the Serengeti or Kruger National Park, where zebras are commonly found.\\n\\nParticipant2: Thanks for the information! I'll definitely look into visiting one of those parks.\\n\\nParticipant1: You're welcome! It's a great experience to see these amazing animals up close.\", \"PCA_0\": 2.990277051925659, \"PCA_1\": -1.5187739133834839}]}}, {\"mode\": \"vega-lite\"});\n",
       "</script>"
      ],
      "text/plain": [
       "alt.Chart(...)"
      ]
     },
     "metadata": {},
     "output_type": "display_data"
    }
   ],
   "source": [
    "# show_format_embeds([strat_a_convs], lambda conv: format_embed(conv))\n",
    "show_format_embeds([strat_a_convs], lambda conv: format_embed(conv, prompt_prefix='What is the format/syntactic structure/template of this text? Which tokens are recurring?'))"
   ]
  },
  {
   "cell_type": "code",
   "execution_count": 140,
   "id": "74d5d579-9c21-49d9-a23c-fd63f6da77ee",
   "metadata": {},
   "outputs": [],
   "source": [
    "# Perhaps a heatmap of \"distance\" in the latent space would be better than doing PCA? Because depending on the dimensions chosen, this may or may not indicate that there is any grouping.\n",
    "# And the ultimate test would of course be whether there's enough information to train a classifier, like a decision tree/SVM/perceptron."
   ]
  },
  {
   "cell_type": "code",
   "execution_count": 145,
   "id": "ac302548-62e9-4ef8-ba27-2c0186793960",
   "metadata": {
    "tags": []
   },
   "outputs": [
    {
     "name": "stderr",
     "output_type": "stream",
     "text": [
      "100%|██████████| 63/63 [00:03<00:00, 16.29it/s]\n"
     ]
    },
    {
     "data": {
      "image/png": "[encoded data removed]",
      "text/plain": [
       "<Figure size 640x480 with 1 Axes>"
      ]
     },
     "metadata": {},
     "output_type": "display_data"
    }
   ],
   "source": [
    "import matplotlib.pyplot as plt\n",
    "import numpy as np\n",
    "import torch.nn as nn\n",
    "\n",
    "def embed_matrix(datasets, embed_func):\n",
    "    total_arr = []\n",
    "    for dataset in datasets:\n",
    "        total_arr.extend(dataset)\n",
    "    total_len = len(total_arr)\n",
    "    total_embeds = [embed_func(arr_item) for arr_item in tqdm.tqdm(total_arr)]\n",
    "\n",
    "    matrix = np.zeros((total_len, total_len))\n",
    "    cos = nn.CosineSimilarity(dim=0)\n",
    "\n",
    "    for i in range(total_len):\n",
    "        for j in range(total_len):\n",
    "            matrix[i,j] = cos(total_embeds[i], total_embeds[j])\n",
    "\n",
    "    plt.imshow(matrix, cmap='hot', interpolation='nearest')\n",
    "    plt.show()\n",
    "    \n",
    "embed_matrix([strat_a_convs, strat_a_convs_sf, strat_a_paras], lambda conv: format_embed(conv))"
   ]
  },
  {
   "cell_type": "code",
   "execution_count": 146,
   "id": "5fcf0c4a-1904-41c8-bd6b-ef1ecf0f59a3",
   "metadata": {
    "tags": []
   },
   "outputs": [
    {
     "name": "stderr",
     "output_type": "stream",
     "text": [
      "100%|██████████| 63/63 [00:04<00:00, 15.19it/s]\n"
     ]
    },
    {
     "data": {
      "image/png": "[encoded data removed]",
      "text/plain": [
       "<Figure size 640x480 with 1 Axes>"
      ]
     },
     "metadata": {},
     "output_type": "display_data"
    }
   ],
   "source": [
    "embed_matrix([strat_a_convs_sf, strat_a_convs, strat_a_paras], lambda conv: format_embed(conv, prompt_prefix='What is the format/syntactic structure/template of this text? Which tokens are recurring?'))"
   ]
  },
  {
   "cell_type": "code",
   "execution_count": 147,
   "id": "7375f012-63f7-47e4-9b9b-f7a99a86fd60",
   "metadata": {
    "tags": []
   },
   "outputs": [
    {
     "name": "stderr",
     "output_type": "stream",
     "text": [
      "100%|██████████| 63/63 [00:03<00:00, 15.75it/s]\n"
     ]
    },
    {
     "data": {
      "image/png": "[encoded data removed]",
      "text/plain": [
       "<Figure size 640x480 with 1 Axes>"
      ]
     },
     "metadata": {},
     "output_type": "display_data"
    }
   ],
   "source": [
    "embed_matrix([strat_a_convs_sf, strat_a_convs, strat_a_paras], lambda conv: format_embed(conv, prompt_prefix='What is the format/structure of this text?'))"
   ]
  },
  {
   "cell_type": "code",
   "execution_count": 148,
   "id": "49ace5a0-14b4-4106-b2b8-3881fde3834c",
   "metadata": {
    "tags": []
   },
   "outputs": [
    {
     "name": "stderr",
     "output_type": "stream",
     "text": [
      "100%|██████████| 63/63 [00:05<00:00, 12.51it/s]\n"
     ]
    },
    {
     "data": {
      "image/png": "[encoded data removed]",
      "text/plain": [
       "<Figure size 640x480 with 1 Axes>"
      ]
     },
     "metadata": {},
     "output_type": "display_data"
    }
   ],
   "source": [
    "embed_matrix([strat_a_convs, strat_a_convs_sf, strat_a_paras], lambda conv: format_embed(conv, prompt_prefix=strat_a_convs[0]))"
   ]
  },
  {
   "cell_type": "markdown",
   "id": "2e7000c4-54f5-4f30-b872-e609bb6aaaa7",
   "metadata": {},
   "source": [
    "Interesting results!\n",
    "\n",
    "- Why doesn't the diagonal line show up as pure white? Since I'm pre-computing the embeddings there can't be non-determinism, it's literally cosine similarity of two exactly equal vectors right? Debug my implementation here!!\n",
    "- Still plenty of mechanisms to try. Cosine similarity might not be the right measure to use with Phi-3. Try other measures of similarity, and try other models that are specifically designed for embeddings.\n",
    "\n",
    "Ideas:\n",
    "\n",
    "- It would be really useful to be able to point to WHICH tokens are most similar in the UI. So maybe want to do this on a token-by-token basis, or word part by word part basis, then do sequence matching to find the most similar subsequences? Finding units that repeat with any approximate distance N between them (where N can equal 1, covering the adjacent case) are \"interesting\" matches? But for the format examples I'm thinking about, I would want exact match more than semantic match right?\n",
    "- Still try building the UI with just these embeddings. They're not crystal clear, but I don't think I'll know for sure until I try a K-Means clustering algorithm on them to be honest."
   ]
  },
  {
   "cell_type": "markdown",
   "id": "1e6594c7-dd5c-4612-b60f-15178eb2fd62",
   "metadata": {},
   "source": [
    "# Strategy B: Randomly perturb words in the input"
   ]
  },
  {
   "cell_type": "markdown",
   "id": "0f4e8460-7fcb-4b60-8c1f-d46c91866b29",
   "metadata": {
    "tags": []
   },
   "source": [
    "# Strategy C: Use diversity reward during decode to find as different of inputs as possible"
   ]
  }
 ],
 "metadata": {
  "kernelspec": {
   "display_name": "conda_pytorch_p310",
   "language": "python",
   "name": "conda_pytorch_p310"
  },
  "language_info": {
   "codemirror_mode": {
    "name": "ipython",
    "version": 3
   },
   "file_extension": ".py",
   "mimetype": "text/x-python",
   "name": "python",
   "nbconvert_exporter": "python",
   "pygments_lexer": "ipython3",
   "version": "3.10.14"
  }
 },
 "nbformat": 4,
 "nbformat_minor": 5
}
