{
 "cells": [
  {
   "cell_type": "code",
   "execution_count": 1,
   "id": "3d67b835-1407-44e8-8e3c-b175997af185",
   "metadata": {
    "tags": []
   },
   "outputs": [
    {
     "name": "stdout",
     "output_type": "stream",
     "text": [
      "Requirement already satisfied: flash-attn in /home/ec2-user/anaconda3/envs/pytorch_p310/lib/python3.10/site-packages (2.5.9.post1)\n",
      "Requirement already satisfied: transformers in /home/ec2-user/anaconda3/envs/pytorch_p310/lib/python3.10/site-packages (4.41.2)\n",
      "Requirement already satisfied: accelerate in /home/ec2-user/anaconda3/envs/pytorch_p310/lib/python3.10/site-packages (0.30.1)\n",
      "Requirement already satisfied: termcolor in /home/ec2-user/anaconda3/envs/pytorch_p310/lib/python3.10/site-packages (2.4.0)\n",
      "Requirement already satisfied: altair in /home/ec2-user/anaconda3/envs/pytorch_p310/lib/python3.10/site-packages (5.3.0)\n",
      "Requirement already satisfied: torch in /home/ec2-user/anaconda3/envs/pytorch_p310/lib/python3.10/site-packages (from flash-attn) (2.1.0)\n",
      "Requirement already satisfied: einops in /home/ec2-user/anaconda3/envs/pytorch_p310/lib/python3.10/site-packages (from flash-attn) (0.8.0)\n",
      "Requirement already satisfied: filelock in /home/ec2-user/anaconda3/envs/pytorch_p310/lib/python3.10/site-packages (from transformers) (3.13.3)\n",
      "Requirement already satisfied: huggingface-hub<1.0,>=0.23.0 in /home/ec2-user/anaconda3/envs/pytorch_p310/lib/python3.10/site-packages (from transformers) (0.23.2)\n",
      "Requirement already satisfied: numpy>=1.17 in /home/ec2-user/anaconda3/envs/pytorch_p310/lib/python3.10/site-packages (from transformers) (1.26.4)\n",
      "Requirement already satisfied: packaging>=20.0 in /home/ec2-user/anaconda3/envs/pytorch_p310/lib/python3.10/site-packages (from transformers) (21.3)\n",
      "Requirement already satisfied: pyyaml>=5.1 in /home/ec2-user/anaconda3/envs/pytorch_p310/lib/python3.10/site-packages (from transformers) (6.0.1)\n",
      "Requirement already satisfied: regex!=2019.12.17 in /home/ec2-user/anaconda3/envs/pytorch_p310/lib/python3.10/site-packages (from transformers) (2024.5.15)\n",
      "Requirement already satisfied: requests in /home/ec2-user/anaconda3/envs/pytorch_p310/lib/python3.10/site-packages (from transformers) (2.31.0)\n",
      "Requirement already satisfied: tokenizers<0.20,>=0.19 in /home/ec2-user/anaconda3/envs/pytorch_p310/lib/python3.10/site-packages (from transformers) (0.19.1)\n",
      "Requirement already satisfied: safetensors>=0.4.1 in /home/ec2-user/anaconda3/envs/pytorch_p310/lib/python3.10/site-packages (from transformers) (0.4.3)\n",
      "Requirement already satisfied: tqdm>=4.27 in /home/ec2-user/anaconda3/envs/pytorch_p310/lib/python3.10/site-packages (from transformers) (4.66.2)\n",
      "Requirement already satisfied: psutil in /home/ec2-user/anaconda3/envs/pytorch_p310/lib/python3.10/site-packages (from accelerate) (5.9.8)\n",
      "Requirement already satisfied: jinja2 in /home/ec2-user/anaconda3/envs/pytorch_p310/lib/python3.10/site-packages (from altair) (3.1.3)\n",
      "Requirement already satisfied: jsonschema>=3.0 in /home/ec2-user/anaconda3/envs/pytorch_p310/lib/python3.10/site-packages (from altair) (4.21.1)\n",
      "Requirement already satisfied: pandas>=0.25 in /home/ec2-user/anaconda3/envs/pytorch_p310/lib/python3.10/site-packages (from altair) (1.5.3)\n",
      "Requirement already satisfied: toolz in /home/ec2-user/anaconda3/envs/pytorch_p310/lib/python3.10/site-packages (from altair) (0.12.1)\n",
      "Requirement already satisfied: typing-extensions>=4.0.1 in /home/ec2-user/anaconda3/envs/pytorch_p310/lib/python3.10/site-packages (from altair) (4.10.0)\n",
      "Requirement already satisfied: fsspec>=2023.5.0 in /home/ec2-user/anaconda3/envs/pytorch_p310/lib/python3.10/site-packages (from huggingface-hub<1.0,>=0.23.0->transformers) (2024.3.1)\n",
      "Requirement already satisfied: attrs>=22.2.0 in /home/ec2-user/anaconda3/envs/pytorch_p310/lib/python3.10/site-packages (from jsonschema>=3.0->altair) (23.2.0)\n",
      "Requirement already satisfied: jsonschema-specifications>=2023.03.6 in /home/ec2-user/anaconda3/envs/pytorch_p310/lib/python3.10/site-packages (from jsonschema>=3.0->altair) (2023.12.1)\n",
      "Requirement already satisfied: referencing>=0.28.4 in /home/ec2-user/anaconda3/envs/pytorch_p310/lib/python3.10/site-packages (from jsonschema>=3.0->altair) (0.34.0)\n",
      "Requirement already satisfied: rpds-py>=0.7.1 in /home/ec2-user/anaconda3/envs/pytorch_p310/lib/python3.10/site-packages (from jsonschema>=3.0->altair) (0.18.0)\n",
      "Requirement already satisfied: pyparsing!=3.0.5,>=2.0.2 in /home/ec2-user/anaconda3/envs/pytorch_p310/lib/python3.10/site-packages (from packaging>=20.0->transformers) (3.1.2)\n",
      "Requirement already satisfied: python-dateutil>=2.8.1 in /home/ec2-user/anaconda3/envs/pytorch_p310/lib/python3.10/site-packages (from pandas>=0.25->altair) (2.9.0)\n",
      "Requirement already satisfied: pytz>=2020.1 in /home/ec2-user/anaconda3/envs/pytorch_p310/lib/python3.10/site-packages (from pandas>=0.25->altair) (2024.1)\n",
      "Requirement already satisfied: sympy in /home/ec2-user/anaconda3/envs/pytorch_p310/lib/python3.10/site-packages (from torch->flash-attn) (1.12)\n",
      "Requirement already satisfied: networkx in /home/ec2-user/anaconda3/envs/pytorch_p310/lib/python3.10/site-packages (from torch->flash-attn) (3.2.1)\n",
      "Requirement already satisfied: MarkupSafe>=2.0 in /home/ec2-user/anaconda3/envs/pytorch_p310/lib/python3.10/site-packages (from jinja2->altair) (2.1.5)\n",
      "Requirement already satisfied: charset-normalizer<4,>=2 in /home/ec2-user/anaconda3/envs/pytorch_p310/lib/python3.10/site-packages (from requests->transformers) (3.3.2)\n",
      "Requirement already satisfied: idna<4,>=2.5 in /home/ec2-user/anaconda3/envs/pytorch_p310/lib/python3.10/site-packages (from requests->transformers) (3.6)\n",
      "Requirement already satisfied: urllib3<3,>=1.21.1 in /home/ec2-user/anaconda3/envs/pytorch_p310/lib/python3.10/site-packages (from requests->transformers) (2.2.1)\n",
      "Requirement already satisfied: certifi>=2017.4.17 in /home/ec2-user/anaconda3/envs/pytorch_p310/lib/python3.10/site-packages (from requests->transformers) (2024.2.2)\n",
      "Requirement already satisfied: six>=1.5 in /home/ec2-user/anaconda3/envs/pytorch_p310/lib/python3.10/site-packages (from python-dateutil>=2.8.1->pandas>=0.25->altair) (1.16.0)\n",
      "Requirement already satisfied: mpmath>=0.19 in /home/ec2-user/anaconda3/envs/pytorch_p310/lib/python3.10/site-packages (from sympy->torch->flash-attn) (1.3.0)\n"
     ]
    },
    {
     "data": {
      "application/vnd.jupyter.widget-view+json": {
       "model_id": "6ab33940809e40069f2ffdca6ffccee3",
       "version_major": 2,
       "version_minor": 0
      },
      "text/plain": [
       "Loading checkpoint shards:   0%|          | 0/2 [00:00<?, ?it/s]"
      ]
     },
     "metadata": {},
     "output_type": "display_data"
    },
    {
     "name": "stderr",
     "output_type": "stream",
     "text": [
      "Special tokens have been added in the vocabulary, make sure the associated word embeddings are fine-tuned or trained.\n"
     ]
    },
    {
     "name": "stdout",
     "output_type": "stream",
     "text": [
      "flash_attn_2 available: True\n"
     ]
    }
   ],
   "source": [
    "!pip install flash-attn transformers accelerate termcolor altair\n",
    "\n",
    "import time\n",
    "from datetime import timedelta\n",
    "\n",
    "import torch\n",
    "import torch.nn.functional as F\n",
    "import numpy as np\n",
    "from transformers import AutoModelForCausalLM, AutoTokenizer, TextStreamer\n",
    "from transformers.utils import is_flash_attn_2_available\n",
    "\n",
    "torch.random.manual_seed(0)\n",
    "\n",
    "model = AutoModelForCausalLM.from_pretrained(\n",
    "    \"microsoft/Phi-3-mini-4k-instruct\",\n",
    "    device_map=\"cuda\",\n",
    "    torch_dtype=\"auto\",\n",
    "    trust_remote_code=True,\n",
    "    # attn_implementation=\"flash_attention_2\",\n",
    ").to(\"cuda\")\n",
    "tokenizer = AutoTokenizer.from_pretrained(\"microsoft/Phi-3-mini-4k-instruct\")\n",
    "streamer = TextStreamer(tokenizer, skip_prompt=True)z\n",
    "\n",
    "print(\"flash_attn_2 available:\", is_flash_attn_2_available())"
   ]
  },
  {
   "cell_type": "code",
   "execution_count": 2,
   "id": "9650ff99-4643-4fef-8a1d-6b4413d66078",
   "metadata": {
    "tags": []
   },
   "outputs": [],
   "source": [
    "def gen(text, preview=True):\n",
    "    duration_start = time.perf_counter()\n",
    "    prompt = \"<|user|>\\n{} <|end|>\\n<|assistant|>\".format(text)\n",
    "    tokens = tokenizer.encode(prompt, return_tensors=\"pt\").to(\"cuda\")\n",
    "    outputs = model.generate(\n",
    "        tokens,\n",
    "        max_new_tokens=1024,\n",
    "        return_dict_in_generate=True,\n",
    "        streamer=streamer if preview else None,\n",
    "    )\n",
    "    output_tokens = outputs.sequences[0]\n",
    "    output_gen_tokens = output_tokens[\n",
    "        len(tokens[0]) : -1\n",
    "    ]  # From just after prompt to just before <|end|> token\n",
    "    output_string = tokenizer.decode(output_gen_tokens)\n",
    "    duration_seconds = time.perf_counter() - duration_start\n",
    "    if preview:\n",
    "        print(\n",
    "            \"== took {} ({} toks: {}/tok; {} tps) ==\".format(\n",
    "                timedelta(seconds=duration_seconds),\n",
    "                len(output_gen_tokens),\n",
    "                timedelta(seconds=duration_seconds / len(output_gen_tokens)),\n",
    "                len(output_gen_tokens) / duration_seconds,\n",
    "            )\n",
    "        )\n",
    "        print()\n",
    "    del tokens, outputs, output_tokens, output_gen_tokens\n",
    "    return output_string\n",
    "\n",
    "\n",
    "def embed(text, mean_layers=False, mean_tokens=False, prompt_prefix=\"\"):\n",
    "    duration_start = time.perf_counter()\n",
    "    prompt = \"{}{}\".format(prompt_prefix, text)\n",
    "    tokens = tokenizer.encode(prompt, return_tensors=\"pt\").to(\"cuda\")\n",
    "    outputs = model(tokens, output_hidden_states=True)\n",
    "    embedding = outputs.hidden_states\n",
    "    # print(len(embedding), embedding[0].shape)\n",
    "    if mean_layers:\n",
    "        # print(torch.stack(embedding).shape)\n",
    "        embedding = torch.stack(embedding).mean(dim=0)  # Mean layers\n",
    "    else:\n",
    "        embedding = embedding[-1]  # Take last layer\n",
    "\n",
    "    if mean_tokens:\n",
    "        embedding = embedding.mean(dim=1)  # Mean tokens\n",
    "    else:\n",
    "        embedding = embedding[:, -1, :]  # Take last token\n",
    "\n",
    "    embedding = embedding[0]  # Take first and only element of batch\n",
    "\n",
    "    embedding_cpu = embedding.to(\"cpu\").detach()\n",
    "    del tokens, outputs, embedding\n",
    "    return embedding_cpu"
   ]
  },
  {
   "cell_type": "code",
   "execution_count": 4,
   "id": "1ea7b449-b720-489a-8a2f-ff32de317caa",
   "metadata": {
    "tags": []
   },
   "outputs": [],
   "source": [
    "def D(obj):\n",
    "    if isinstance(obj, tuple):\n",
    "        print(len(obj))\n",
    "    elif isinstance(obj, torch.Tensor):\n",
    "        print(obj.shape)\n",
    "        display(obj)"
   ]
  },
  {
   "cell_type": "code",
   "execution_count": 5,
   "id": "c6170e2c-e301-4ff8-ac58-9019df6f723d",
   "metadata": {
    "tags": []
   },
   "outputs": [
    {
     "name": "stderr",
     "output_type": "stream",
     "text": [
      "You are not running the flash-attention implementation, expect numerical differences.\n"
     ]
    }
   ],
   "source": [
    "text = 'Write a haiku about symmetry.'\n",
    "prompt = \"<|user|>\\n{} <|end|>\\n<|assistant|>\".format(text)\n",
    "inputs = tokenizer(prompt, return_tensors='pt').to('cuda')\n",
    "outputs = model(**inputs)"
   ]
  },
  {
   "cell_type": "code",
   "execution_count": 6,
   "id": "8a82cc52-a4c8-4698-b166-0eb52d4c089f",
   "metadata": {
    "tags": []
   },
   "outputs": [
    {
     "data": {
      "text/plain": [
       "torch.Size([1, 12, 32064])"
      ]
     },
     "execution_count": 6,
     "metadata": {},
     "output_type": "execute_result"
    }
   ],
   "source": [
    "# (BATCH_SIZE, NUM_TOKENS, VOCAB_SIZE)\n",
    "outputs.logits.shape"
   ]
  },
  {
   "cell_type": "code",
   "execution_count": 7,
   "id": "531bf393-e8f6-4a6e-9260-7f921d415179",
   "metadata": {
    "tags": []
   },
   "outputs": [
    {
     "name": "stdout",
     "output_type": "stream",
     "text": [
      "torch.Size([32064])\n"
     ]
    },
    {
     "data": {
      "text/plain": [
       "tensor([5.6875, 6.0312, 3.9375,  ..., 0.0000, 0.0000, 0.0000], device='cuda:0',\n",
       "       grad_fn=<SliceBackward0>)"
      ]
     },
     "metadata": {},
     "output_type": "display_data"
    }
   ],
   "source": [
    "logits = outputs.logits[0, -1, :]\n",
    "D(logits)"
   ]
  },
  {
   "cell_type": "code",
   "execution_count": 8,
   "id": "83ff10e1-b689-4f38-ac3a-e1975c9e6504",
   "metadata": {
    "tags": []
   },
   "outputs": [
    {
     "name": "stdout",
     "output_type": "stream",
     "text": [
      "torch.Size([32064])\n"
     ]
    },
    {
     "data": {
      "text/plain": [
       "tensor([0.6870, 0.7924, 0.8978,  ..., 1.0000, 1.0000, 1.0000], device='cuda:0',\n",
       "       grad_fn=<CumsumBackward0>)"
      ]
     },
     "metadata": {},
     "output_type": "display_data"
    }
   ],
   "source": [
    "sorted_logits, sorted_indices = torch.sort(logits, descending=True)\n",
    "probs = F.softmax(sorted_logits, dim=-1)\n",
    "cum_probs = torch.cumsum(probs, dim=-1)\n",
    "D(cum_probs)"
   ]
  },
  {
   "cell_type": "code",
   "execution_count": 12,
   "id": "d6530abd-2332-498d-b9f4-69e77668d96e",
   "metadata": {
    "tags": []
   },
   "outputs": [
    {
     "name": "stdout",
     "output_type": "stream",
     "text": [
      "torch.Size([32064])\n"
     ]
    },
    {
     "data": {
      "text/plain": [
       "tensor([ True,  True,  True,  ..., False, False, False], device='cuda:0')"
      ]
     },
     "metadata": {},
     "output_type": "display_data"
    },
    {
     "data": {
      "text/plain": [
       "tensor(4, device='cuda:0')"
      ]
     },
     "execution_count": 12,
     "metadata": {},
     "output_type": "execute_result"
    }
   ],
   "source": [
    "sorted_keep_indices = cum_probs < 0.9\n",
    "sorted_keep_indices[1:] = sorted_keep_indices[:-1].clone()\n",
    "sorted_keep_indices[0] = 1\n",
    "D(sorted_keep_indices)\n",
    "sorted_keep_indices.sum()"
   ]
  },
  {
   "cell_type": "code",
   "execution_count": 13,
   "id": "dcfcfd51-1335-4945-bca6-30be0445f282",
   "metadata": {
    "tags": []
   },
   "outputs": [
    {
     "name": "stdout",
     "output_type": "stream",
     "text": [
      "torch.Size([4])\n"
     ]
    },
    {
     "data": {
      "text/plain": [
       "tensor([11612,  2431,  7392,  9897], device='cuda:0')"
      ]
     },
     "metadata": {},
     "output_type": "display_data"
    }
   ],
   "source": [
    "keep_indices = sorted_indices[sorted_keep_indices]\n",
    "D(keep_indices)"
   ]
  },
  {
   "cell_type": "code",
   "execution_count": 14,
   "id": "2284c4f9-9c14-468c-a6a4-0600abcf0705",
   "metadata": {
    "tags": []
   },
   "outputs": [
    {
     "data": {
      "text/plain": [
       "'Mir Per Bal Ref'"
      ]
     },
     "execution_count": 14,
     "metadata": {},
     "output_type": "execute_result"
    }
   ],
   "source": [
    "tokenizer.decode(keep_indices)"
   ]
  },
  {
   "cell_type": "code",
   "execution_count": 15,
   "id": "37dea151-8447-4939-a62a-d48f6c5bf5d5",
   "metadata": {
    "tags": []
   },
   "outputs": [
    {
     "name": "stdout",
     "output_type": "stream",
     "text": [
      "torch.Size([4])\n"
     ]
    },
    {
     "data": {
      "text/plain": [
       "tensor([0.6870, 0.1054, 0.1054, 0.0235], device='cuda:0',\n",
       "       grad_fn=<IndexBackward0>)"
      ]
     },
     "metadata": {},
     "output_type": "display_data"
    },
    {
     "data": {
      "text/plain": [
       "tensor(0.9213, device='cuda:0', grad_fn=<SumBackward0>)"
      ]
     },
     "execution_count": 15,
     "metadata": {},
     "output_type": "execute_result"
    }
   ],
   "source": [
    "keep_probs = probs[sorted_keep_indices]\n",
    "D(keep_probs)\n",
    "keep_probs.sum()"
   ]
  },
  {
   "cell_type": "code",
   "execution_count": 18,
   "id": "b25aac9c-2fc6-44fb-9edc-00f1156c41ca",
   "metadata": {
    "tags": []
   },
   "outputs": [],
   "source": [
    "def top_p_tokens(logits, top_p=0.9):\n",
    "    \"\"\"Does not support batches yet. logits must be of shape (VOCAB_SIZE).\"\"\"\n",
    "    sorted_logits, sorted_indices = torch.sort(logits, descending=True)\n",
    "    probs = F.softmax(sorted_logits, dim=-1)\n",
    "    cum_probs = torch.cumsum(probs, dim=-1)\n",
    "    sorted_keep_indices = cum_probs < 0.9  # Create tensor of bools indicating which indices are cumulatively less than top_p\n",
    "    sorted_keep_indices[1:] = sorted_keep_indices[:-1].clone()  # Keep the last element that went over top_p\n",
    "    sorted_keep_indices[0] = 1  # Always keep the first element\n",
    "    keep_toks = sorted_indices[sorted_keep_indices]\n",
    "    keep_probs = probs[sorted_keep_indices]\n",
    "    return keep_toks, keep_probs"
   ]
  },
  {
   "cell_type": "code",
   "execution_count": 46,
   "id": "06f96a22-61a2-42c8-8eb0-87bb51a3abe9",
   "metadata": {
    "tags": []
   },
   "outputs": [
    {
     "data": {
      "text/plain": [
       "32000"
      ]
     },
     "execution_count": 46,
     "metadata": {},
     "output_type": "execute_result"
    }
   ],
   "source": [
    "tokenizer.eos_token_id"
   ]
  },
  {
   "cell_type": "code",
   "execution_count": 47,
   "id": "3591f6e5-d068-4b76-9dba-e402f160d53f",
   "metadata": {
    "tags": []
   },
   "outputs": [
    {
     "data": {
      "text/plain": [
       "'<|endoftext|>'"
      ]
     },
     "execution_count": 47,
     "metadata": {},
     "output_type": "execute_result"
    }
   ],
   "source": [
    "tokenizer.eos_token"
   ]
  },
  {
   "cell_type": "code",
   "execution_count": 48,
   "id": "7fa6f4cb-63e6-47ae-aa54-cc75b0f7e579",
   "metadata": {
    "tags": []
   },
   "outputs": [
    {
     "data": {
      "text/plain": [
       "[1, 32007]"
      ]
     },
     "execution_count": 48,
     "metadata": {},
     "output_type": "execute_result"
    }
   ],
   "source": [
    "tokenizer.encode('<|end|>')"
   ]
  },
  {
   "cell_type": "code",
   "execution_count": 49,
   "id": "c92e160e-8cb9-4e64-8d67-8e489350dd25",
   "metadata": {
    "tags": []
   },
   "outputs": [
    {
     "name": "stdout",
     "output_type": "stream",
     "text": [
      "Candidate [1.0]: <s><|user|> Write a haiku about symmetry. <|end|><|assistant|> \n",
      "  (tensor([[    1, 32010, 14350,   263,   447, 18282,  1048, 18446, 29889, 29871,\n",
      "         32007, 32001]], device='cuda:0'))\n",
      "\n"
     ]
    },
    {
     "name": "stderr",
     "output_type": "stream",
     "text": [
      "100%|██████████| 100/100 [07:28<00:00,  4.48s/it]\n"
     ]
    }
   ],
   "source": [
    "from collections import namedtuple\n",
    "class Candidate(namedtuple('Candidate', ['sequence', 'prob'])):\n",
    "    pass\n",
    "    def __repr__(self):\n",
    "        string = tokenizer.decode(self.sequence[0])\n",
    "        return f'Candidate [{self.prob}]: {string} \\n  ({self.sequence})'\n",
    "\n",
    "max_candidates = 100\n",
    "text = 'Write a haiku about symmetry.'\n",
    "prompt = \"<|user|>\\n{} <|end|>\\n<|assistant|>\".format(text)\n",
    "inputs = tokenizer(prompt, return_tensors='pt').to('cuda')\n",
    "\n",
    "candidates = [\n",
    "    Candidate(inputs.input_ids, 1.0)\n",
    "]\n",
    "\n",
    "p = 0.99999999\n",
    "for candidate in candidates:\n",
    "    print(candidate)\n",
    "print()\n",
    "finished = []\n",
    "# OPTIM: Batch inference, which means rewrite top_p_tokens to use batch\n",
    "# OPTIM: Keep previous_key values\n",
    "# OPTIM: Use Tensors to keep track of candidates (with masked values)\n",
    "# OPTIM: Log probs\n",
    "for i in tqdm.tqdm(list(range(100))):\n",
    "    new_candidates = []\n",
    "    for candidate in candidates:\n",
    "        outputs = model(input_ids=candidate.sequence)\n",
    "        new_toks, new_probs = top_p_tokens(outputs.logits[0, -1, :], p)\n",
    "        for new_tok, new_prob in zip(new_toks, new_probs):                \n",
    "            new_candidate = Candidate(torch.cat([candidate.sequence, new_tok.unsqueeze(0).unsqueeze(0)], dim=1), candidate.prob * new_prob.item())\n",
    "            if new_tok == 32000:\n",
    "                finished.append(new_candidate)\n",
    "            else:\n",
    "                new_candidates.append(new_candidate)\n",
    "    candidates = new_candidates[:max_candidates]\n",
    "    # print(i, p, len(candidates))\n",
    "    # for candidate in candidates:\n",
    "    #     print(candidate)\n",
    "    # print()\n",
    "    p *= 0.5"
   ]
  },
  {
   "cell_type": "code",
   "execution_count": 43,
   "id": "d5620f5e-8b9b-4d57-a436-905e5fa36ab2",
   "metadata": {
    "tags": []
   },
   "outputs": [
    {
     "data": {
      "text/html": [
       "<div>\n",
       "<style scoped>\n",
       "    .dataframe tbody tr th:only-of-type {\n",
       "        vertical-align: middle;\n",
       "    }\n",
       "\n",
       "    .dataframe tbody tr th {\n",
       "        vertical-align: top;\n",
       "    }\n",
       "\n",
       "    .dataframe thead th {\n",
       "        text-align: right;\n",
       "    }\n",
       "</style>\n",
       "<table border=\"1\" class=\"dataframe\">\n",
       "  <thead>\n",
       "    <tr style=\"text-align: right;\">\n",
       "      <th></th>\n",
       "      <th>Idx</th>\n",
       "      <th>Text</th>\n",
       "      <th>Prob</th>\n",
       "      <th>PCA_0</th>\n",
       "      <th>PCA_1</th>\n",
       "    </tr>\n",
       "  </thead>\n",
       "  <tbody>\n",
       "    <tr>\n",
       "      <th>0</th>\n",
       "      <td>0</td>\n",
       "      <td>&lt;s&gt;&lt;|user|&gt; Write a haiku about symmetry. &lt;|en...</td>\n",
       "      <td>3.935076e-03</td>\n",
       "      <td>19.701664</td>\n",
       "      <td>-3.258748</td>\n",
       "    </tr>\n",
       "    <tr>\n",
       "      <th>1</th>\n",
       "      <td>1</td>\n",
       "      <td>&lt;s&gt;&lt;|user|&gt; Write a haiku about symmetry. &lt;|en...</td>\n",
       "      <td>3.230107e-04</td>\n",
       "      <td>-6.611380</td>\n",
       "      <td>-13.551385</td>\n",
       "    </tr>\n",
       "    <tr>\n",
       "      <th>2</th>\n",
       "      <td>2</td>\n",
       "      <td>&lt;s&gt;&lt;|user|&gt; Write a haiku about symmetry. &lt;|en...</td>\n",
       "      <td>1.525794e-04</td>\n",
       "      <td>-3.208973</td>\n",
       "      <td>-3.867065</td>\n",
       "    </tr>\n",
       "    <tr>\n",
       "      <th>3</th>\n",
       "      <td>3</td>\n",
       "      <td>&lt;s&gt;&lt;|user|&gt; Write a haiku about symmetry. &lt;|en...</td>\n",
       "      <td>9.254411e-05</td>\n",
       "      <td>26.572096</td>\n",
       "      <td>-8.918813</td>\n",
       "    </tr>\n",
       "    <tr>\n",
       "      <th>4</th>\n",
       "      <td>4</td>\n",
       "      <td>&lt;s&gt;&lt;|user|&gt; Write a haiku about symmetry. &lt;|en...</td>\n",
       "      <td>1.559809e-03</td>\n",
       "      <td>-5.004573</td>\n",
       "      <td>-13.679159</td>\n",
       "    </tr>\n",
       "    <tr>\n",
       "      <th>...</th>\n",
       "      <td>...</td>\n",
       "      <td>...</td>\n",
       "      <td>...</td>\n",
       "      <td>...</td>\n",
       "      <td>...</td>\n",
       "    </tr>\n",
       "    <tr>\n",
       "      <th>95</th>\n",
       "      <td>95</td>\n",
       "      <td>&lt;s&gt;&lt;|user|&gt; Write a haiku about symmetry. &lt;|en...</td>\n",
       "      <td>1.337444e-06</td>\n",
       "      <td>27.023556</td>\n",
       "      <td>4.370434</td>\n",
       "    </tr>\n",
       "    <tr>\n",
       "      <th>96</th>\n",
       "      <td>96</td>\n",
       "      <td>&lt;s&gt;&lt;|user|&gt; Write a haiku about symmetry. &lt;|en...</td>\n",
       "      <td>3.381588e-07</td>\n",
       "      <td>-9.800992</td>\n",
       "      <td>3.173575</td>\n",
       "    </tr>\n",
       "    <tr>\n",
       "      <th>97</th>\n",
       "      <td>97</td>\n",
       "      <td>&lt;s&gt;&lt;|user|&gt; Write a haiku about symmetry. &lt;|en...</td>\n",
       "      <td>3.381588e-07</td>\n",
       "      <td>-9.275121</td>\n",
       "      <td>4.076912</td>\n",
       "    </tr>\n",
       "    <tr>\n",
       "      <th>98</th>\n",
       "      <td>98</td>\n",
       "      <td>&lt;s&gt;&lt;|user|&gt; Write a haiku about symmetry. &lt;|en...</td>\n",
       "      <td>2.984241e-07</td>\n",
       "      <td>-9.365501</td>\n",
       "      <td>0.682471</td>\n",
       "    </tr>\n",
       "    <tr>\n",
       "      <th>99</th>\n",
       "      <td>99</td>\n",
       "      <td>&lt;s&gt;&lt;|user|&gt; Write a haiku about symmetry. &lt;|en...</td>\n",
       "      <td>2.984241e-07</td>\n",
       "      <td>-8.227197</td>\n",
       "      <td>2.027195</td>\n",
       "    </tr>\n",
       "  </tbody>\n",
       "</table>\n",
       "<p>100 rows × 5 columns</p>\n",
       "</div>"
      ],
      "text/plain": [
       "    Idx                                               Text          Prob  \\\n",
       "0     0  <s><|user|> Write a haiku about symmetry. <|en...  3.935076e-03   \n",
       "1     1  <s><|user|> Write a haiku about symmetry. <|en...  3.230107e-04   \n",
       "2     2  <s><|user|> Write a haiku about symmetry. <|en...  1.525794e-04   \n",
       "3     3  <s><|user|> Write a haiku about symmetry. <|en...  9.254411e-05   \n",
       "4     4  <s><|user|> Write a haiku about symmetry. <|en...  1.559809e-03   \n",
       "..  ...                                                ...           ...   \n",
       "95   95  <s><|user|> Write a haiku about symmetry. <|en...  1.337444e-06   \n",
       "96   96  <s><|user|> Write a haiku about symmetry. <|en...  3.381588e-07   \n",
       "97   97  <s><|user|> Write a haiku about symmetry. <|en...  3.381588e-07   \n",
       "98   98  <s><|user|> Write a haiku about symmetry. <|en...  2.984241e-07   \n",
       "99   99  <s><|user|> Write a haiku about symmetry. <|en...  2.984241e-07   \n",
       "\n",
       "        PCA_0      PCA_1  \n",
       "0   19.701664  -3.258748  \n",
       "1   -6.611380 -13.551385  \n",
       "2   -3.208973  -3.867065  \n",
       "3   26.572096  -8.918813  \n",
       "4   -5.004573 -13.679159  \n",
       "..        ...        ...  \n",
       "95  27.023556   4.370434  \n",
       "96  -9.800992   3.173575  \n",
       "97  -9.275121   4.076912  \n",
       "98  -9.365501   0.682471  \n",
       "99  -8.227197   2.027195  \n",
       "\n",
       "[100 rows x 5 columns]"
      ]
     },
     "metadata": {},
     "output_type": "display_data"
    },
    {
     "data": {
      "text/html": [
       "\n",
       "<style>\n",
       "  #altair-viz-f093be1a5dee4b359c0eb2b887810d5b.vega-embed {\n",
       "    width: 100%;\n",
       "    display: flex;\n",
       "  }\n",
       "\n",
       "  #altair-viz-f093be1a5dee4b359c0eb2b887810d5b.vega-embed details,\n",
       "  #altair-viz-f093be1a5dee4b359c0eb2b887810d5b.vega-embed details summary {\n",
       "    position: relative;\n",
       "  }\n",
       "</style>\n",
       "<div id=\"altair-viz-f093be1a5dee4b359c0eb2b887810d5b\"></div>\n",
       "<script type=\"text/javascript\">\n",
       "  var VEGA_DEBUG = (typeof VEGA_DEBUG == \"undefined\") ? {} : VEGA_DEBUG;\n",
       "  (function(spec, embedOpt){\n",
       "    let outputDiv = document.currentScript.previousElementSibling;\n",
       "    if (outputDiv.id !== \"altair-viz-f093be1a5dee4b359c0eb2b887810d5b\") {\n",
       "      outputDiv = document.getElementById(\"altair-viz-f093be1a5dee4b359c0eb2b887810d5b\");\n",
       "    }\n",
       "    const paths = {\n",
       "      \"vega\": \"https://cdn.jsdelivr.net/npm/vega@5?noext\",\n",
       "      \"vega-lib\": \"https://cdn.jsdelivr.net/npm/vega-lib?noext\",\n",
       "      \"vega-lite\": \"https://cdn.jsdelivr.net/npm/vega-lite@5.17.0?noext\",\n",
       "      \"vega-embed\": \"https://cdn.jsdelivr.net/npm/vega-embed@6?noext\",\n",
       "    };\n",
       "\n",
       "    function maybeLoadScript(lib, version) {\n",
       "      var key = `${lib.replace(\"-\", \"\")}_version`;\n",
       "      return (VEGA_DEBUG[key] == version) ?\n",
       "        Promise.resolve(paths[lib]) :\n",
       "        new Promise(function(resolve, reject) {\n",
       "          var s = document.createElement('script');\n",
       "          document.getElementsByTagName(\"head\")[0].appendChild(s);\n",
       "          s.async = true;\n",
       "          s.onload = () => {\n",
       "            VEGA_DEBUG[key] = version;\n",
       "            return resolve(paths[lib]);\n",
       "          };\n",
       "          s.onerror = () => reject(`Error loading script: ${paths[lib]}`);\n",
       "          s.src = paths[lib];\n",
       "        });\n",
       "    }\n",
       "\n",
       "    function showError(err) {\n",
       "      outputDiv.innerHTML = `<div class=\"error\" style=\"color:red;\">${err}</div>`;\n",
       "      throw err;\n",
       "    }\n",
       "\n",
       "    function displayChart(vegaEmbed) {\n",
       "      vegaEmbed(outputDiv, spec, embedOpt)\n",
       "        .catch(err => showError(`Javascript Error: ${err.message}<br>This usually means there's a typo in your chart specification. See the javascript console for the full traceback.`));\n",
       "    }\n",
       "\n",
       "    if(typeof define === \"function\" && define.amd) {\n",
       "      requirejs.config({paths});\n",
       "      require([\"vega-embed\"], displayChart, err => showError(`Error loading script: ${err.message}`));\n",
       "    } else {\n",
       "      maybeLoadScript(\"vega\", \"5\")\n",
       "        .then(() => maybeLoadScript(\"vega-lite\", \"5.17.0\"))\n",
       "        .then(() => maybeLoadScript(\"vega-embed\", \"6\"))\n",
       "        .catch(showError)\n",
       "        .then(() => displayChart(vegaEmbed));\n",
       "    }\n",
       "  })({\"config\": {\"view\": {\"continuousWidth\": 300, \"continuousHeight\": 300}}, \"data\": {\"name\": \"data-1c68999adce5984b2271d52c5c204726\"}, \"mark\": {\"type\": \"point\", \"size\": 50}, \"encoding\": {\"color\": {\"field\": \"Prob\", \"type\": \"quantitative\"}, \"tooltip\": [{\"field\": \"Idx\", \"type\": \"quantitative\"}, {\"field\": \"Prob\", \"type\": \"quantitative\"}, {\"field\": \"Text\", \"type\": \"nominal\"}], \"x\": {\"field\": \"PCA_0\", \"type\": \"quantitative\"}, \"y\": {\"field\": \"PCA_1\", \"type\": \"quantitative\"}}, \"params\": [{\"name\": \"param_1\", \"select\": {\"type\": \"interval\", \"encodings\": [\"x\", \"y\"]}, \"bind\": \"scales\"}], \"$schema\": \"https://vega.github.io/schema/vega-lite/v5.17.0.json\", \"datasets\": {\"data-1c68999adce5984b2271d52c5c204726\": [{\"Idx\": 0, \"Text\": \"<s><|user|> Write a haiku about symmetry. <|end|><|assistant|> Mirrored lines align,\\nBalance in\", \"Prob\": 0.0039350755474492115, \"PCA_0\": 19.701663970947266, \"PCA_1\": -3.2587482929229736}, {\"Idx\": 1, \"Text\": \"<s><|user|> Write a haiku about symmetry. <|end|><|assistant|> Mirrored lines align,\\nBalance found\", \"Prob\": 0.0003230106810824936, \"PCA_0\": -6.611379623413086, \"PCA_1\": -13.551384925842285}, {\"Idx\": 2, \"Text\": \"<s><|user|> Write a haiku about symmetry. <|end|><|assistant|> Mirrored lines align,\\nBalance within\", \"Prob\": 0.0001525794378213982, \"PCA_0\": -3.2089731693267822, \"PCA_1\": -3.8670654296875}, {\"Idx\": 3, \"Text\": \"<s><|user|> Write a haiku about symmetry. <|end|><|assistant|> Mirrored lines align,\\nBalance whis\", \"Prob\": 9.254410933163085e-05, \"PCA_0\": 26.57209587097168, \"PCA_1\": -8.91881275177002}, {\"Idx\": 4, \"Text\": \"<s><|user|> Write a haiku about symmetry. <|end|><|assistant|> Mirrored lines align,\\nBalanced beauty\", \"Prob\": 0.0015598092070956738, \"PCA_0\": -5.004573345184326, \"PCA_1\": -13.679159164428711}, {\"Idx\": 5, \"Text\": \"<s><|user|> Write a haiku about symmetry. <|end|><|assistant|> Mirrored lines align,\\nBalanced in\", \"Prob\": 0.0005738217826478201, \"PCA_0\": 17.927309036254883, \"PCA_1\": -2.709693193435669}, {\"Idx\": 6, \"Text\": \"<s><|user|> Write a haiku about symmetry. <|end|><|assistant|> Mirrored lines align,\\nBalanced forms\", \"Prob\": 0.0005063959124308053, \"PCA_0\": -8.463181495666504, \"PCA_1\": -10.869576454162598}, {\"Idx\": 7, \"Text\": \"<s><|user|> Write a haiku about symmetry. <|end|><|assistant|> Mirrored lines align,\\nBalanced harm\", \"Prob\": 0.0002710541760668055, \"PCA_0\": 2.562826156616211, \"PCA_1\": -9.11380672454834}, {\"Idx\": 8, \"Text\": \"<s><|user|> Write a haiku about symmetry. <|end|><|assistant|> Mirrored lines align,\\nBalanced dance\", \"Prob\": 0.00021109722184289444, \"PCA_0\": -5.946495532989502, \"PCA_1\": -11.681526184082031}, {\"Idx\": 9, \"Text\": \"<s><|user|> Write a haiku about symmetry. <|end|><|assistant|> Mirrored lines align,\\nBalanced shapes\", \"Prob\": 0.00021109722184289444, \"PCA_0\": -7.223709583282471, \"PCA_1\": -10.429962158203125}, {\"Idx\": 10, \"Text\": \"<s><|user|> Write a haiku about symmetry. <|end|><|assistant|> Mirrored lines align,\\nBalanced,\", \"Prob\": 9.971526446785483e-05, \"PCA_0\": 5.317443370819092, \"PCA_1\": -11.473603248596191}, {\"Idx\": 11, \"Text\": \"<s><|user|> Write a haiku about symmetry. <|end|><|assistant|> Mirrored lines align,\\nBalanced as\", \"Prob\": 8.79984194056907e-05, \"PCA_0\": 15.33178997039795, \"PCA_1\": -9.834227561950684}, {\"Idx\": 12, \"Text\": \"<s><|user|> Write a haiku about symmetry. <|end|><|assistant|> Mirrored lines align,\\nBalanced hal\", \"Prob\": 8.79984194056907e-05, \"PCA_0\": 27.782224655151367, \"PCA_1\": -10.111299514770508}, {\"Idx\": 13, \"Text\": \"<s><|user|> Write a haiku about symmetry. <|end|><|assistant|> Mirrored lines align,\\nBalanced form\", \"Prob\": 6.853323338300157e-05, \"PCA_0\": -7.704002380371094, \"PCA_1\": -11.823712348937988}, {\"Idx\": 14, \"Text\": \"<s><|user|> Write a haiku about symmetry. <|end|><|assistant|> Mirrored lines align,\\nBalanced world\", \"Prob\": 6.048036694091395e-05, \"PCA_0\": -5.5685648918151855, \"PCA_1\": -12.949481964111328}, {\"Idx\": 15, \"Text\": \"<s><|user|> Write a haiku about symmetry. <|end|><|assistant|> Mirrored lines align,\\nBalanced grace\", \"Prob\": 6.048036694091395e-05, \"PCA_0\": -5.336772918701172, \"PCA_1\": -12.792651176452637}, {\"Idx\": 16, \"Text\": \"<s><|user|> Write a haiku about symmetry. <|end|><|assistant|> Mirrored lines align,\\nBalanced on\", \"Prob\": 4.1567506267045014e-05, \"PCA_0\": 21.083372116088867, \"PCA_1\": -4.08051872253418}, {\"Idx\": 17, \"Text\": \"<s><|user|> Write a haiku about symmetry. <|end|><|assistant|> Mirrored lines align,\\nBalanced and\", \"Prob\": 3.6683197912631766e-05, \"PCA_0\": 9.476548194885254, \"PCA_1\": -9.740921020507812}, {\"Idx\": 18, \"Text\": \"<s><|user|> Write a haiku about symmetry. <|end|><|assistant|> Mirrored lines align,\\nBalanced by\", \"Prob\": 3.6683197912631766e-05, \"PCA_0\": 11.696459770202637, \"PCA_1\": -7.528217792510986}, {\"Idx\": 19, \"Text\": \"<s><|user|> Write a haiku about symmetry. <|end|><|assistant|> Mirrored lines align,\\nBalanced ref\", \"Prob\": 2.5211967673779566e-05, \"PCA_0\": 17.762243270874023, \"PCA_1\": -6.645402908325195}, {\"Idx\": 20, \"Text\": \"<s><|user|> Write a haiku about symmetry. <|end|><|assistant|> Mirrored lines align,\\nNature'\", \"Prob\": 0.003815660628172566, \"PCA_0\": 6.296582221984863, \"PCA_1\": -3.5964560508728027}, {\"Idx\": 21, \"Text\": \"<s><|user|> Write a haiku about symmetry. <|end|><|assistant|> Mirrored lines align,\\nIn perfect balance\", \"Prob\": 0.0004132032890836074, \"PCA_0\": -10.40107250213623, \"PCA_1\": -7.119859218597412}, {\"Idx\": 22, \"Text\": \"<s><|user|> Write a haiku about symmetry. <|end|><|assistant|> Mirrored lines align,\\nIn perfect symmetry\", \"Prob\": 0.00022117177742250903, \"PCA_0\": -11.086100578308105, \"PCA_1\": -5.568335056304932}, {\"Idx\": 23, \"Text\": \"<s><|user|> Write a haiku about symmetry. <|end|><|assistant|> Mirrored lines align,\\nIn perfect harm\", \"Prob\": 0.00017224875109867475, \"PCA_0\": 9.893898963928223, \"PCA_1\": 6.4405293464660645}, {\"Idx\": 24, \"Text\": \"<s><|user|> Write a haiku about symmetry. <|end|><|assistant|> Mirrored lines align,\\nIn symmetry'\", \"Prob\": 0.00034774077032661665, \"PCA_0\": 1.539766550064087, \"PCA_1\": 1.6691607236862183}, {\"Idx\": 25, \"Text\": \"<s><|user|> Write a haiku about symmetry. <|end|><|assistant|> Mirrored lines align,\\nIn symmetry,\", \"Prob\": 0.00021091542850932727, \"PCA_0\": 0.7467493414878845, \"PCA_1\": -3.4376754760742188}, {\"Idx\": 26, \"Text\": \"<s><|user|> Write a haiku about symmetry. <|end|><|assistant|> Mirrored lines align,\\nIn balance,\", \"Prob\": 0.0002275787181301274, \"PCA_0\": 3.307246685028076, \"PCA_1\": -7.507195472717285}, {\"Idx\": 27, \"Text\": \"<s><|user|> Write a haiku about symmetry. <|end|><|assistant|> Mirrored lines align,\\nIn nature'\", \"Prob\": 0.00014010610033944647, \"PCA_0\": 7.127085208892822, \"PCA_1\": 0.0885443240404129}, {\"Idx\": 28, \"Text\": \"<s><|user|> Write a haiku about symmetry. <|end|><|assistant|> Mirrored lines align,\\nInfinite balance\", \"Prob\": 5.8543649210636617e-05, \"PCA_0\": -9.584576606750488, \"PCA_1\": -8.163470268249512}, {\"Idx\": 29, \"Text\": \"<s><|user|> Write a haiku about symmetry. <|end|><|assistant|> Mirrored lines align,\\nInfinite patterns\", \"Prob\": 1.9006339813538518e-05, \"PCA_0\": -10.68030834197998, \"PCA_1\": -3.5702643394470215}, {\"Idx\": 30, \"Text\": \"<s><|user|> Write a haiku about symmetry. <|end|><|assistant|> Mirrored lines align,\\nInfinite beauty\", \"Prob\": 1.1527927674871614e-05, \"PCA_0\": -9.554553985595703, \"PCA_1\": -5.305695056915283}, {\"Idx\": 31, \"Text\": \"<s><|user|> Write a haiku about symmetry. <|end|><|assistant|> Mirrored lines align,\\nInfinite harm\", \"Prob\": 7.923021303793484e-06, \"PCA_0\": -3.2755110263824463, \"PCA_1\": -1.1307017803192139}, {\"Idx\": 32, \"Text\": \"<s><|user|> Write a haiku about symmetry. <|end|><|assistant|> Mirrored lines align,\\nInfinite symmetry\", \"Prob\": 7.923021303793484e-06, \"PCA_0\": -10.422228813171387, \"PCA_1\": -6.480632305145264}, {\"Idx\": 33, \"Text\": \"<s><|user|> Write a haiku about symmetry. <|end|><|assistant|> Mirrored lines align,\\nInfinite ref\", \"Prob\": 6.17045497936955e-06, \"PCA_0\": 9.883101463317871, \"PCA_1\": -0.4707742929458618}, {\"Idx\": 34, \"Text\": \"<s><|user|> Write a haiku about symmetry. <|end|><|assistant|> Mirrored lines align,\\nInfinite echo\", \"Prob\": 4.80555573338319e-06, \"PCA_0\": -9.885982513427734, \"PCA_1\": -4.7791266441345215}, {\"Idx\": 35, \"Text\": \"<s><|user|> Write a haiku about symmetry. <|end|><|assistant|> Mirrored lines align,\\nInfinite shapes\", \"Prob\": 3.3028070651880914e-06, \"PCA_0\": -10.248950958251953, \"PCA_1\": -1.620633602142334}, {\"Idx\": 36, \"Text\": \"<s><|user|> Write a haiku about symmetry. <|end|><|assistant|> Mirrored lines align,\\nInfinite dance\", \"Prob\": 2.9147167546068824e-06, \"PCA_0\": -10.117691040039062, \"PCA_1\": -3.090855836868286}, {\"Idx\": 37, \"Text\": \"<s><|user|> Write a haiku about symmetry. <|end|><|assistant|> Mirrored lines align,\\nInfinite in\", \"Prob\": 2.572228622291805e-06, \"PCA_0\": 14.523085594177246, \"PCA_1\": 0.45897114276885986}, {\"Idx\": 38, \"Text\": \"<s><|user|> Write a haiku about symmetry. <|end|><|assistant|> Mirrored lines align,\\nInfinite,\", \"Prob\": 2.572228622291805e-06, \"PCA_0\": -0.5424626469612122, \"PCA_1\": -5.15997838973999}, {\"Idx\": 39, \"Text\": \"<s><|user|> Write a haiku about symmetry. <|end|><|assistant|> Mirrored lines align,\\nInfinite forms\", \"Prob\": 2.269983626875399e-06, \"PCA_0\": -11.398797988891602, \"PCA_1\": -2.1722137928009033}, {\"Idx\": 40, \"Text\": \"<s><|user|> Write a haiku about symmetry. <|end|><|assistant|> Mirrored lines align,\\nInfinite reflection\", \"Prob\": 2.269983626875399e-06, \"PCA_0\": -11.640993118286133, \"PCA_1\": -6.433414459228516}, {\"Idx\": 41, \"Text\": \"<s><|user|> Write a haiku about symmetry. <|end|><|assistant|> Mirrored lines align,\\nIn harmony\", \"Prob\": 0.00010585953269705285, \"PCA_0\": -11.34304428100586, \"PCA_1\": -2.9519405364990234}, {\"Idx\": 42, \"Text\": \"<s><|user|> Write a haiku about symmetry. <|end|><|assistant|> Mirrored lines align,\\nIn the heart\", \"Prob\": 2.330184175114848e-05, \"PCA_0\": -8.191596984863281, \"PCA_1\": 2.2628486156463623}, {\"Idx\": 43, \"Text\": \"<s><|user|> Write a haiku about symmetry. <|end|><|assistant|> Mirrored lines align,\\nIn the dance\", \"Prob\": 2.783008212988486e-06, \"PCA_0\": -3.4471936225891113, \"PCA_1\": 0.05202944576740265}, {\"Idx\": 44, \"Text\": \"<s><|user|> Write a haiku about symmetry. <|end|><|assistant|> Mirrored lines align,\\nIn the balance\", \"Prob\": 1.687979837585161e-06, \"PCA_0\": -7.209333896636963, \"PCA_1\": -1.9898403882980347}, {\"Idx\": 45, \"Text\": \"<s><|user|> Write a haiku about symmetry. <|end|><|assistant|> Mirrored lines align,\\nIn the quiet\", \"Prob\": 1.4896369415784477e-06, \"PCA_0\": 8.572843551635742, \"PCA_1\": 8.187739372253418}, {\"Idx\": 46, \"Text\": \"<s><|user|> Write a haiku about symmetry. <|end|><|assistant|> Mirrored lines align,\\nIn the still\", \"Prob\": 1.1601304249048283e-06, \"PCA_0\": 14.177974700927734, \"PCA_1\": 0.9613153338432312}, {\"Idx\": 47, \"Text\": \"<s><|user|> Write a haiku about symmetry. <|end|><|assistant|> Mirrored lines align,\\nIn the bal\", \"Prob\": 9.035104442200083e-07, \"PCA_0\": 24.2681827545166, \"PCA_1\": -4.066866397857666}, {\"Idx\": 48, \"Text\": \"<s><|user|> Write a haiku about symmetry. <|end|><|assistant|> Mirrored lines align,\\nIn the face\", \"Prob\": 7.973451478976502e-07, \"PCA_0\": -6.498931884765625, \"PCA_1\": 0.9460400938987732}, {\"Idx\": 49, \"Text\": \"<s><|user|> Write a haiku about symmetry. <|end|><|assistant|> Mirrored lines align,\\nIn the center\", \"Prob\": 4.836142841223668e-07, \"PCA_0\": -11.532745361328125, \"PCA_1\": -1.1199544668197632}, {\"Idx\": 50, \"Text\": \"<s><|user|> Write a haiku about symmetry. <|end|><|assistant|> Mirrored lines align,\\nIn the real\", \"Prob\": 4.267881432700251e-07, \"PCA_0\": 14.896953582763672, \"PCA_1\": 1.0942823886871338}, {\"Idx\": 51, \"Text\": \"<s><|user|> Write a haiku about symmetry. <|end|><|assistant|> Mirrored lines align,\\nIn the calm\", \"Prob\": 4.267881432700251e-07, \"PCA_0\": 6.483412742614746, \"PCA_1\": 2.967283248901367}, {\"Idx\": 52, \"Text\": \"<s><|user|> Write a haiku about symmetry. <|end|><|assistant|> Mirrored lines align,\\nIn stillness\", \"Prob\": 3.031515354319237e-05, \"PCA_0\": -7.664191246032715, \"PCA_1\": 1.4297332763671875}, {\"Idx\": 53, \"Text\": \"<s><|user|> Write a haiku about symmetry. <|end|><|assistant|> Mirrored lines align,\\nIn balanced\", \"Prob\": 3.248920269601608e-05, \"PCA_0\": 17.2263126373291, \"PCA_1\": -3.5932741165161133}, {\"Idx\": 54, \"Text\": \"<s><|user|> Write a haiku about symmetry. <|end|><|assistant|> Mirrored lines align,\\nIn every fol\", \"Prob\": 4.14852721139874e-06, \"PCA_0\": 28.6204776763916, \"PCA_1\": 6.982729911804199}, {\"Idx\": 55, \"Text\": \"<s><|user|> Write a haiku about symmetry. <|end|><|assistant|> Mirrored lines align,\\nIn every reflection\", \"Prob\": 2.2205466598333323e-06, \"PCA_0\": -12.952966690063477, \"PCA_1\": 5.2163519859313965}, {\"Idx\": 56, \"Text\": \"<s><|user|> Write a haiku about symmetry. <|end|><|assistant|> Mirrored lines align,\\nIn every angle\", \"Prob\": 1.9596256064186966e-06, \"PCA_0\": -11.442227363586426, \"PCA_1\": 3.927875518798828}, {\"Idx\": 57, \"Text\": \"<s><|user|> Write a haiku about symmetry. <|end|><|assistant|> Mirrored lines align,\\nIn every half\", \"Prob\": 9.256615841949571e-07, \"PCA_0\": -9.295055389404297, \"PCA_1\": 4.899399757385254}, {\"Idx\": 58, \"Text\": \"<s><|user|> Write a haiku about symmetry. <|end|><|assistant|> Mirrored lines align,\\nIn every f\", \"Prob\": 7.209058878402511e-07, \"PCA_0\": 22.564470291137695, \"PCA_1\": 3.9635512828826904}, {\"Idx\": 59, \"Text\": \"<s><|user|> Write a haiku about symmetry. <|end|><|assistant|> Mirrored lines align,\\nIn every end\", \"Prob\": 7.209058878402511e-07, \"PCA_0\": -9.619071006774902, \"PCA_1\": 7.584777355194092}, {\"Idx\": 60, \"Text\": \"<s><|user|> Write a haiku about symmetry. <|end|><|assistant|> Mirrored lines align,\\nIn every shape\", \"Prob\": 7.209058878402511e-07, \"PCA_0\": -10.764307022094727, \"PCA_1\": 5.010170936584473}, {\"Idx\": 61, \"Text\": \"<s><|user|> Write a haiku about symmetry. <|end|><|assistant|> Mirrored lines align,\\nIn every side\", \"Prob\": 6.361972397051242e-07, \"PCA_0\": -12.336482048034668, \"PCA_1\": 2.939478635787964}, {\"Idx\": 62, \"Text\": \"<s><|user|> Write a haiku about symmetry. <|end|><|assistant|> Mirrored lines align,\\nIn every form\", \"Prob\": 4.954709095723973e-07, \"PCA_0\": -11.076757431030273, \"PCA_1\": 3.836967945098877}, {\"Idx\": 63, \"Text\": \"<s><|user|> Write a haiku about symmetry. <|end|><|assistant|> Mirrored lines align,\\nIn every heart\", \"Prob\": 4.954709095723973e-07, \"PCA_0\": -9.552693367004395, \"PCA_1\": 7.000943183898926}, {\"Idx\": 64, \"Text\": \"<s><|user|> Write a haiku about symmetry. <|end|><|assistant|> Mirrored lines align,\\nIn every aspect\", \"Prob\": 4.954709095723973e-07, \"PCA_0\": -11.835423469543457, \"PCA_1\": 2.6076903343200684}, {\"Idx\": 65, \"Text\": \"<s><|user|> Write a haiku about symmetry. <|end|><|assistant|> Mirrored lines align,\\nIn every mirror\", \"Prob\": 4.372515399970911e-07, \"PCA_0\": -10.831635475158691, \"PCA_1\": 4.901440620422363}, {\"Idx\": 66, \"Text\": \"<s><|user|> Write a haiku about symmetry. <|end|><|assistant|> Mirrored lines align,\\nIn every balance\", \"Prob\": 3.858731387430361e-07, \"PCA_0\": -7.23928689956665, \"PCA_1\": 3.62233567237854}, {\"Idx\": 67, \"Text\": \"<s><|user|> Write a haiku about symmetry. <|end|><|assistant|> Mirrored lines align,\\nIn every face\", \"Prob\": 3.005183112389536e-07, \"PCA_0\": -10.03374195098877, \"PCA_1\": 6.5704803466796875}, {\"Idx\": 68, \"Text\": \"<s><|user|> Write a haiku about symmetry. <|end|><|assistant|> Mirrored lines align,\\nIn every edge\", \"Prob\": 3.005183112389536e-07, \"PCA_0\": -11.21048641204834, \"PCA_1\": 6.177063465118408}, {\"Idx\": 69, \"Text\": \"<s><|user|> Write a haiku about symmetry. <|end|><|assistant|> Mirrored lines align,\\nIn every curve\", \"Prob\": 2.340438983360555e-07, \"PCA_0\": -12.148470878601074, \"PCA_1\": 6.526881694793701}, {\"Idx\": 70, \"Text\": \"<s><|user|> Write a haiku about symmetry. <|end|><|assistant|> Mirrored lines align,\\nIn every leaf\", \"Prob\": 2.340438983360555e-07, \"PCA_0\": -6.749526500701904, \"PCA_1\": 8.142765998840332}, {\"Idx\": 71, \"Text\": \"<s><|user|> Write a haiku about symmetry. <|end|><|assistant|> Mirrored lines align,\\nIn every cr\", \"Prob\": 1.8227356335429348e-07, \"PCA_0\": 20.396745681762695, \"PCA_1\": 0.8578763604164124}, {\"Idx\": 72, \"Text\": \"<s><|user|> Write a haiku about symmetry. <|end|><|assistant|> Mirrored lines align,\\nIn every perfect\", \"Prob\": 1.8227356335429348e-07, \"PCA_0\": 19.695053100585938, \"PCA_1\": 4.651821136474609}, {\"Idx\": 73, \"Text\": \"<s><|user|> Write a haiku about symmetry. <|end|><|assistant|> Mirrored lines align,\\nIn every reflect\", \"Prob\": 1.8227356335429348e-07, \"PCA_0\": 2.5480034351348877, \"PCA_1\": 13.7396240234375}, {\"Idx\": 74, \"Text\": \"<s><|user|> Write a haiku about symmetry. <|end|><|assistant|> Mirrored lines align,\\nIn every equal\", \"Prob\": 1.6085585105426295e-07, \"PCA_0\": 13.643985748291016, \"PCA_1\": 15.151211738586426}, {\"Idx\": 75, \"Text\": \"<s><|user|> Write a haiku about symmetry. <|end|><|assistant|> Mirrored lines align,\\nIn every corner\", \"Prob\": 1.6085585105426295e-07, \"PCA_0\": -11.99079704284668, \"PCA_1\": 4.393947124481201}, {\"Idx\": 76, \"Text\": \"<s><|user|> Write a haiku about symmetry. <|end|><|assistant|> Mirrored lines align,\\nIn every split\", \"Prob\": 1.4195479241931552e-07, \"PCA_0\": -9.571703910827637, \"PCA_1\": 5.6161580085754395}, {\"Idx\": 77, \"Text\": \"<s><|user|> Write a haiku about symmetry. <|end|><|assistant|> Mirrored lines align,\\nIn every detail\", \"Prob\": 1.2527467015656132e-07, \"PCA_0\": -12.408082008361816, \"PCA_1\": 5.042032241821289}, {\"Idx\": 78, \"Text\": \"<s><|user|> Write a haiku about symmetry. <|end|><|assistant|> Mirrored lines align,\\nIn every symmetry\", \"Prob\": 1.2527467015656132e-07, \"PCA_0\": -10.666768074035645, \"PCA_1\": 6.697472095489502}, {\"Idx\": 79, \"Text\": \"<s><|user|> Write a haiku about symmetry. <|end|><|assistant|> Mirrored lines align,\\nIn every stroke\", \"Prob\": 1.2527467015656132e-07, \"PCA_0\": -10.525592803955078, \"PCA_1\": 6.453339576721191}, {\"Idx\": 80, \"Text\": \"<s><|user|> Write a haiku about symmetry. <|end|><|assistant|> Mirrored lines align,\\nIn every plane\", \"Prob\": 1.1055450108772113e-07, \"PCA_0\": -11.928424835205078, \"PCA_1\": 1.9956858158111572}, {\"Idx\": 81, \"Text\": \"<s><|user|> Write a haiku about symmetry. <|end|><|assistant|> Mirrored lines align,\\nIn every glance\", \"Prob\": 1.1055450108772113e-07, \"PCA_0\": -10.94967269897461, \"PCA_1\": 4.47376823425293}, {\"Idx\": 82, \"Text\": \"<s><|user|> Write a haiku about symmetry. <|end|><|assistant|> Mirrored lines align,\\nIn every fac\", \"Prob\": 9.756400647779594e-08, \"PCA_0\": 29.342531204223633, \"PCA_1\": 8.32597541809082}, {\"Idx\": 83, \"Text\": \"<s><|user|> Write a haiku about symmetry. <|end|><|assistant|> Mirrored lines align,\\nIn every pet\", \"Prob\": 9.756400647779594e-08, \"PCA_0\": 8.11807918548584, \"PCA_1\": 3.644717216491699}, {\"Idx\": 84, \"Text\": \"<s><|user|> Write a haiku about symmetry. <|end|><|assistant|> Mirrored lines align,\\nIn every bal\", \"Prob\": 9.756400647779594e-08, \"PCA_0\": 28.893798828125, \"PCA_1\": 1.0544028282165527}, {\"Idx\": 85, \"Text\": \"<s><|user|> Write a haiku about symmetry. <|end|><|assistant|> Mirrored lines align,\\nIn every tw\", \"Prob\": 8.609993117355569e-08, \"PCA_0\": 25.088956832885742, \"PCA_1\": 2.8210694789886475}, {\"Idx\": 86, \"Text\": \"<s><|user|> Write a haiku about symmetry. <|end|><|assistant|> Mirrored lines align,\\nIn every pattern\", \"Prob\": 8.609993117355569e-08, \"PCA_0\": -10.987662315368652, \"PCA_1\": 3.4414114952087402}, {\"Idx\": 87, \"Text\": \"<s><|user|> Write a haiku about symmetry. <|end|><|assistant|> Mirrored lines align,\\nIn every right\", \"Prob\": 6.705469475367466e-08, \"PCA_0\": 14.015371322631836, \"PCA_1\": 18.074962615966797}, {\"Idx\": 88, \"Text\": \"<s><|user|> Write a haiku about symmetry. <|end|><|assistant|> Mirrored lines align,\\nIn every ref\", \"Prob\": 6.705469475367466e-08, \"PCA_0\": 22.744447708129883, \"PCA_1\": 11.004045486450195}, {\"Idx\": 89, \"Text\": \"<s><|user|> Write a haiku about symmetry. <|end|><|assistant|> Mirrored lines align,\\nIn every line\", \"Prob\": 5.9175558260526104e-08, \"PCA_0\": -9.813491821289062, \"PCA_1\": 3.5684802532196045}, {\"Idx\": 90, \"Text\": \"<s><|user|> Write a haiku about symmetry. <|end|><|assistant|> Mirrored lines align,\\nIn every element\", \"Prob\": 5.9175558260526104e-08, \"PCA_0\": -12.161693572998047, \"PCA_1\": 4.263639450073242}, {\"Idx\": 91, \"Text\": \"<s><|user|> Write a haiku about symmetry. <|end|><|assistant|> Mirrored lines align,\\nIn each half\", \"Prob\": 3.635549839705366e-06, \"PCA_0\": -10.838056564331055, \"PCA_1\": 4.7573747634887695}, {\"Idx\": 92, \"Text\": \"<s><|user|> Write a haiku about symmetry. <|end|><|assistant|> Mirrored lines align,\\nIn each reflection\", \"Prob\": 3.2083614587718133e-06, \"PCA_0\": -13.101797103881836, \"PCA_1\": 4.226077556610107}, {\"Idx\": 93, \"Text\": \"<s><|user|> Write a haiku about symmetry. <|end|><|assistant|> Mirrored lines align,\\nIn each side\", \"Prob\": 2.8313689315793834e-06, \"PCA_0\": -9.484465599060059, \"PCA_1\": 3.1765732765197754}, {\"Idx\": 94, \"Text\": \"<s><|user|> Write a haiku about symmetry. <|end|><|assistant|> Mirrored lines align,\\nIn each face\", \"Prob\": 1.9459696431413395e-06, \"PCA_0\": -8.873575210571289, \"PCA_1\": 6.157321453094482}, {\"Idx\": 95, \"Text\": \"<s><|user|> Write a haiku about symmetry. <|end|><|assistant|> Mirrored lines align,\\nIn each fol\", \"Prob\": 1.3374441329348191e-06, \"PCA_0\": 27.023555755615234, \"PCA_1\": 4.370434284210205}, {\"Idx\": 96, \"Text\": \"<s><|user|> Write a haiku about symmetry. <|end|><|assistant|> Mirrored lines align,\\nIn each form\", \"Prob\": 3.381587987194866e-07, \"PCA_0\": -9.800992012023926, \"PCA_1\": 3.1735754013061523}, {\"Idx\": 97, \"Text\": \"<s><|user|> Write a haiku about symmetry. <|end|><|assistant|> Mirrored lines align,\\nIn each shape\", \"Prob\": 3.381587987194866e-07, \"PCA_0\": -9.275120735168457, \"PCA_1\": 4.0769124031066895}, {\"Idx\": 98, \"Text\": \"<s><|user|> Write a haiku about symmetry. <|end|><|assistant|> Mirrored lines align,\\nIn each other\", \"Prob\": 2.984240867892319e-07, \"PCA_0\": -9.365501403808594, \"PCA_1\": 0.6824713945388794}, {\"Idx\": 99, \"Text\": \"<s><|user|> Write a haiku about symmetry. <|end|><|assistant|> Mirrored lines align,\\nIn each end\", \"Prob\": 2.984240867892319e-07, \"PCA_0\": -8.22719669342041, \"PCA_1\": 2.0271947383880615}]}}, {\"mode\": \"vega-lite\"});\n",
       "</script>"
      ],
      "text/plain": [
       "alt.Chart(...)"
      ]
     },
     "metadata": {},
     "output_type": "display_data"
    },
    {
     "data": {
      "text/html": [
       "<div>\n",
       "<style scoped>\n",
       "    .dataframe tbody tr th:only-of-type {\n",
       "        vertical-align: middle;\n",
       "    }\n",
       "\n",
       "    .dataframe tbody tr th {\n",
       "        vertical-align: top;\n",
       "    }\n",
       "\n",
       "    .dataframe thead th {\n",
       "        text-align: right;\n",
       "    }\n",
       "</style>\n",
       "<table border=\"1\" class=\"dataframe\">\n",
       "  <thead>\n",
       "    <tr style=\"text-align: right;\">\n",
       "      <th></th>\n",
       "      <th>Idx</th>\n",
       "      <th>Text</th>\n",
       "      <th>Prob</th>\n",
       "      <th>PCA_0</th>\n",
       "      <th>PCA_1</th>\n",
       "    </tr>\n",
       "  </thead>\n",
       "  <tbody>\n",
       "    <tr>\n",
       "      <th>0</th>\n",
       "      <td>0</td>\n",
       "      <td>&lt;s&gt;&lt;|user|&gt; Write a haiku about symmetry. &lt;|en...</td>\n",
       "      <td>3.935076e-03</td>\n",
       "      <td>5.179934</td>\n",
       "      <td>8.714105</td>\n",
       "    </tr>\n",
       "    <tr>\n",
       "      <th>1</th>\n",
       "      <td>1</td>\n",
       "      <td>&lt;s&gt;&lt;|user|&gt; Write a haiku about symmetry. &lt;|en...</td>\n",
       "      <td>3.230107e-04</td>\n",
       "      <td>-4.505338</td>\n",
       "      <td>-0.445428</td>\n",
       "    </tr>\n",
       "    <tr>\n",
       "      <th>2</th>\n",
       "      <td>2</td>\n",
       "      <td>&lt;s&gt;&lt;|user|&gt; Write a haiku about symmetry. &lt;|en...</td>\n",
       "      <td>1.525794e-04</td>\n",
       "      <td>-5.261135</td>\n",
       "      <td>1.192177</td>\n",
       "    </tr>\n",
       "    <tr>\n",
       "      <th>3</th>\n",
       "      <td>3</td>\n",
       "      <td>&lt;s&gt;&lt;|user|&gt; Write a haiku about symmetry. &lt;|en...</td>\n",
       "      <td>9.254411e-05</td>\n",
       "      <td>9.755385</td>\n",
       "      <td>-1.952207</td>\n",
       "    </tr>\n",
       "    <tr>\n",
       "      <th>4</th>\n",
       "      <td>4</td>\n",
       "      <td>&lt;s&gt;&lt;|user|&gt; Write a haiku about symmetry. &lt;|en...</td>\n",
       "      <td>1.559809e-03</td>\n",
       "      <td>-5.072191</td>\n",
       "      <td>-1.452686</td>\n",
       "    </tr>\n",
       "    <tr>\n",
       "      <th>...</th>\n",
       "      <td>...</td>\n",
       "      <td>...</td>\n",
       "      <td>...</td>\n",
       "      <td>...</td>\n",
       "      <td>...</td>\n",
       "    </tr>\n",
       "    <tr>\n",
       "      <th>95</th>\n",
       "      <td>95</td>\n",
       "      <td>&lt;s&gt;&lt;|user|&gt; Write a haiku about symmetry. &lt;|en...</td>\n",
       "      <td>1.337444e-06</td>\n",
       "      <td>7.946802</td>\n",
       "      <td>-2.757715</td>\n",
       "    </tr>\n",
       "    <tr>\n",
       "      <th>96</th>\n",
       "      <td>96</td>\n",
       "      <td>&lt;s&gt;&lt;|user|&gt; Write a haiku about symmetry. &lt;|en...</td>\n",
       "      <td>3.381588e-07</td>\n",
       "      <td>1.234466</td>\n",
       "      <td>4.149614</td>\n",
       "    </tr>\n",
       "    <tr>\n",
       "      <th>97</th>\n",
       "      <td>97</td>\n",
       "      <td>&lt;s&gt;&lt;|user|&gt; Write a haiku about symmetry. &lt;|en...</td>\n",
       "      <td>3.381588e-07</td>\n",
       "      <td>0.758823</td>\n",
       "      <td>2.115468</td>\n",
       "    </tr>\n",
       "    <tr>\n",
       "      <th>98</th>\n",
       "      <td>98</td>\n",
       "      <td>&lt;s&gt;&lt;|user|&gt; Write a haiku about symmetry. &lt;|en...</td>\n",
       "      <td>2.984241e-07</td>\n",
       "      <td>0.177398</td>\n",
       "      <td>-0.437856</td>\n",
       "    </tr>\n",
       "    <tr>\n",
       "      <th>99</th>\n",
       "      <td>99</td>\n",
       "      <td>&lt;s&gt;&lt;|user|&gt; Write a haiku about symmetry. &lt;|en...</td>\n",
       "      <td>2.984241e-07</td>\n",
       "      <td>-0.496634</td>\n",
       "      <td>-0.620149</td>\n",
       "    </tr>\n",
       "  </tbody>\n",
       "</table>\n",
       "<p>100 rows × 5 columns</p>\n",
       "</div>"
      ],
      "text/plain": [
       "    Idx                                               Text          Prob  \\\n",
       "0     0  <s><|user|> Write a haiku about symmetry. <|en...  3.935076e-03   \n",
       "1     1  <s><|user|> Write a haiku about symmetry. <|en...  3.230107e-04   \n",
       "2     2  <s><|user|> Write a haiku about symmetry. <|en...  1.525794e-04   \n",
       "3     3  <s><|user|> Write a haiku about symmetry. <|en...  9.254411e-05   \n",
       "4     4  <s><|user|> Write a haiku about symmetry. <|en...  1.559809e-03   \n",
       "..  ...                                                ...           ...   \n",
       "95   95  <s><|user|> Write a haiku about symmetry. <|en...  1.337444e-06   \n",
       "96   96  <s><|user|> Write a haiku about symmetry. <|en...  3.381588e-07   \n",
       "97   97  <s><|user|> Write a haiku about symmetry. <|en...  3.381588e-07   \n",
       "98   98  <s><|user|> Write a haiku about symmetry. <|en...  2.984241e-07   \n",
       "99   99  <s><|user|> Write a haiku about symmetry. <|en...  2.984241e-07   \n",
       "\n",
       "       PCA_0     PCA_1  \n",
       "0   5.179934  8.714105  \n",
       "1  -4.505338 -0.445428  \n",
       "2  -5.261135  1.192177  \n",
       "3   9.755385 -1.952207  \n",
       "4  -5.072191 -1.452686  \n",
       "..       ...       ...  \n",
       "95  7.946802 -2.757715  \n",
       "96  1.234466  4.149614  \n",
       "97  0.758823  2.115468  \n",
       "98  0.177398 -0.437856  \n",
       "99 -0.496634 -0.620149  \n",
       "\n",
       "[100 rows x 5 columns]"
      ]
     },
     "metadata": {},
     "output_type": "display_data"
    },
    {
     "data": {
      "text/html": [
       "\n",
       "<style>\n",
       "  #altair-viz-e93a5f2b4b50488a93ee4e71c66b578b.vega-embed {\n",
       "    width: 100%;\n",
       "    display: flex;\n",
       "  }\n",
       "\n",
       "  #altair-viz-e93a5f2b4b50488a93ee4e71c66b578b.vega-embed details,\n",
       "  #altair-viz-e93a5f2b4b50488a93ee4e71c66b578b.vega-embed details summary {\n",
       "    position: relative;\n",
       "  }\n",
       "</style>\n",
       "<div id=\"altair-viz-e93a5f2b4b50488a93ee4e71c66b578b\"></div>\n",
       "<script type=\"text/javascript\">\n",
       "  var VEGA_DEBUG = (typeof VEGA_DEBUG == \"undefined\") ? {} : VEGA_DEBUG;\n",
       "  (function(spec, embedOpt){\n",
       "    let outputDiv = document.currentScript.previousElementSibling;\n",
       "    if (outputDiv.id !== \"altair-viz-e93a5f2b4b50488a93ee4e71c66b578b\") {\n",
       "      outputDiv = document.getElementById(\"altair-viz-e93a5f2b4b50488a93ee4e71c66b578b\");\n",
       "    }\n",
       "    const paths = {\n",
       "      \"vega\": \"https://cdn.jsdelivr.net/npm/vega@5?noext\",\n",
       "      \"vega-lib\": \"https://cdn.jsdelivr.net/npm/vega-lib?noext\",\n",
       "      \"vega-lite\": \"https://cdn.jsdelivr.net/npm/vega-lite@5.17.0?noext\",\n",
       "      \"vega-embed\": \"https://cdn.jsdelivr.net/npm/vega-embed@6?noext\",\n",
       "    };\n",
       "\n",
       "    function maybeLoadScript(lib, version) {\n",
       "      var key = `${lib.replace(\"-\", \"\")}_version`;\n",
       "      return (VEGA_DEBUG[key] == version) ?\n",
       "        Promise.resolve(paths[lib]) :\n",
       "        new Promise(function(resolve, reject) {\n",
       "          var s = document.createElement('script');\n",
       "          document.getElementsByTagName(\"head\")[0].appendChild(s);\n",
       "          s.async = true;\n",
       "          s.onload = () => {\n",
       "            VEGA_DEBUG[key] = version;\n",
       "            return resolve(paths[lib]);\n",
       "          };\n",
       "          s.onerror = () => reject(`Error loading script: ${paths[lib]}`);\n",
       "          s.src = paths[lib];\n",
       "        });\n",
       "    }\n",
       "\n",
       "    function showError(err) {\n",
       "      outputDiv.innerHTML = `<div class=\"error\" style=\"color:red;\">${err}</div>`;\n",
       "      throw err;\n",
       "    }\n",
       "\n",
       "    function displayChart(vegaEmbed) {\n",
       "      vegaEmbed(outputDiv, spec, embedOpt)\n",
       "        .catch(err => showError(`Javascript Error: ${err.message}<br>This usually means there's a typo in your chart specification. See the javascript console for the full traceback.`));\n",
       "    }\n",
       "\n",
       "    if(typeof define === \"function\" && define.amd) {\n",
       "      requirejs.config({paths});\n",
       "      require([\"vega-embed\"], displayChart, err => showError(`Error loading script: ${err.message}`));\n",
       "    } else {\n",
       "      maybeLoadScript(\"vega\", \"5\")\n",
       "        .then(() => maybeLoadScript(\"vega-lite\", \"5.17.0\"))\n",
       "        .then(() => maybeLoadScript(\"vega-embed\", \"6\"))\n",
       "        .catch(showError)\n",
       "        .then(() => displayChart(vegaEmbed));\n",
       "    }\n",
       "  })({\"config\": {\"view\": {\"continuousWidth\": 300, \"continuousHeight\": 300}}, \"data\": {\"name\": \"data-16c51325fc683cb73a11e296330d37f6\"}, \"mark\": {\"type\": \"point\", \"size\": 50}, \"encoding\": {\"color\": {\"field\": \"Prob\", \"type\": \"quantitative\"}, \"tooltip\": [{\"field\": \"Idx\", \"type\": \"quantitative\"}, {\"field\": \"Prob\", \"type\": \"quantitative\"}, {\"field\": \"Text\", \"type\": \"nominal\"}], \"x\": {\"field\": \"PCA_0\", \"type\": \"quantitative\"}, \"y\": {\"field\": \"PCA_1\", \"type\": \"quantitative\"}}, \"params\": [{\"name\": \"param_2\", \"select\": {\"type\": \"interval\", \"encodings\": [\"x\", \"y\"]}, \"bind\": \"scales\"}], \"$schema\": \"https://vega.github.io/schema/vega-lite/v5.17.0.json\", \"datasets\": {\"data-16c51325fc683cb73a11e296330d37f6\": [{\"Idx\": 0, \"Text\": \"<s><|user|> Write a haiku about symmetry. <|end|><|assistant|> Mirrored lines align,\\nBalance in\", \"Prob\": 0.0039350755474492115, \"PCA_0\": 5.179933547973633, \"PCA_1\": 8.714104652404785}, {\"Idx\": 1, \"Text\": \"<s><|user|> Write a haiku about symmetry. <|end|><|assistant|> Mirrored lines align,\\nBalance found\", \"Prob\": 0.0003230106810824936, \"PCA_0\": -4.505338191986084, \"PCA_1\": -0.4454278349876404}, {\"Idx\": 2, \"Text\": \"<s><|user|> Write a haiku about symmetry. <|end|><|assistant|> Mirrored lines align,\\nBalance within\", \"Prob\": 0.0001525794378213982, \"PCA_0\": -5.261135101318359, \"PCA_1\": 1.1921768188476562}, {\"Idx\": 3, \"Text\": \"<s><|user|> Write a haiku about symmetry. <|end|><|assistant|> Mirrored lines align,\\nBalance whis\", \"Prob\": 9.254410933163085e-05, \"PCA_0\": 9.755385398864746, \"PCA_1\": -1.952207326889038}, {\"Idx\": 4, \"Text\": \"<s><|user|> Write a haiku about symmetry. <|end|><|assistant|> Mirrored lines align,\\nBalanced beauty\", \"Prob\": 0.0015598092070956738, \"PCA_0\": -5.07219123840332, \"PCA_1\": -1.4526857137680054}, {\"Idx\": 5, \"Text\": \"<s><|user|> Write a haiku about symmetry. <|end|><|assistant|> Mirrored lines align,\\nBalanced in\", \"Prob\": 0.0005738217826478201, \"PCA_0\": 5.463698387145996, \"PCA_1\": 8.472360610961914}, {\"Idx\": 6, \"Text\": \"<s><|user|> Write a haiku about symmetry. <|end|><|assistant|> Mirrored lines align,\\nBalanced forms\", \"Prob\": 0.0005063959124308053, \"PCA_0\": -3.919083595275879, \"PCA_1\": 1.436279535293579}, {\"Idx\": 7, \"Text\": \"<s><|user|> Write a haiku about symmetry. <|end|><|assistant|> Mirrored lines align,\\nBalanced harm\", \"Prob\": 0.0002710541760668055, \"PCA_0\": -1.2412595748901367, \"PCA_1\": -1.7802504301071167}, {\"Idx\": 8, \"Text\": \"<s><|user|> Write a haiku about symmetry. <|end|><|assistant|> Mirrored lines align,\\nBalanced dance\", \"Prob\": 0.00021109722184289444, \"PCA_0\": -4.930235385894775, \"PCA_1\": -1.0837091207504272}, {\"Idx\": 9, \"Text\": \"<s><|user|> Write a haiku about symmetry. <|end|><|assistant|> Mirrored lines align,\\nBalanced shapes\", \"Prob\": 0.00021109722184289444, \"PCA_0\": -4.3187432289123535, \"PCA_1\": 0.24115413427352905}, {\"Idx\": 10, \"Text\": \"<s><|user|> Write a haiku about symmetry. <|end|><|assistant|> Mirrored lines align,\\nBalanced,\", \"Prob\": 9.971526446785483e-05, \"PCA_0\": 2.792145252227783, \"PCA_1\": 6.036096096038818}, {\"Idx\": 11, \"Text\": \"<s><|user|> Write a haiku about symmetry. <|end|><|assistant|> Mirrored lines align,\\nBalanced as\", \"Prob\": 8.79984194056907e-05, \"PCA_0\": 5.5583930015563965, \"PCA_1\": 10.005127906799316}, {\"Idx\": 12, \"Text\": \"<s><|user|> Write a haiku about symmetry. <|end|><|assistant|> Mirrored lines align,\\nBalanced hal\", \"Prob\": 8.79984194056907e-05, \"PCA_0\": 13.214872360229492, \"PCA_1\": -4.180469036102295}, {\"Idx\": 13, \"Text\": \"<s><|user|> Write a haiku about symmetry. <|end|><|assistant|> Mirrored lines align,\\nBalanced form\", \"Prob\": 6.853323338300157e-05, \"PCA_0\": -3.380182981491089, \"PCA_1\": 1.9760655164718628}, {\"Idx\": 14, \"Text\": \"<s><|user|> Write a haiku about symmetry. <|end|><|assistant|> Mirrored lines align,\\nBalanced world\", \"Prob\": 6.048036694091395e-05, \"PCA_0\": -4.9070143699646, \"PCA_1\": -2.1390202045440674}, {\"Idx\": 15, \"Text\": \"<s><|user|> Write a haiku about symmetry. <|end|><|assistant|> Mirrored lines align,\\nBalanced grace\", \"Prob\": 6.048036694091395e-05, \"PCA_0\": -4.6869988441467285, \"PCA_1\": -0.8755356669425964}, {\"Idx\": 16, \"Text\": \"<s><|user|> Write a haiku about symmetry. <|end|><|assistant|> Mirrored lines align,\\nBalanced on\", \"Prob\": 4.1567506267045014e-05, \"PCA_0\": 2.398219585418701, \"PCA_1\": 5.2996296882629395}, {\"Idx\": 17, \"Text\": \"<s><|user|> Write a haiku about symmetry. <|end|><|assistant|> Mirrored lines align,\\nBalanced and\", \"Prob\": 3.6683197912631766e-05, \"PCA_0\": 6.620748996734619, \"PCA_1\": 5.638312339782715}, {\"Idx\": 18, \"Text\": \"<s><|user|> Write a haiku about symmetry. <|end|><|assistant|> Mirrored lines align,\\nBalanced by\", \"Prob\": 3.6683197912631766e-05, \"PCA_0\": 2.412149667739868, \"PCA_1\": 8.53815746307373}, {\"Idx\": 19, \"Text\": \"<s><|user|> Write a haiku about symmetry. <|end|><|assistant|> Mirrored lines align,\\nBalanced ref\", \"Prob\": 2.5211967673779566e-05, \"PCA_0\": 10.93121337890625, \"PCA_1\": -3.859746217727661}, {\"Idx\": 20, \"Text\": \"<s><|user|> Write a haiku about symmetry. <|end|><|assistant|> Mirrored lines align,\\nNature'\", \"Prob\": 0.003815660628172566, \"PCA_0\": 12.924179077148438, \"PCA_1\": -6.556656360626221}, {\"Idx\": 21, \"Text\": \"<s><|user|> Write a haiku about symmetry. <|end|><|assistant|> Mirrored lines align,\\nIn perfect balance\", \"Prob\": 0.0004132032890836074, \"PCA_0\": -6.980892658233643, \"PCA_1\": -1.8917901515960693}, {\"Idx\": 22, \"Text\": \"<s><|user|> Write a haiku about symmetry. <|end|><|assistant|> Mirrored lines align,\\nIn perfect symmetry\", \"Prob\": 0.00022117177742250903, \"PCA_0\": -6.8589277267456055, \"PCA_1\": -0.9458659291267395}, {\"Idx\": 23, \"Text\": \"<s><|user|> Write a haiku about symmetry. <|end|><|assistant|> Mirrored lines align,\\nIn perfect harm\", \"Prob\": 0.00017224875109867475, \"PCA_0\": -2.9382400512695312, \"PCA_1\": -2.3605053424835205}, {\"Idx\": 24, \"Text\": \"<s><|user|> Write a haiku about symmetry. <|end|><|assistant|> Mirrored lines align,\\nIn symmetry'\", \"Prob\": 0.00034774077032661665, \"PCA_0\": 1.3996964693069458, \"PCA_1\": -2.1086089611053467}, {\"Idx\": 25, \"Text\": \"<s><|user|> Write a haiku about symmetry. <|end|><|assistant|> Mirrored lines align,\\nIn symmetry,\", \"Prob\": 0.00021091542850932727, \"PCA_0\": 2.0784780979156494, \"PCA_1\": 8.744461059570312}, {\"Idx\": 26, \"Text\": \"<s><|user|> Write a haiku about symmetry. <|end|><|assistant|> Mirrored lines align,\\nIn balance,\", \"Prob\": 0.0002275787181301274, \"PCA_0\": 1.3119546175003052, \"PCA_1\": 7.705255508422852}, {\"Idx\": 27, \"Text\": \"<s><|user|> Write a haiku about symmetry. <|end|><|assistant|> Mirrored lines align,\\nIn nature'\", \"Prob\": 0.00014010610033944647, \"PCA_0\": 2.370295286178589, \"PCA_1\": -3.413647413253784}, {\"Idx\": 28, \"Text\": \"<s><|user|> Write a haiku about symmetry. <|end|><|assistant|> Mirrored lines align,\\nInfinite balance\", \"Prob\": 5.8543649210636617e-05, \"PCA_0\": -7.6321916580200195, \"PCA_1\": -1.819604516029358}, {\"Idx\": 29, \"Text\": \"<s><|user|> Write a haiku about symmetry. <|end|><|assistant|> Mirrored lines align,\\nInfinite patterns\", \"Prob\": 1.9006339813538518e-05, \"PCA_0\": -6.537052154541016, \"PCA_1\": -0.9170485734939575}, {\"Idx\": 30, \"Text\": \"<s><|user|> Write a haiku about symmetry. <|end|><|assistant|> Mirrored lines align,\\nInfinite beauty\", \"Prob\": 1.1527927674871614e-05, \"PCA_0\": -5.754266738891602, \"PCA_1\": -2.881291389465332}, {\"Idx\": 31, \"Text\": \"<s><|user|> Write a haiku about symmetry. <|end|><|assistant|> Mirrored lines align,\\nInfinite harm\", \"Prob\": 7.923021303793484e-06, \"PCA_0\": -4.370007038116455, \"PCA_1\": -2.460991382598877}, {\"Idx\": 32, \"Text\": \"<s><|user|> Write a haiku about symmetry. <|end|><|assistant|> Mirrored lines align,\\nInfinite symmetry\", \"Prob\": 7.923021303793484e-06, \"PCA_0\": -7.522658348083496, \"PCA_1\": -1.7529667615890503}, {\"Idx\": 33, \"Text\": \"<s><|user|> Write a haiku about symmetry. <|end|><|assistant|> Mirrored lines align,\\nInfinite ref\", \"Prob\": 6.17045497936955e-06, \"PCA_0\": 1.8844075202941895, \"PCA_1\": -3.2885310649871826}, {\"Idx\": 34, \"Text\": \"<s><|user|> Write a haiku about symmetry. <|end|><|assistant|> Mirrored lines align,\\nInfinite echo\", \"Prob\": 4.80555573338319e-06, \"PCA_0\": -6.673469543457031, \"PCA_1\": -1.4429781436920166}, {\"Idx\": 35, \"Text\": \"<s><|user|> Write a haiku about symmetry. <|end|><|assistant|> Mirrored lines align,\\nInfinite shapes\", \"Prob\": 3.3028070651880914e-06, \"PCA_0\": -4.748194217681885, \"PCA_1\": -1.0587726831436157}, {\"Idx\": 36, \"Text\": \"<s><|user|> Write a haiku about symmetry. <|end|><|assistant|> Mirrored lines align,\\nInfinite dance\", \"Prob\": 2.9147167546068824e-06, \"PCA_0\": -5.867308139801025, \"PCA_1\": -2.278798818588257}, {\"Idx\": 37, \"Text\": \"<s><|user|> Write a haiku about symmetry. <|end|><|assistant|> Mirrored lines align,\\nInfinite in\", \"Prob\": 2.572228622291805e-06, \"PCA_0\": 0.013232186436653137, \"PCA_1\": 3.902240514755249}, {\"Idx\": 38, \"Text\": \"<s><|user|> Write a haiku about symmetry. <|end|><|assistant|> Mirrored lines align,\\nInfinite,\", \"Prob\": 2.572228622291805e-06, \"PCA_0\": 1.888812780380249, \"PCA_1\": 4.576687812805176}, {\"Idx\": 39, \"Text\": \"<s><|user|> Write a haiku about symmetry. <|end|><|assistant|> Mirrored lines align,\\nInfinite forms\", \"Prob\": 2.269983626875399e-06, \"PCA_0\": -5.0398688316345215, \"PCA_1\": -0.3774167597293854}, {\"Idx\": 40, \"Text\": \"<s><|user|> Write a haiku about symmetry. <|end|><|assistant|> Mirrored lines align,\\nInfinite reflection\", \"Prob\": 2.269983626875399e-06, \"PCA_0\": -8.113314628601074, \"PCA_1\": -0.9916321635246277}, {\"Idx\": 41, \"Text\": \"<s><|user|> Write a haiku about symmetry. <|end|><|assistant|> Mirrored lines align,\\nIn harmony\", \"Prob\": 0.00010585953269705285, \"PCA_0\": -2.107685089111328, \"PCA_1\": -1.9609683752059937}, {\"Idx\": 42, \"Text\": \"<s><|user|> Write a haiku about symmetry. <|end|><|assistant|> Mirrored lines align,\\nIn the heart\", \"Prob\": 2.330184175114848e-05, \"PCA_0\": 7.931931972503662, \"PCA_1\": -1.9628000259399414}, {\"Idx\": 43, \"Text\": \"<s><|user|> Write a haiku about symmetry. <|end|><|assistant|> Mirrored lines align,\\nIn the dance\", \"Prob\": 2.783008212988486e-06, \"PCA_0\": 1.5470505952835083, \"PCA_1\": 0.02538260817527771}, {\"Idx\": 44, \"Text\": \"<s><|user|> Write a haiku about symmetry. <|end|><|assistant|> Mirrored lines align,\\nIn the balance\", \"Prob\": 1.687979837585161e-06, \"PCA_0\": -4.120995998382568, \"PCA_1\": -0.8403272032737732}, {\"Idx\": 45, \"Text\": \"<s><|user|> Write a haiku about symmetry. <|end|><|assistant|> Mirrored lines align,\\nIn the quiet\", \"Prob\": 1.4896369415784477e-06, \"PCA_0\": 2.742891788482666, \"PCA_1\": 1.293034553527832}, {\"Idx\": 46, \"Text\": \"<s><|user|> Write a haiku about symmetry. <|end|><|assistant|> Mirrored lines align,\\nIn the still\", \"Prob\": 1.1601304249048283e-06, \"PCA_0\": 4.350349426269531, \"PCA_1\": 1.0890058279037476}, {\"Idx\": 47, \"Text\": \"<s><|user|> Write a haiku about symmetry. <|end|><|assistant|> Mirrored lines align,\\nIn the bal\", \"Prob\": 9.035104442200083e-07, \"PCA_0\": 13.24906063079834, \"PCA_1\": -2.5487022399902344}, {\"Idx\": 48, \"Text\": \"<s><|user|> Write a haiku about symmetry. <|end|><|assistant|> Mirrored lines align,\\nIn the face\", \"Prob\": 7.973451478976502e-07, \"PCA_0\": 2.8804266452789307, \"PCA_1\": -2.1064963340759277}, {\"Idx\": 49, \"Text\": \"<s><|user|> Write a haiku about symmetry. <|end|><|assistant|> Mirrored lines align,\\nIn the center\", \"Prob\": 4.836142841223668e-07, \"PCA_0\": -1.1687345504760742, \"PCA_1\": -1.9081422090530396}, {\"Idx\": 50, \"Text\": \"<s><|user|> Write a haiku about symmetry. <|end|><|assistant|> Mirrored lines align,\\nIn the real\", \"Prob\": 4.267881432700251e-07, \"PCA_0\": 6.298104286193848, \"PCA_1\": -1.1567941904067993}, {\"Idx\": 51, \"Text\": \"<s><|user|> Write a haiku about symmetry. <|end|><|assistant|> Mirrored lines align,\\nIn the calm\", \"Prob\": 4.267881432700251e-07, \"PCA_0\": 4.625377655029297, \"PCA_1\": 0.09189605712890625}, {\"Idx\": 52, \"Text\": \"<s><|user|> Write a haiku about symmetry. <|end|><|assistant|> Mirrored lines align,\\nIn stillness\", \"Prob\": 3.031515354319237e-05, \"PCA_0\": 1.1415103673934937, \"PCA_1\": -0.8275718092918396}, {\"Idx\": 53, \"Text\": \"<s><|user|> Write a haiku about symmetry. <|end|><|assistant|> Mirrored lines align,\\nIn balanced\", \"Prob\": 3.248920269601608e-05, \"PCA_0\": 1.8109649419784546, \"PCA_1\": 2.1970632076263428}, {\"Idx\": 54, \"Text\": \"<s><|user|> Write a haiku about symmetry. <|end|><|assistant|> Mirrored lines align,\\nIn every fol\", \"Prob\": 4.14852721139874e-06, \"PCA_0\": 6.957085609436035, \"PCA_1\": -3.4378294944763184}, {\"Idx\": 55, \"Text\": \"<s><|user|> Write a haiku about symmetry. <|end|><|assistant|> Mirrored lines align,\\nIn every reflection\", \"Prob\": 2.2205466598333323e-06, \"PCA_0\": -5.502079963684082, \"PCA_1\": 0.7564558982849121}, {\"Idx\": 56, \"Text\": \"<s><|user|> Write a haiku about symmetry. <|end|><|assistant|> Mirrored lines align,\\nIn every angle\", \"Prob\": 1.9596256064186966e-06, \"PCA_0\": -4.5388360023498535, \"PCA_1\": -0.4355924725532532}, {\"Idx\": 57, \"Text\": \"<s><|user|> Write a haiku about symmetry. <|end|><|assistant|> Mirrored lines align,\\nIn every half\", \"Prob\": 9.256615841949571e-07, \"PCA_0\": -2.8171093463897705, \"PCA_1\": -1.5527318716049194}, {\"Idx\": 58, \"Text\": \"<s><|user|> Write a haiku about symmetry. <|end|><|assistant|> Mirrored lines align,\\nIn every f\", \"Prob\": 7.209058878402511e-07, \"PCA_0\": 12.393086433410645, \"PCA_1\": -1.7970153093338013}, {\"Idx\": 59, \"Text\": \"<s><|user|> Write a haiku about symmetry. <|end|><|assistant|> Mirrored lines align,\\nIn every end\", \"Prob\": 7.209058878402511e-07, \"PCA_0\": -3.0913379192352295, \"PCA_1\": -1.7915958166122437}, {\"Idx\": 60, \"Text\": \"<s><|user|> Write a haiku about symmetry. <|end|><|assistant|> Mirrored lines align,\\nIn every shape\", \"Prob\": 7.209058878402511e-07, \"PCA_0\": -2.09020733833313, \"PCA_1\": 0.09820230305194855}, {\"Idx\": 61, \"Text\": \"<s><|user|> Write a haiku about symmetry. <|end|><|assistant|> Mirrored lines align,\\nIn every side\", \"Prob\": 6.361972397051242e-07, \"PCA_0\": -2.8773601055145264, \"PCA_1\": -1.7612476348876953}, {\"Idx\": 62, \"Text\": \"<s><|user|> Write a haiku about symmetry. <|end|><|assistant|> Mirrored lines align,\\nIn every form\", \"Prob\": 4.954709095723973e-07, \"PCA_0\": -1.1009323596954346, \"PCA_1\": 2.854395627975464}, {\"Idx\": 63, \"Text\": \"<s><|user|> Write a haiku about symmetry. <|end|><|assistant|> Mirrored lines align,\\nIn every heart\", \"Prob\": 4.954709095723973e-07, \"PCA_0\": 0.7801772356033325, \"PCA_1\": -3.435603380203247}, {\"Idx\": 64, \"Text\": \"<s><|user|> Write a haiku about symmetry. <|end|><|assistant|> Mirrored lines align,\\nIn every aspect\", \"Prob\": 4.954709095723973e-07, \"PCA_0\": -3.3903002738952637, \"PCA_1\": 1.6796836853027344}, {\"Idx\": 65, \"Text\": \"<s><|user|> Write a haiku about symmetry. <|end|><|assistant|> Mirrored lines align,\\nIn every mirror\", \"Prob\": 4.372515399970911e-07, \"PCA_0\": -2.5932509899139404, \"PCA_1\": -1.2930097579956055}, {\"Idx\": 66, \"Text\": \"<s><|user|> Write a haiku about symmetry. <|end|><|assistant|> Mirrored lines align,\\nIn every balance\", \"Prob\": 3.858731387430361e-07, \"PCA_0\": -4.863537311553955, \"PCA_1\": -0.516556978225708}, {\"Idx\": 67, \"Text\": \"<s><|user|> Write a haiku about symmetry. <|end|><|assistant|> Mirrored lines align,\\nIn every face\", \"Prob\": 3.005183112389536e-07, \"PCA_0\": -3.0948095321655273, \"PCA_1\": -1.944964051246643}, {\"Idx\": 68, \"Text\": \"<s><|user|> Write a haiku about symmetry. <|end|><|assistant|> Mirrored lines align,\\nIn every edge\", \"Prob\": 3.005183112389536e-07, \"PCA_0\": -2.6576712131500244, \"PCA_1\": -0.764410674571991}, {\"Idx\": 69, \"Text\": \"<s><|user|> Write a haiku about symmetry. <|end|><|assistant|> Mirrored lines align,\\nIn every curve\", \"Prob\": 2.340438983360555e-07, \"PCA_0\": -2.5696496963500977, \"PCA_1\": -1.0425437688827515}, {\"Idx\": 70, \"Text\": \"<s><|user|> Write a haiku about symmetry. <|end|><|assistant|> Mirrored lines align,\\nIn every leaf\", \"Prob\": 2.340438983360555e-07, \"PCA_0\": -1.2824745178222656, \"PCA_1\": -1.0500922203063965}, {\"Idx\": 71, \"Text\": \"<s><|user|> Write a haiku about symmetry. <|end|><|assistant|> Mirrored lines align,\\nIn every cr\", \"Prob\": 1.8227356335429348e-07, \"PCA_0\": 13.298309326171875, \"PCA_1\": -2.7416694164276123}, {\"Idx\": 72, \"Text\": \"<s><|user|> Write a haiku about symmetry. <|end|><|assistant|> Mirrored lines align,\\nIn every perfect\", \"Prob\": 1.8227356335429348e-07, \"PCA_0\": 0.08113402128219604, \"PCA_1\": 4.484514236450195}, {\"Idx\": 73, \"Text\": \"<s><|user|> Write a haiku about symmetry. <|end|><|assistant|> Mirrored lines align,\\nIn every reflect\", \"Prob\": 1.8227356335429348e-07, \"PCA_0\": -1.8755037784576416, \"PCA_1\": 0.18034324049949646}, {\"Idx\": 74, \"Text\": \"<s><|user|> Write a haiku about symmetry. <|end|><|assistant|> Mirrored lines align,\\nIn every equal\", \"Prob\": 1.6085585105426295e-07, \"PCA_0\": -3.460857629776001, \"PCA_1\": 0.9683918356895447}, {\"Idx\": 75, \"Text\": \"<s><|user|> Write a haiku about symmetry. <|end|><|assistant|> Mirrored lines align,\\nIn every corner\", \"Prob\": 1.6085585105426295e-07, \"PCA_0\": -3.721254348754883, \"PCA_1\": -0.20190618932247162}, {\"Idx\": 76, \"Text\": \"<s><|user|> Write a haiku about symmetry. <|end|><|assistant|> Mirrored lines align,\\nIn every split\", \"Prob\": 1.4195479241931552e-07, \"PCA_0\": -1.6439682245254517, \"PCA_1\": -0.5681730508804321}, {\"Idx\": 77, \"Text\": \"<s><|user|> Write a haiku about symmetry. <|end|><|assistant|> Mirrored lines align,\\nIn every detail\", \"Prob\": 1.2527467015656132e-07, \"PCA_0\": -4.33897066116333, \"PCA_1\": 0.36163654923439026}, {\"Idx\": 78, \"Text\": \"<s><|user|> Write a haiku about symmetry. <|end|><|assistant|> Mirrored lines align,\\nIn every symmetry\", \"Prob\": 1.2527467015656132e-07, \"PCA_0\": -4.931604862213135, \"PCA_1\": 0.35219627618789673}, {\"Idx\": 79, \"Text\": \"<s><|user|> Write a haiku about symmetry. <|end|><|assistant|> Mirrored lines align,\\nIn every stroke\", \"Prob\": 1.2527467015656132e-07, \"PCA_0\": -3.0201923847198486, \"PCA_1\": -0.9771014451980591}, {\"Idx\": 80, \"Text\": \"<s><|user|> Write a haiku about symmetry. <|end|><|assistant|> Mirrored lines align,\\nIn every plane\", \"Prob\": 1.1055450108772113e-07, \"PCA_0\": -3.6891393661499023, \"PCA_1\": -2.0716168880462646}, {\"Idx\": 81, \"Text\": \"<s><|user|> Write a haiku about symmetry. <|end|><|assistant|> Mirrored lines align,\\nIn every glance\", \"Prob\": 1.1055450108772113e-07, \"PCA_0\": -3.6004488468170166, \"PCA_1\": -0.7628645896911621}, {\"Idx\": 82, \"Text\": \"<s><|user|> Write a haiku about symmetry. <|end|><|assistant|> Mirrored lines align,\\nIn every fac\", \"Prob\": 9.756400647779594e-08, \"PCA_0\": 6.011443138122559, \"PCA_1\": -0.7963420152664185}, {\"Idx\": 83, \"Text\": \"<s><|user|> Write a haiku about symmetry. <|end|><|assistant|> Mirrored lines align,\\nIn every pet\", \"Prob\": 9.756400647779594e-08, \"PCA_0\": 7.178086757659912, \"PCA_1\": -1.5037217140197754}, {\"Idx\": 84, \"Text\": \"<s><|user|> Write a haiku about symmetry. <|end|><|assistant|> Mirrored lines align,\\nIn every bal\", \"Prob\": 9.756400647779594e-08, \"PCA_0\": 9.9297513961792, \"PCA_1\": -1.639678955078125}, {\"Idx\": 85, \"Text\": \"<s><|user|> Write a haiku about symmetry. <|end|><|assistant|> Mirrored lines align,\\nIn every tw\", \"Prob\": 8.609993117355569e-08, \"PCA_0\": 10.619494438171387, \"PCA_1\": -2.5050299167633057}, {\"Idx\": 86, \"Text\": \"<s><|user|> Write a haiku about symmetry. <|end|><|assistant|> Mirrored lines align,\\nIn every pattern\", \"Prob\": 8.609993117355569e-08, \"PCA_0\": -3.2171339988708496, \"PCA_1\": 1.6098095178604126}, {\"Idx\": 87, \"Text\": \"<s><|user|> Write a haiku about symmetry. <|end|><|assistant|> Mirrored lines align,\\nIn every right\", \"Prob\": 6.705469475367466e-08, \"PCA_0\": -1.125715970993042, \"PCA_1\": -1.4195476770401}, {\"Idx\": 88, \"Text\": \"<s><|user|> Write a haiku about symmetry. <|end|><|assistant|> Mirrored lines align,\\nIn every ref\", \"Prob\": 6.705469475367466e-08, \"PCA_0\": 3.4978392124176025, \"PCA_1\": -1.7225513458251953}, {\"Idx\": 89, \"Text\": \"<s><|user|> Write a haiku about symmetry. <|end|><|assistant|> Mirrored lines align,\\nIn every line\", \"Prob\": 5.9175558260526104e-08, \"PCA_0\": -1.4257421493530273, \"PCA_1\": -1.0855180025100708}, {\"Idx\": 90, \"Text\": \"<s><|user|> Write a haiku about symmetry. <|end|><|assistant|> Mirrored lines align,\\nIn every element\", \"Prob\": 5.9175558260526104e-08, \"PCA_0\": -4.963245391845703, \"PCA_1\": 0.8373100161552429}, {\"Idx\": 91, \"Text\": \"<s><|user|> Write a haiku about symmetry. <|end|><|assistant|> Mirrored lines align,\\nIn each half\", \"Prob\": 3.635549839705366e-06, \"PCA_0\": 0.20847798883914948, \"PCA_1\": 0.6987101435661316}, {\"Idx\": 92, \"Text\": \"<s><|user|> Write a haiku about symmetry. <|end|><|assistant|> Mirrored lines align,\\nIn each reflection\", \"Prob\": 3.2083614587718133e-06, \"PCA_0\": -3.7564537525177, \"PCA_1\": 2.222766160964966}, {\"Idx\": 93, \"Text\": \"<s><|user|> Write a haiku about symmetry. <|end|><|assistant|> Mirrored lines align,\\nIn each side\", \"Prob\": 2.8313689315793834e-06, \"PCA_0\": 0.7372824549674988, \"PCA_1\": 0.15236437320709229}, {\"Idx\": 94, \"Text\": \"<s><|user|> Write a haiku about symmetry. <|end|><|assistant|> Mirrored lines align,\\nIn each face\", \"Prob\": 1.9459696431413395e-06, \"PCA_0\": -0.1927390694618225, \"PCA_1\": -0.4337629973888397}, {\"Idx\": 95, \"Text\": \"<s><|user|> Write a haiku about symmetry. <|end|><|assistant|> Mirrored lines align,\\nIn each fol\", \"Prob\": 1.3374441329348191e-06, \"PCA_0\": 7.946801662445068, \"PCA_1\": -2.7577152252197266}, {\"Idx\": 96, \"Text\": \"<s><|user|> Write a haiku about symmetry. <|end|><|assistant|> Mirrored lines align,\\nIn each form\", \"Prob\": 3.381587987194866e-07, \"PCA_0\": 1.2344658374786377, \"PCA_1\": 4.149613857269287}, {\"Idx\": 97, \"Text\": \"<s><|user|> Write a haiku about symmetry. <|end|><|assistant|> Mirrored lines align,\\nIn each shape\", \"Prob\": 3.381587987194866e-07, \"PCA_0\": 0.7588232159614563, \"PCA_1\": 2.1154675483703613}, {\"Idx\": 98, \"Text\": \"<s><|user|> Write a haiku about symmetry. <|end|><|assistant|> Mirrored lines align,\\nIn each other\", \"Prob\": 2.984240867892319e-07, \"PCA_0\": 0.1773982048034668, \"PCA_1\": -0.43785560131073}, {\"Idx\": 99, \"Text\": \"<s><|user|> Write a haiku about symmetry. <|end|><|assistant|> Mirrored lines align,\\nIn each end\", \"Prob\": 2.984240867892319e-07, \"PCA_0\": -0.4966340661048889, \"PCA_1\": -0.6201494932174683}]}}, {\"mode\": \"vega-lite\"});\n",
       "</script>"
      ],
      "text/plain": [
       "alt.Chart(...)"
      ]
     },
     "metadata": {},
     "output_type": "display_data"
    }
   ],
   "source": [
    "from sklearn.decomposition import PCA\n",
    "import pandas as pd\n",
    "import altair as alt\n",
    "\n",
    "\n",
    "def graph_embeds(candidates, embed_func):\n",
    "    idxs = []\n",
    "    texts = []\n",
    "    probs = []\n",
    "    embeds = []\n",
    "    for idx, candidate in enumerate(candidates):\n",
    "        idxs.append(idx)\n",
    "        text = tokenizer.decode(candidate.sequence[0])\n",
    "        texts.append(text)\n",
    "        probs.append(candidate.prob)\n",
    "        embeds.append(embed_func(text))\n",
    "            \n",
    "    pca = PCA(n_components=2)\n",
    "    pca_embeds = pca.fit_transform(torch.stack(embeds).float().numpy())\n",
    "        \n",
    "    data = pd.DataFrame({\n",
    "        'Idx': idxs,\n",
    "        'Text': texts,\n",
    "        'Prob': probs,\n",
    "        'PCA_0': map(lambda p: p[0], pca_embeds),\n",
    "        'PCA_1': map(lambda p: p[1], pca_embeds),\n",
    "    })\n",
    "    \n",
    "    display(data)\n",
    "    \n",
    "    display(alt.Chart(data).mark_point(size=50).encode(\n",
    "        x='PCA_0',\n",
    "        y='PCA_1',\n",
    "        color='Prob',\n",
    "        tooltip=['Idx', 'Prob', 'Text']\n",
    "    ).interactive())\n",
    "    \n",
    "graph_embeds(candidates, lambda x: embed(x, prompt_prefix=''))\n",
    "graph_embeds(candidates, lambda x: embed(x, prompt_prefix='What is the format of this text?'))"
   ]
  },
  {
   "cell_type": "code",
   "execution_count": 45,
   "id": "db0d4b06-8e2b-4002-b3e8-032c3a8c0b06",
   "metadata": {
    "tags": []
   },
   "outputs": [
    {
     "name": "stderr",
     "output_type": "stream",
     "text": [
      "100%|██████████| 10/10 [00:00<00:00, 11.59it/s]\n"
     ]
    },
    {
     "data": {
      "image/png": "[encoded data removed]",
      "text/plain": [
       "<Figure size 640x480 with 1 Axes>"
      ]
     },
     "metadata": {},
     "output_type": "display_data"
    },
    {
     "name": "stderr",
     "output_type": "stream",
     "text": [
      "100%|██████████| 10/10 [00:00<00:00, 15.63it/s]\n"
     ]
    },
    {
     "data": {
      "image/png": "[encoded data removed]",
      "text/plain": [
       "<Figure size 640x480 with 1 Axes>"
      ]
     },
     "metadata": {},
     "output_type": "display_data"
    }
   ],
   "source": [
    "import matplotlib.pyplot as plt\n",
    "import numpy as np\n",
    "import torch.nn as nn\n",
    "import tqdm\n",
    "\n",
    "def embed_matrix(candidates, embed_func):\n",
    "    embeds = [embed_func(arr_item) for arr_item in tqdm.tqdm(candidates)]\n",
    "\n",
    "    matrix = np.zeros((len(embeds), len(embeds)))\n",
    "    cos = nn.CosineSimilarity(dim=0)\n",
    "\n",
    "    for i in range(len(embeds)):\n",
    "        for j in range(len(embeds)):\n",
    "            matrix[i,j] = cos(embeds[i], embeds[j])\n",
    "\n",
    "    plt.imshow(matrix, cmap='hot', interpolation='nearest')\n",
    "    plt.show()\n",
    "\n",
    "embed_matrix(candidates[:10], lambda x: embed(x, prompt_prefix=''))\n",
    "embed_matrix(candidates[:10], lambda x: embed(x, prompt_prefix='What is the format of this text?'))"
   ]
  }
 ],
 "metadata": {
  "kernelspec": {
   "display_name": "conda_pytorch_p310",
   "language": "python",
   "name": "conda_pytorch_p310"
  },
  "language_info": {
   "codemirror_mode": {
    "name": "ipython",
    "version": 3
   },
   "file_extension": ".py",
   "mimetype": "text/x-python",
   "name": "python",
   "nbconvert_exporter": "python",
   "pygments_lexer": "ipython3",
   "version": "3.10.14"
  }
 },
 "nbformat": 4,
 "nbformat_minor": 5
}
