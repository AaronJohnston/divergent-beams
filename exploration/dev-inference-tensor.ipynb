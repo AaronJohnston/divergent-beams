{
 "cells": [
  {
   "cell_type": "code",
   "execution_count": 4,
   "id": "20264819-2d9c-40f4-9fcc-a2b7b019321c",
   "metadata": {},
   "outputs": [
    {
     "name": "stdout",
     "output_type": "stream",
     "text": [
      "Requirement already satisfied: transformers in /home/ec2-user/anaconda3/envs/pytorch_p310/lib/python3.10/site-packages (4.41.2)\n",
      "Requirement already satisfied: accelerate in /home/ec2-user/anaconda3/envs/pytorch_p310/lib/python3.10/site-packages (0.31.0)\n",
      "Requirement already satisfied: optimum in /home/ec2-user/anaconda3/envs/pytorch_p310/lib/python3.10/site-packages (1.20.0)\n",
      "Requirement already satisfied: nvidia-ml-py in /home/ec2-user/anaconda3/envs/pytorch_p310/lib/python3.10/site-packages (12.535.133)\n",
      "Requirement already satisfied: filelock in /home/ec2-user/anaconda3/envs/pytorch_p310/lib/python3.10/site-packages (from transformers) (3.13.3)\n",
      "Requirement already satisfied: huggingface-hub<1.0,>=0.23.0 in /home/ec2-user/anaconda3/envs/pytorch_p310/lib/python3.10/site-packages (from transformers) (0.23.3)\n",
      "Requirement already satisfied: numpy>=1.17 in /home/ec2-user/anaconda3/envs/pytorch_p310/lib/python3.10/site-packages (from transformers) (1.26.4)\n",
      "Requirement already satisfied: packaging>=20.0 in /home/ec2-user/anaconda3/envs/pytorch_p310/lib/python3.10/site-packages (from transformers) (21.3)\n",
      "Requirement already satisfied: pyyaml>=5.1 in /home/ec2-user/anaconda3/envs/pytorch_p310/lib/python3.10/site-packages (from transformers) (6.0.1)\n",
      "Requirement already satisfied: regex!=2019.12.17 in /home/ec2-user/anaconda3/envs/pytorch_p310/lib/python3.10/site-packages (from transformers) (2024.5.15)\n",
      "Requirement already satisfied: requests in /home/ec2-user/anaconda3/envs/pytorch_p310/lib/python3.10/site-packages (from transformers) (2.32.3)\n",
      "Requirement already satisfied: tokenizers<0.20,>=0.19 in /home/ec2-user/anaconda3/envs/pytorch_p310/lib/python3.10/site-packages (from transformers) (0.19.1)\n",
      "Requirement already satisfied: safetensors>=0.4.1 in /home/ec2-user/anaconda3/envs/pytorch_p310/lib/python3.10/site-packages (from transformers) (0.4.3)\n",
      "Requirement already satisfied: tqdm>=4.27 in /home/ec2-user/anaconda3/envs/pytorch_p310/lib/python3.10/site-packages (from transformers) (4.66.2)\n",
      "Requirement already satisfied: psutil in /home/ec2-user/anaconda3/envs/pytorch_p310/lib/python3.10/site-packages (from accelerate) (5.9.8)\n",
      "Requirement already satisfied: torch>=1.10.0 in /home/ec2-user/anaconda3/envs/pytorch_p310/lib/python3.10/site-packages (from accelerate) (2.1.0)\n",
      "Requirement already satisfied: coloredlogs in /home/ec2-user/anaconda3/envs/pytorch_p310/lib/python3.10/site-packages (from optimum) (15.0.1)\n",
      "Requirement already satisfied: sympy in /home/ec2-user/anaconda3/envs/pytorch_p310/lib/python3.10/site-packages (from optimum) (1.12)\n",
      "Requirement already satisfied: datasets in /home/ec2-user/anaconda3/envs/pytorch_p310/lib/python3.10/site-packages (from optimum) (2.19.2)\n",
      "Requirement already satisfied: fsspec>=2023.5.0 in /home/ec2-user/anaconda3/envs/pytorch_p310/lib/python3.10/site-packages (from huggingface-hub<1.0,>=0.23.0->transformers) (2024.3.1)\n",
      "Requirement already satisfied: typing-extensions>=3.7.4.3 in /home/ec2-user/anaconda3/envs/pytorch_p310/lib/python3.10/site-packages (from huggingface-hub<1.0,>=0.23.0->transformers) (4.10.0)\n",
      "Requirement already satisfied: pyparsing!=3.0.5,>=2.0.2 in /home/ec2-user/anaconda3/envs/pytorch_p310/lib/python3.10/site-packages (from packaging>=20.0->transformers) (3.1.2)\n",
      "Requirement already satisfied: networkx in /home/ec2-user/anaconda3/envs/pytorch_p310/lib/python3.10/site-packages (from torch>=1.10.0->accelerate) (3.2.1)\n",
      "Requirement already satisfied: jinja2 in /home/ec2-user/anaconda3/envs/pytorch_p310/lib/python3.10/site-packages (from torch>=1.10.0->accelerate) (3.1.3)\n",
      "Requirement already satisfied: sentencepiece!=0.1.92,>=0.1.91 in /home/ec2-user/anaconda3/envs/pytorch_p310/lib/python3.10/site-packages (from transformers[sentencepiece]<4.42.0,>=4.26.0->optimum) (0.2.0)\n",
      "Requirement already satisfied: protobuf in /home/ec2-user/anaconda3/envs/pytorch_p310/lib/python3.10/site-packages (from transformers[sentencepiece]<4.42.0,>=4.26.0->optimum) (4.25.3)\n",
      "Requirement already satisfied: humanfriendly>=9.1 in /home/ec2-user/anaconda3/envs/pytorch_p310/lib/python3.10/site-packages (from coloredlogs->optimum) (10.0)\n",
      "Requirement already satisfied: pyarrow>=12.0.0 in /home/ec2-user/anaconda3/envs/pytorch_p310/lib/python3.10/site-packages (from datasets->optimum) (15.0.2)\n",
      "Requirement already satisfied: pyarrow-hotfix in /home/ec2-user/anaconda3/envs/pytorch_p310/lib/python3.10/site-packages (from datasets->optimum) (0.6)\n",
      "Requirement already satisfied: dill<0.3.9,>=0.3.0 in /home/ec2-user/anaconda3/envs/pytorch_p310/lib/python3.10/site-packages (from datasets->optimum) (0.3.8)\n",
      "Requirement already satisfied: pandas in /home/ec2-user/anaconda3/envs/pytorch_p310/lib/python3.10/site-packages (from datasets->optimum) (1.5.3)\n",
      "Requirement already satisfied: xxhash in /home/ec2-user/anaconda3/envs/pytorch_p310/lib/python3.10/site-packages (from datasets->optimum) (3.4.1)\n",
      "Requirement already satisfied: multiprocess in /home/ec2-user/anaconda3/envs/pytorch_p310/lib/python3.10/site-packages (from datasets->optimum) (0.70.16)\n",
      "Requirement already satisfied: aiohttp in /home/ec2-user/anaconda3/envs/pytorch_p310/lib/python3.10/site-packages (from datasets->optimum) (3.9.5)\n",
      "Requirement already satisfied: charset-normalizer<4,>=2 in /home/ec2-user/anaconda3/envs/pytorch_p310/lib/python3.10/site-packages (from requests->transformers) (3.3.2)\n",
      "Requirement already satisfied: idna<4,>=2.5 in /home/ec2-user/anaconda3/envs/pytorch_p310/lib/python3.10/site-packages (from requests->transformers) (3.6)\n",
      "Requirement already satisfied: urllib3<3,>=1.21.1 in /home/ec2-user/anaconda3/envs/pytorch_p310/lib/python3.10/site-packages (from requests->transformers) (2.2.1)\n",
      "Requirement already satisfied: certifi>=2017.4.17 in /home/ec2-user/anaconda3/envs/pytorch_p310/lib/python3.10/site-packages (from requests->transformers) (2024.2.2)\n",
      "Requirement already satisfied: mpmath>=0.19 in /home/ec2-user/anaconda3/envs/pytorch_p310/lib/python3.10/site-packages (from sympy->optimum) (1.3.0)\n",
      "Requirement already satisfied: aiosignal>=1.1.2 in /home/ec2-user/anaconda3/envs/pytorch_p310/lib/python3.10/site-packages (from aiohttp->datasets->optimum) (1.3.1)\n",
      "Requirement already satisfied: attrs>=17.3.0 in /home/ec2-user/anaconda3/envs/pytorch_p310/lib/python3.10/site-packages (from aiohttp->datasets->optimum) (23.2.0)\n",
      "Requirement already satisfied: frozenlist>=1.1.1 in /home/ec2-user/anaconda3/envs/pytorch_p310/lib/python3.10/site-packages (from aiohttp->datasets->optimum) (1.4.1)\n",
      "Requirement already satisfied: multidict<7.0,>=4.5 in /home/ec2-user/anaconda3/envs/pytorch_p310/lib/python3.10/site-packages (from aiohttp->datasets->optimum) (6.0.5)\n",
      "Requirement already satisfied: yarl<2.0,>=1.0 in /home/ec2-user/anaconda3/envs/pytorch_p310/lib/python3.10/site-packages (from aiohttp->datasets->optimum) (1.9.4)\n",
      "Requirement already satisfied: async-timeout<5.0,>=4.0 in /home/ec2-user/anaconda3/envs/pytorch_p310/lib/python3.10/site-packages (from aiohttp->datasets->optimum) (4.0.3)\n",
      "Requirement already satisfied: MarkupSafe>=2.0 in /home/ec2-user/anaconda3/envs/pytorch_p310/lib/python3.10/site-packages (from jinja2->torch>=1.10.0->accelerate) (2.1.5)\n",
      "Requirement already satisfied: python-dateutil>=2.8.1 in /home/ec2-user/anaconda3/envs/pytorch_p310/lib/python3.10/site-packages (from pandas->datasets->optimum) (2.9.0)\n",
      "Requirement already satisfied: pytz>=2020.1 in /home/ec2-user/anaconda3/envs/pytorch_p310/lib/python3.10/site-packages (from pandas->datasets->optimum) (2024.1)\n",
      "Requirement already satisfied: six>=1.5 in /home/ec2-user/anaconda3/envs/pytorch_p310/lib/python3.10/site-packages (from python-dateutil>=2.8.1->pandas->datasets->optimum) (1.16.0)\n"
     ]
    }
   ],
   "source": [
    "!pip install transformers accelerate optimum nvidia-ml-py"
   ]
  },
  {
   "cell_type": "code",
   "execution_count": 2,
   "id": "b2d0609e-c769-43dc-926b-f5b41beda157",
   "metadata": {},
   "outputs": [
    {
     "data": {
      "text/plain": [
       "<torch._C.Generator at 0x7f2acb86e1f0>"
      ]
     },
     "execution_count": 2,
     "metadata": {},
     "output_type": "execute_result"
    }
   ],
   "source": [
    "from transformers.utils import is_flash_attn_2_available\n",
    "from transformers import AutoModelForCausalLM, AutoTokenizer, TextStreamer\n",
    "import numpy as np\n",
    "import torch.nn.functional as F\n",
    "import torch\n",
    "from datetime import timedelta\n",
    "import time\n",
    "from collections import namedtuple\n",
    "import json\n",
    "from sklearn.cluster import KMeans\n",
    "\n",
    "torch.random.manual_seed(0)"
   ]
  },
  {
   "cell_type": "code",
   "execution_count": 36,
   "id": "e9112e61-a3e7-4ea5-853e-f27145f37e09",
   "metadata": {
    "tags": []
   },
   "outputs": [],
   "source": [
    "\n",
    "\n",
    "from pynvml import *\n",
    "\n",
    "def check_gpu(step):\n",
    "    nvmlInit()\n",
    "    handle = nvmlDeviceGetHandleByIndex(0)\n",
    "    info = nvmlDeviceGetMemoryInfo(handle)\n",
    "    print(f\"{step}: GPU memory used: {info.used // 1024**2} MB.\")\n",
    "    \n",
    "def D(obj, label=None, c=True):\n",
    "    print()\n",
    "    if label:\n",
    "        print(label)\n",
    "        \n",
    "    if isinstance(obj, tuple):\n",
    "        print('tuple size', len(obj), ':')\n",
    "        if c: # Contents\n",
    "            display(obj)\n",
    "    elif isinstance(obj, torch.Tensor) or isinstance(obj, np.ndarray):\n",
    "        print(obj.shape)\n",
    "        if c: # Contents\n",
    "            display(obj)\n",
    "    else:\n",
    "        if c: # Contents\n",
    "            display(obj)\n",
    "            \n",
    "def DS(obj, label=None):\n",
    "    D(obj, label, c=False)\n",
    "    \n"
   ]
  },
  {
   "cell_type": "code",
   "execution_count": 42,
   "id": "a0aa18d7-acb5-412f-8495-8483dbe71a61",
   "metadata": {
    "tags": []
   },
   "outputs": [
    {
     "name": "stdout",
     "output_type": "stream",
     "text": [
      "Initializing model...\n"
     ]
    },
    {
     "name": "stderr",
     "output_type": "stream",
     "text": [
      "WARNING:transformers_modules.microsoft.Phi-3-mini-4k-instruct.ff07dc01615f8113924aed013115ab2abd32115b.modeling_phi3:`flash-attention` package not found, consider installing for better performance: No module named 'flash_attn'.\n",
      "WARNING:transformers_modules.microsoft.Phi-3-mini-4k-instruct.ff07dc01615f8113924aed013115ab2abd32115b.modeling_phi3:Current `flash-attention` does not support `window_size`. Either upgrade or use `attn_implementation='eager'`.\n"
     ]
    },
    {
     "data": {
      "application/vnd.jupyter.widget-view+json": {
       "model_id": "c6a3e42f79e94b7ebb5f3d32f04f839a",
       "version_major": 2,
       "version_minor": 0
      },
      "text/plain": [
       "Loading checkpoint shards:   0%|          | 0/2 [00:00<?, ?it/s]"
      ]
     },
     "metadata": {},
     "output_type": "display_data"
    },
    {
     "name": "stderr",
     "output_type": "stream",
     "text": [
      "WARNING:root:Some parameters are on the meta device device because they were offloaded to the cpu.\n",
      "Special tokens have been added in the vocabulary, make sure the associated word embeddings are fine-tuned or trained.\n"
     ]
    },
    {
     "name": "stdout",
     "output_type": "stream",
     "text": [
      "Initializing tokenizer...\n",
      "\n",
      "input_ids\n",
      "torch.Size([1, 11])\n"
     ]
    },
    {
     "data": {
      "text/plain": [
       "tensor([[    1, 32010,  1724,   338,   278,  9939, 14378, 29973, 29871, 32007,\n",
       "         32001]])"
      ]
     },
     "metadata": {},
     "output_type": "display_data"
    },
    {
     "name": "stdout",
     "output_type": "stream",
     "text": [
      "\n",
      "num_batches\n"
     ]
    },
    {
     "data": {
      "text/plain": [
       "1"
      ]
     },
     "metadata": {},
     "output_type": "display_data"
    },
    {
     "name": "stdout",
     "output_type": "stream",
     "text": [
      "infer start: GPU memory used: 15603 MB.\n",
      "\n",
      "batch_candidates\n",
      "torch.Size([1, 11])\n",
      "\n",
      "batch_candidate_logprobs\n",
      "torch.Size([1])\n",
      "\n",
      "batch_logits\n",
      "torch.Size([1, 11, 32064])\n",
      "\n",
      "hidden_states[-1]\n",
      "torch.Size([1, 11, 3072])\n",
      "infer - after batch run: GPU memory used: 15799 MB.\n",
      "FARTHEST NEIGHBORS %%%%%%%%%%%%%%%%%%%%%%%%%%%%%%%%\n",
      "\n",
      "candidates\n",
      "torch.Size([1, 11])\n"
     ]
    },
    {
     "data": {
      "text/plain": [
       "tensor([[    1, 32010,  1724,   338,   278,  9939, 14378, 29973, 29871, 32007,\n",
       "         32001]], device='cuda:0')"
      ]
     },
     "metadata": {},
     "output_type": "display_data"
    },
    {
     "name": "stdout",
     "output_type": "stream",
     "text": [
      "\n",
      "candidate_logprobs\n",
      "torch.Size([1])\n"
     ]
    },
    {
     "data": {
      "text/plain": [
       "tensor([0.], device='cuda:0')"
      ]
     },
     "metadata": {},
     "output_type": "display_data"
    },
    {
     "name": "stdout",
     "output_type": "stream",
     "text": [
      "\n",
      "selected\n",
      "torch.Size([1])\n"
     ]
    },
    {
     "data": {
      "text/plain": [
       "tensor([True], device='cuda:0')"
      ]
     },
     "metadata": {},
     "output_type": "display_data"
    },
    {
     "name": "stdout",
     "output_type": "stream",
     "text": [
      "\n",
      "selected_embeddings\n",
      "torch.Size([1, 3072])\n"
     ]
    },
    {
     "data": {
      "text/plain": [
       "tensor([[-0.7383,  1.3906,  1.9766,  ...,  2.1094, -0.7656, -0.1934]],\n",
       "       device='cuda:0', dtype=torch.bfloat16)"
      ]
     },
     "metadata": {},
     "output_type": "display_data"
    },
    {
     "name": "stdout",
     "output_type": "stream",
     "text": [
      "\n",
      "selected_embeddings_view\n",
      "torch.Size([1, 3072, 1])\n"
     ]
    },
    {
     "data": {
      "text/plain": [
       "tensor([[[-0.7383],\n",
       "         [ 1.3906],\n",
       "         [ 1.9766],\n",
       "         ...,\n",
       "         [ 2.1094],\n",
       "         [-0.7656],\n",
       "         [-0.1934]]], device='cuda:0', dtype=torch.bfloat16)"
      ]
     },
     "metadata": {},
     "output_type": "display_data"
    },
    {
     "name": "stdout",
     "output_type": "stream",
     "text": [
      "\n",
      "candidate logprobs unsqueeze\n",
      "torch.Size([1, 3072, 1])\n"
     ]
    },
    {
     "data": {
      "text/plain": [
       "tensor([[[-0.7383],\n",
       "         [ 1.3906],\n",
       "         [ 1.9766],\n",
       "         ...,\n",
       "         [ 2.1094],\n",
       "         [-0.7656],\n",
       "         [-0.1934]]], device='cuda:0', dtype=torch.bfloat16)"
      ]
     },
     "metadata": {},
     "output_type": "display_data"
    },
    {
     "name": "stdout",
     "output_type": "stream",
     "text": [
      "\n",
      "cosine_distances\n",
      "torch.Size([1, 1])\n"
     ]
    },
    {
     "data": {
      "text/plain": [
       "tensor([[1.0078]], device='cuda:0', dtype=torch.bfloat16)"
      ]
     },
     "metadata": {},
     "output_type": "display_data"
    },
    {
     "name": "stdout",
     "output_type": "stream",
     "text": [
      "\n",
      "min_distances\n",
      "torch.Size([1])\n"
     ]
    },
    {
     "data": {
      "text/plain": [
       "tensor([1.0078], device='cuda:0', dtype=torch.bfloat16)"
      ]
     },
     "metadata": {},
     "output_type": "display_data"
    },
    {
     "name": "stdout",
     "output_type": "stream",
     "text": [
      "\n",
      "min_remaining_distances\n",
      "torch.Size([1])\n"
     ]
    },
    {
     "data": {
      "text/plain": [
       "tensor([0.], device='cuda:0', dtype=torch.bfloat16)"
      ]
     },
     "metadata": {},
     "output_type": "display_data"
    },
    {
     "name": "stdout",
     "output_type": "stream",
     "text": [
      "\n",
      "selected (end of loop)\n",
      "torch.Size([1])\n"
     ]
    },
    {
     "data": {
      "text/plain": [
       "tensor([True], device='cuda:0')"
      ]
     },
     "metadata": {},
     "output_type": "display_data"
    },
    {
     "name": "stdout",
     "output_type": "stream",
     "text": [
      "\n",
      "candidates\n",
      "torch.Size([1, 11])\n"
     ]
    },
    {
     "data": {
      "text/plain": [
       "tensor([[    1, 32010,  1724,   338,   278,  9939, 14378, 29973, 29871, 32007,\n",
       "         32001]], device='cuda:0')"
      ]
     },
     "metadata": {},
     "output_type": "display_data"
    },
    {
     "name": "stdout",
     "output_type": "stream",
     "text": [
      "\n",
      "candidate_logprobs\n",
      "torch.Size([1])\n"
     ]
    },
    {
     "data": {
      "text/plain": [
       "tensor([0.], device='cuda:0')"
      ]
     },
     "metadata": {},
     "output_type": "display_data"
    },
    {
     "name": "stdout",
     "output_type": "stream",
     "text": [
      "\n",
      "last_tok_logits\n",
      "torch.Size([1, 32064])\n"
     ]
    },
    {
     "data": {
      "text/plain": [
       "tensor([[ 5.7812, -1.4688, -3.2969,  ...,  0.0000,  0.0000,  0.0000]],\n",
       "       device='cuda:0')"
      ]
     },
     "metadata": {},
     "output_type": "display_data"
    },
    {
     "name": "stdout",
     "output_type": "stream",
     "text": [
      "\n",
      "sorted_logits\n",
      "torch.Size([1, 32064])\n",
      "\n",
      "sorted_indices\n",
      "torch.Size([1, 32064])\n",
      "\n",
      "sorted_probs\n",
      "torch.Size([1, 32064])\n"
     ]
    },
    {
     "data": {
      "text/plain": [
       "tensor([[9.2405e-01, 7.5850e-02, 8.8812e-05,  ..., 1.1622e-21, 7.0490e-22,\n",
       "         3.7730e-22]], device='cuda:0')"
      ]
     },
     "metadata": {},
     "output_type": "display_data"
    },
    {
     "data": {
      "text/plain": [
       "tensor([1.0000], device='cuda:0')"
      ]
     },
     "metadata": {},
     "output_type": "display_data"
    },
    {
     "name": "stdout",
     "output_type": "stream",
     "text": [
      "\n",
      "cum_probs\n",
      "torch.Size([1, 32064])\n"
     ]
    },
    {
     "data": {
      "text/plain": [
       "tensor([[0.9240, 0.9999, 1.0000,  ..., 1.0000, 1.0000, 1.0000]],\n",
       "       device='cuda:0')"
      ]
     },
     "metadata": {},
     "output_type": "display_data"
    },
    {
     "name": "stdout",
     "output_type": "stream",
     "text": [
      "\n",
      "keep_indices\n",
      "torch.Size([1, 32064])\n"
     ]
    },
    {
     "data": {
      "text/plain": [
       "tensor([[ True, False, False,  ..., False, False, False]], device='cuda:0')"
      ]
     },
     "metadata": {},
     "output_type": "display_data"
    },
    {
     "name": "stdout",
     "output_type": "stream",
     "text": [
      "\n",
      "keep_indices after top_k\n",
      "torch.Size([1, 32064])\n"
     ]
    },
    {
     "data": {
      "text/plain": [
       "tensor([[ True, False, False,  ..., False, False, False]], device='cuda:0')"
      ]
     },
     "metadata": {},
     "output_type": "display_data"
    },
    {
     "name": "stdout",
     "output_type": "stream",
     "text": [
      "\n",
      "new_candidate_parents\n",
      "torch.Size([1])\n"
     ]
    },
    {
     "data": {
      "text/plain": [
       "tensor([0], device='cuda:0')"
      ]
     },
     "metadata": {},
     "output_type": "display_data"
    },
    {
     "name": "stdout",
     "output_type": "stream",
     "text": [
      "\n",
      "carryover_candidates\n",
      "torch.Size([1, 11])\n"
     ]
    },
    {
     "data": {
      "text/plain": [
       "tensor([[    1, 32010,  1724,   338,   278,  9939, 14378, 29973, 29871, 32007,\n",
       "         32001]], device='cuda:0')"
      ]
     },
     "metadata": {},
     "output_type": "display_data"
    },
    {
     "name": "stdout",
     "output_type": "stream",
     "text": [
      "\n",
      "carryover_candidate_logprobs\n",
      "torch.Size([1])\n"
     ]
    },
    {
     "data": {
      "text/plain": [
       "tensor([0.], device='cuda:0')"
      ]
     },
     "metadata": {},
     "output_type": "display_data"
    },
    {
     "name": "stdout",
     "output_type": "stream",
     "text": [
      "\n",
      "new_candidate_toks\n",
      "torch.Size([1, 1])\n"
     ]
    },
    {
     "data": {
      "text/plain": [
       "tensor([[450]], device='cuda:0')"
      ]
     },
     "metadata": {},
     "output_type": "display_data"
    },
    {
     "name": "stdout",
     "output_type": "stream",
     "text": [
      "\n",
      "new_candidate_tok_logprobs\n",
      "torch.Size([1])\n"
     ]
    },
    {
     "data": {
      "text/plain": [
       "tensor([-0.0790], device='cuda:0')"
      ]
     },
     "metadata": {},
     "output_type": "display_data"
    },
    {
     "name": "stdout",
     "output_type": "stream",
     "text": [
      "\n",
      "new_candidates\n",
      "torch.Size([1, 12])\n"
     ]
    },
    {
     "data": {
      "text/plain": [
       "tensor([[    1, 32010,  1724,   338,   278,  9939, 14378, 29973, 29871, 32007,\n",
       "         32001,   450]], device='cuda:0')"
      ]
     },
     "metadata": {},
     "output_type": "display_data"
    },
    {
     "name": "stdout",
     "output_type": "stream",
     "text": [
      "\n",
      "new_candidate_logprobs\n",
      "torch.Size([1])\n"
     ]
    },
    {
     "data": {
      "text/plain": [
       "tensor([-0.0790], device='cuda:0')"
      ]
     },
     "metadata": {},
     "output_type": "display_data"
    },
    {
     "name": "stdout",
     "output_type": "stream",
     "text": [
      "TOP P PRIOR 0: (4569.977904692) 1 candidates, 0.023935557000186236 inference time, 0.023938597000778827 total time\n",
      "event: message\n",
      "id: 0-p\n",
      "data: {\"id\": \"0-p\", \"level_type\": \"sample\", \"duration\": 0.023935557000186236, \"nodes\": [{\"content\": \"\\u2581The\", \"parent\": 0, \"prob\": 0.924048125743866}]}\n",
      "\n",
      "\n",
      "\n",
      "====================================\n",
      "\n",
      "TOP P AFTER 0: (4569.978240156) 1 candidates, 0.023935557000186236 inference time, 0.024273332000120718 total time\n",
      "\n",
      "num_batches\n"
     ]
    },
    {
     "data": {
      "text/plain": [
       "1"
      ]
     },
     "metadata": {},
     "output_type": "display_data"
    },
    {
     "name": "stdout",
     "output_type": "stream",
     "text": [
      "infer start: GPU memory used: 15799 MB.\n",
      "\n",
      "batch_candidates\n",
      "torch.Size([1, 12])\n",
      "\n",
      "batch_candidate_logprobs\n",
      "torch.Size([1])\n",
      "\n",
      "batch_logits\n",
      "torch.Size([1, 12, 32064])\n",
      "\n",
      "hidden_states[-1]\n",
      "torch.Size([1, 12, 3072])\n",
      "infer - after batch run: GPU memory used: 15799 MB.\n",
      "FARTHEST NEIGHBORS %%%%%%%%%%%%%%%%%%%%%%%%%%%%%%%%\n",
      "\n",
      "candidates\n",
      "torch.Size([1, 12])\n"
     ]
    },
    {
     "data": {
      "text/plain": [
       "tensor([[    1, 32010,  1724,   338,   278,  9939, 14378, 29973, 29871, 32007,\n",
       "         32001,   450]], device='cuda:0')"
      ]
     },
     "metadata": {},
     "output_type": "display_data"
    },
    {
     "name": "stdout",
     "output_type": "stream",
     "text": [
      "\n",
      "candidate_logprobs\n",
      "torch.Size([1])\n"
     ]
    },
    {
     "data": {
      "text/plain": [
       "tensor([-0.0790], device='cuda:0')"
      ]
     },
     "metadata": {},
     "output_type": "display_data"
    },
    {
     "name": "stdout",
     "output_type": "stream",
     "text": [
      "\n",
      "selected\n",
      "torch.Size([1])\n"
     ]
    },
    {
     "data": {
      "text/plain": [
       "tensor([True], device='cuda:0')"
      ]
     },
     "metadata": {},
     "output_type": "display_data"
    },
    {
     "name": "stdout",
     "output_type": "stream",
     "text": [
      "\n",
      "selected_embeddings\n",
      "torch.Size([1, 3072])\n"
     ]
    },
    {
     "data": {
      "text/plain": [
       "tensor([[-0.5547,  0.8164,  1.5469,  ...,  0.9648, -1.7188,  0.1953]],\n",
       "       device='cuda:0', dtype=torch.bfloat16)"
      ]
     },
     "metadata": {},
     "output_type": "display_data"
    },
    {
     "name": "stdout",
     "output_type": "stream",
     "text": [
      "\n",
      "selected_embeddings_view\n",
      "torch.Size([1, 3072, 1])\n"
     ]
    },
    {
     "data": {
      "text/plain": [
       "tensor([[[-0.5547],\n",
       "         [ 0.8164],\n",
       "         [ 1.5469],\n",
       "         ...,\n",
       "         [ 0.9648],\n",
       "         [-1.7188],\n",
       "         [ 0.1953]]], device='cuda:0', dtype=torch.bfloat16)"
      ]
     },
     "metadata": {},
     "output_type": "display_data"
    },
    {
     "name": "stdout",
     "output_type": "stream",
     "text": [
      "\n",
      "candidate logprobs unsqueeze\n",
      "torch.Size([1, 3072, 1])\n"
     ]
    },
    {
     "data": {
      "text/plain": [
       "tensor([[[-0.5547],\n",
       "         [ 0.8164],\n",
       "         [ 1.5469],\n",
       "         ...,\n",
       "         [ 0.9648],\n",
       "         [-1.7188],\n",
       "         [ 0.1953]]], device='cuda:0', dtype=torch.bfloat16)"
      ]
     },
     "metadata": {},
     "output_type": "display_data"
    },
    {
     "name": "stdout",
     "output_type": "stream",
     "text": [
      "\n",
      "cosine_distances\n",
      "torch.Size([1, 1])\n"
     ]
    },
    {
     "data": {
      "text/plain": [
       "tensor([[1.0078]], device='cuda:0', dtype=torch.bfloat16)"
      ]
     },
     "metadata": {},
     "output_type": "display_data"
    },
    {
     "name": "stdout",
     "output_type": "stream",
     "text": [
      "\n",
      "min_distances\n",
      "torch.Size([1])\n"
     ]
    },
    {
     "data": {
      "text/plain": [
       "tensor([1.0078], device='cuda:0', dtype=torch.bfloat16)"
      ]
     },
     "metadata": {},
     "output_type": "display_data"
    },
    {
     "name": "stdout",
     "output_type": "stream",
     "text": [
      "\n",
      "min_remaining_distances\n",
      "torch.Size([1])\n"
     ]
    },
    {
     "data": {
      "text/plain": [
       "tensor([0.], device='cuda:0', dtype=torch.bfloat16)"
      ]
     },
     "metadata": {},
     "output_type": "display_data"
    },
    {
     "name": "stdout",
     "output_type": "stream",
     "text": [
      "\n",
      "selected (end of loop)\n",
      "torch.Size([1])\n"
     ]
    },
    {
     "data": {
      "text/plain": [
       "tensor([True], device='cuda:0')"
      ]
     },
     "metadata": {},
     "output_type": "display_data"
    },
    {
     "name": "stdout",
     "output_type": "stream",
     "text": [
      "\n",
      "candidates\n",
      "torch.Size([1, 12])\n"
     ]
    },
    {
     "data": {
      "text/plain": [
       "tensor([[    1, 32010,  1724,   338,   278,  9939, 14378, 29973, 29871, 32007,\n",
       "         32001,   450]], device='cuda:0')"
      ]
     },
     "metadata": {},
     "output_type": "display_data"
    },
    {
     "name": "stdout",
     "output_type": "stream",
     "text": [
      "\n",
      "candidate_logprobs\n",
      "torch.Size([1])\n"
     ]
    },
    {
     "data": {
      "text/plain": [
       "tensor([-0.0790], device='cuda:0')"
      ]
     },
     "metadata": {},
     "output_type": "display_data"
    },
    {
     "name": "stdout",
     "output_type": "stream",
     "text": [
      "\n",
      "last_tok_logits\n",
      "torch.Size([1, 32064])\n"
     ]
    },
    {
     "data": {
      "text/plain": [
       "tensor([[-1.2969,  1.0312, -5.0938,  ...,  0.0000,  0.0000,  0.0000]],\n",
       "       device='cuda:0')"
      ]
     },
     "metadata": {},
     "output_type": "display_data"
    },
    {
     "name": "stdout",
     "output_type": "stream",
     "text": [
      "\n",
      "sorted_logits\n",
      "torch.Size([1, 32064])\n",
      "\n",
      "sorted_indices\n",
      "torch.Size([1, 32064])\n",
      "\n",
      "sorted_probs\n",
      "torch.Size([1, 32064])\n"
     ]
    },
    {
     "data": {
      "text/plain": [
       "tensor([[9.9909e-01, 9.1105e-04, 1.2088e-06,  ..., 6.5938e-24, 3.9993e-24,\n",
       "         1.4713e-24]], device='cuda:0')"
      ]
     },
     "metadata": {},
     "output_type": "display_data"
    },
    {
     "data": {
      "text/plain": [
       "tensor([1.0000], device='cuda:0')"
      ]
     },
     "metadata": {},
     "output_type": "display_data"
    },
    {
     "name": "stdout",
     "output_type": "stream",
     "text": [
      "\n",
      "cum_probs\n",
      "torch.Size([1, 32064])\n"
     ]
    },
    {
     "data": {
      "text/plain": [
       "tensor([[0.9991, 1.0000, 1.0000,  ..., 1.0000, 1.0000, 1.0000]],\n",
       "       device='cuda:0')"
      ]
     },
     "metadata": {},
     "output_type": "display_data"
    },
    {
     "name": "stdout",
     "output_type": "stream",
     "text": [
      "\n",
      "keep_indices\n",
      "torch.Size([1, 32064])\n"
     ]
    },
    {
     "data": {
      "text/plain": [
       "tensor([[ True, False, False,  ..., False, False, False]], device='cuda:0')"
      ]
     },
     "metadata": {},
     "output_type": "display_data"
    },
    {
     "name": "stdout",
     "output_type": "stream",
     "text": [
      "\n",
      "keep_indices after top_k\n",
      "torch.Size([1, 32064])\n"
     ]
    },
    {
     "data": {
      "text/plain": [
       "tensor([[ True, False, False,  ..., False, False, False]], device='cuda:0')"
      ]
     },
     "metadata": {},
     "output_type": "display_data"
    },
    {
     "name": "stdout",
     "output_type": "stream",
     "text": [
      "\n",
      "new_candidate_parents\n",
      "torch.Size([1])\n"
     ]
    },
    {
     "data": {
      "text/plain": [
       "tensor([0], device='cuda:0')"
      ]
     },
     "metadata": {},
     "output_type": "display_data"
    },
    {
     "name": "stdout",
     "output_type": "stream",
     "text": [
      "\n",
      "carryover_candidates\n",
      "torch.Size([1, 12])\n"
     ]
    },
    {
     "data": {
      "text/plain": [
       "tensor([[    1, 32010,  1724,   338,   278,  9939, 14378, 29973, 29871, 32007,\n",
       "         32001,   450]], device='cuda:0')"
      ]
     },
     "metadata": {},
     "output_type": "display_data"
    },
    {
     "name": "stdout",
     "output_type": "stream",
     "text": [
      "\n",
      "carryover_candidate_logprobs\n",
      "torch.Size([1])\n"
     ]
    },
    {
     "data": {
      "text/plain": [
       "tensor([-0.0790], device='cuda:0')"
      ]
     },
     "metadata": {},
     "output_type": "display_data"
    },
    {
     "name": "stdout",
     "output_type": "stream",
     "text": [
      "\n",
      "new_candidate_toks\n",
      "torch.Size([1, 1])\n"
     ]
    },
    {
     "data": {
      "text/plain": [
       "tensor([[9939]], device='cuda:0')"
      ]
     },
     "metadata": {},
     "output_type": "display_data"
    },
    {
     "name": "stdout",
     "output_type": "stream",
     "text": [
      "\n",
      "new_candidate_tok_logprobs\n",
      "torch.Size([1])\n"
     ]
    },
    {
     "data": {
      "text/plain": [
       "tensor([-0.0009], device='cuda:0')"
      ]
     },
     "metadata": {},
     "output_type": "display_data"
    },
    {
     "name": "stdout",
     "output_type": "stream",
     "text": [
      "\n",
      "new_candidates\n",
      "torch.Size([1, 13])\n"
     ]
    },
    {
     "data": {
      "text/plain": [
       "tensor([[    1, 32010,  1724,   338,   278,  9939, 14378, 29973, 29871, 32007,\n",
       "         32001,   450,  9939]], device='cuda:0')"
      ]
     },
     "metadata": {},
     "output_type": "display_data"
    },
    {
     "name": "stdout",
     "output_type": "stream",
     "text": [
      "\n",
      "new_candidate_logprobs\n",
      "torch.Size([1])\n"
     ]
    },
    {
     "data": {
      "text/plain": [
       "tensor([-0.0799], device='cuda:0')"
      ]
     },
     "metadata": {},
     "output_type": "display_data"
    },
    {
     "name": "stdout",
     "output_type": "stream",
     "text": [
      "TOP P PRIOR 1: (4570.7038746) 1 candidates, 0.026413659000354528 inference time, 0.02641647899963573 total time\n",
      "event: message\n",
      "id: 1-p\n",
      "data: {\"id\": \"1-p\", \"level_type\": \"sample\", \"duration\": 0.026413659000354528, \"nodes\": [{\"content\": \"\\u2581highest\", \"parent\": 0, \"prob\": 0.9232035875320435}]}\n",
      "\n",
      "\n",
      "\n",
      "====================================\n",
      "\n",
      "TOP P AFTER 1: (4570.704234617) 1 candidates, 0.026413659000354528 inference time, 0.02677610599948821 total time\n",
      "\n",
      "num_batches\n"
     ]
    },
    {
     "data": {
      "text/plain": [
       "1"
      ]
     },
     "metadata": {},
     "output_type": "display_data"
    },
    {
     "name": "stdout",
     "output_type": "stream",
     "text": [
      "infer start: GPU memory used: 15799 MB.\n",
      "\n",
      "batch_candidates\n",
      "torch.Size([1, 13])\n",
      "\n",
      "batch_candidate_logprobs\n",
      "torch.Size([1])\n",
      "\n",
      "batch_logits\n",
      "torch.Size([1, 13, 32064])\n",
      "\n",
      "hidden_states[-1]\n",
      "torch.Size([1, 13, 3072])\n",
      "infer - after batch run: GPU memory used: 15801 MB.\n",
      "FARTHEST NEIGHBORS %%%%%%%%%%%%%%%%%%%%%%%%%%%%%%%%\n",
      "\n",
      "candidates\n",
      "torch.Size([1, 13])\n"
     ]
    },
    {
     "data": {
      "text/plain": [
       "tensor([[    1, 32010,  1724,   338,   278,  9939, 14378, 29973, 29871, 32007,\n",
       "         32001,   450,  9939]], device='cuda:0')"
      ]
     },
     "metadata": {},
     "output_type": "display_data"
    },
    {
     "name": "stdout",
     "output_type": "stream",
     "text": [
      "\n",
      "candidate_logprobs\n",
      "torch.Size([1])\n"
     ]
    },
    {
     "data": {
      "text/plain": [
       "tensor([-0.0799], device='cuda:0')"
      ]
     },
     "metadata": {},
     "output_type": "display_data"
    },
    {
     "name": "stdout",
     "output_type": "stream",
     "text": [
      "\n",
      "selected\n",
      "torch.Size([1])\n"
     ]
    },
    {
     "data": {
      "text/plain": [
       "tensor([True], device='cuda:0')"
      ]
     },
     "metadata": {},
     "output_type": "display_data"
    },
    {
     "name": "stdout",
     "output_type": "stream",
     "text": [
      "\n",
      "selected_embeddings\n",
      "torch.Size([1, 3072])\n"
     ]
    },
    {
     "data": {
      "text/plain": [
       "tensor([[-0.6406, -0.6133,  3.0625,  ..., -0.5703, -1.8750,  0.8086]],\n",
       "       device='cuda:0', dtype=torch.bfloat16)"
      ]
     },
     "metadata": {},
     "output_type": "display_data"
    },
    {
     "name": "stdout",
     "output_type": "stream",
     "text": [
      "\n",
      "selected_embeddings_view\n",
      "torch.Size([1, 3072, 1])\n"
     ]
    },
    {
     "data": {
      "text/plain": [
       "tensor([[[-0.6406],\n",
       "         [-0.6133],\n",
       "         [ 3.0625],\n",
       "         ...,\n",
       "         [-0.5703],\n",
       "         [-1.8750],\n",
       "         [ 0.8086]]], device='cuda:0', dtype=torch.bfloat16)"
      ]
     },
     "metadata": {},
     "output_type": "display_data"
    },
    {
     "name": "stdout",
     "output_type": "stream",
     "text": [
      "\n",
      "candidate logprobs unsqueeze\n",
      "torch.Size([1, 3072, 1])\n"
     ]
    },
    {
     "data": {
      "text/plain": [
       "tensor([[[-0.6406],\n",
       "         [-0.6133],\n",
       "         [ 3.0625],\n",
       "         ...,\n",
       "         [-0.5703],\n",
       "         [-1.8750],\n",
       "         [ 0.8086]]], device='cuda:0', dtype=torch.bfloat16)"
      ]
     },
     "metadata": {},
     "output_type": "display_data"
    },
    {
     "name": "stdout",
     "output_type": "stream",
     "text": [
      "\n",
      "cosine_distances\n",
      "torch.Size([1, 1])\n"
     ]
    },
    {
     "data": {
      "text/plain": [
       "tensor([[1.]], device='cuda:0', dtype=torch.bfloat16)"
      ]
     },
     "metadata": {},
     "output_type": "display_data"
    },
    {
     "name": "stdout",
     "output_type": "stream",
     "text": [
      "\n",
      "min_distances\n",
      "torch.Size([1])\n"
     ]
    },
    {
     "data": {
      "text/plain": [
       "tensor([1.], device='cuda:0', dtype=torch.bfloat16)"
      ]
     },
     "metadata": {},
     "output_type": "display_data"
    },
    {
     "name": "stdout",
     "output_type": "stream",
     "text": [
      "\n",
      "min_remaining_distances\n",
      "torch.Size([1])\n"
     ]
    },
    {
     "data": {
      "text/plain": [
       "tensor([0.], device='cuda:0', dtype=torch.bfloat16)"
      ]
     },
     "metadata": {},
     "output_type": "display_data"
    },
    {
     "name": "stdout",
     "output_type": "stream",
     "text": [
      "\n",
      "selected (end of loop)\n",
      "torch.Size([1])\n"
     ]
    },
    {
     "data": {
      "text/plain": [
       "tensor([True], device='cuda:0')"
      ]
     },
     "metadata": {},
     "output_type": "display_data"
    },
    {
     "name": "stdout",
     "output_type": "stream",
     "text": [
      "\n",
      "candidates\n",
      "torch.Size([1, 13])\n"
     ]
    },
    {
     "data": {
      "text/plain": [
       "tensor([[    1, 32010,  1724,   338,   278,  9939, 14378, 29973, 29871, 32007,\n",
       "         32001,   450,  9939]], device='cuda:0')"
      ]
     },
     "metadata": {},
     "output_type": "display_data"
    },
    {
     "name": "stdout",
     "output_type": "stream",
     "text": [
      "\n",
      "candidate_logprobs\n",
      "torch.Size([1])\n"
     ]
    },
    {
     "data": {
      "text/plain": [
       "tensor([-0.0799], device='cuda:0')"
      ]
     },
     "metadata": {},
     "output_type": "display_data"
    },
    {
     "name": "stdout",
     "output_type": "stream",
     "text": [
      "\n",
      "last_tok_logits\n",
      "torch.Size([1, 32064])\n"
     ]
    },
    {
     "data": {
      "text/plain": [
       "tensor([[ 2.8906,  3.1875, -7.0938,  ...,  0.0000,  0.0000,  0.0000]],\n",
       "       device='cuda:0')"
      ]
     },
     "metadata": {},
     "output_type": "display_data"
    },
    {
     "name": "stdout",
     "output_type": "stream",
     "text": [
      "\n",
      "sorted_logits\n",
      "torch.Size([1, 32064])\n",
      "\n",
      "sorted_indices\n",
      "torch.Size([1, 32064])\n",
      "\n",
      "sorted_probs\n",
      "torch.Size([1, 32064])\n"
     ]
    },
    {
     "data": {
      "text/plain": [
       "tensor([[9.9984e-01, 1.2339e-04, 3.5352e-05,  ..., 5.1391e-24, 4.5352e-24,\n",
       "         3.5320e-24]], device='cuda:0')"
      ]
     },
     "metadata": {},
     "output_type": "display_data"
    },
    {
     "data": {
      "text/plain": [
       "tensor([1.], device='cuda:0')"
      ]
     },
     "metadata": {},
     "output_type": "display_data"
    },
    {
     "name": "stdout",
     "output_type": "stream",
     "text": [
      "\n",
      "cum_probs\n",
      "torch.Size([1, 32064])\n"
     ]
    },
    {
     "data": {
      "text/plain": [
       "tensor([[0.9998, 1.0000, 1.0000,  ..., 1.0000, 1.0000, 1.0000]],\n",
       "       device='cuda:0')"
      ]
     },
     "metadata": {},
     "output_type": "display_data"
    },
    {
     "name": "stdout",
     "output_type": "stream",
     "text": [
      "\n",
      "keep_indices\n",
      "torch.Size([1, 32064])\n"
     ]
    },
    {
     "data": {
      "text/plain": [
       "tensor([[ True, False, False,  ..., False, False, False]], device='cuda:0')"
      ]
     },
     "metadata": {},
     "output_type": "display_data"
    },
    {
     "name": "stdout",
     "output_type": "stream",
     "text": [
      "\n",
      "keep_indices after top_k\n",
      "torch.Size([1, 32064])\n"
     ]
    },
    {
     "data": {
      "text/plain": [
       "tensor([[ True, False, False,  ..., False, False, False]], device='cuda:0')"
      ]
     },
     "metadata": {},
     "output_type": "display_data"
    },
    {
     "name": "stdout",
     "output_type": "stream",
     "text": [
      "\n",
      "new_candidate_parents\n",
      "torch.Size([1])\n"
     ]
    },
    {
     "data": {
      "text/plain": [
       "tensor([0], device='cuda:0')"
      ]
     },
     "metadata": {},
     "output_type": "display_data"
    },
    {
     "name": "stdout",
     "output_type": "stream",
     "text": [
      "\n",
      "carryover_candidates\n",
      "torch.Size([1, 13])\n"
     ]
    },
    {
     "data": {
      "text/plain": [
       "tensor([[    1, 32010,  1724,   338,   278,  9939, 14378, 29973, 29871, 32007,\n",
       "         32001,   450,  9939]], device='cuda:0')"
      ]
     },
     "metadata": {},
     "output_type": "display_data"
    },
    {
     "name": "stdout",
     "output_type": "stream",
     "text": [
      "\n",
      "carryover_candidate_logprobs\n",
      "torch.Size([1])\n"
     ]
    },
    {
     "data": {
      "text/plain": [
       "tensor([-0.0799], device='cuda:0')"
      ]
     },
     "metadata": {},
     "output_type": "display_data"
    },
    {
     "name": "stdout",
     "output_type": "stream",
     "text": [
      "\n",
      "new_candidate_toks\n",
      "torch.Size([1, 1])\n"
     ]
    },
    {
     "data": {
      "text/plain": [
       "tensor([[14378]], device='cuda:0')"
      ]
     },
     "metadata": {},
     "output_type": "display_data"
    },
    {
     "name": "stdout",
     "output_type": "stream",
     "text": [
      "\n",
      "new_candidate_tok_logprobs\n",
      "torch.Size([1])\n"
     ]
    },
    {
     "data": {
      "text/plain": [
       "tensor([-0.0002], device='cuda:0')"
      ]
     },
     "metadata": {},
     "output_type": "display_data"
    },
    {
     "name": "stdout",
     "output_type": "stream",
     "text": [
      "\n",
      "new_candidates\n",
      "torch.Size([1, 14])\n"
     ]
    },
    {
     "data": {
      "text/plain": [
       "tensor([[    1, 32010,  1724,   338,   278,  9939, 14378, 29973, 29871, 32007,\n",
       "         32001,   450,  9939, 14378]], device='cuda:0')"
      ]
     },
     "metadata": {},
     "output_type": "display_data"
    },
    {
     "name": "stdout",
     "output_type": "stream",
     "text": [
      "\n",
      "new_candidate_logprobs\n",
      "torch.Size([1])\n"
     ]
    },
    {
     "data": {
      "text/plain": [
       "tensor([-0.0801], device='cuda:0')"
      ]
     },
     "metadata": {},
     "output_type": "display_data"
    },
    {
     "name": "stdout",
     "output_type": "stream",
     "text": [
      "TOP P PRIOR 2: (4571.424235485) 1 candidates, 0.025047329000699392 inference time, 0.025049558999853616 total time\n",
      "event: message\n",
      "id: 2-p\n",
      "data: {\"id\": \"2-p\", \"level_type\": \"sample\", \"duration\": 0.025047329000699392, \"nodes\": [{\"content\": \"\\u2581mountain\", \"parent\": 0, \"prob\": 0.9230522513389587}]}\n",
      "\n",
      "\n",
      "\n",
      "====================================\n",
      "\n",
      "TOP P AFTER 2: (4571.42457696) 1 candidates, 0.025047329000699392 inference time, 0.02539074400010577 total time\n",
      "\n",
      "num_batches\n"
     ]
    },
    {
     "data": {
      "text/plain": [
       "1"
      ]
     },
     "metadata": {},
     "output_type": "display_data"
    },
    {
     "name": "stdout",
     "output_type": "stream",
     "text": [
      "infer start: GPU memory used: 15801 MB.\n",
      "\n",
      "batch_candidates\n",
      "torch.Size([1, 14])\n",
      "\n",
      "batch_candidate_logprobs\n",
      "torch.Size([1])\n",
      "\n",
      "batch_logits\n",
      "torch.Size([1, 14, 32064])\n",
      "\n",
      "hidden_states[-1]\n",
      "torch.Size([1, 14, 3072])\n",
      "infer - after batch run: GPU memory used: 15801 MB.\n",
      "FARTHEST NEIGHBORS %%%%%%%%%%%%%%%%%%%%%%%%%%%%%%%%\n",
      "\n",
      "candidates\n",
      "torch.Size([1, 14])\n"
     ]
    },
    {
     "data": {
      "text/plain": [
       "tensor([[    1, 32010,  1724,   338,   278,  9939, 14378, 29973, 29871, 32007,\n",
       "         32001,   450,  9939, 14378]], device='cuda:0')"
      ]
     },
     "metadata": {},
     "output_type": "display_data"
    },
    {
     "name": "stdout",
     "output_type": "stream",
     "text": [
      "\n",
      "candidate_logprobs\n",
      "torch.Size([1])\n"
     ]
    },
    {
     "data": {
      "text/plain": [
       "tensor([-0.0801], device='cuda:0')"
      ]
     },
     "metadata": {},
     "output_type": "display_data"
    },
    {
     "name": "stdout",
     "output_type": "stream",
     "text": [
      "\n",
      "selected\n",
      "torch.Size([1])\n"
     ]
    },
    {
     "data": {
      "text/plain": [
       "tensor([True], device='cuda:0')"
      ]
     },
     "metadata": {},
     "output_type": "display_data"
    },
    {
     "name": "stdout",
     "output_type": "stream",
     "text": [
      "\n",
      "selected_embeddings\n",
      "torch.Size([1, 3072])\n"
     ]
    },
    {
     "data": {
      "text/plain": [
       "tensor([[-2.1094, -1.6094,  2.3125,  ..., -2.2188, -1.5078, -0.1445]],\n",
       "       device='cuda:0', dtype=torch.bfloat16)"
      ]
     },
     "metadata": {},
     "output_type": "display_data"
    },
    {
     "name": "stdout",
     "output_type": "stream",
     "text": [
      "\n",
      "selected_embeddings_view\n",
      "torch.Size([1, 3072, 1])\n"
     ]
    },
    {
     "data": {
      "text/plain": [
       "tensor([[[-2.1094],\n",
       "         [-1.6094],\n",
       "         [ 2.3125],\n",
       "         ...,\n",
       "         [-2.2188],\n",
       "         [-1.5078],\n",
       "         [-0.1445]]], device='cuda:0', dtype=torch.bfloat16)"
      ]
     },
     "metadata": {},
     "output_type": "display_data"
    },
    {
     "name": "stdout",
     "output_type": "stream",
     "text": [
      "\n",
      "candidate logprobs unsqueeze\n",
      "torch.Size([1, 3072, 1])\n"
     ]
    },
    {
     "data": {
      "text/plain": [
       "tensor([[[-2.1094],\n",
       "         [-1.6094],\n",
       "         [ 2.3125],\n",
       "         ...,\n",
       "         [-2.2188],\n",
       "         [-1.5078],\n",
       "         [-0.1445]]], device='cuda:0', dtype=torch.bfloat16)"
      ]
     },
     "metadata": {},
     "output_type": "display_data"
    },
    {
     "name": "stdout",
     "output_type": "stream",
     "text": [
      "\n",
      "cosine_distances\n",
      "torch.Size([1, 1])\n"
     ]
    },
    {
     "data": {
      "text/plain": [
       "tensor([[1.]], device='cuda:0', dtype=torch.bfloat16)"
      ]
     },
     "metadata": {},
     "output_type": "display_data"
    },
    {
     "name": "stdout",
     "output_type": "stream",
     "text": [
      "\n",
      "min_distances\n",
      "torch.Size([1])\n"
     ]
    },
    {
     "data": {
      "text/plain": [
       "tensor([1.], device='cuda:0', dtype=torch.bfloat16)"
      ]
     },
     "metadata": {},
     "output_type": "display_data"
    },
    {
     "name": "stdout",
     "output_type": "stream",
     "text": [
      "\n",
      "min_remaining_distances\n",
      "torch.Size([1])\n"
     ]
    },
    {
     "data": {
      "text/plain": [
       "tensor([0.], device='cuda:0', dtype=torch.bfloat16)"
      ]
     },
     "metadata": {},
     "output_type": "display_data"
    },
    {
     "name": "stdout",
     "output_type": "stream",
     "text": [
      "\n",
      "selected (end of loop)\n",
      "torch.Size([1])\n"
     ]
    },
    {
     "data": {
      "text/plain": [
       "tensor([True], device='cuda:0')"
      ]
     },
     "metadata": {},
     "output_type": "display_data"
    },
    {
     "name": "stdout",
     "output_type": "stream",
     "text": [
      "\n",
      "candidates\n",
      "torch.Size([1, 14])\n"
     ]
    },
    {
     "data": {
      "text/plain": [
       "tensor([[    1, 32010,  1724,   338,   278,  9939, 14378, 29973, 29871, 32007,\n",
       "         32001,   450,  9939, 14378]], device='cuda:0')"
      ]
     },
     "metadata": {},
     "output_type": "display_data"
    },
    {
     "name": "stdout",
     "output_type": "stream",
     "text": [
      "\n",
      "candidate_logprobs\n",
      "torch.Size([1])\n"
     ]
    },
    {
     "data": {
      "text/plain": [
       "tensor([-0.0801], device='cuda:0')"
      ]
     },
     "metadata": {},
     "output_type": "display_data"
    },
    {
     "name": "stdout",
     "output_type": "stream",
     "text": [
      "\n",
      "last_tok_logits\n",
      "torch.Size([1, 32064])\n"
     ]
    },
    {
     "data": {
      "text/plain": [
       "tensor([[ 4.8125,  1.2734, -5.8750,  ...,  0.0000,  0.0000,  0.0000]],\n",
       "       device='cuda:0')"
      ]
     },
     "metadata": {},
     "output_type": "display_data"
    },
    {
     "name": "stdout",
     "output_type": "stream",
     "text": [
      "\n",
      "sorted_logits\n",
      "torch.Size([1, 32064])\n",
      "\n",
      "sorted_indices\n",
      "torch.Size([1, 32064])\n",
      "\n",
      "sorted_probs\n",
      "torch.Size([1, 32064])\n"
     ]
    },
    {
     "data": {
      "text/plain": [
       "tensor([[8.1600e-01, 9.7458e-02, 8.6006e-02,  ..., 5.2119e-21, 4.0591e-21,\n",
       "         1.6921e-21]], device='cuda:0')"
      ]
     },
     "metadata": {},
     "output_type": "display_data"
    },
    {
     "data": {
      "text/plain": [
       "tensor([1.0000], device='cuda:0')"
      ]
     },
     "metadata": {},
     "output_type": "display_data"
    },
    {
     "name": "stdout",
     "output_type": "stream",
     "text": [
      "\n",
      "cum_probs\n",
      "torch.Size([1, 32064])\n"
     ]
    },
    {
     "data": {
      "text/plain": [
       "tensor([[0.8160, 0.9135, 0.9995,  ..., 1.0000, 1.0000, 1.0000]],\n",
       "       device='cuda:0')"
      ]
     },
     "metadata": {},
     "output_type": "display_data"
    },
    {
     "name": "stdout",
     "output_type": "stream",
     "text": [
      "\n",
      "keep_indices\n",
      "torch.Size([1, 32064])\n"
     ]
    },
    {
     "data": {
      "text/plain": [
       "tensor([[ True,  True, False,  ..., False, False, False]], device='cuda:0')"
      ]
     },
     "metadata": {},
     "output_type": "display_data"
    },
    {
     "name": "stdout",
     "output_type": "stream",
     "text": [
      "\n",
      "keep_indices after top_k\n",
      "torch.Size([1, 32064])\n"
     ]
    },
    {
     "data": {
      "text/plain": [
       "tensor([[ True,  True, False,  ..., False, False, False]], device='cuda:0')"
      ]
     },
     "metadata": {},
     "output_type": "display_data"
    },
    {
     "name": "stdout",
     "output_type": "stream",
     "text": [
      "\n",
      "new_candidate_parents\n",
      "torch.Size([2])\n"
     ]
    },
    {
     "data": {
      "text/plain": [
       "tensor([0, 0], device='cuda:0')"
      ]
     },
     "metadata": {},
     "output_type": "display_data"
    },
    {
     "name": "stdout",
     "output_type": "stream",
     "text": [
      "\n",
      "carryover_candidates\n",
      "torch.Size([2, 14])\n"
     ]
    },
    {
     "data": {
      "text/plain": [
       "tensor([[    1, 32010,  1724,   338,   278,  9939, 14378, 29973, 29871, 32007,\n",
       "         32001,   450,  9939, 14378],\n",
       "        [    1, 32010,  1724,   338,   278,  9939, 14378, 29973, 29871, 32007,\n",
       "         32001,   450,  9939, 14378]], device='cuda:0')"
      ]
     },
     "metadata": {},
     "output_type": "display_data"
    },
    {
     "name": "stdout",
     "output_type": "stream",
     "text": [
      "\n",
      "carryover_candidate_logprobs\n",
      "torch.Size([2])\n"
     ]
    },
    {
     "data": {
      "text/plain": [
       "tensor([-0.0801, -0.0801], device='cuda:0')"
      ]
     },
     "metadata": {},
     "output_type": "display_data"
    },
    {
     "name": "stdout",
     "output_type": "stream",
     "text": [
      "\n",
      "new_candidate_toks\n",
      "torch.Size([2, 1])\n"
     ]
    },
    {
     "data": {
      "text/plain": [
       "tensor([[373],\n",
       "        [297]], device='cuda:0')"
      ]
     },
     "metadata": {},
     "output_type": "display_data"
    },
    {
     "name": "stdout",
     "output_type": "stream",
     "text": [
      "\n",
      "new_candidate_tok_logprobs\n",
      "torch.Size([2])\n"
     ]
    },
    {
     "data": {
      "text/plain": [
       "tensor([-0.2033, -2.3283], device='cuda:0')"
      ]
     },
     "metadata": {},
     "output_type": "display_data"
    },
    {
     "name": "stdout",
     "output_type": "stream",
     "text": [
      "\n",
      "new_candidates\n",
      "torch.Size([2, 15])\n"
     ]
    },
    {
     "data": {
      "text/plain": [
       "tensor([[    1, 32010,  1724,   338,   278,  9939, 14378, 29973, 29871, 32007,\n",
       "         32001,   450,  9939, 14378,   373],\n",
       "        [    1, 32010,  1724,   338,   278,  9939, 14378, 29973, 29871, 32007,\n",
       "         32001,   450,  9939, 14378,   297]], device='cuda:0')"
      ]
     },
     "metadata": {},
     "output_type": "display_data"
    },
    {
     "name": "stdout",
     "output_type": "stream",
     "text": [
      "\n",
      "new_candidate_logprobs\n",
      "torch.Size([2])\n"
     ]
    },
    {
     "data": {
      "text/plain": [
       "tensor([-0.2834, -2.4084], device='cuda:0')"
      ]
     },
     "metadata": {},
     "output_type": "display_data"
    },
    {
     "name": "stdout",
     "output_type": "stream",
     "text": [
      "TOP P PRIOR 3: (4572.150871443) 2 candidates, 0.027752988000429468 inference time, 0.027756487999795354 total time\n",
      "event: message\n",
      "id: 3-p\n",
      "data: {\"id\": \"3-p\", \"level_type\": \"sample\", \"duration\": 0.027752988000429468, \"nodes\": [{\"content\": \"\\u2581on\", \"parent\": 0, \"prob\": 0.7532129883766174}, {\"content\": \"\\u2581in\", \"parent\": 0, \"prob\": 0.08995844423770905}]}\n",
      "\n",
      "\n",
      "\n",
      "====================================\n",
      "\n",
      "TOP P AFTER 3: (4572.151296284) 2 candidates, 0.027752988000429468 inference time, 0.02818075899995165 total time\n",
      "\n",
      "num_batches\n"
     ]
    },
    {
     "data": {
      "text/plain": [
       "1"
      ]
     },
     "metadata": {},
     "output_type": "display_data"
    },
    {
     "name": "stdout",
     "output_type": "stream",
     "text": [
      "infer start: GPU memory used: 15801 MB.\n",
      "\n",
      "batch_candidates\n",
      "torch.Size([2, 15])\n",
      "\n",
      "batch_candidate_logprobs\n",
      "torch.Size([2])\n",
      "\n",
      "batch_logits\n",
      "torch.Size([2, 15, 32064])\n",
      "\n",
      "hidden_states[-1]\n",
      "torch.Size([2, 15, 3072])\n",
      "infer - after batch run: GPU memory used: 15817 MB.\n",
      "FARTHEST NEIGHBORS %%%%%%%%%%%%%%%%%%%%%%%%%%%%%%%%\n",
      "\n",
      "candidates\n",
      "torch.Size([2, 15])\n"
     ]
    },
    {
     "data": {
      "text/plain": [
       "tensor([[    1, 32010,  1724,   338,   278,  9939, 14378, 29973, 29871, 32007,\n",
       "         32001,   450,  9939, 14378,   373],\n",
       "        [    1, 32010,  1724,   338,   278,  9939, 14378, 29973, 29871, 32007,\n",
       "         32001,   450,  9939, 14378,   297]], device='cuda:0')"
      ]
     },
     "metadata": {},
     "output_type": "display_data"
    },
    {
     "name": "stdout",
     "output_type": "stream",
     "text": [
      "\n",
      "candidate_logprobs\n",
      "torch.Size([2])\n"
     ]
    },
    {
     "data": {
      "text/plain": [
       "tensor([-0.2834, -2.4084], device='cuda:0')"
      ]
     },
     "metadata": {},
     "output_type": "display_data"
    },
    {
     "name": "stdout",
     "output_type": "stream",
     "text": [
      "\n",
      "selected\n",
      "torch.Size([2])\n"
     ]
    },
    {
     "data": {
      "text/plain": [
       "tensor([ True, False], device='cuda:0')"
      ]
     },
     "metadata": {},
     "output_type": "display_data"
    },
    {
     "name": "stdout",
     "output_type": "stream",
     "text": [
      "\n",
      "selected_embeddings\n",
      "torch.Size([1, 3072])\n"
     ]
    },
    {
     "data": {
      "text/plain": [
       "tensor([[-1.8906, -1.4062,  3.4375,  ..., -0.0107, -1.4531, -2.4688]],\n",
       "       device='cuda:0', dtype=torch.bfloat16)"
      ]
     },
     "metadata": {},
     "output_type": "display_data"
    },
    {
     "name": "stdout",
     "output_type": "stream",
     "text": [
      "\n",
      "selected_embeddings_view\n",
      "torch.Size([1, 3072, 1])\n"
     ]
    },
    {
     "data": {
      "text/plain": [
       "tensor([[[-1.8906],\n",
       "         [-1.4062],\n",
       "         [ 3.4375],\n",
       "         ...,\n",
       "         [-0.0107],\n",
       "         [-1.4531],\n",
       "         [-2.4688]]], device='cuda:0', dtype=torch.bfloat16)"
      ]
     },
     "metadata": {},
     "output_type": "display_data"
    },
    {
     "name": "stdout",
     "output_type": "stream",
     "text": [
      "\n",
      "candidate logprobs unsqueeze\n",
      "torch.Size([2, 3072, 1])\n"
     ]
    },
    {
     "data": {
      "text/plain": [
       "tensor([[[-1.8906],\n",
       "         [-1.4062],\n",
       "         [ 3.4375],\n",
       "         ...,\n",
       "         [-0.0107],\n",
       "         [-1.4531],\n",
       "         [-2.4688]],\n",
       "\n",
       "        [[-1.2656],\n",
       "         [-1.3281],\n",
       "         [ 3.3750],\n",
       "         ...,\n",
       "         [-0.0239],\n",
       "         [-1.3516],\n",
       "         [-2.4062]]], device='cuda:0', dtype=torch.bfloat16)"
      ]
     },
     "metadata": {},
     "output_type": "display_data"
    },
    {
     "name": "stdout",
     "output_type": "stream",
     "text": [
      "\n",
      "cosine_distances\n",
      "torch.Size([2, 1])\n"
     ]
    },
    {
     "data": {
      "text/plain": [
       "tensor([[0.9961],\n",
       "        [0.4727]], device='cuda:0', dtype=torch.bfloat16)"
      ]
     },
     "metadata": {},
     "output_type": "display_data"
    },
    {
     "name": "stdout",
     "output_type": "stream",
     "text": [
      "\n",
      "min_distances\n",
      "torch.Size([2])\n"
     ]
    },
    {
     "data": {
      "text/plain": [
       "tensor([0.9961, 0.4727], device='cuda:0', dtype=torch.bfloat16)"
      ]
     },
     "metadata": {},
     "output_type": "display_data"
    },
    {
     "name": "stdout",
     "output_type": "stream",
     "text": [
      "\n",
      "min_remaining_distances\n",
      "torch.Size([2])\n"
     ]
    },
    {
     "data": {
      "text/plain": [
       "tensor([0.0000, 0.4727], device='cuda:0', dtype=torch.bfloat16)"
      ]
     },
     "metadata": {},
     "output_type": "display_data"
    },
    {
     "name": "stdout",
     "output_type": "stream",
     "text": [
      "\n",
      "selected (end of loop)\n",
      "torch.Size([2])\n"
     ]
    },
    {
     "data": {
      "text/plain": [
       "tensor([True, True], device='cuda:0')"
      ]
     },
     "metadata": {},
     "output_type": "display_data"
    },
    {
     "name": "stdout",
     "output_type": "stream",
     "text": [
      "\n",
      "selected_embeddings\n",
      "torch.Size([2, 3072])\n"
     ]
    },
    {
     "data": {
      "text/plain": [
       "tensor([[-1.8906, -1.4062,  3.4375,  ..., -0.0107, -1.4531, -2.4688],\n",
       "        [-1.2656, -1.3281,  3.3750,  ..., -0.0239, -1.3516, -2.4062]],\n",
       "       device='cuda:0', dtype=torch.bfloat16)"
      ]
     },
     "metadata": {},
     "output_type": "display_data"
    },
    {
     "name": "stdout",
     "output_type": "stream",
     "text": [
      "\n",
      "selected_embeddings_view\n",
      "torch.Size([1, 3072, 2])\n"
     ]
    },
    {
     "data": {
      "text/plain": [
       "tensor([[[-1.8906, -1.4062],\n",
       "         [ 3.4375,  2.8750],\n",
       "         [-2.0000, -2.3125],\n",
       "         ...,\n",
       "         [ 1.6562,  1.6094],\n",
       "         [-0.9805, -0.0239],\n",
       "         [-1.3516, -2.4062]]], device='cuda:0', dtype=torch.bfloat16)"
      ]
     },
     "metadata": {},
     "output_type": "display_data"
    },
    {
     "name": "stdout",
     "output_type": "stream",
     "text": [
      "\n",
      "candidate logprobs unsqueeze\n",
      "torch.Size([2, 3072, 1])\n"
     ]
    },
    {
     "data": {
      "text/plain": [
       "tensor([[[-1.8906],\n",
       "         [-1.4062],\n",
       "         [ 3.4375],\n",
       "         ...,\n",
       "         [-0.0107],\n",
       "         [-1.4531],\n",
       "         [-2.4688]],\n",
       "\n",
       "        [[-1.2656],\n",
       "         [-1.3281],\n",
       "         [ 3.3750],\n",
       "         ...,\n",
       "         [-0.0239],\n",
       "         [-1.3516],\n",
       "         [-2.4062]]], device='cuda:0', dtype=torch.bfloat16)"
      ]
     },
     "metadata": {},
     "output_type": "display_data"
    },
    {
     "name": "stdout",
     "output_type": "stream",
     "text": [
      "\n",
      "cosine_distances\n",
      "torch.Size([2, 2])\n"
     ]
    },
    {
     "data": {
      "text/plain": [
       "tensor([[0.0114, 0.0148],\n",
       "        [0.0064, 0.0146]], device='cuda:0', dtype=torch.bfloat16)"
      ]
     },
     "metadata": {},
     "output_type": "display_data"
    },
    {
     "name": "stdout",
     "output_type": "stream",
     "text": [
      "\n",
      "min_distances\n",
      "torch.Size([2])\n"
     ]
    },
    {
     "data": {
      "text/plain": [
       "tensor([0.0114, 0.0064], device='cuda:0', dtype=torch.bfloat16)"
      ]
     },
     "metadata": {},
     "output_type": "display_data"
    },
    {
     "name": "stdout",
     "output_type": "stream",
     "text": [
      "\n",
      "min_remaining_distances\n",
      "torch.Size([2])\n"
     ]
    },
    {
     "data": {
      "text/plain": [
       "tensor([0., 0.], device='cuda:0', dtype=torch.bfloat16)"
      ]
     },
     "metadata": {},
     "output_type": "display_data"
    },
    {
     "name": "stdout",
     "output_type": "stream",
     "text": [
      "\n",
      "selected (end of loop)\n",
      "torch.Size([2])\n"
     ]
    },
    {
     "data": {
      "text/plain": [
       "tensor([True, True], device='cuda:0')"
      ]
     },
     "metadata": {},
     "output_type": "display_data"
    },
    {
     "name": "stdout",
     "output_type": "stream",
     "text": [
      "\n",
      "candidates\n",
      "torch.Size([2, 15])\n"
     ]
    },
    {
     "data": {
      "text/plain": [
       "tensor([[    1, 32010,  1724,   338,   278,  9939, 14378, 29973, 29871, 32007,\n",
       "         32001,   450,  9939, 14378,   373],\n",
       "        [    1, 32010,  1724,   338,   278,  9939, 14378, 29973, 29871, 32007,\n",
       "         32001,   450,  9939, 14378,   297]], device='cuda:0')"
      ]
     },
     "metadata": {},
     "output_type": "display_data"
    },
    {
     "name": "stdout",
     "output_type": "stream",
     "text": [
      "\n",
      "candidate_logprobs\n",
      "torch.Size([2])\n"
     ]
    },
    {
     "data": {
      "text/plain": [
       "tensor([-0.2834, -2.4084], device='cuda:0')"
      ]
     },
     "metadata": {},
     "output_type": "display_data"
    },
    {
     "name": "stdout",
     "output_type": "stream",
     "text": [
      "\n",
      "last_tok_logits\n",
      "torch.Size([2, 32064])\n"
     ]
    },
    {
     "data": {
      "text/plain": [
       "tensor([[ 1.6797,  0.8750, -4.7812,  ...,  0.0000,  0.0000,  0.0000],\n",
       "        [ 3.3438, -5.4688, -4.6875,  ...,  0.0000,  0.0000,  0.0000]],\n",
       "       device='cuda:0')"
      ]
     },
     "metadata": {},
     "output_type": "display_data"
    },
    {
     "name": "stdout",
     "output_type": "stream",
     "text": [
      "\n",
      "sorted_logits\n",
      "torch.Size([2, 32064])\n",
      "\n",
      "sorted_indices\n",
      "torch.Size([2, 32064])\n",
      "\n",
      "sorted_probs\n",
      "torch.Size([2, 32064])\n"
     ]
    },
    {
     "data": {
      "text/plain": [
       "tensor([[9.9996e-01, 3.5356e-05, 1.7603e-06,  ..., 3.5325e-24, 2.4278e-24,\n",
       "         3.7232e-25],\n",
       "        [8.1683e-01, 1.8226e-01, 5.1193e-04,  ..., 3.4021e-20, 3.4021e-20,\n",
       "         7.5910e-21]], device='cuda:0')"
      ]
     },
     "metadata": {},
     "output_type": "display_data"
    },
    {
     "data": {
      "text/plain": [
       "tensor([1.0000, 1.0000], device='cuda:0')"
      ]
     },
     "metadata": {},
     "output_type": "display_data"
    },
    {
     "name": "stdout",
     "output_type": "stream",
     "text": [
      "\n",
      "cum_probs\n",
      "torch.Size([2, 32064])\n"
     ]
    },
    {
     "data": {
      "text/plain": [
       "tensor([[1.0000, 1.0000, 1.0000,  ..., 1.0000, 1.0000, 1.0000],\n",
       "        [0.8168, 0.9991, 0.9996,  ..., 1.0000, 1.0000, 1.0000]],\n",
       "       device='cuda:0')"
      ]
     },
     "metadata": {},
     "output_type": "display_data"
    },
    {
     "name": "stdout",
     "output_type": "stream",
     "text": [
      "\n",
      "keep_indices\n",
      "torch.Size([2, 32064])\n"
     ]
    },
    {
     "data": {
      "text/plain": [
       "tensor([[ True, False, False,  ..., False, False, False],\n",
       "        [ True,  True, False,  ..., False, False, False]], device='cuda:0')"
      ]
     },
     "metadata": {},
     "output_type": "display_data"
    },
    {
     "name": "stdout",
     "output_type": "stream",
     "text": [
      "\n",
      "keep_indices after top_k\n",
      "torch.Size([2, 32064])\n"
     ]
    },
    {
     "data": {
      "text/plain": [
       "tensor([[ True, False, False,  ..., False, False, False],\n",
       "        [ True,  True, False,  ..., False, False, False]], device='cuda:0')"
      ]
     },
     "metadata": {},
     "output_type": "display_data"
    },
    {
     "name": "stdout",
     "output_type": "stream",
     "text": [
      "\n",
      "new_candidate_parents\n",
      "torch.Size([3])\n"
     ]
    },
    {
     "data": {
      "text/plain": [
       "tensor([0, 1, 1], device='cuda:0')"
      ]
     },
     "metadata": {},
     "output_type": "display_data"
    },
    {
     "name": "stdout",
     "output_type": "stream",
     "text": [
      "\n",
      "carryover_candidates\n",
      "torch.Size([3, 15])\n"
     ]
    },
    {
     "data": {
      "text/plain": [
       "tensor([[    1, 32010,  1724,   338,   278,  9939, 14378, 29973, 29871, 32007,\n",
       "         32001,   450,  9939, 14378,   373],\n",
       "        [    1, 32010,  1724,   338,   278,  9939, 14378, 29973, 29871, 32007,\n",
       "         32001,   450,  9939, 14378,   297],\n",
       "        [    1, 32010,  1724,   338,   278,  9939, 14378, 29973, 29871, 32007,\n",
       "         32001,   450,  9939, 14378,   297]], device='cuda:0')"
      ]
     },
     "metadata": {},
     "output_type": "display_data"
    },
    {
     "name": "stdout",
     "output_type": "stream",
     "text": [
      "\n",
      "carryover_candidate_logprobs\n",
      "torch.Size([3])\n"
     ]
    },
    {
     "data": {
      "text/plain": [
       "tensor([-0.2834, -2.4084, -2.4084], device='cuda:0')"
      ]
     },
     "metadata": {},
     "output_type": "display_data"
    },
    {
     "name": "stdout",
     "output_type": "stream",
     "text": [
      "\n",
      "new_candidate_toks\n",
      "torch.Size([3, 1])\n"
     ]
    },
    {
     "data": {
      "text/plain": [
       "tensor([[11563],\n",
       "        [ 4958],\n",
       "        [  278]], device='cuda:0')"
      ]
     },
     "metadata": {},
     "output_type": "display_data"
    },
    {
     "name": "stdout",
     "output_type": "stream",
     "text": [
      "\n",
      "new_candidate_tok_logprobs\n",
      "torch.Size([3])\n"
     ]
    },
    {
     "data": {
      "text/plain": [
       "tensor([-3.7432e-05, -2.0232e-01, -1.7023e+00], device='cuda:0')"
      ]
     },
     "metadata": {},
     "output_type": "display_data"
    },
    {
     "name": "stdout",
     "output_type": "stream",
     "text": [
      "\n",
      "new_candidates\n",
      "torch.Size([3, 16])\n"
     ]
    },
    {
     "data": {
      "text/plain": [
       "tensor([[    1, 32010,  1724,   338,   278,  9939, 14378, 29973, 29871, 32007,\n",
       "         32001,   450,  9939, 14378,   373, 11563],\n",
       "        [    1, 32010,  1724,   338,   278,  9939, 14378, 29973, 29871, 32007,\n",
       "         32001,   450,  9939, 14378,   297,  4958],\n",
       "        [    1, 32010,  1724,   338,   278,  9939, 14378, 29973, 29871, 32007,\n",
       "         32001,   450,  9939, 14378,   297,   278]], device='cuda:0')"
      ]
     },
     "metadata": {},
     "output_type": "display_data"
    },
    {
     "name": "stdout",
     "output_type": "stream",
     "text": [
      "\n",
      "new_candidate_logprobs\n",
      "torch.Size([3])\n"
     ]
    },
    {
     "data": {
      "text/plain": [
       "tensor([-0.2834, -2.6107, -4.1107], device='cuda:0')"
      ]
     },
     "metadata": {},
     "output_type": "display_data"
    },
    {
     "name": "stdout",
     "output_type": "stream",
     "text": [
      "TOP P PRIOR 4: (4572.900033673) 3 candidates, 0.02652390799994464 inference time, 0.026526237999860314 total time\n",
      "event: message\n",
      "id: 4-p\n",
      "data: {\"id\": \"4-p\", \"level_type\": \"sample\", \"duration\": 0.02652390799994464, \"nodes\": [{\"content\": \"\\u2581Earth\", \"parent\": 0, \"prob\": 0.7531847953796387}, {\"content\": \"\\u2581terms\", \"parent\": 1, \"prob\": 0.0734809935092926}, {\"content\": \"\\u2581the\", \"parent\": 1, \"prob\": 0.016395829617977142}]}\n",
      "\n",
      "\n",
      "\n",
      "====================================\n",
      "\n",
      "TOP P AFTER 4: (4572.900447613) 3 candidates, 0.02652390799994464 inference time, 0.026939767999465403 total time\n",
      "\n",
      "num_batches\n"
     ]
    },
    {
     "data": {
      "text/plain": [
       "1"
      ]
     },
     "metadata": {},
     "output_type": "display_data"
    },
    {
     "name": "stdout",
     "output_type": "stream",
     "text": [
      "infer start: GPU memory used: 15817 MB.\n",
      "\n",
      "batch_candidates\n",
      "torch.Size([3, 16])\n",
      "\n",
      "batch_candidate_logprobs\n",
      "torch.Size([3])\n",
      "\n",
      "batch_logits\n",
      "torch.Size([3, 16, 32064])\n",
      "\n",
      "hidden_states[-1]\n",
      "torch.Size([3, 16, 3072])\n",
      "infer - after batch run: GPU memory used: 16021 MB.\n",
      "FARTHEST NEIGHBORS %%%%%%%%%%%%%%%%%%%%%%%%%%%%%%%%\n",
      "\n",
      "candidates\n",
      "torch.Size([3, 16])\n"
     ]
    },
    {
     "data": {
      "text/plain": [
       "tensor([[    1, 32010,  1724,   338,   278,  9939, 14378, 29973, 29871, 32007,\n",
       "         32001,   450,  9939, 14378,   373, 11563],\n",
       "        [    1, 32010,  1724,   338,   278,  9939, 14378, 29973, 29871, 32007,\n",
       "         32001,   450,  9939, 14378,   297,  4958],\n",
       "        [    1, 32010,  1724,   338,   278,  9939, 14378, 29973, 29871, 32007,\n",
       "         32001,   450,  9939, 14378,   297,   278]], device='cuda:0')"
      ]
     },
     "metadata": {},
     "output_type": "display_data"
    },
    {
     "name": "stdout",
     "output_type": "stream",
     "text": [
      "\n",
      "candidate_logprobs\n",
      "torch.Size([3])\n"
     ]
    },
    {
     "data": {
      "text/plain": [
       "tensor([-0.2834, -2.6107, -4.1107], device='cuda:0')"
      ]
     },
     "metadata": {},
     "output_type": "display_data"
    },
    {
     "name": "stdout",
     "output_type": "stream",
     "text": [
      "\n",
      "selected\n",
      "torch.Size([3])\n"
     ]
    },
    {
     "data": {
      "text/plain": [
       "tensor([ True, False, False], device='cuda:0')"
      ]
     },
     "metadata": {},
     "output_type": "display_data"
    },
    {
     "name": "stdout",
     "output_type": "stream",
     "text": [
      "\n",
      "selected_embeddings\n",
      "torch.Size([1, 3072])\n"
     ]
    },
    {
     "data": {
      "text/plain": [
       "tensor([[-1.4766, -0.0113,  1.4922,  ..., -0.9492, -0.2773, -1.5156]],\n",
       "       device='cuda:0', dtype=torch.bfloat16)"
      ]
     },
     "metadata": {},
     "output_type": "display_data"
    },
    {
     "name": "stdout",
     "output_type": "stream",
     "text": [
      "\n",
      "selected_embeddings_view\n",
      "torch.Size([1, 3072, 1])\n"
     ]
    },
    {
     "data": {
      "text/plain": [
       "tensor([[[-1.4766],\n",
       "         [-0.0113],\n",
       "         [ 1.4922],\n",
       "         ...,\n",
       "         [-0.9492],\n",
       "         [-0.2773],\n",
       "         [-1.5156]]], device='cuda:0', dtype=torch.bfloat16)"
      ]
     },
     "metadata": {},
     "output_type": "display_data"
    },
    {
     "name": "stdout",
     "output_type": "stream",
     "text": [
      "\n",
      "candidate logprobs unsqueeze\n",
      "torch.Size([3, 3072, 1])\n"
     ]
    },
    {
     "data": {
      "text/plain": [
       "tensor([[[-1.4766],\n",
       "         [-0.0113],\n",
       "         [ 1.4922],\n",
       "         ...,\n",
       "         [-0.9492],\n",
       "         [-0.2773],\n",
       "         [-1.5156]],\n",
       "\n",
       "        [[ 0.6406],\n",
       "         [-1.1094],\n",
       "         [ 2.7188],\n",
       "         ...,\n",
       "         [-0.9141],\n",
       "         [ 2.5625],\n",
       "         [-2.1875]],\n",
       "\n",
       "        [[ 0.0933],\n",
       "         [-0.6797],\n",
       "         [ 3.3906],\n",
       "         ...,\n",
       "         [-0.6992],\n",
       "         [-3.2812],\n",
       "         [-1.0859]]], device='cuda:0', dtype=torch.bfloat16)"
      ]
     },
     "metadata": {},
     "output_type": "display_data"
    },
    {
     "name": "stdout",
     "output_type": "stream",
     "text": [
      "\n",
      "cosine_distances\n",
      "torch.Size([3, 1])\n"
     ]
    },
    {
     "data": {
      "text/plain": [
       "tensor([[0.9961],\n",
       "        [0.1973],\n",
       "        [0.2559]], device='cuda:0', dtype=torch.bfloat16)"
      ]
     },
     "metadata": {},
     "output_type": "display_data"
    },
    {
     "name": "stdout",
     "output_type": "stream",
     "text": [
      "\n",
      "min_distances\n",
      "torch.Size([3])\n"
     ]
    },
    {
     "data": {
      "text/plain": [
       "tensor([0.9961, 0.1973, 0.2559], device='cuda:0', dtype=torch.bfloat16)"
      ]
     },
     "metadata": {},
     "output_type": "display_data"
    },
    {
     "name": "stdout",
     "output_type": "stream",
     "text": [
      "\n",
      "min_remaining_distances\n",
      "torch.Size([3])\n"
     ]
    },
    {
     "data": {
      "text/plain": [
       "tensor([0.0000, 0.1973, 0.2559], device='cuda:0', dtype=torch.bfloat16)"
      ]
     },
     "metadata": {},
     "output_type": "display_data"
    },
    {
     "name": "stdout",
     "output_type": "stream",
     "text": [
      "\n",
      "selected (end of loop)\n",
      "torch.Size([3])\n"
     ]
    },
    {
     "data": {
      "text/plain": [
       "tensor([ True, False,  True], device='cuda:0')"
      ]
     },
     "metadata": {},
     "output_type": "display_data"
    },
    {
     "name": "stdout",
     "output_type": "stream",
     "text": [
      "\n",
      "selected_embeddings\n",
      "torch.Size([2, 3072])\n"
     ]
    },
    {
     "data": {
      "text/plain": [
       "tensor([[-1.4766, -0.0113,  1.4922,  ..., -0.9492, -0.2773, -1.5156],\n",
       "        [ 0.0933, -0.6797,  3.3906,  ..., -0.6992, -3.2812, -1.0859]],\n",
       "       device='cuda:0', dtype=torch.bfloat16)"
      ]
     },
     "metadata": {},
     "output_type": "display_data"
    },
    {
     "name": "stdout",
     "output_type": "stream",
     "text": [
      "\n",
      "selected_embeddings_view\n",
      "torch.Size([1, 3072, 2])\n"
     ]
    },
    {
     "data": {
      "text/plain": [
       "tensor([[[-1.4766, -0.0113],\n",
       "         [ 1.4922,  0.2832],\n",
       "         [ 0.7344, -0.7188],\n",
       "         ...,\n",
       "         [ 0.2490, -0.3750],\n",
       "         [-1.3203, -0.6992],\n",
       "         [-3.2812, -1.0859]]], device='cuda:0', dtype=torch.bfloat16)"
      ]
     },
     "metadata": {},
     "output_type": "display_data"
    },
    {
     "name": "stdout",
     "output_type": "stream",
     "text": [
      "\n",
      "candidate logprobs unsqueeze\n",
      "torch.Size([3, 3072, 1])\n"
     ]
    },
    {
     "data": {
      "text/plain": [
       "tensor([[[-1.4766],\n",
       "         [-0.0113],\n",
       "         [ 1.4922],\n",
       "         ...,\n",
       "         [-0.9492],\n",
       "         [-0.2773],\n",
       "         [-1.5156]],\n",
       "\n",
       "        [[ 0.6406],\n",
       "         [-1.1094],\n",
       "         [ 2.7188],\n",
       "         ...,\n",
       "         [-0.9141],\n",
       "         [ 2.5625],\n",
       "         [-2.1875]],\n",
       "\n",
       "        [[ 0.0933],\n",
       "         [-0.6797],\n",
       "         [ 3.3906],\n",
       "         ...,\n",
       "         [-0.6992],\n",
       "         [-3.2812],\n",
       "         [-1.0859]]], device='cuda:0', dtype=torch.bfloat16)"
      ]
     },
     "metadata": {},
     "output_type": "display_data"
    },
    {
     "name": "stdout",
     "output_type": "stream",
     "text": [
      "\n",
      "cosine_distances\n",
      "torch.Size([3, 2])\n"
     ]
    },
    {
     "data": {
      "text/plain": [
       "tensor([[0.0124, 0.0183],\n",
       "        [0.0244, 0.0256],\n",
       "        [0.0080, 0.0228]], device='cuda:0', dtype=torch.bfloat16)"
      ]
     },
     "metadata": {},
     "output_type": "display_data"
    },
    {
     "name": "stdout",
     "output_type": "stream",
     "text": [
      "\n",
      "min_distances\n",
      "torch.Size([3])\n"
     ]
    },
    {
     "data": {
      "text/plain": [
       "tensor([0.0124, 0.0244, 0.0080], device='cuda:0', dtype=torch.bfloat16)"
      ]
     },
     "metadata": {},
     "output_type": "display_data"
    },
    {
     "name": "stdout",
     "output_type": "stream",
     "text": [
      "\n",
      "min_remaining_distances\n",
      "torch.Size([3])\n"
     ]
    },
    {
     "data": {
      "text/plain": [
       "tensor([0.0000, 0.0244, 0.0000], device='cuda:0', dtype=torch.bfloat16)"
      ]
     },
     "metadata": {},
     "output_type": "display_data"
    },
    {
     "name": "stdout",
     "output_type": "stream",
     "text": [
      "\n",
      "selected (end of loop)\n",
      "torch.Size([3])\n"
     ]
    },
    {
     "data": {
      "text/plain": [
       "tensor([True, True, True], device='cuda:0')"
      ]
     },
     "metadata": {},
     "output_type": "display_data"
    },
    {
     "name": "stdout",
     "output_type": "stream",
     "text": [
      "\n",
      "candidates\n",
      "torch.Size([3, 16])\n"
     ]
    },
    {
     "data": {
      "text/plain": [
       "tensor([[    1, 32010,  1724,   338,   278,  9939, 14378, 29973, 29871, 32007,\n",
       "         32001,   450,  9939, 14378,   373, 11563],\n",
       "        [    1, 32010,  1724,   338,   278,  9939, 14378, 29973, 29871, 32007,\n",
       "         32001,   450,  9939, 14378,   297,  4958],\n",
       "        [    1, 32010,  1724,   338,   278,  9939, 14378, 29973, 29871, 32007,\n",
       "         32001,   450,  9939, 14378,   297,   278]], device='cuda:0')"
      ]
     },
     "metadata": {},
     "output_type": "display_data"
    },
    {
     "name": "stdout",
     "output_type": "stream",
     "text": [
      "\n",
      "candidate_logprobs\n",
      "torch.Size([3])\n"
     ]
    },
    {
     "data": {
      "text/plain": [
       "tensor([-0.2834, -2.6107, -4.1107], device='cuda:0')"
      ]
     },
     "metadata": {},
     "output_type": "display_data"
    },
    {
     "name": "stdout",
     "output_type": "stream",
     "text": [
      "\n",
      "last_tok_logits\n",
      "torch.Size([3, 32064])\n"
     ]
    },
    {
     "data": {
      "text/plain": [
       "tensor([[ -0.9766,  -6.3438, -10.3125,  ...,   0.0000,   0.0000,   0.0000],\n",
       "        [  1.5703,  -2.2031,  -5.8750,  ...,   0.0000,   0.0000,   0.0000],\n",
       "        [ -0.4199,   2.5781,  -0.6797,  ...,   0.0000,   0.0000,   0.0000]],\n",
       "       device='cuda:0')"
      ]
     },
     "metadata": {},
     "output_type": "display_data"
    },
    {
     "name": "stdout",
     "output_type": "stream",
     "text": [
      "\n",
      "sorted_logits\n",
      "torch.Size([3, 32064])\n",
      "\n",
      "sorted_indices\n",
      "torch.Size([3, 32064])\n",
      "\n",
      "sorted_probs\n",
      "torch.Size([3, 32064])\n"
     ]
    },
    {
     "data": {
      "text/plain": [
       "tensor([[9.8127e-01, 1.5861e-02, 2.1465e-03,  ..., 8.4822e-22, 5.8297e-22,\n",
       "         1.6702e-22],\n",
       "        [1.0000e+00, 4.0587e-10, 1.3177e-10,  ..., 1.3697e-25, 1.2088e-25,\n",
       "         1.0668e-25],\n",
       "        [9.9997e-01, 2.4300e-05, 9.4222e-07,  ..., 4.6267e-22, 3.1799e-22,\n",
       "         3.1799e-22]], device='cuda:0')"
      ]
     },
     "metadata": {},
     "output_type": "display_data"
    },
    {
     "data": {
      "text/plain": [
       "tensor([1.0000, 1.0000, 1.0000], device='cuda:0')"
      ]
     },
     "metadata": {},
     "output_type": "display_data"
    },
    {
     "name": "stdout",
     "output_type": "stream",
     "text": [
      "\n",
      "cum_probs\n",
      "torch.Size([3, 32064])\n"
     ]
    },
    {
     "data": {
      "text/plain": [
       "tensor([[0.9813, 0.9971, 0.9993,  ..., 1.0000, 1.0000, 1.0000],\n",
       "        [1.0000, 1.0000, 1.0000,  ..., 1.0000, 1.0000, 1.0000],\n",
       "        [1.0000, 1.0000, 1.0000,  ..., 1.0000, 1.0000, 1.0000]],\n",
       "       device='cuda:0')"
      ]
     },
     "metadata": {},
     "output_type": "display_data"
    },
    {
     "name": "stdout",
     "output_type": "stream",
     "text": [
      "\n",
      "keep_indices\n",
      "torch.Size([3, 32064])\n"
     ]
    },
    {
     "data": {
      "text/plain": [
       "tensor([[ True, False, False,  ..., False, False, False],\n",
       "        [ True, False, False,  ..., False, False, False],\n",
       "        [ True, False, False,  ..., False, False, False]], device='cuda:0')"
      ]
     },
     "metadata": {},
     "output_type": "display_data"
    },
    {
     "name": "stdout",
     "output_type": "stream",
     "text": [
      "\n",
      "keep_indices after top_k\n",
      "torch.Size([3, 32064])\n"
     ]
    },
    {
     "data": {
      "text/plain": [
       "tensor([[ True, False, False,  ..., False, False, False],\n",
       "        [ True, False, False,  ..., False, False, False],\n",
       "        [ True, False, False,  ..., False, False, False]], device='cuda:0')"
      ]
     },
     "metadata": {},
     "output_type": "display_data"
    },
    {
     "name": "stdout",
     "output_type": "stream",
     "text": [
      "\n",
      "new_candidate_parents\n",
      "torch.Size([3])\n"
     ]
    },
    {
     "data": {
      "text/plain": [
       "tensor([0, 1, 2], device='cuda:0')"
      ]
     },
     "metadata": {},
     "output_type": "display_data"
    },
    {
     "name": "stdout",
     "output_type": "stream",
     "text": [
      "\n",
      "carryover_candidates\n",
      "torch.Size([3, 16])\n"
     ]
    },
    {
     "data": {
      "text/plain": [
       "tensor([[    1, 32010,  1724,   338,   278,  9939, 14378, 29973, 29871, 32007,\n",
       "         32001,   450,  9939, 14378,   373, 11563],\n",
       "        [    1, 32010,  1724,   338,   278,  9939, 14378, 29973, 29871, 32007,\n",
       "         32001,   450,  9939, 14378,   297,  4958],\n",
       "        [    1, 32010,  1724,   338,   278,  9939, 14378, 29973, 29871, 32007,\n",
       "         32001,   450,  9939, 14378,   297,   278]], device='cuda:0')"
      ]
     },
     "metadata": {},
     "output_type": "display_data"
    },
    {
     "name": "stdout",
     "output_type": "stream",
     "text": [
      "\n",
      "carryover_candidate_logprobs\n",
      "torch.Size([3])\n"
     ]
    },
    {
     "data": {
      "text/plain": [
       "tensor([-0.2834, -2.6107, -4.1107], device='cuda:0')"
      ]
     },
     "metadata": {},
     "output_type": "display_data"
    },
    {
     "name": "stdout",
     "output_type": "stream",
     "text": [
      "\n",
      "new_candidate_toks\n",
      "torch.Size([3, 1])\n"
     ]
    },
    {
     "data": {
      "text/plain": [
       "tensor([[29892],\n",
       "        [  310],\n",
       "        [ 3186]], device='cuda:0')"
      ]
     },
     "metadata": {},
     "output_type": "display_data"
    },
    {
     "name": "stdout",
     "output_type": "stream",
     "text": [
      "\n",
      "new_candidate_tok_logprobs\n",
      "torch.Size([3])\n"
     ]
    },
    {
     "data": {
      "text/plain": [
       "tensor([-1.8907e-02,  0.0000e+00, -2.7895e-05], device='cuda:0')"
      ]
     },
     "metadata": {},
     "output_type": "display_data"
    },
    {
     "name": "stdout",
     "output_type": "stream",
     "text": [
      "\n",
      "new_candidates\n",
      "torch.Size([3, 17])\n"
     ]
    },
    {
     "data": {
      "text/plain": [
       "tensor([[    1, 32010,  1724,   338,   278,  9939, 14378, 29973, 29871, 32007,\n",
       "         32001,   450,  9939, 14378,   373, 11563, 29892],\n",
       "        [    1, 32010,  1724,   338,   278,  9939, 14378, 29973, 29871, 32007,\n",
       "         32001,   450,  9939, 14378,   297,  4958,   310],\n",
       "        [    1, 32010,  1724,   338,   278,  9939, 14378, 29973, 29871, 32007,\n",
       "         32001,   450,  9939, 14378,   297,   278,  3186]], device='cuda:0')"
      ]
     },
     "metadata": {},
     "output_type": "display_data"
    },
    {
     "name": "stdout",
     "output_type": "stream",
     "text": [
      "\n",
      "new_candidate_logprobs\n",
      "torch.Size([3])\n"
     ]
    },
    {
     "data": {
      "text/plain": [
       "tensor([-0.3024, -2.6107, -4.1108], device='cuda:0')"
      ]
     },
     "metadata": {},
     "output_type": "display_data"
    },
    {
     "name": "stdout",
     "output_type": "stream",
     "text": [
      "TOP P PRIOR 5: (4573.562041671) 3 candidates, 0.027436783999291947 inference time, 0.027438983999672928 total time\n",
      "event: message\n",
      "id: 5-p\n",
      "data: {\"id\": \"5-p\", \"level_type\": \"sample\", \"duration\": 0.027436783999291947, \"nodes\": [{\"content\": \",\", \"parent\": 0, \"prob\": 0.7390782833099365}, {\"content\": \"\\u2581of\", \"parent\": 1, \"prob\": 0.0734809935092926}, {\"content\": \"\\u2581world\", \"parent\": 2, \"prob\": 0.016395367681980133}]}\n",
      "\n",
      "\n",
      "\n",
      "====================================\n",
      "\n",
      "TOP P AFTER 5: (4573.562447601) 3 candidates, 0.027436783999291947 inference time, 0.027844753999488603 total time\n",
      "\n",
      "num_batches\n"
     ]
    },
    {
     "data": {
      "text/plain": [
       "1"
      ]
     },
     "metadata": {},
     "output_type": "display_data"
    },
    {
     "name": "stdout",
     "output_type": "stream",
     "text": [
      "infer start: GPU memory used: 16021 MB.\n",
      "\n",
      "batch_candidates\n",
      "torch.Size([3, 17])\n",
      "\n",
      "batch_candidate_logprobs\n",
      "torch.Size([3])\n",
      "\n",
      "batch_logits\n",
      "torch.Size([3, 17, 32064])\n",
      "\n",
      "hidden_states[-1]\n",
      "torch.Size([3, 17, 3072])\n",
      "infer - after batch run: GPU memory used: 16029 MB.\n",
      "FARTHEST NEIGHBORS %%%%%%%%%%%%%%%%%%%%%%%%%%%%%%%%\n",
      "\n",
      "candidates\n",
      "torch.Size([3, 17])\n"
     ]
    },
    {
     "data": {
      "text/plain": [
       "tensor([[    1, 32010,  1724,   338,   278,  9939, 14378, 29973, 29871, 32007,\n",
       "         32001,   450,  9939, 14378,   373, 11563, 29892],\n",
       "        [    1, 32010,  1724,   338,   278,  9939, 14378, 29973, 29871, 32007,\n",
       "         32001,   450,  9939, 14378,   297,  4958,   310],\n",
       "        [    1, 32010,  1724,   338,   278,  9939, 14378, 29973, 29871, 32007,\n",
       "         32001,   450,  9939, 14378,   297,   278,  3186]], device='cuda:0')"
      ]
     },
     "metadata": {},
     "output_type": "display_data"
    },
    {
     "name": "stdout",
     "output_type": "stream",
     "text": [
      "\n",
      "candidate_logprobs\n",
      "torch.Size([3])\n"
     ]
    },
    {
     "data": {
      "text/plain": [
       "tensor([-0.3024, -2.6107, -4.1108], device='cuda:0')"
      ]
     },
     "metadata": {},
     "output_type": "display_data"
    },
    {
     "name": "stdout",
     "output_type": "stream",
     "text": [
      "\n",
      "selected\n",
      "torch.Size([3])\n"
     ]
    },
    {
     "data": {
      "text/plain": [
       "tensor([ True, False, False], device='cuda:0')"
      ]
     },
     "metadata": {},
     "output_type": "display_data"
    },
    {
     "name": "stdout",
     "output_type": "stream",
     "text": [
      "\n",
      "selected_embeddings\n",
      "torch.Size([1, 3072])\n"
     ]
    },
    {
     "data": {
      "text/plain": [
       "tensor([[-1.0859,  2.1406,  2.5000,  ..., -2.1094, -0.7148, -1.5078]],\n",
       "       device='cuda:0', dtype=torch.bfloat16)"
      ]
     },
     "metadata": {},
     "output_type": "display_data"
    },
    {
     "name": "stdout",
     "output_type": "stream",
     "text": [
      "\n",
      "selected_embeddings_view\n",
      "torch.Size([1, 3072, 1])\n"
     ]
    },
    {
     "data": {
      "text/plain": [
       "tensor([[[-1.0859],\n",
       "         [ 2.1406],\n",
       "         [ 2.5000],\n",
       "         ...,\n",
       "         [-2.1094],\n",
       "         [-0.7148],\n",
       "         [-1.5078]]], device='cuda:0', dtype=torch.bfloat16)"
      ]
     },
     "metadata": {},
     "output_type": "display_data"
    },
    {
     "name": "stdout",
     "output_type": "stream",
     "text": [
      "\n",
      "candidate logprobs unsqueeze\n",
      "torch.Size([3, 3072, 1])\n"
     ]
    },
    {
     "data": {
      "text/plain": [
       "tensor([[[-1.0859],\n",
       "         [ 2.1406],\n",
       "         [ 2.5000],\n",
       "         ...,\n",
       "         [-2.1094],\n",
       "         [-0.7148],\n",
       "         [-1.5078]],\n",
       "\n",
       "        [[-2.9531],\n",
       "         [-2.5938],\n",
       "         [ 1.4453],\n",
       "         ...,\n",
       "         [ 1.1484],\n",
       "         [-1.6172],\n",
       "         [-0.3184]],\n",
       "\n",
       "        [[-2.0312],\n",
       "         [-1.4141],\n",
       "         [ 1.0547],\n",
       "         ...,\n",
       "         [-1.3906],\n",
       "         [ 0.1191],\n",
       "         [-0.3828]]], device='cuda:0', dtype=torch.bfloat16)"
      ]
     },
     "metadata": {},
     "output_type": "display_data"
    },
    {
     "name": "stdout",
     "output_type": "stream",
     "text": [
      "\n",
      "cosine_distances\n",
      "torch.Size([3, 1])\n"
     ]
    },
    {
     "data": {
      "text/plain": [
       "tensor([[1.0000],\n",
       "        [0.3594],\n",
       "        [0.5586]], device='cuda:0', dtype=torch.bfloat16)"
      ]
     },
     "metadata": {},
     "output_type": "display_data"
    },
    {
     "name": "stdout",
     "output_type": "stream",
     "text": [
      "\n",
      "min_distances\n",
      "torch.Size([3])\n"
     ]
    },
    {
     "data": {
      "text/plain": [
       "tensor([1.0000, 0.3594, 0.5586], device='cuda:0', dtype=torch.bfloat16)"
      ]
     },
     "metadata": {},
     "output_type": "display_data"
    },
    {
     "name": "stdout",
     "output_type": "stream",
     "text": [
      "\n",
      "min_remaining_distances\n",
      "torch.Size([3])\n"
     ]
    },
    {
     "data": {
      "text/plain": [
       "tensor([0.0000, 0.3594, 0.5586], device='cuda:0', dtype=torch.bfloat16)"
      ]
     },
     "metadata": {},
     "output_type": "display_data"
    },
    {
     "name": "stdout",
     "output_type": "stream",
     "text": [
      "\n",
      "selected (end of loop)\n",
      "torch.Size([3])\n"
     ]
    },
    {
     "data": {
      "text/plain": [
       "tensor([ True, False,  True], device='cuda:0')"
      ]
     },
     "metadata": {},
     "output_type": "display_data"
    },
    {
     "name": "stdout",
     "output_type": "stream",
     "text": [
      "\n",
      "selected_embeddings\n",
      "torch.Size([2, 3072])\n"
     ]
    },
    {
     "data": {
      "text/plain": [
       "tensor([[-1.0859,  2.1406,  2.5000,  ..., -2.1094, -0.7148, -1.5078],\n",
       "        [-2.0312, -1.4141,  1.0547,  ..., -1.3906,  0.1191, -0.3828]],\n",
       "       device='cuda:0', dtype=torch.bfloat16)"
      ]
     },
     "metadata": {},
     "output_type": "display_data"
    },
    {
     "name": "stdout",
     "output_type": "stream",
     "text": [
      "\n",
      "selected_embeddings_view\n",
      "torch.Size([1, 3072, 2])\n"
     ]
    },
    {
     "data": {
      "text/plain": [
       "tensor([[[-1.0859,  2.1406],\n",
       "         [ 2.5000,  0.0432],\n",
       "         [-2.1562, -0.5430],\n",
       "         ...,\n",
       "         [-0.5312, -3.8438],\n",
       "         [ 1.0703, -1.3906],\n",
       "         [ 0.1191, -0.3828]]], device='cuda:0', dtype=torch.bfloat16)"
      ]
     },
     "metadata": {},
     "output_type": "display_data"
    },
    {
     "name": "stdout",
     "output_type": "stream",
     "text": [
      "\n",
      "candidate logprobs unsqueeze\n",
      "torch.Size([3, 3072, 1])\n"
     ]
    },
    {
     "data": {
      "text/plain": [
       "tensor([[[-1.0859],\n",
       "         [ 2.1406],\n",
       "         [ 2.5000],\n",
       "         ...,\n",
       "         [-2.1094],\n",
       "         [-0.7148],\n",
       "         [-1.5078]],\n",
       "\n",
       "        [[-2.9531],\n",
       "         [-2.5938],\n",
       "         [ 1.4453],\n",
       "         ...,\n",
       "         [ 1.1484],\n",
       "         [-1.6172],\n",
       "         [-0.3184]],\n",
       "\n",
       "        [[-2.0312],\n",
       "         [-1.4141],\n",
       "         [ 1.0547],\n",
       "         ...,\n",
       "         [-1.3906],\n",
       "         [ 0.1191],\n",
       "         [-0.3828]]], device='cuda:0', dtype=torch.bfloat16)"
      ]
     },
     "metadata": {},
     "output_type": "display_data"
    },
    {
     "name": "stdout",
     "output_type": "stream",
     "text": [
      "\n",
      "cosine_distances\n",
      "torch.Size([3, 2])\n"
     ]
    },
    {
     "data": {
      "text/plain": [
       "tensor([[0.0020, 0.0056],\n",
       "        [0.0422, 0.0281],\n",
       "        [0.0043, 0.0124]], device='cuda:0', dtype=torch.bfloat16)"
      ]
     },
     "metadata": {},
     "output_type": "display_data"
    },
    {
     "name": "stdout",
     "output_type": "stream",
     "text": [
      "\n",
      "min_distances\n",
      "torch.Size([3])\n"
     ]
    },
    {
     "data": {
      "text/plain": [
       "tensor([0.0020, 0.0281, 0.0043], device='cuda:0', dtype=torch.bfloat16)"
      ]
     },
     "metadata": {},
     "output_type": "display_data"
    },
    {
     "name": "stdout",
     "output_type": "stream",
     "text": [
      "\n",
      "min_remaining_distances\n",
      "torch.Size([3])\n"
     ]
    },
    {
     "data": {
      "text/plain": [
       "tensor([0.0000, 0.0281, 0.0000], device='cuda:0', dtype=torch.bfloat16)"
      ]
     },
     "metadata": {},
     "output_type": "display_data"
    },
    {
     "name": "stdout",
     "output_type": "stream",
     "text": [
      "\n",
      "selected (end of loop)\n",
      "torch.Size([3])\n"
     ]
    },
    {
     "data": {
      "text/plain": [
       "tensor([True, True, True], device='cuda:0')"
      ]
     },
     "metadata": {},
     "output_type": "display_data"
    },
    {
     "name": "stdout",
     "output_type": "stream",
     "text": [
      "\n",
      "candidates\n",
      "torch.Size([3, 17])\n"
     ]
    },
    {
     "data": {
      "text/plain": [
       "tensor([[    1, 32010,  1724,   338,   278,  9939, 14378, 29973, 29871, 32007,\n",
       "         32001,   450,  9939, 14378,   373, 11563, 29892],\n",
       "        [    1, 32010,  1724,   338,   278,  9939, 14378, 29973, 29871, 32007,\n",
       "         32001,   450,  9939, 14378,   297,  4958,   310],\n",
       "        [    1, 32010,  1724,   338,   278,  9939, 14378, 29973, 29871, 32007,\n",
       "         32001,   450,  9939, 14378,   297,   278,  3186]], device='cuda:0')"
      ]
     },
     "metadata": {},
     "output_type": "display_data"
    },
    {
     "name": "stdout",
     "output_type": "stream",
     "text": [
      "\n",
      "candidate_logprobs\n",
      "torch.Size([3])\n"
     ]
    },
    {
     "data": {
      "text/plain": [
       "tensor([-0.3024, -2.6107, -4.1108], device='cuda:0')"
      ]
     },
     "metadata": {},
     "output_type": "display_data"
    },
    {
     "name": "stdout",
     "output_type": "stream",
     "text": [
      "\n",
      "last_tok_logits\n",
      "torch.Size([3, 32064])\n"
     ]
    },
    {
     "data": {
      "text/plain": [
       "tensor([[ -3.5156,  -2.1094, -10.3125,  ...,   0.0000,   0.0000,   0.0000],\n",
       "        [  0.3340,  -0.2949,  -6.8750,  ...,   0.0000,   0.0000,   0.0000],\n",
       "        [ -0.1992,  -3.4062,  -8.2500,  ...,   0.0000,   0.0000,   0.0000]],\n",
       "       device='cuda:0')"
      ]
     },
     "metadata": {},
     "output_type": "display_data"
    },
    {
     "name": "stdout",
     "output_type": "stream",
     "text": [
      "\n",
      "sorted_logits\n",
      "torch.Size([3, 32064])\n",
      "\n",
      "sorted_indices\n",
      "torch.Size([3, 32064])\n",
      "\n",
      "sorted_probs\n",
      "torch.Size([3, 32064])\n"
     ]
    },
    {
     "data": {
      "text/plain": [
       "tensor([[4.2495e-01, 2.9206e-01, 2.2746e-01,  ..., 1.3078e-19, 1.0185e-19,\n",
       "         7.9321e-20],\n",
       "        [4.5078e-01, 1.6583e-01, 1.6583e-01,  ..., 1.0251e-18, 6.2173e-19,\n",
       "         4.8420e-19],\n",
       "        [7.6299e-01, 1.1701e-01, 9.1126e-02,  ..., 3.7954e-21, 2.9558e-21,\n",
       "         6.5953e-22]], device='cuda:0')"
      ]
     },
     "metadata": {},
     "output_type": "display_data"
    },
    {
     "data": {
      "text/plain": [
       "tensor([1.0000, 1.0000, 1.0000], device='cuda:0')"
      ]
     },
     "metadata": {},
     "output_type": "display_data"
    },
    {
     "name": "stdout",
     "output_type": "stream",
     "text": [
      "\n",
      "cum_probs\n",
      "torch.Size([3, 32064])\n"
     ]
    },
    {
     "data": {
      "text/plain": [
       "tensor([[0.4249, 0.7170, 0.9445,  ..., 1.0000, 1.0000, 1.0000],\n",
       "        [0.4508, 0.6166, 0.7824,  ..., 1.0000, 1.0000, 1.0000],\n",
       "        [0.7630, 0.8800, 0.9711,  ..., 1.0000, 1.0000, 1.0000]],\n",
       "       device='cuda:0')"
      ]
     },
     "metadata": {},
     "output_type": "display_data"
    },
    {
     "name": "stdout",
     "output_type": "stream",
     "text": [
      "\n",
      "keep_indices\n",
      "torch.Size([3, 32064])\n"
     ]
    },
    {
     "data": {
      "text/plain": [
       "tensor([[ True,  True,  True,  ..., False, False, False],\n",
       "        [ True,  True,  True,  ..., False, False, False],\n",
       "        [ True,  True, False,  ..., False, False, False]], device='cuda:0')"
      ]
     },
     "metadata": {},
     "output_type": "display_data"
    },
    {
     "name": "stdout",
     "output_type": "stream",
     "text": [
      "\n",
      "keep_indices after top_k\n",
      "torch.Size([3, 32064])\n"
     ]
    },
    {
     "data": {
      "text/plain": [
       "tensor([[ True,  True, False,  ..., False, False, False],\n",
       "        [ True,  True, False,  ..., False, False, False],\n",
       "        [ True,  True, False,  ..., False, False, False]], device='cuda:0')"
      ]
     },
     "metadata": {},
     "output_type": "display_data"
    },
    {
     "name": "stdout",
     "output_type": "stream",
     "text": [
      "\n",
      "new_candidate_parents\n",
      "torch.Size([6])\n"
     ]
    },
    {
     "data": {
      "text/plain": [
       "tensor([0, 0, 1, 1, 2, 2], device='cuda:0')"
      ]
     },
     "metadata": {},
     "output_type": "display_data"
    },
    {
     "name": "stdout",
     "output_type": "stream",
     "text": [
      "\n",
      "carryover_candidates\n",
      "torch.Size([6, 17])\n"
     ]
    },
    {
     "data": {
      "text/plain": [
       "tensor([[    1, 32010,  1724,   338,   278,  9939, 14378, 29973, 29871, 32007,\n",
       "         32001,   450,  9939, 14378,   373, 11563, 29892],\n",
       "        [    1, 32010,  1724,   338,   278,  9939, 14378, 29973, 29871, 32007,\n",
       "         32001,   450,  9939, 14378,   373, 11563, 29892],\n",
       "        [    1, 32010,  1724,   338,   278,  9939, 14378, 29973, 29871, 32007,\n",
       "         32001,   450,  9939, 14378,   297,  4958,   310],\n",
       "        [    1, 32010,  1724,   338,   278,  9939, 14378, 29973, 29871, 32007,\n",
       "         32001,   450,  9939, 14378,   297,  4958,   310],\n",
       "        [    1, 32010,  1724,   338,   278,  9939, 14378, 29973, 29871, 32007,\n",
       "         32001,   450,  9939, 14378,   297,   278,  3186],\n",
       "        [    1, 32010,  1724,   338,   278,  9939, 14378, 29973, 29871, 32007,\n",
       "         32001,   450,  9939, 14378,   297,   278,  3186]], device='cuda:0')"
      ]
     },
     "metadata": {},
     "output_type": "display_data"
    },
    {
     "name": "stdout",
     "output_type": "stream",
     "text": [
      "\n",
      "carryover_candidate_logprobs\n",
      "torch.Size([6])\n"
     ]
    },
    {
     "data": {
      "text/plain": [
       "tensor([-0.3024, -0.3024, -2.6107, -2.6107, -4.1108, -4.1108], device='cuda:0')"
      ]
     },
     "metadata": {},
     "output_type": "display_data"
    },
    {
     "name": "stdout",
     "output_type": "stream",
     "text": [
      "\n",
      "new_candidate_toks\n",
      "torch.Size([6, 1])\n"
     ]
    },
    {
     "data": {
      "text/plain": [
       "tensor([[  408],\n",
       "        [ 2729],\n",
       "        [11858],\n",
       "        [ 3171],\n",
       "        [29892],\n",
       "        [  338]], device='cuda:0')"
      ]
     },
     "metadata": {},
     "output_type": "display_data"
    },
    {
     "name": "stdout",
     "output_type": "stream",
     "text": [
      "\n",
      "new_candidate_tok_logprobs\n",
      "torch.Size([6])\n"
     ]
    },
    {
     "data": {
      "text/plain": [
       "tensor([-0.8558, -1.2308, -0.7968, -1.7968, -0.2705, -2.1455], device='cuda:0')"
      ]
     },
     "metadata": {},
     "output_type": "display_data"
    },
    {
     "name": "stdout",
     "output_type": "stream",
     "text": [
      "\n",
      "new_candidates\n",
      "torch.Size([6, 18])\n"
     ]
    },
    {
     "data": {
      "text/plain": [
       "tensor([[    1, 32010,  1724,   338,   278,  9939, 14378, 29973, 29871, 32007,\n",
       "         32001,   450,  9939, 14378,   373, 11563, 29892,   408],\n",
       "        [    1, 32010,  1724,   338,   278,  9939, 14378, 29973, 29871, 32007,\n",
       "         32001,   450,  9939, 14378,   373, 11563, 29892,  2729],\n",
       "        [    1, 32010,  1724,   338,   278,  9939, 14378, 29973, 29871, 32007,\n",
       "         32001,   450,  9939, 14378,   297,  4958,   310, 11858],\n",
       "        [    1, 32010,  1724,   338,   278,  9939, 14378, 29973, 29871, 32007,\n",
       "         32001,   450,  9939, 14378,   297,  4958,   310,  3171],\n",
       "        [    1, 32010,  1724,   338,   278,  9939, 14378, 29973, 29871, 32007,\n",
       "         32001,   450,  9939, 14378,   297,   278,  3186, 29892],\n",
       "        [    1, 32010,  1724,   338,   278,  9939, 14378, 29973, 29871, 32007,\n",
       "         32001,   450,  9939, 14378,   297,   278,  3186,   338]],\n",
       "       device='cuda:0')"
      ]
     },
     "metadata": {},
     "output_type": "display_data"
    },
    {
     "name": "stdout",
     "output_type": "stream",
     "text": [
      "\n",
      "new_candidate_logprobs\n",
      "torch.Size([6])\n"
     ]
    },
    {
     "data": {
      "text/plain": [
       "tensor([-1.1581, -1.5331, -3.4075, -4.4075, -4.3813, -6.2563], device='cuda:0')"
      ]
     },
     "metadata": {},
     "output_type": "display_data"
    },
    {
     "name": "stdout",
     "output_type": "stream",
     "text": [
      "TOP P PRIOR 6: (4574.238077445) 6 candidates, 0.028332269999737036 inference time, 0.028335689999948954 total time\n",
      "event: message\n",
      "id: 6-p\n",
      "data: {\"id\": \"6-p\", \"level_type\": \"sample\", \"duration\": 0.028332269999737036, \"nodes\": [{\"content\": \"\\u2581as\", \"parent\": 0, \"prob\": 0.3140707314014435}, {\"content\": \"\\u2581based\", \"parent\": 0, \"prob\": 0.21585746109485626}, {\"content\": \"\\u2581elev\", \"parent\": 1, \"prob\": 0.03312361240386963}, {\"content\": \"\\u2581height\", \"parent\": 1, \"prob\": 0.012185496278107166}, {\"content\": \",\", \"parent\": 2, \"prob\": 0.012509509921073914}, {\"content\": \"\\u2581is\", \"parent\": 2, \"prob\": 0.0019183953991159797}]}\n",
      "\n",
      "\n",
      "\n",
      "====================================\n",
      "\n",
      "TOP P AFTER 6: (4574.238598164) 6 candidates, 0.028332269999737036 inference time, 0.028855658999418665 total time\n",
      "\n",
      "num_batches\n"
     ]
    },
    {
     "data": {
      "text/plain": [
       "1"
      ]
     },
     "metadata": {},
     "output_type": "display_data"
    },
    {
     "name": "stdout",
     "output_type": "stream",
     "text": [
      "infer start: GPU memory used: 16029 MB.\n",
      "\n",
      "batch_candidates\n",
      "torch.Size([6, 18])\n",
      "\n",
      "batch_candidate_logprobs\n",
      "torch.Size([6])\n",
      "\n",
      "batch_logits\n",
      "torch.Size([6, 18, 32064])\n",
      "\n",
      "hidden_states[-1]\n",
      "torch.Size([6, 18, 3072])\n",
      "infer - after batch run: GPU memory used: 16019 MB.\n",
      "FARTHEST NEIGHBORS %%%%%%%%%%%%%%%%%%%%%%%%%%%%%%%%\n",
      "\n",
      "candidates\n",
      "torch.Size([6, 18])\n"
     ]
    },
    {
     "data": {
      "text/plain": [
       "tensor([[    1, 32010,  1724,   338,   278,  9939, 14378, 29973, 29871, 32007,\n",
       "         32001,   450,  9939, 14378,   373, 11563, 29892,   408],\n",
       "        [    1, 32010,  1724,   338,   278,  9939, 14378, 29973, 29871, 32007,\n",
       "         32001,   450,  9939, 14378,   373, 11563, 29892,  2729],\n",
       "        [    1, 32010,  1724,   338,   278,  9939, 14378, 29973, 29871, 32007,\n",
       "         32001,   450,  9939, 14378,   297,  4958,   310, 11858],\n",
       "        [    1, 32010,  1724,   338,   278,  9939, 14378, 29973, 29871, 32007,\n",
       "         32001,   450,  9939, 14378,   297,  4958,   310,  3171],\n",
       "        [    1, 32010,  1724,   338,   278,  9939, 14378, 29973, 29871, 32007,\n",
       "         32001,   450,  9939, 14378,   297,   278,  3186, 29892],\n",
       "        [    1, 32010,  1724,   338,   278,  9939, 14378, 29973, 29871, 32007,\n",
       "         32001,   450,  9939, 14378,   297,   278,  3186,   338]],\n",
       "       device='cuda:0')"
      ]
     },
     "metadata": {},
     "output_type": "display_data"
    },
    {
     "name": "stdout",
     "output_type": "stream",
     "text": [
      "\n",
      "candidate_logprobs\n",
      "torch.Size([6])\n"
     ]
    },
    {
     "data": {
      "text/plain": [
       "tensor([-1.1581, -1.5331, -3.4075, -4.4075, -4.3813, -6.2563], device='cuda:0')"
      ]
     },
     "metadata": {},
     "output_type": "display_data"
    },
    {
     "name": "stdout",
     "output_type": "stream",
     "text": [
      "\n",
      "selected\n",
      "torch.Size([6])\n"
     ]
    },
    {
     "data": {
      "text/plain": [
       "tensor([ True, False, False, False, False, False], device='cuda:0')"
      ]
     },
     "metadata": {},
     "output_type": "display_data"
    },
    {
     "name": "stdout",
     "output_type": "stream",
     "text": [
      "\n",
      "selected_embeddings\n",
      "torch.Size([1, 3072])\n"
     ]
    },
    {
     "data": {
      "text/plain": [
       "tensor([[-1.1953,  0.5078,  0.2773,  ..., -1.6484,  1.0625, -5.2812]],\n",
       "       device='cuda:0', dtype=torch.bfloat16)"
      ]
     },
     "metadata": {},
     "output_type": "display_data"
    },
    {
     "name": "stdout",
     "output_type": "stream",
     "text": [
      "\n",
      "selected_embeddings_view\n",
      "torch.Size([1, 3072, 1])\n"
     ]
    },
    {
     "data": {
      "text/plain": [
       "tensor([[[-1.1953],\n",
       "         [ 0.5078],\n",
       "         [ 0.2773],\n",
       "         ...,\n",
       "         [-1.6484],\n",
       "         [ 1.0625],\n",
       "         [-5.2812]]], device='cuda:0', dtype=torch.bfloat16)"
      ]
     },
     "metadata": {},
     "output_type": "display_data"
    },
    {
     "name": "stdout",
     "output_type": "stream",
     "text": [
      "\n",
      "candidate logprobs unsqueeze\n",
      "torch.Size([6, 3072, 1])\n"
     ]
    },
    {
     "data": {
      "text/plain": [
       "tensor([[[-1.1953],\n",
       "         [ 0.5078],\n",
       "         [ 0.2773],\n",
       "         ...,\n",
       "         [-1.6484],\n",
       "         [ 1.0625],\n",
       "         [-5.2812]],\n",
       "\n",
       "        [[ 0.5156],\n",
       "         [-1.3750],\n",
       "         [ 0.4180],\n",
       "         ...,\n",
       "         [ 0.3477],\n",
       "         [ 0.5781],\n",
       "         [-3.8750]],\n",
       "\n",
       "        [[ 1.5938],\n",
       "         [-2.2969],\n",
       "         [ 1.6953],\n",
       "         ...,\n",
       "         [ 1.1328],\n",
       "         [ 1.2344],\n",
       "         [-0.3027]],\n",
       "\n",
       "        [[-0.7188],\n",
       "         [ 0.2754],\n",
       "         [ 3.2812],\n",
       "         ...,\n",
       "         [ 0.1235],\n",
       "         [ 1.1641],\n",
       "         [-0.3164]],\n",
       "\n",
       "        [[-1.3672],\n",
       "         [ 1.5156],\n",
       "         [ 0.9297],\n",
       "         ...,\n",
       "         [-0.8477],\n",
       "         [ 0.0498],\n",
       "         [-0.8242]],\n",
       "\n",
       "        [[ 1.6875],\n",
       "         [ 1.0000],\n",
       "         [ 0.3555],\n",
       "         ...,\n",
       "         [ 0.8555],\n",
       "         [-1.0547],\n",
       "         [-0.2520]]], device='cuda:0', dtype=torch.bfloat16)"
      ]
     },
     "metadata": {},
     "output_type": "display_data"
    },
    {
     "name": "stdout",
     "output_type": "stream",
     "text": [
      "\n",
      "cosine_distances\n",
      "torch.Size([6, 1])\n"
     ]
    },
    {
     "data": {
      "text/plain": [
       "tensor([[1.0000],\n",
       "        [0.3750],\n",
       "        [0.1279],\n",
       "        [0.3086],\n",
       "        [0.4766],\n",
       "        [0.2598]], device='cuda:0', dtype=torch.bfloat16)"
      ]
     },
     "metadata": {},
     "output_type": "display_data"
    },
    {
     "name": "stdout",
     "output_type": "stream",
     "text": [
      "\n",
      "min_distances\n",
      "torch.Size([6])\n"
     ]
    },
    {
     "data": {
      "text/plain": [
       "tensor([1.0000, 0.3750, 0.1279, 0.3086, 0.4766, 0.2598], device='cuda:0',\n",
       "       dtype=torch.bfloat16)"
      ]
     },
     "metadata": {},
     "output_type": "display_data"
    },
    {
     "name": "stdout",
     "output_type": "stream",
     "text": [
      "\n",
      "min_remaining_distances\n",
      "torch.Size([6])\n"
     ]
    },
    {
     "data": {
      "text/plain": [
       "tensor([0.0000, 0.3750, 0.1279, 0.3086, 0.4766, 0.2598], device='cuda:0',\n",
       "       dtype=torch.bfloat16)"
      ]
     },
     "metadata": {},
     "output_type": "display_data"
    },
    {
     "name": "stdout",
     "output_type": "stream",
     "text": [
      "\n",
      "selected (end of loop)\n",
      "torch.Size([6])\n"
     ]
    },
    {
     "data": {
      "text/plain": [
       "tensor([ True, False, False, False,  True, False], device='cuda:0')"
      ]
     },
     "metadata": {},
     "output_type": "display_data"
    },
    {
     "name": "stdout",
     "output_type": "stream",
     "text": [
      "\n",
      "selected_embeddings\n",
      "torch.Size([2, 3072])\n"
     ]
    },
    {
     "data": {
      "text/plain": [
       "tensor([[-1.1953,  0.5078,  0.2773,  ..., -1.6484,  1.0625, -5.2812],\n",
       "        [-1.3672,  1.5156,  0.9297,  ..., -0.8477,  0.0498, -0.8242]],\n",
       "       device='cuda:0', dtype=torch.bfloat16)"
      ]
     },
     "metadata": {},
     "output_type": "display_data"
    },
    {
     "name": "stdout",
     "output_type": "stream",
     "text": [
      "\n",
      "selected_embeddings_view\n",
      "torch.Size([1, 3072, 2])\n"
     ]
    },
    {
     "data": {
      "text/plain": [
       "tensor([[[-1.1953,  0.5078],\n",
       "         [ 0.2773, -0.0723],\n",
       "         [ 1.2891,  1.1562],\n",
       "         ...,\n",
       "         [-1.0859,  1.3594],\n",
       "         [-0.4746, -0.8477],\n",
       "         [ 0.0498, -0.8242]]], device='cuda:0', dtype=torch.bfloat16)"
      ]
     },
     "metadata": {},
     "output_type": "display_data"
    },
    {
     "name": "stdout",
     "output_type": "stream",
     "text": [
      "\n",
      "candidate logprobs unsqueeze\n",
      "torch.Size([6, 3072, 1])\n"
     ]
    },
    {
     "data": {
      "text/plain": [
       "tensor([[[-1.1953],\n",
       "         [ 0.5078],\n",
       "         [ 0.2773],\n",
       "         ...,\n",
       "         [-1.6484],\n",
       "         [ 1.0625],\n",
       "         [-5.2812]],\n",
       "\n",
       "        [[ 0.5156],\n",
       "         [-1.3750],\n",
       "         [ 0.4180],\n",
       "         ...,\n",
       "         [ 0.3477],\n",
       "         [ 0.5781],\n",
       "         [-3.8750]],\n",
       "\n",
       "        [[ 1.5938],\n",
       "         [-2.2969],\n",
       "         [ 1.6953],\n",
       "         ...,\n",
       "         [ 1.1328],\n",
       "         [ 1.2344],\n",
       "         [-0.3027]],\n",
       "\n",
       "        [[-0.7188],\n",
       "         [ 0.2754],\n",
       "         [ 3.2812],\n",
       "         ...,\n",
       "         [ 0.1235],\n",
       "         [ 1.1641],\n",
       "         [-0.3164]],\n",
       "\n",
       "        [[-1.3672],\n",
       "         [ 1.5156],\n",
       "         [ 0.9297],\n",
       "         ...,\n",
       "         [-0.8477],\n",
       "         [ 0.0498],\n",
       "         [-0.8242]],\n",
       "\n",
       "        [[ 1.6875],\n",
       "         [ 1.0000],\n",
       "         [ 0.3555],\n",
       "         ...,\n",
       "         [ 0.8555],\n",
       "         [-1.0547],\n",
       "         [-0.2520]]], device='cuda:0', dtype=torch.bfloat16)"
      ]
     },
     "metadata": {},
     "output_type": "display_data"
    },
    {
     "name": "stdout",
     "output_type": "stream",
     "text": [
      "\n",
      "cosine_distances\n",
      "torch.Size([6, 2])\n"
     ]
    },
    {
     "data": {
      "text/plain": [
       "tensor([[0.0072, 0.0112],\n",
       "        [0.0354, 0.0166],\n",
       "        [0.0094, 0.0272],\n",
       "        [0.0369, 0.0107],\n",
       "        [0.0029, 0.0053],\n",
       "        [0.0117, 0.0049]], device='cuda:0', dtype=torch.bfloat16)"
      ]
     },
     "metadata": {},
     "output_type": "display_data"
    },
    {
     "name": "stdout",
     "output_type": "stream",
     "text": [
      "\n",
      "min_distances\n",
      "torch.Size([6])\n"
     ]
    },
    {
     "data": {
      "text/plain": [
       "tensor([0.0072, 0.0166, 0.0094, 0.0107, 0.0029, 0.0049], device='cuda:0',\n",
       "       dtype=torch.bfloat16)"
      ]
     },
     "metadata": {},
     "output_type": "display_data"
    },
    {
     "name": "stdout",
     "output_type": "stream",
     "text": [
      "\n",
      "min_remaining_distances\n",
      "torch.Size([6])\n"
     ]
    },
    {
     "data": {
      "text/plain": [
       "tensor([0.0000, 0.0166, 0.0094, 0.0107, 0.0000, 0.0049], device='cuda:0',\n",
       "       dtype=torch.bfloat16)"
      ]
     },
     "metadata": {},
     "output_type": "display_data"
    },
    {
     "name": "stdout",
     "output_type": "stream",
     "text": [
      "\n",
      "selected (end of loop)\n",
      "torch.Size([6])\n"
     ]
    },
    {
     "data": {
      "text/plain": [
       "tensor([ True,  True, False, False,  True, False], device='cuda:0')"
      ]
     },
     "metadata": {},
     "output_type": "display_data"
    },
    {
     "name": "stdout",
     "output_type": "stream",
     "text": [
      "\n",
      "candidates\n",
      "torch.Size([6, 18])\n"
     ]
    },
    {
     "data": {
      "text/plain": [
       "tensor([[    1, 32010,  1724,   338,   278,  9939, 14378, 29973, 29871, 32007,\n",
       "         32001,   450,  9939, 14378,   373, 11563, 29892,   408],\n",
       "        [    1, 32010,  1724,   338,   278,  9939, 14378, 29973, 29871, 32007,\n",
       "         32001,   450,  9939, 14378,   373, 11563, 29892,  2729],\n",
       "        [    1, 32010,  1724,   338,   278,  9939, 14378, 29973, 29871, 32007,\n",
       "         32001,   450,  9939, 14378,   297,  4958,   310, 11858],\n",
       "        [    1, 32010,  1724,   338,   278,  9939, 14378, 29973, 29871, 32007,\n",
       "         32001,   450,  9939, 14378,   297,  4958,   310,  3171],\n",
       "        [    1, 32010,  1724,   338,   278,  9939, 14378, 29973, 29871, 32007,\n",
       "         32001,   450,  9939, 14378,   297,   278,  3186, 29892],\n",
       "        [    1, 32010,  1724,   338,   278,  9939, 14378, 29973, 29871, 32007,\n",
       "         32001,   450,  9939, 14378,   297,   278,  3186,   338]],\n",
       "       device='cuda:0')"
      ]
     },
     "metadata": {},
     "output_type": "display_data"
    },
    {
     "name": "stdout",
     "output_type": "stream",
     "text": [
      "\n",
      "candidate_logprobs\n",
      "torch.Size([6])\n"
     ]
    },
    {
     "data": {
      "text/plain": [
       "tensor([-1.1581, -1.5331, -3.4075, -4.4075, -4.3813, -6.2563], device='cuda:0')"
      ]
     },
     "metadata": {},
     "output_type": "display_data"
    },
    {
     "name": "stdout",
     "output_type": "stream",
     "text": [
      "\n",
      "embeddings_np\n",
      "(6, 3072)\n"
     ]
    },
    {
     "data": {
      "text/plain": [
       "array([[-1.1953125 ,  0.5078125 ,  0.27734375, ..., -1.6484375 ,\n",
       "         1.0625    , -5.28125   ],\n",
       "       [ 0.515625  , -1.375     ,  0.41796875, ...,  0.34765625,\n",
       "         0.578125  , -3.875     ],\n",
       "       [ 1.59375   , -2.296875  ,  1.6953125 , ...,  1.1328125 ,\n",
       "         1.234375  , -0.30273438],\n",
       "       [-0.71875   ,  0.27539062,  3.28125   , ...,  0.12353516,\n",
       "         1.1640625 , -0.31640625],\n",
       "       [-1.3671875 ,  1.515625  ,  0.9296875 , ..., -0.84765625,\n",
       "         0.04980469, -0.82421875],\n",
       "       [ 1.6875    ,  1.        ,  0.35546875, ...,  0.85546875,\n",
       "        -1.0546875 , -0.25195312]], dtype=float32)"
      ]
     },
     "metadata": {},
     "output_type": "display_data"
    },
    {
     "name": "stdout",
     "output_type": "stream",
     "text": [
      "\n",
      "k_mean_space\n",
      "(6, 3)\n"
     ]
    },
    {
     "data": {
      "text/plain": [
       "array([[ 98.4211  ,  55.8501  , 110.24304 ],\n",
       "       [100.15504 ,  60.411293, 110.894684],\n",
       "       [100.08185 ,  94.79501 ,   0.      ],\n",
       "       [  0.      ,  79.6112  , 100.08185 ],\n",
       "       [ 90.86594 ,  52.89082 , 110.886734],\n",
       "       [105.63401 ,  64.922554, 113.923164]], dtype=float32)"
      ]
     },
     "metadata": {},
     "output_type": "display_data"
    },
    {
     "name": "stdout",
     "output_type": "stream",
     "text": [
      "\n",
      "k_mean_clusters\n",
      "(6,)\n"
     ]
    },
    {
     "data": {
      "text/plain": [
       "array([1, 1, 2, 0, 1, 1], dtype=int32)"
      ]
     },
     "metadata": {},
     "output_type": "display_data"
    },
    {
     "name": "stdout",
     "output_type": "stream",
     "text": [
      "\n",
      "k_mean_logprob_mass\n",
      "(3,)\n"
     ]
    },
    {
     "data": {
      "text/plain": [
       "array([-4.40750886, -0.60815168, -3.40750889])"
      ]
     },
     "metadata": {},
     "output_type": "display_data"
    },
    {
     "name": "stdout",
     "output_type": "stream",
     "text": [
      "\n",
      "closest\n",
      "(3,)\n"
     ]
    },
    {
     "data": {
      "text/plain": [
       "array([3, 4, 2])"
      ]
     },
     "metadata": {},
     "output_type": "display_data"
    },
    {
     "name": "stdout",
     "output_type": "stream",
     "text": [
      "\n",
      "new_candidates\n",
      "torch.Size([3, 18])\n"
     ]
    },
    {
     "data": {
      "text/plain": [
       "tensor([[    1, 32010,  1724,   338,   278,  9939, 14378, 29973, 29871, 32007,\n",
       "         32001,   450,  9939, 14378,   297,  4958,   310,  3171],\n",
       "        [    1, 32010,  1724,   338,   278,  9939, 14378, 29973, 29871, 32007,\n",
       "         32001,   450,  9939, 14378,   297,   278,  3186, 29892],\n",
       "        [    1, 32010,  1724,   338,   278,  9939, 14378, 29973, 29871, 32007,\n",
       "         32001,   450,  9939, 14378,   297,  4958,   310, 11858]],\n",
       "       device='cuda:0')"
      ]
     },
     "metadata": {},
     "output_type": "display_data"
    },
    {
     "name": "stdout",
     "output_type": "stream",
     "text": [
      "\n",
      "new_candidate_parents\n"
     ]
    },
    {
     "data": {
      "text/plain": [
       "[3, 4, 2]"
      ]
     },
     "metadata": {},
     "output_type": "display_data"
    },
    {
     "name": "stdout",
     "output_type": "stream",
     "text": [
      "\n",
      "new_candidate_aunts\n"
     ]
    },
    {
     "data": {
      "text/plain": [
       "[[3], [0, 1, 4, 5], [2]]"
      ]
     },
     "metadata": {},
     "output_type": "display_data"
    },
    {
     "name": "stdout",
     "output_type": "stream",
     "text": [
      "\n",
      "new_candidate_logprobs\n",
      "torch.Size([3])\n"
     ]
    },
    {
     "data": {
      "text/plain": [
       "tensor([-4.4075, -0.6082, -3.4075], device='cuda:0', dtype=torch.float64)"
      ]
     },
     "metadata": {},
     "output_type": "display_data"
    },
    {
     "name": "stdout",
     "output_type": "stream",
     "text": [
      "K MEANS PRIOR 7: (4574.93241344) 3 candidates, 0.02636191500005225 inference time, 0.026364585000010266 total time\n",
      "event: message\n",
      "id: 7-k\"\n",
      "data: {\"id\": \"7-k\", \"level_type\": \"gather\", \"duration\": 0.02636191500005225, \"nodes\": [{\"content\": \"\\u2581height\", \"parent\": 3, \"aunts\": [3], \"prob\": 0.012185496278107165}, {\"content\": \",\", \"parent\": 4, \"aunts\": [0, 1, 4, 5], \"prob\": 0.5443560830317438}, {\"content\": \"\\u2581elev\", \"parent\": 2, \"aunts\": [2], \"prob\": 0.03312361240386963}]}\n",
      "\n",
      "\n",
      "\n",
      "====================================\n",
      "\n",
      "K MEANS AFTER 7: (4574.932859433) 3 candidates, 0.02636191500005225 inference time, 0.02681012799985183 total time\n",
      "\n",
      "candidates\n",
      "torch.Size([3, 18])\n"
     ]
    },
    {
     "data": {
      "text/plain": [
       "tensor([[    1, 32010,  1724,   338,   278,  9939, 14378, 29973, 29871, 32007,\n",
       "         32001,   450,  9939, 14378,   297,  4958,   310,  3171],\n",
       "        [    1, 32010,  1724,   338,   278,  9939, 14378, 29973, 29871, 32007,\n",
       "         32001,   450,  9939, 14378,   297,   278,  3186, 29892],\n",
       "        [    1, 32010,  1724,   338,   278,  9939, 14378, 29973, 29871, 32007,\n",
       "         32001,   450,  9939, 14378,   297,  4958,   310, 11858]],\n",
       "       device='cuda:0')"
      ]
     },
     "metadata": {},
     "output_type": "display_data"
    },
    {
     "name": "stdout",
     "output_type": "stream",
     "text": [
      "\n",
      "candidate_logprobs\n",
      "torch.Size([3])\n"
     ]
    },
    {
     "data": {
      "text/plain": [
       "tensor([-4.4075, -0.6082, -3.4075], device='cuda:0', dtype=torch.float64)"
      ]
     },
     "metadata": {},
     "output_type": "display_data"
    },
    {
     "name": "stdout",
     "output_type": "stream",
     "text": [
      "\n",
      "last_tok_logits\n",
      "torch.Size([3, 32064])\n"
     ]
    },
    {
     "data": {
      "text/plain": [
       "tensor([[  0.0183,   1.5000,  -7.1250,  ...,   0.0000,   0.0000,   0.0000],\n",
       "        [ -3.3438,  -2.0469, -10.8750,  ...,   0.0000,   0.0000,   0.0000],\n",
       "        [ -0.8047,  -1.1484,  -1.5938,  ...,   0.0000,   0.0000,   0.0000]],\n",
       "       device='cuda:0')"
      ]
     },
     "metadata": {},
     "output_type": "display_data"
    },
    {
     "name": "stdout",
     "output_type": "stream",
     "text": [
      "\n",
      "sorted_logits\n",
      "torch.Size([3, 32064])\n",
      "\n",
      "sorted_indices\n",
      "torch.Size([3, 32064])\n",
      "\n",
      "sorted_probs\n",
      "torch.Size([3, 32064])\n"
     ]
    },
    {
     "data": {
      "text/plain": [
       "tensor([[9.9433e-01, 2.1751e-03, 1.3193e-03,  ..., 6.3509e-21, 6.3509e-21,\n",
       "         3.3994e-21],\n",
       "        [7.1745e-01, 1.2467e-01, 6.6733e-02,  ..., 2.3272e-20, 1.4115e-20,\n",
       "         7.0274e-22],\n",
       "        [9.9999e-01, 6.1442e-06, 1.7603e-06,  ..., 1.7940e-23, 1.3972e-23,\n",
       "         7.4785e-24]], device='cuda:0')"
      ]
     },
     "metadata": {},
     "output_type": "display_data"
    },
    {
     "data": {
      "text/plain": [
       "tensor([1.0000, 1.0000, 1.0000], device='cuda:0')"
      ]
     },
     "metadata": {},
     "output_type": "display_data"
    },
    {
     "name": "stdout",
     "output_type": "stream",
     "text": [
      "\n",
      "cum_probs\n",
      "torch.Size([3, 32064])\n"
     ]
    },
    {
     "data": {
      "text/plain": [
       "tensor([[0.9943, 0.9965, 0.9978,  ..., 1.0000, 1.0000, 1.0000],\n",
       "        [0.7174, 0.8421, 0.9089,  ..., 1.0000, 1.0000, 1.0000],\n",
       "        [1.0000, 1.0000, 1.0000,  ..., 1.0000, 1.0000, 1.0000]],\n",
       "       device='cuda:0')"
      ]
     },
     "metadata": {},
     "output_type": "display_data"
    },
    {
     "name": "stdout",
     "output_type": "stream",
     "text": [
      "\n",
      "keep_indices\n",
      "torch.Size([3, 32064])\n"
     ]
    },
    {
     "data": {
      "text/plain": [
       "tensor([[ True, False, False,  ..., False, False, False],\n",
       "        [ True,  True, False,  ..., False, False, False],\n",
       "        [ True, False, False,  ..., False, False, False]], device='cuda:0')"
      ]
     },
     "metadata": {},
     "output_type": "display_data"
    },
    {
     "name": "stdout",
     "output_type": "stream",
     "text": [
      "\n",
      "keep_indices after top_k\n",
      "torch.Size([3, 32064])\n"
     ]
    },
    {
     "data": {
      "text/plain": [
       "tensor([[ True, False, False,  ..., False, False, False],\n",
       "        [ True,  True, False,  ..., False, False, False],\n",
       "        [ True, False, False,  ..., False, False, False]], device='cuda:0')"
      ]
     },
     "metadata": {},
     "output_type": "display_data"
    },
    {
     "name": "stdout",
     "output_type": "stream",
     "text": [
      "\n",
      "new_candidate_parents\n",
      "torch.Size([4])\n"
     ]
    },
    {
     "data": {
      "text/plain": [
       "tensor([0, 1, 1, 2], device='cuda:0')"
      ]
     },
     "metadata": {},
     "output_type": "display_data"
    },
    {
     "name": "stdout",
     "output_type": "stream",
     "text": [
      "\n",
      "carryover_candidates\n",
      "torch.Size([4, 18])\n"
     ]
    },
    {
     "data": {
      "text/plain": [
       "tensor([[    1, 32010,  1724,   338,   278,  9939, 14378, 29973, 29871, 32007,\n",
       "         32001,   450,  9939, 14378,   297,  4958,   310,  3171],\n",
       "        [    1, 32010,  1724,   338,   278,  9939, 14378, 29973, 29871, 32007,\n",
       "         32001,   450,  9939, 14378,   297,   278,  3186, 29892],\n",
       "        [    1, 32010,  1724,   338,   278,  9939, 14378, 29973, 29871, 32007,\n",
       "         32001,   450,  9939, 14378,   297,   278,  3186, 29892],\n",
       "        [    1, 32010,  1724,   338,   278,  9939, 14378, 29973, 29871, 32007,\n",
       "         32001,   450,  9939, 14378,   297,  4958,   310, 11858]],\n",
       "       device='cuda:0')"
      ]
     },
     "metadata": {},
     "output_type": "display_data"
    },
    {
     "name": "stdout",
     "output_type": "stream",
     "text": [
      "\n",
      "carryover_candidate_logprobs\n",
      "torch.Size([4])\n"
     ]
    },
    {
     "data": {
      "text/plain": [
       "tensor([-4.4075, -0.6082, -0.6082, -3.4075], device='cuda:0',\n",
       "       dtype=torch.float64)"
      ]
     },
     "metadata": {},
     "output_type": "display_data"
    },
    {
     "name": "stdout",
     "output_type": "stream",
     "text": [
      "\n",
      "new_candidate_toks\n",
      "torch.Size([4, 1])\n"
     ]
    },
    {
     "data": {
      "text/plain": [
       "tensor([[ 2038],\n",
       "        [  746],\n",
       "        [17005],\n",
       "        [  362]], device='cuda:0')"
      ]
     },
     "metadata": {},
     "output_type": "display_data"
    },
    {
     "name": "stdout",
     "output_type": "stream",
     "text": [
      "\n",
      "new_candidate_tok_logprobs\n",
      "torch.Size([4])\n"
     ]
    },
    {
     "data": {
      "text/plain": [
       "tensor([-5.6907e-03, -3.3205e-01, -2.0821e+00, -8.7023e-06], device='cuda:0')"
      ]
     },
     "metadata": {},
     "output_type": "display_data"
    },
    {
     "name": "stdout",
     "output_type": "stream",
     "text": [
      "\n",
      "new_candidates\n",
      "torch.Size([4, 19])\n"
     ]
    },
    {
     "data": {
      "text/plain": [
       "tensor([[    1, 32010,  1724,   338,   278,  9939, 14378, 29973, 29871, 32007,\n",
       "         32001,   450,  9939, 14378,   297,  4958,   310,  3171,  2038],\n",
       "        [    1, 32010,  1724,   338,   278,  9939, 14378, 29973, 29871, 32007,\n",
       "         32001,   450,  9939, 14378,   297,   278,  3186, 29892,   746],\n",
       "        [    1, 32010,  1724,   338,   278,  9939, 14378, 29973, 29871, 32007,\n",
       "         32001,   450,  9939, 14378,   297,   278,  3186, 29892, 17005],\n",
       "        [    1, 32010,  1724,   338,   278,  9939, 14378, 29973, 29871, 32007,\n",
       "         32001,   450,  9939, 14378,   297,  4958,   310, 11858,   362]],\n",
       "       device='cuda:0')"
      ]
     },
     "metadata": {},
     "output_type": "display_data"
    },
    {
     "name": "stdout",
     "output_type": "stream",
     "text": [
      "\n",
      "new_candidate_logprobs\n",
      "torch.Size([4])\n"
     ]
    },
    {
     "data": {
      "text/plain": [
       "tensor([-4.4132, -0.9402, -2.6902, -3.4075], device='cuda:0',\n",
       "       dtype=torch.float64)"
      ]
     },
     "metadata": {},
     "output_type": "display_data"
    },
    {
     "name": "stdout",
     "output_type": "stream",
     "text": [
      "TOP P PRIOR 7: (4574.964347346) 4 candidates, 0.03147653199994238 inference time, 0.03147910200004844 total time\n",
      "event: message\n",
      "id: 7-p\n",
      "data: {\"id\": \"7-p\", \"level_type\": \"sample\", \"duration\": 0.03147653199994238, \"nodes\": [{\"content\": \"\\u2581above\", \"parent\": 0, \"prob\": 0.012116349181550013}, {\"content\": \"\\u2581when\", \"parent\": 1, \"prob\": 0.3905473049217478}, {\"content\": \"\\u2581measured\", \"parent\": 1, \"prob\": 0.0678669371898257}, {\"content\": \"ation\", \"parent\": 2, \"prob\": 0.03312332415297053}]}\n",
      "\n",
      "\n",
      "\n",
      "====================================\n",
      "\n",
      "TOP P AFTER 7: (4574.96481219) 4 candidates, 0.03147653199994238 inference time, 0.03194361600071716 total time\n",
      "\n",
      "num_batches\n"
     ]
    },
    {
     "data": {
      "text/plain": [
       "1"
      ]
     },
     "metadata": {},
     "output_type": "display_data"
    },
    {
     "name": "stdout",
     "output_type": "stream",
     "text": [
      "infer start: GPU memory used: 16019 MB.\n",
      "\n",
      "batch_candidates\n",
      "torch.Size([4, 19])\n",
      "\n",
      "batch_candidate_logprobs\n",
      "torch.Size([4])\n",
      "\n",
      "batch_logits\n",
      "torch.Size([4, 19, 32064])\n",
      "\n",
      "hidden_states[-1]\n",
      "torch.Size([4, 19, 3072])\n",
      "infer - after batch run: GPU memory used: 16009 MB.\n",
      "FARTHEST NEIGHBORS %%%%%%%%%%%%%%%%%%%%%%%%%%%%%%%%\n",
      "\n",
      "candidates\n",
      "torch.Size([4, 19])\n"
     ]
    },
    {
     "data": {
      "text/plain": [
       "tensor([[    1, 32010,  1724,   338,   278,  9939, 14378, 29973, 29871, 32007,\n",
       "         32001,   450,  9939, 14378,   297,  4958,   310,  3171,  2038],\n",
       "        [    1, 32010,  1724,   338,   278,  9939, 14378, 29973, 29871, 32007,\n",
       "         32001,   450,  9939, 14378,   297,   278,  3186, 29892,   746],\n",
       "        [    1, 32010,  1724,   338,   278,  9939, 14378, 29973, 29871, 32007,\n",
       "         32001,   450,  9939, 14378,   297,   278,  3186, 29892, 17005],\n",
       "        [    1, 32010,  1724,   338,   278,  9939, 14378, 29973, 29871, 32007,\n",
       "         32001,   450,  9939, 14378,   297,  4958,   310, 11858,   362]],\n",
       "       device='cuda:0')"
      ]
     },
     "metadata": {},
     "output_type": "display_data"
    },
    {
     "name": "stdout",
     "output_type": "stream",
     "text": [
      "\n",
      "candidate_logprobs\n",
      "torch.Size([4])\n"
     ]
    },
    {
     "data": {
      "text/plain": [
       "tensor([-4.4132, -0.9402, -2.6902, -3.4075], device='cuda:0',\n",
       "       dtype=torch.float64)"
      ]
     },
     "metadata": {},
     "output_type": "display_data"
    },
    {
     "name": "stdout",
     "output_type": "stream",
     "text": [
      "\n",
      "selected\n",
      "torch.Size([4])\n"
     ]
    },
    {
     "data": {
      "text/plain": [
       "tensor([False,  True, False, False], device='cuda:0')"
      ]
     },
     "metadata": {},
     "output_type": "display_data"
    },
    {
     "name": "stdout",
     "output_type": "stream",
     "text": [
      "\n",
      "selected_embeddings\n",
      "torch.Size([1, 3072])\n"
     ]
    },
    {
     "data": {
      "text/plain": [
       "tensor([[-0.3789,  0.7695, -0.2373,  ..., -1.6641,  0.4238, -1.8281]],\n",
       "       device='cuda:0', dtype=torch.bfloat16)"
      ]
     },
     "metadata": {},
     "output_type": "display_data"
    },
    {
     "name": "stdout",
     "output_type": "stream",
     "text": [
      "\n",
      "selected_embeddings_view\n",
      "torch.Size([1, 3072, 1])\n"
     ]
    },
    {
     "data": {
      "text/plain": [
       "tensor([[[-0.3789],\n",
       "         [ 0.7695],\n",
       "         [-0.2373],\n",
       "         ...,\n",
       "         [-1.6641],\n",
       "         [ 0.4238],\n",
       "         [-1.8281]]], device='cuda:0', dtype=torch.bfloat16)"
      ]
     },
     "metadata": {},
     "output_type": "display_data"
    },
    {
     "name": "stdout",
     "output_type": "stream",
     "text": [
      "\n",
      "candidate logprobs unsqueeze\n",
      "torch.Size([4, 3072, 1])\n"
     ]
    },
    {
     "data": {
      "text/plain": [
       "tensor([[[-2.4375],\n",
       "         [-0.9336],\n",
       "         [ 1.3281],\n",
       "         ...,\n",
       "         [-0.2812],\n",
       "         [-0.4805],\n",
       "         [-0.6836]],\n",
       "\n",
       "        [[-0.3789],\n",
       "         [ 0.7695],\n",
       "         [-0.2373],\n",
       "         ...,\n",
       "         [-1.6641],\n",
       "         [ 0.4238],\n",
       "         [-1.8281]],\n",
       "\n",
       "        [[-0.8438],\n",
       "         [-0.2969],\n",
       "         [ 0.3086],\n",
       "         ...,\n",
       "         [ 1.1094],\n",
       "         [-0.2217],\n",
       "         [-2.2500]],\n",
       "\n",
       "        [[-1.2266],\n",
       "         [-1.7266],\n",
       "         [ 1.8281],\n",
       "         ...,\n",
       "         [-0.3574],\n",
       "         [ 0.8828],\n",
       "         [ 0.3281]]], device='cuda:0', dtype=torch.bfloat16)"
      ]
     },
     "metadata": {},
     "output_type": "display_data"
    },
    {
     "name": "stdout",
     "output_type": "stream",
     "text": [
      "\n",
      "cosine_distances\n",
      "torch.Size([4, 1])\n"
     ]
    },
    {
     "data": {
      "text/plain": [
       "tensor([[0.2256],\n",
       "        [0.9961],\n",
       "        [0.4062],\n",
       "        [0.3496]], device='cuda:0', dtype=torch.bfloat16)"
      ]
     },
     "metadata": {},
     "output_type": "display_data"
    },
    {
     "name": "stdout",
     "output_type": "stream",
     "text": [
      "\n",
      "min_distances\n",
      "torch.Size([4])\n"
     ]
    },
    {
     "data": {
      "text/plain": [
       "tensor([0.2256, 0.9961, 0.4062, 0.3496], device='cuda:0', dtype=torch.bfloat16)"
      ]
     },
     "metadata": {},
     "output_type": "display_data"
    },
    {
     "name": "stdout",
     "output_type": "stream",
     "text": [
      "\n",
      "min_remaining_distances\n",
      "torch.Size([4])\n"
     ]
    },
    {
     "data": {
      "text/plain": [
       "tensor([0.2256, 0.0000, 0.4062, 0.3496], device='cuda:0', dtype=torch.bfloat16)"
      ]
     },
     "metadata": {},
     "output_type": "display_data"
    },
    {
     "name": "stdout",
     "output_type": "stream",
     "text": [
      "\n",
      "selected (end of loop)\n",
      "torch.Size([4])\n"
     ]
    },
    {
     "data": {
      "text/plain": [
       "tensor([False,  True,  True, False], device='cuda:0')"
      ]
     },
     "metadata": {},
     "output_type": "display_data"
    },
    {
     "name": "stdout",
     "output_type": "stream",
     "text": [
      "\n",
      "selected_embeddings\n",
      "torch.Size([2, 3072])\n"
     ]
    },
    {
     "data": {
      "text/plain": [
       "tensor([[-0.3789,  0.7695, -0.2373,  ..., -1.6641,  0.4238, -1.8281],\n",
       "        [-0.8438, -0.2969,  0.3086,  ...,  1.1094, -0.2217, -2.2500]],\n",
       "       device='cuda:0', dtype=torch.bfloat16)"
      ]
     },
     "metadata": {},
     "output_type": "display_data"
    },
    {
     "name": "stdout",
     "output_type": "stream",
     "text": [
      "\n",
      "selected_embeddings_view\n",
      "torch.Size([1, 3072, 2])\n"
     ]
    },
    {
     "data": {
      "text/plain": [
       "tensor([[[-0.3789,  0.7695],\n",
       "         [-0.2373, -0.7695],\n",
       "         [-1.5938, -0.2031],\n",
       "         ...,\n",
       "         [-0.9766,  1.2109],\n",
       "         [-0.9961,  1.1094],\n",
       "         [-0.2217, -2.2500]]], device='cuda:0', dtype=torch.bfloat16)"
      ]
     },
     "metadata": {},
     "output_type": "display_data"
    },
    {
     "name": "stdout",
     "output_type": "stream",
     "text": [
      "\n",
      "candidate logprobs unsqueeze\n",
      "torch.Size([4, 3072, 1])\n"
     ]
    },
    {
     "data": {
      "text/plain": [
       "tensor([[[-2.4375],\n",
       "         [-0.9336],\n",
       "         [ 1.3281],\n",
       "         ...,\n",
       "         [-0.2812],\n",
       "         [-0.4805],\n",
       "         [-0.6836]],\n",
       "\n",
       "        [[-0.3789],\n",
       "         [ 0.7695],\n",
       "         [-0.2373],\n",
       "         ...,\n",
       "         [-1.6641],\n",
       "         [ 0.4238],\n",
       "         [-1.8281]],\n",
       "\n",
       "        [[-0.8438],\n",
       "         [-0.2969],\n",
       "         [ 0.3086],\n",
       "         ...,\n",
       "         [ 1.1094],\n",
       "         [-0.2217],\n",
       "         [-2.2500]],\n",
       "\n",
       "        [[-1.2266],\n",
       "         [-1.7266],\n",
       "         [ 1.8281],\n",
       "         ...,\n",
       "         [-0.3574],\n",
       "         [ 0.8828],\n",
       "         [ 0.3281]]], device='cuda:0', dtype=torch.bfloat16)"
      ]
     },
     "metadata": {},
     "output_type": "display_data"
    },
    {
     "name": "stdout",
     "output_type": "stream",
     "text": [
      "\n",
      "cosine_distances\n",
      "torch.Size([4, 2])\n"
     ]
    },
    {
     "data": {
      "text/plain": [
       "tensor([[0.0107, 0.0141],\n",
       "        [0.0356, 0.0234],\n",
       "        [0.0104, 0.0162],\n",
       "        [0.0133, 0.0327]], device='cuda:0', dtype=torch.bfloat16)"
      ]
     },
     "metadata": {},
     "output_type": "display_data"
    },
    {
     "name": "stdout",
     "output_type": "stream",
     "text": [
      "\n",
      "min_distances\n",
      "torch.Size([4])\n"
     ]
    },
    {
     "data": {
      "text/plain": [
       "tensor([0.0107, 0.0234, 0.0104, 0.0133], device='cuda:0', dtype=torch.bfloat16)"
      ]
     },
     "metadata": {},
     "output_type": "display_data"
    },
    {
     "name": "stdout",
     "output_type": "stream",
     "text": [
      "\n",
      "min_remaining_distances\n",
      "torch.Size([4])\n"
     ]
    },
    {
     "data": {
      "text/plain": [
       "tensor([0.0107, 0.0000, 0.0000, 0.0133], device='cuda:0', dtype=torch.bfloat16)"
      ]
     },
     "metadata": {},
     "output_type": "display_data"
    },
    {
     "name": "stdout",
     "output_type": "stream",
     "text": [
      "\n",
      "selected (end of loop)\n",
      "torch.Size([4])\n"
     ]
    },
    {
     "data": {
      "text/plain": [
       "tensor([False,  True,  True,  True], device='cuda:0')"
      ]
     },
     "metadata": {},
     "output_type": "display_data"
    },
    {
     "name": "stdout",
     "output_type": "stream",
     "text": [
      "\n",
      "candidates\n",
      "torch.Size([4, 19])\n"
     ]
    },
    {
     "data": {
      "text/plain": [
       "tensor([[    1, 32010,  1724,   338,   278,  9939, 14378, 29973, 29871, 32007,\n",
       "         32001,   450,  9939, 14378,   297,  4958,   310,  3171,  2038],\n",
       "        [    1, 32010,  1724,   338,   278,  9939, 14378, 29973, 29871, 32007,\n",
       "         32001,   450,  9939, 14378,   297,   278,  3186, 29892,   746],\n",
       "        [    1, 32010,  1724,   338,   278,  9939, 14378, 29973, 29871, 32007,\n",
       "         32001,   450,  9939, 14378,   297,   278,  3186, 29892, 17005],\n",
       "        [    1, 32010,  1724,   338,   278,  9939, 14378, 29973, 29871, 32007,\n",
       "         32001,   450,  9939, 14378,   297,  4958,   310, 11858,   362]],\n",
       "       device='cuda:0')"
      ]
     },
     "metadata": {},
     "output_type": "display_data"
    },
    {
     "name": "stdout",
     "output_type": "stream",
     "text": [
      "\n",
      "candidate_logprobs\n",
      "torch.Size([4])\n"
     ]
    },
    {
     "data": {
      "text/plain": [
       "tensor([-4.4132, -0.9402, -2.6902, -3.4075], device='cuda:0',\n",
       "       dtype=torch.float64)"
      ]
     },
     "metadata": {},
     "output_type": "display_data"
    },
    {
     "name": "stdout",
     "output_type": "stream",
     "text": [
      "\n",
      "embeddings_np\n",
      "(4, 3072)\n"
     ]
    },
    {
     "data": {
      "text/plain": [
       "array([[-2.4375    , -0.93359375,  1.328125  , ..., -0.28125   ,\n",
       "        -0.48046875, -0.68359375],\n",
       "       [-0.37890625,  0.76953125, -0.23730469, ..., -1.6640625 ,\n",
       "         0.42382812, -1.828125  ],\n",
       "       [-0.84375   , -0.296875  ,  0.30859375, ...,  1.109375  ,\n",
       "        -0.22167969, -2.25      ],\n",
       "       [-1.2265625 , -1.7265625 ,  1.828125  , ..., -0.35742188,\n",
       "         0.8828125 ,  0.328125  ]], dtype=float32)"
      ]
     },
     "metadata": {},
     "output_type": "display_data"
    },
    {
     "name": "stdout",
     "output_type": "stream",
     "text": [
      "\n",
      "k_mean_space\n",
      "(4, 3)\n"
     ]
    },
    {
     "data": {
      "text/plain": [
       "array([[ 93.494064, 100.235115,   0.      ],\n",
       "       [ 45.677925,  95.26661 , 104.281425],\n",
       "       [ 45.677925,  96.97581 , 103.82971 ],\n",
       "       [ 84.57863 ,   0.      , 100.235115]], dtype=float32)"
      ]
     },
     "metadata": {},
     "output_type": "display_data"
    },
    {
     "name": "stdout",
     "output_type": "stream",
     "text": [
      "\n",
      "k_mean_clusters\n",
      "(4,)\n"
     ]
    },
    {
     "data": {
      "text/plain": [
       "array([2, 0, 0, 1], dtype=int32)"
      ]
     },
     "metadata": {},
     "output_type": "display_data"
    },
    {
     "name": "stdout",
     "output_type": "stream",
     "text": [
      "\n",
      "k_mean_logprob_mass\n",
      "(3,)\n"
     ]
    },
    {
     "data": {
      "text/plain": [
       "array([-0.77998204, -3.40751759, -4.41319957])"
      ]
     },
     "metadata": {},
     "output_type": "display_data"
    },
    {
     "name": "stdout",
     "output_type": "stream",
     "text": [
      "\n",
      "closest\n",
      "(3,)\n"
     ]
    },
    {
     "data": {
      "text/plain": [
       "array([1, 3, 0])"
      ]
     },
     "metadata": {},
     "output_type": "display_data"
    },
    {
     "name": "stdout",
     "output_type": "stream",
     "text": [
      "\n",
      "new_candidates\n",
      "torch.Size([3, 19])\n"
     ]
    },
    {
     "data": {
      "text/plain": [
       "tensor([[    1, 32010,  1724,   338,   278,  9939, 14378, 29973, 29871, 32007,\n",
       "         32001,   450,  9939, 14378,   297,   278,  3186, 29892,   746],\n",
       "        [    1, 32010,  1724,   338,   278,  9939, 14378, 29973, 29871, 32007,\n",
       "         32001,   450,  9939, 14378,   297,  4958,   310, 11858,   362],\n",
       "        [    1, 32010,  1724,   338,   278,  9939, 14378, 29973, 29871, 32007,\n",
       "         32001,   450,  9939, 14378,   297,  4958,   310,  3171,  2038]],\n",
       "       device='cuda:0')"
      ]
     },
     "metadata": {},
     "output_type": "display_data"
    },
    {
     "name": "stdout",
     "output_type": "stream",
     "text": [
      "\n",
      "new_candidate_parents\n"
     ]
    },
    {
     "data": {
      "text/plain": [
       "[1, 3, 0]"
      ]
     },
     "metadata": {},
     "output_type": "display_data"
    },
    {
     "name": "stdout",
     "output_type": "stream",
     "text": [
      "\n",
      "new_candidate_aunts\n"
     ]
    },
    {
     "data": {
      "text/plain": [
       "[[1, 2], [3], [0]]"
      ]
     },
     "metadata": {},
     "output_type": "display_data"
    },
    {
     "name": "stdout",
     "output_type": "stream",
     "text": [
      "\n",
      "new_candidate_logprobs\n",
      "torch.Size([3])\n"
     ]
    },
    {
     "data": {
      "text/plain": [
       "tensor([-0.7800, -3.4075, -4.4132], device='cuda:0', dtype=torch.float64)"
      ]
     },
     "metadata": {},
     "output_type": "display_data"
    },
    {
     "name": "stdout",
     "output_type": "stream",
     "text": [
      "K MEANS PRIOR 8: (4575.645816881) 3 candidates, 0.021861072999854514 inference time, 0.021864082999854872 total time\n",
      "event: message\n",
      "id: 8-k\"\n",
      "data: {\"id\": \"8-k\", \"level_type\": \"gather\", \"duration\": 0.021861072999854514, \"nodes\": [{\"content\": \"\\u2581when\", \"parent\": 1, \"aunts\": [1, 2], \"prob\": 0.45841424211157344}, {\"content\": \"ation\", \"parent\": 3, \"aunts\": [3], \"prob\": 0.03312332415297053}, {\"content\": \"\\u2581above\", \"parent\": 0, \"aunts\": [0], \"prob\": 0.012116349181550013}]}\n",
      "\n",
      "\n",
      "\n",
      "====================================\n",
      "\n",
      "K MEANS AFTER 8: (4575.646240642) 3 candidates, 0.021861072999854514 inference time, 0.02228733399988414 total time\n",
      "\n",
      "candidates\n",
      "torch.Size([3, 19])\n"
     ]
    },
    {
     "data": {
      "text/plain": [
       "tensor([[    1, 32010,  1724,   338,   278,  9939, 14378, 29973, 29871, 32007,\n",
       "         32001,   450,  9939, 14378,   297,   278,  3186, 29892,   746],\n",
       "        [    1, 32010,  1724,   338,   278,  9939, 14378, 29973, 29871, 32007,\n",
       "         32001,   450,  9939, 14378,   297,  4958,   310, 11858,   362],\n",
       "        [    1, 32010,  1724,   338,   278,  9939, 14378, 29973, 29871, 32007,\n",
       "         32001,   450,  9939, 14378,   297,  4958,   310,  3171,  2038]],\n",
       "       device='cuda:0')"
      ]
     },
     "metadata": {},
     "output_type": "display_data"
    },
    {
     "name": "stdout",
     "output_type": "stream",
     "text": [
      "\n",
      "candidate_logprobs\n",
      "torch.Size([3])\n"
     ]
    },
    {
     "data": {
      "text/plain": [
       "tensor([-0.7800, -3.4075, -4.4132], device='cuda:0', dtype=torch.float64)"
      ]
     },
     "metadata": {},
     "output_type": "display_data"
    },
    {
     "name": "stdout",
     "output_type": "stream",
     "text": [
      "\n",
      "last_tok_logits\n",
      "torch.Size([3, 32064])\n"
     ]
    },
    {
     "data": {
      "text/plain": [
       "tensor([[ -1.5625,  -6.7812, -12.0000,  ...,   0.0000,   0.0000,   0.0000],\n",
       "        [ -0.0850,  -0.9180,  -5.1875,  ...,   0.0000,   0.0000,   0.0000],\n",
       "        [  1.5781,  -2.9844, -12.5625,  ...,   0.0000,   0.0000,   0.0000]],\n",
       "       device='cuda:0')"
      ]
     },
     "metadata": {},
     "output_type": "display_data"
    },
    {
     "name": "stdout",
     "output_type": "stream",
     "text": [
      "\n",
      "sorted_logits\n",
      "torch.Size([3, 32064])\n",
      "\n",
      "sorted_indices\n",
      "torch.Size([3, 32064])\n",
      "\n",
      "sorted_probs\n",
      "torch.Size([3, 32064])\n"
     ]
    },
    {
     "data": {
      "text/plain": [
       "tensor([[9.4171e-01, 4.6885e-02, 9.2322e-03,  ..., 1.6029e-22, 1.4145e-22,\n",
       "         1.6894e-23],\n",
       "        [9.9033e-01, 3.1520e-03, 2.1663e-03,  ..., 1.5174e-20, 1.3391e-20,\n",
       "         2.3270e-21],\n",
       "        [9.9999e-01, 2.5613e-06, 1.2099e-06,  ..., 4.5360e-24, 4.0030e-24,\n",
       "         1.6687e-24]], device='cuda:0')"
      ]
     },
     "metadata": {},
     "output_type": "display_data"
    },
    {
     "data": {
      "text/plain": [
       "tensor([1.0000, 1.0000, 1.0000], device='cuda:0')"
      ]
     },
     "metadata": {},
     "output_type": "display_data"
    },
    {
     "name": "stdout",
     "output_type": "stream",
     "text": [
      "\n",
      "cum_probs\n",
      "torch.Size([3, 32064])\n"
     ]
    },
    {
     "data": {
      "text/plain": [
       "tensor([[0.9417, 0.9886, 0.9978,  ..., 1.0000, 1.0000, 1.0000],\n",
       "        [0.9903, 0.9935, 0.9956,  ..., 1.0000, 1.0000, 1.0000],\n",
       "        [1.0000, 1.0000, 1.0000,  ..., 1.0000, 1.0000, 1.0000]],\n",
       "       device='cuda:0')"
      ]
     },
     "metadata": {},
     "output_type": "display_data"
    },
    {
     "name": "stdout",
     "output_type": "stream",
     "text": [
      "\n",
      "keep_indices\n",
      "torch.Size([3, 32064])\n"
     ]
    },
    {
     "data": {
      "text/plain": [
       "tensor([[ True, False, False,  ..., False, False, False],\n",
       "        [ True, False, False,  ..., False, False, False],\n",
       "        [ True, False, False,  ..., False, False, False]], device='cuda:0')"
      ]
     },
     "metadata": {},
     "output_type": "display_data"
    },
    {
     "name": "stdout",
     "output_type": "stream",
     "text": [
      "\n",
      "keep_indices after top_k\n",
      "torch.Size([3, 32064])\n"
     ]
    },
    {
     "data": {
      "text/plain": [
       "tensor([[ True, False, False,  ..., False, False, False],\n",
       "        [ True, False, False,  ..., False, False, False],\n",
       "        [ True, False, False,  ..., False, False, False]], device='cuda:0')"
      ]
     },
     "metadata": {},
     "output_type": "display_data"
    },
    {
     "name": "stdout",
     "output_type": "stream",
     "text": [
      "\n",
      "new_candidate_parents\n",
      "torch.Size([3])\n"
     ]
    },
    {
     "data": {
      "text/plain": [
       "tensor([0, 1, 2], device='cuda:0')"
      ]
     },
     "metadata": {},
     "output_type": "display_data"
    },
    {
     "name": "stdout",
     "output_type": "stream",
     "text": [
      "\n",
      "carryover_candidates\n",
      "torch.Size([3, 19])\n"
     ]
    },
    {
     "data": {
      "text/plain": [
       "tensor([[    1, 32010,  1724,   338,   278,  9939, 14378, 29973, 29871, 32007,\n",
       "         32001,   450,  9939, 14378,   297,   278,  3186, 29892,   746],\n",
       "        [    1, 32010,  1724,   338,   278,  9939, 14378, 29973, 29871, 32007,\n",
       "         32001,   450,  9939, 14378,   297,  4958,   310, 11858,   362],\n",
       "        [    1, 32010,  1724,   338,   278,  9939, 14378, 29973, 29871, 32007,\n",
       "         32001,   450,  9939, 14378,   297,  4958,   310,  3171,  2038]],\n",
       "       device='cuda:0')"
      ]
     },
     "metadata": {},
     "output_type": "display_data"
    },
    {
     "name": "stdout",
     "output_type": "stream",
     "text": [
      "\n",
      "carryover_candidate_logprobs\n",
      "torch.Size([3])\n"
     ]
    },
    {
     "data": {
      "text/plain": [
       "tensor([-0.7800, -3.4075, -4.4132], device='cuda:0', dtype=torch.float64)"
      ]
     },
     "metadata": {},
     "output_type": "display_data"
    },
    {
     "name": "stdout",
     "output_type": "stream",
     "text": [
      "\n",
      "new_candidate_toks\n",
      "torch.Size([3, 1])\n"
     ]
    },
    {
     "data": {
      "text/plain": [
       "tensor([[17005],\n",
       "        [ 2038],\n",
       "        [ 7205]], device='cuda:0')"
      ]
     },
     "metadata": {},
     "output_type": "display_data"
    },
    {
     "name": "stdout",
     "output_type": "stream",
     "text": [
      "\n",
      "new_candidate_tok_logprobs\n",
      "torch.Size([3])\n"
     ]
    },
    {
     "data": {
      "text/plain": [
       "tensor([-6.0061e-02, -9.7195e-03, -5.1260e-06], device='cuda:0')"
      ]
     },
     "metadata": {},
     "output_type": "display_data"
    },
    {
     "name": "stdout",
     "output_type": "stream",
     "text": [
      "\n",
      "new_candidates\n",
      "torch.Size([3, 20])\n"
     ]
    },
    {
     "data": {
      "text/plain": [
       "tensor([[    1, 32010,  1724,   338,   278,  9939, 14378, 29973, 29871, 32007,\n",
       "         32001,   450,  9939, 14378,   297,   278,  3186, 29892,   746, 17005],\n",
       "        [    1, 32010,  1724,   338,   278,  9939, 14378, 29973, 29871, 32007,\n",
       "         32001,   450,  9939, 14378,   297,  4958,   310, 11858,   362,  2038],\n",
       "        [    1, 32010,  1724,   338,   278,  9939, 14378, 29973, 29871, 32007,\n",
       "         32001,   450,  9939, 14378,   297,  4958,   310,  3171,  2038,  7205]],\n",
       "       device='cuda:0')"
      ]
     },
     "metadata": {},
     "output_type": "display_data"
    },
    {
     "name": "stdout",
     "output_type": "stream",
     "text": [
      "\n",
      "new_candidate_logprobs\n",
      "torch.Size([3])\n"
     ]
    },
    {
     "data": {
      "text/plain": [
       "tensor([-0.8400, -3.4172, -4.4132], device='cuda:0', dtype=torch.float64)"
      ]
     },
     "metadata": {},
     "output_type": "display_data"
    },
    {
     "name": "stdout",
     "output_type": "stream",
     "text": [
      "TOP P PRIOR 8: (4575.673891412) 3 candidates, 0.027640180000162218 inference time, 0.027643110000099114 total time\n",
      "event: message\n",
      "id: 8-p\n",
      "data: {\"id\": \"8-p\", \"level_type\": \"sample\", \"duration\": 0.027640180000162218, \"nodes\": [{\"content\": \"\\u2581measured\", \"parent\": 0, \"prob\": 0.43169185232511337}, {\"content\": \"\\u2581above\", \"parent\": 1, \"prob\": 0.032802940028766804}, {\"content\": \"\\u2581sea\", \"parent\": 2, \"prob\": 0.012116287073150163}]}\n",
      "\n",
      "\n",
      "\n",
      "====================================\n",
      "\n",
      "TOP P AFTER 8: (4575.674299033) 3 candidates, 0.027640180000162218 inference time, 0.028049850000570586 total time\n",
      "\n",
      "num_batches\n"
     ]
    },
    {
     "data": {
      "text/plain": [
       "1"
      ]
     },
     "metadata": {},
     "output_type": "display_data"
    },
    {
     "name": "stdout",
     "output_type": "stream",
     "text": [
      "infer start: GPU memory used: 16009 MB.\n",
      "\n",
      "batch_candidates\n",
      "torch.Size([3, 20])\n",
      "\n",
      "batch_candidate_logprobs\n",
      "torch.Size([3])\n",
      "\n",
      "batch_logits\n",
      "torch.Size([3, 20, 32064])\n",
      "\n",
      "hidden_states[-1]\n",
      "torch.Size([3, 20, 3072])\n",
      "infer - after batch run: GPU memory used: 16001 MB.\n",
      "FARTHEST NEIGHBORS %%%%%%%%%%%%%%%%%%%%%%%%%%%%%%%%\n",
      "\n",
      "candidates\n",
      "torch.Size([3, 20])\n"
     ]
    },
    {
     "data": {
      "text/plain": [
       "tensor([[    1, 32010,  1724,   338,   278,  9939, 14378, 29973, 29871, 32007,\n",
       "         32001,   450,  9939, 14378,   297,   278,  3186, 29892,   746, 17005],\n",
       "        [    1, 32010,  1724,   338,   278,  9939, 14378, 29973, 29871, 32007,\n",
       "         32001,   450,  9939, 14378,   297,  4958,   310, 11858,   362,  2038],\n",
       "        [    1, 32010,  1724,   338,   278,  9939, 14378, 29973, 29871, 32007,\n",
       "         32001,   450,  9939, 14378,   297,  4958,   310,  3171,  2038,  7205]],\n",
       "       device='cuda:0')"
      ]
     },
     "metadata": {},
     "output_type": "display_data"
    },
    {
     "name": "stdout",
     "output_type": "stream",
     "text": [
      "\n",
      "candidate_logprobs\n",
      "torch.Size([3])\n"
     ]
    },
    {
     "data": {
      "text/plain": [
       "tensor([-0.8400, -3.4172, -4.4132], device='cuda:0', dtype=torch.float64)"
      ]
     },
     "metadata": {},
     "output_type": "display_data"
    },
    {
     "name": "stdout",
     "output_type": "stream",
     "text": [
      "\n",
      "selected\n",
      "torch.Size([3])\n"
     ]
    },
    {
     "data": {
      "text/plain": [
       "tensor([ True, False, False], device='cuda:0')"
      ]
     },
     "metadata": {},
     "output_type": "display_data"
    },
    {
     "name": "stdout",
     "output_type": "stream",
     "text": [
      "\n",
      "selected_embeddings\n",
      "torch.Size([1, 3072])\n"
     ]
    },
    {
     "data": {
      "text/plain": [
       "tensor([[-0.7578,  0.4141, -0.6523,  ...,  0.3379,  0.6094, -2.0781]],\n",
       "       device='cuda:0', dtype=torch.bfloat16)"
      ]
     },
     "metadata": {},
     "output_type": "display_data"
    },
    {
     "name": "stdout",
     "output_type": "stream",
     "text": [
      "\n",
      "selected_embeddings_view\n",
      "torch.Size([1, 3072, 1])\n"
     ]
    },
    {
     "data": {
      "text/plain": [
       "tensor([[[-0.7578],\n",
       "         [ 0.4141],\n",
       "         [-0.6523],\n",
       "         ...,\n",
       "         [ 0.3379],\n",
       "         [ 0.6094],\n",
       "         [-2.0781]]], device='cuda:0', dtype=torch.bfloat16)"
      ]
     },
     "metadata": {},
     "output_type": "display_data"
    },
    {
     "name": "stdout",
     "output_type": "stream",
     "text": [
      "\n",
      "candidate logprobs unsqueeze\n",
      "torch.Size([3, 3072, 1])\n"
     ]
    },
    {
     "data": {
      "text/plain": [
       "tensor([[[-0.7578],\n",
       "         [ 0.4141],\n",
       "         [-0.6523],\n",
       "         ...,\n",
       "         [ 0.3379],\n",
       "         [ 0.6094],\n",
       "         [-2.0781]],\n",
       "\n",
       "        [[-2.5625],\n",
       "         [-1.0625],\n",
       "         [ 1.3516],\n",
       "         ...,\n",
       "         [ 1.0859],\n",
       "         [-0.3418],\n",
       "         [-0.5781]],\n",
       "\n",
       "        [[ 2.2812],\n",
       "         [-0.1050],\n",
       "         [ 0.4688],\n",
       "         ...,\n",
       "         [ 0.4707],\n",
       "         [-1.6172],\n",
       "         [ 2.2812]]], device='cuda:0', dtype=torch.bfloat16)"
      ]
     },
     "metadata": {},
     "output_type": "display_data"
    },
    {
     "name": "stdout",
     "output_type": "stream",
     "text": [
      "\n",
      "cosine_distances\n",
      "torch.Size([3, 1])\n"
     ]
    },
    {
     "data": {
      "text/plain": [
       "tensor([[0.9961],\n",
       "        [0.2139],\n",
       "        [0.1572]], device='cuda:0', dtype=torch.bfloat16)"
      ]
     },
     "metadata": {},
     "output_type": "display_data"
    },
    {
     "name": "stdout",
     "output_type": "stream",
     "text": [
      "\n",
      "min_distances\n",
      "torch.Size([3])\n"
     ]
    },
    {
     "data": {
      "text/plain": [
       "tensor([0.9961, 0.2139, 0.1572], device='cuda:0', dtype=torch.bfloat16)"
      ]
     },
     "metadata": {},
     "output_type": "display_data"
    },
    {
     "name": "stdout",
     "output_type": "stream",
     "text": [
      "\n",
      "min_remaining_distances\n",
      "torch.Size([3])\n"
     ]
    },
    {
     "data": {
      "text/plain": [
       "tensor([0.0000, 0.2139, 0.1572], device='cuda:0', dtype=torch.bfloat16)"
      ]
     },
     "metadata": {},
     "output_type": "display_data"
    },
    {
     "name": "stdout",
     "output_type": "stream",
     "text": [
      "\n",
      "selected (end of loop)\n",
      "torch.Size([3])\n"
     ]
    },
    {
     "data": {
      "text/plain": [
       "tensor([ True,  True, False], device='cuda:0')"
      ]
     },
     "metadata": {},
     "output_type": "display_data"
    },
    {
     "name": "stdout",
     "output_type": "stream",
     "text": [
      "\n",
      "selected_embeddings\n",
      "torch.Size([2, 3072])\n"
     ]
    },
    {
     "data": {
      "text/plain": [
       "tensor([[-0.7578,  0.4141, -0.6523,  ...,  0.3379,  0.6094, -2.0781],\n",
       "        [-2.5625, -1.0625,  1.3516,  ...,  1.0859, -0.3418, -0.5781]],\n",
       "       device='cuda:0', dtype=torch.bfloat16)"
      ]
     },
     "metadata": {},
     "output_type": "display_data"
    },
    {
     "name": "stdout",
     "output_type": "stream",
     "text": [
      "\n",
      "selected_embeddings_view\n",
      "torch.Size([1, 3072, 2])\n"
     ]
    },
    {
     "data": {
      "text/plain": [
       "tensor([[[-0.7578,  0.4141],\n",
       "         [-0.6523,  1.0703],\n",
       "         [-0.5078,  0.4629],\n",
       "         ...,\n",
       "         [ 1.3828,  0.1079],\n",
       "         [-0.4961,  1.0859],\n",
       "         [-0.3418, -0.5781]]], device='cuda:0', dtype=torch.bfloat16)"
      ]
     },
     "metadata": {},
     "output_type": "display_data"
    },
    {
     "name": "stdout",
     "output_type": "stream",
     "text": [
      "\n",
      "candidate logprobs unsqueeze\n",
      "torch.Size([3, 3072, 1])\n"
     ]
    },
    {
     "data": {
      "text/plain": [
       "tensor([[[-0.7578],\n",
       "         [ 0.4141],\n",
       "         [-0.6523],\n",
       "         ...,\n",
       "         [ 0.3379],\n",
       "         [ 0.6094],\n",
       "         [-2.0781]],\n",
       "\n",
       "        [[-2.5625],\n",
       "         [-1.0625],\n",
       "         [ 1.3516],\n",
       "         ...,\n",
       "         [ 1.0859],\n",
       "         [-0.3418],\n",
       "         [-0.5781]],\n",
       "\n",
       "        [[ 2.2812],\n",
       "         [-0.1050],\n",
       "         [ 0.4688],\n",
       "         ...,\n",
       "         [ 0.4707],\n",
       "         [-1.6172],\n",
       "         [ 2.2812]]], device='cuda:0', dtype=torch.bfloat16)"
      ]
     },
     "metadata": {},
     "output_type": "display_data"
    },
    {
     "name": "stdout",
     "output_type": "stream",
     "text": [
      "\n",
      "cosine_distances\n",
      "torch.Size([3, 2])\n"
     ]
    },
    {
     "data": {
      "text/plain": [
       "tensor([[0.0036, 0.0322],\n",
       "        [0.0393, 0.0359],\n",
       "        [0.0182, 0.0288]], device='cuda:0', dtype=torch.bfloat16)"
      ]
     },
     "metadata": {},
     "output_type": "display_data"
    },
    {
     "name": "stdout",
     "output_type": "stream",
     "text": [
      "\n",
      "min_distances\n",
      "torch.Size([3])\n"
     ]
    },
    {
     "data": {
      "text/plain": [
       "tensor([0.0036, 0.0359, 0.0182], device='cuda:0', dtype=torch.bfloat16)"
      ]
     },
     "metadata": {},
     "output_type": "display_data"
    },
    {
     "name": "stdout",
     "output_type": "stream",
     "text": [
      "\n",
      "min_remaining_distances\n",
      "torch.Size([3])\n"
     ]
    },
    {
     "data": {
      "text/plain": [
       "tensor([0.0000, 0.0000, 0.0182], device='cuda:0', dtype=torch.bfloat16)"
      ]
     },
     "metadata": {},
     "output_type": "display_data"
    },
    {
     "name": "stdout",
     "output_type": "stream",
     "text": [
      "\n",
      "selected (end of loop)\n",
      "torch.Size([3])\n"
     ]
    },
    {
     "data": {
      "text/plain": [
       "tensor([True, True, True], device='cuda:0')"
      ]
     },
     "metadata": {},
     "output_type": "display_data"
    },
    {
     "name": "stdout",
     "output_type": "stream",
     "text": [
      "\n",
      "candidates\n",
      "torch.Size([3, 20])\n"
     ]
    },
    {
     "data": {
      "text/plain": [
       "tensor([[    1, 32010,  1724,   338,   278,  9939, 14378, 29973, 29871, 32007,\n",
       "         32001,   450,  9939, 14378,   297,   278,  3186, 29892,   746, 17005],\n",
       "        [    1, 32010,  1724,   338,   278,  9939, 14378, 29973, 29871, 32007,\n",
       "         32001,   450,  9939, 14378,   297,  4958,   310, 11858,   362,  2038],\n",
       "        [    1, 32010,  1724,   338,   278,  9939, 14378, 29973, 29871, 32007,\n",
       "         32001,   450,  9939, 14378,   297,  4958,   310,  3171,  2038,  7205]],\n",
       "       device='cuda:0')"
      ]
     },
     "metadata": {},
     "output_type": "display_data"
    },
    {
     "name": "stdout",
     "output_type": "stream",
     "text": [
      "\n",
      "candidate_logprobs\n",
      "torch.Size([3])\n"
     ]
    },
    {
     "data": {
      "text/plain": [
       "tensor([-0.8400, -3.4172, -4.4132], device='cuda:0', dtype=torch.float64)"
      ]
     },
     "metadata": {},
     "output_type": "display_data"
    },
    {
     "name": "stdout",
     "output_type": "stream",
     "text": [
      "\n",
      "last_tok_logits\n",
      "torch.Size([3, 32064])\n"
     ]
    },
    {
     "data": {
      "text/plain": [
       "tensor([[  1.6250,  -1.9453,  -9.2500,  ...,   0.0000,   0.0000,   0.0000],\n",
       "        [  1.5781,  -3.0781, -11.3750,  ...,   0.0000,   0.0000,   0.0000],\n",
       "        [  1.1094,  -6.2188, -10.2500,  ...,   0.0000,   0.0000,   0.0000]],\n",
       "       device='cuda:0')"
      ]
     },
     "metadata": {},
     "output_type": "display_data"
    },
    {
     "name": "stdout",
     "output_type": "stream",
     "text": [
      "\n",
      "sorted_logits\n",
      "torch.Size([3, 32064])\n",
      "\n",
      "sorted_indices\n",
      "torch.Size([3, 32064])\n",
      "\n",
      "sorted_probs\n",
      "torch.Size([3, 32064])\n"
     ]
    },
    {
     "data": {
      "text/plain": [
       "tensor([[8.5191e-01, 1.4804e-01, 7.6159e-06,  ..., 4.2377e-21, 3.2355e-23,\n",
       "         1.7318e-23],\n",
       "        [9.9999e-01, 1.9947e-06, 1.2099e-06,  ..., 3.3516e-23, 2.9578e-23,\n",
       "         2.6103e-23],\n",
       "        [1.0000e+00, 1.3710e-06, 1.6374e-07,  ..., 7.1878e-28, 7.1878e-28,\n",
       "         6.3432e-28]], device='cuda:0')"
      ]
     },
     "metadata": {},
     "output_type": "display_data"
    },
    {
     "data": {
      "text/plain": [
       "tensor([1.0000, 1.0000, 1.0000], device='cuda:0')"
      ]
     },
     "metadata": {},
     "output_type": "display_data"
    },
    {
     "name": "stdout",
     "output_type": "stream",
     "text": [
      "\n",
      "cum_probs\n",
      "torch.Size([3, 32064])\n"
     ]
    },
    {
     "data": {
      "text/plain": [
       "tensor([[0.8519, 0.9999, 1.0000,  ..., 1.0000, 1.0000, 1.0000],\n",
       "        [1.0000, 1.0000, 1.0000,  ..., 1.0000, 1.0000, 1.0000],\n",
       "        [1.0000, 1.0000, 1.0000,  ..., 1.0000, 1.0000, 1.0000]],\n",
       "       device='cuda:0')"
      ]
     },
     "metadata": {},
     "output_type": "display_data"
    },
    {
     "name": "stdout",
     "output_type": "stream",
     "text": [
      "\n",
      "keep_indices\n",
      "torch.Size([3, 32064])\n"
     ]
    },
    {
     "data": {
      "text/plain": [
       "tensor([[ True, False, False,  ..., False, False, False],\n",
       "        [ True, False, False,  ..., False, False, False],\n",
       "        [ True, False, False,  ..., False, False, False]], device='cuda:0')"
      ]
     },
     "metadata": {},
     "output_type": "display_data"
    },
    {
     "name": "stdout",
     "output_type": "stream",
     "text": [
      "\n",
      "keep_indices after top_k\n",
      "torch.Size([3, 32064])\n"
     ]
    },
    {
     "data": {
      "text/plain": [
       "tensor([[ True, False, False,  ..., False, False, False],\n",
       "        [ True, False, False,  ..., False, False, False],\n",
       "        [ True, False, False,  ..., False, False, False]], device='cuda:0')"
      ]
     },
     "metadata": {},
     "output_type": "display_data"
    },
    {
     "name": "stdout",
     "output_type": "stream",
     "text": [
      "\n",
      "new_candidate_parents\n",
      "torch.Size([3])\n"
     ]
    },
    {
     "data": {
      "text/plain": [
       "tensor([0, 1, 2], device='cuda:0')"
      ]
     },
     "metadata": {},
     "output_type": "display_data"
    },
    {
     "name": "stdout",
     "output_type": "stream",
     "text": [
      "\n",
      "carryover_candidates\n",
      "torch.Size([3, 20])\n"
     ]
    },
    {
     "data": {
      "text/plain": [
       "tensor([[    1, 32010,  1724,   338,   278,  9939, 14378, 29973, 29871, 32007,\n",
       "         32001,   450,  9939, 14378,   297,   278,  3186, 29892,   746, 17005],\n",
       "        [    1, 32010,  1724,   338,   278,  9939, 14378, 29973, 29871, 32007,\n",
       "         32001,   450,  9939, 14378,   297,  4958,   310, 11858,   362,  2038],\n",
       "        [    1, 32010,  1724,   338,   278,  9939, 14378, 29973, 29871, 32007,\n",
       "         32001,   450,  9939, 14378,   297,  4958,   310,  3171,  2038,  7205]],\n",
       "       device='cuda:0')"
      ]
     },
     "metadata": {},
     "output_type": "display_data"
    },
    {
     "name": "stdout",
     "output_type": "stream",
     "text": [
      "\n",
      "carryover_candidate_logprobs\n",
      "torch.Size([3])\n"
     ]
    },
    {
     "data": {
      "text/plain": [
       "tensor([-0.8400, -3.4172, -4.4132], device='cuda:0', dtype=torch.float64)"
      ]
     },
     "metadata": {},
     "output_type": "display_data"
    },
    {
     "name": "stdout",
     "output_type": "stream",
     "text": [
      "\n",
      "new_candidate_toks\n",
      "torch.Size([3, 1])\n"
     ]
    },
    {
     "data": {
      "text/plain": [
       "tensor([[ 515],\n",
       "        [7205],\n",
       "        [3233]], device='cuda:0')"
      ]
     },
     "metadata": {},
     "output_type": "display_data"
    },
    {
     "name": "stdout",
     "output_type": "stream",
     "text": [
      "\n",
      "new_candidate_tok_logprobs\n",
      "torch.Size([3])\n"
     ]
    },
    {
     "data": {
      "text/plain": [
       "tensor([-1.6027e-01, -5.3644e-06, -1.6689e-06], device='cuda:0')"
      ]
     },
     "metadata": {},
     "output_type": "display_data"
    },
    {
     "name": "stdout",
     "output_type": "stream",
     "text": [
      "\n",
      "new_candidates\n",
      "torch.Size([3, 21])\n"
     ]
    },
    {
     "data": {
      "text/plain": [
       "tensor([[    1, 32010,  1724,   338,   278,  9939, 14378, 29973, 29871, 32007,\n",
       "         32001,   450,  9939, 14378,   297,   278,  3186, 29892,   746, 17005,\n",
       "           515],\n",
       "        [    1, 32010,  1724,   338,   278,  9939, 14378, 29973, 29871, 32007,\n",
       "         32001,   450,  9939, 14378,   297,  4958,   310, 11858,   362,  2038,\n",
       "          7205],\n",
       "        [    1, 32010,  1724,   338,   278,  9939, 14378, 29973, 29871, 32007,\n",
       "         32001,   450,  9939, 14378,   297,  4958,   310,  3171,  2038,  7205,\n",
       "          3233]], device='cuda:0')"
      ]
     },
     "metadata": {},
     "output_type": "display_data"
    },
    {
     "name": "stdout",
     "output_type": "stream",
     "text": [
      "\n",
      "new_candidate_logprobs\n",
      "torch.Size([3])\n"
     ]
    },
    {
     "data": {
      "text/plain": [
       "tensor([-1.0003, -3.4172, -4.4132], device='cuda:0', dtype=torch.float64)"
      ]
     },
     "metadata": {},
     "output_type": "display_data"
    },
    {
     "name": "stdout",
     "output_type": "stream",
     "text": [
      "TOP P PRIOR 9: (4576.346868951) 3 candidates, 0.02911545900042256 inference time, 0.02911900900016917 total time\n",
      "event: message\n",
      "id: 9-p\n",
      "data: {\"id\": \"9-p\", \"level_type\": \"sample\", \"duration\": 0.02911545900042256, \"nodes\": [{\"content\": \"\\u2581from\", \"parent\": 0, \"prob\": 0.3677626790418411}, {\"content\": \"\\u2581sea\", \"parent\": 1, \"prob\": 0.032802764060078524}, {\"content\": \"\\u2581level\", \"parent\": 2, \"prob\": 0.01211626685191487}]}\n",
      "\n",
      "\n",
      "\n",
      "====================================\n",
      "\n",
      "TOP P AFTER 9: (4576.347340746) 3 candidates, 0.02911545900042256 inference time, 0.029590514000119583 total time\n",
      "event: message\n",
      "id: END\n",
      "data: []\n",
      "\n",
      "\n",
      "\n",
      "====================================\n",
      "\n"
     ]
    }
   ],
   "source": [
    "class InferenceTensor:\n",
    "    def __init__(self):\n",
    "        print('Initializing model...')\n",
    "        self.model = AutoModelForCausalLM.from_pretrained(\n",
    "            \"microsoft/Phi-3-mini-4k-instruct\",\n",
    "            torch_dtype=torch.bfloat16,\n",
    "            device_map='auto',\n",
    "            trust_remote_code=True,\n",
    "            use_cache=True,\n",
    "            # attn_implementation='flash_attention_2',\n",
    "        )\n",
    "        print('Initializing tokenizer...')\n",
    "        self.tokenizer = AutoTokenizer.from_pretrained(\n",
    "            \"microsoft/Phi-3-mini-4k-instruct\")\n",
    "        self.device = \"cuda\" if torch.cuda.is_available() else \"cpu\"\n",
    "\n",
    "        self.batch_size = 8\n",
    "        \n",
    "    def candidates_generator(self, top_p: float, top_p_decay: float, top_k: float, max_beams: int, max_new_tokens: int, prompt: str):\n",
    "        candidates, candidate_logprobs = self._init_candidates(prompt)\n",
    "        for level_idx in range(max_new_tokens):\n",
    "            logits, embeddings = self._infer(candidates, candidate_logprobs)\n",
    "\n",
    "            self._farthest_neighbors(logits, embeddings, candidates, candidate_logprobs, max_beams)\n",
    "            \n",
    "            if candidates.shape[0] > max_beams:\n",
    "                start = time.perf_counter()\n",
    "                candidates, candidate_parents, candidate_aunts, candidate_logprobs, logits = self._k_means(logits, embeddings, candidates, candidate_logprobs, max_beams)\n",
    "                inference_duration = time.perf_counter() - start\n",
    "                print('K MEANS PRIOR {}: ({}) {} candidates, {} inference time, {} total time'.format(level_idx, time.perf_counter(), candidates.shape[0], inference_duration, time.perf_counter() - start))\n",
    "                yield self._format_k_means(level_idx, candidates, candidate_parents, candidate_aunts, candidate_logprobs, inference_duration)\n",
    "                print('K MEANS AFTER {}: ({}) {} candidates, {} inference time, {} total time'.format(level_idx, time.perf_counter(), candidates.shape[0], inference_duration, time.perf_counter() - start))\n",
    "\n",
    "            start = time.perf_counter()\n",
    "            candidates, candidate_parents, candidate_logprobs = self._top_p(logits, candidates, candidate_logprobs, top_p, top_k)\n",
    "            inference_duration = time.perf_counter() - start\n",
    "            print('TOP P PRIOR {}: ({}) {} candidates, {} inference time, {} total time'.format(level_idx, time.perf_counter(), candidates.shape[0], inference_duration, time.perf_counter() - start))\n",
    "            yield self._format_top_p(level_idx, candidates, candidate_parents, candidate_logprobs, inference_duration)\n",
    "            print('TOP P AFTER {}: ({}) {} candidates, {} inference time, {} total time'.format(level_idx, time.perf_counter(), candidates.shape[0], inference_duration, time.perf_counter() - start))\n",
    "            top_p *= top_p_decay\n",
    "\n",
    "        yield f\"event: message\\nid: END\\ndata: []\\n\\n\"\n",
    "\n",
    "    def _format_k_means(self, level_idx, candidates, candidate_parents, candidate_aunts, candidate_logprobs, duration):\n",
    "        candidate_texts = self.tokenizer.convert_ids_to_tokens(candidates[:, -1], skip_special_tokens=True)\n",
    "        candidate_probs = candidate_logprobs.exp()\n",
    "        candidate_dicts = []\n",
    "        idx = f\"{level_idx}-k\"\n",
    "        for i in range(len(candidate_texts)):\n",
    "            candidate_dicts.append({'content': candidate_texts[i], 'parent': candidate_parents[i], 'aunts': candidate_aunts[i], 'prob': candidate_probs[i].item()})\n",
    "        data = json.dumps({'id': idx, 'level_type': 'gather', 'duration': duration, 'nodes': candidate_dicts})\n",
    "        return f\"event: message\\nid: {idx}\\\"\\ndata: {data}\\n\\n\"\n",
    "\n",
    "    def _format_top_p(self, level_idx, candidates, candidate_parents, candidate_logprobs, duration):\n",
    "        candidate_texts = self.tokenizer.convert_ids_to_tokens(candidates[:, -1], skip_special_tokens=True)\n",
    "        candidate_probs = candidate_logprobs.exp()\n",
    "        candidate_dicts = []\n",
    "        idx = f\"{level_idx}-p\"\n",
    "        for i in range(len(candidate_texts)):\n",
    "            candidate_dicts.append({'content': candidate_texts[i], 'parent': candidate_parents[i], 'prob': candidate_probs[i].item()})\n",
    "        data = json.dumps({'id': idx, 'level_type': 'sample', 'duration': duration, 'nodes': candidate_dicts})\n",
    "        return f\"event: message\\nid: {idx}\\ndata: {data}\\n\\n\"\n",
    "\n",
    "\n",
    "    def _init_candidates(self, text: str):\n",
    "        prompt = \"<|user|>\\n{} <|end|>\\n<|assistant|>\".format(text)\n",
    "        inputs = self.tokenizer(prompt, return_tensors='pt')\n",
    "        D(inputs.input_ids, 'input_ids')\n",
    "\n",
    "        candidates = inputs.input_ids.to(self.device)\n",
    "        candidate_logprobs = torch.zeros((1), dtype=torch.float32, device=self.device)\n",
    "\n",
    "        return candidates, candidate_logprobs\n",
    "\n",
    "    def _k_means(self, logits, embeddings, candidates, candidate_logprobs, max_beams):\n",
    "        D(candidates, 'candidates')\n",
    "        D(candidate_logprobs, 'candidate_logprobs')\n",
    "        # === CPU ===\n",
    "        embeddings_np = embeddings.float().numpy(force=True)\n",
    "        D(embeddings_np, 'embeddings_np')\n",
    "        k_means = KMeans(n_clusters=min(max_beams, embeddings_np.shape[0]), random_state=0, n_init=\"auto\")\n",
    "        k_mean_space = k_means.fit_transform(embeddings_np)\n",
    "        D(k_mean_space, 'k_mean_space')\n",
    "        k_mean_clusters = k_means.predict(embeddings_np)\n",
    "        D(k_mean_clusters, 'k_mean_clusters')\n",
    "        k_mean_logprob_mass = np.log(np.bincount(k_mean_clusters, weights=candidate_logprobs.cpu().exp()))\n",
    "        D(k_mean_logprob_mass, 'k_mean_logprob_mass')\n",
    "        closest = np.argmin(k_mean_space, axis=0)\n",
    "        D(closest, 'closest')\n",
    "        # === END CPU ===\n",
    "        \n",
    "        closest_indices = torch.from_numpy(closest).to(self.device)\n",
    "        new_candidates = candidates.index_select(0, closest_indices)\n",
    "        D(new_candidates, 'new_candidates')\n",
    "        new_candidate_parents = closest_indices.tolist()\n",
    "        D(new_candidate_parents, 'new_candidate_parents')\n",
    "        new_candidate_aunts = [torch.nonzero(torch.from_numpy(k_mean_clusters).to(self.device) == i).squeeze(-1).tolist() for i in range(new_candidates.shape[0])]\n",
    "        D(new_candidate_aunts, 'new_candidate_aunts')\n",
    "        new_candidate_logprobs = torch.from_numpy(k_mean_logprob_mass).to(self.device)\n",
    "        D(new_candidate_logprobs, 'new_candidate_logprobs')\n",
    "        new_candidate_logits = logits.index_select(0, closest_indices)\n",
    "        \n",
    "        return new_candidates, new_candidate_parents, new_candidate_aunts, new_candidate_logprobs, new_candidate_logits\n",
    "        \n",
    "    def _farthest_neighbors(self, logits, embeddings, candidates, candidate_logprobs, max_beams):\n",
    "        print('FARTHEST NEIGHBORS %%%%%%%%%%%%%%%%%%%%%%%%%%%%%%%%')\n",
    "        D(candidates, 'candidates')\n",
    "        D(candidate_logprobs, 'candidate_logprobs')\n",
    "        \n",
    "        selected = torch.zeros((candidates.shape[0],), dtype=torch.bool).to(self.device)\n",
    "        max_prob_idx = candidate_logprobs.argmax()\n",
    "        selected[max_prob_idx] = 1\n",
    "        \n",
    "        D(selected, 'selected')\n",
    "        \n",
    "        for idx in range(min(max_beams - 1, candidates.shape[0])):\n",
    "            selected_embeddings = embeddings[selected]\n",
    "            D(selected_embeddings, 'selected_embeddings')\n",
    "            selected_embeddings_view = selected_embeddings.view((1, selected_embeddings.shape[1], selected_embeddings.shape[0]))\n",
    "            D(selected_embeddings_view, 'selected_embeddings_view')\n",
    "            D(embeddings.unsqueeze(-1), 'candidate logprobs unsqueeze')\n",
    "            cosine_distances = F.cosine_similarity(embeddings.unsqueeze(-1), selected_embeddings_view, dim=1).abs()\n",
    "            D(cosine_distances, 'cosine_distances')\n",
    "            min_distances = torch.min(cosine_distances, dim=1).values\n",
    "            D(min_distances, 'min_distances')\n",
    "            min_remaining_distances = min_distances * ~selected\n",
    "            D(min_remaining_distances, 'min_remaining_distances')\n",
    "            next_selected = min_remaining_distances.argmax(dim=0)\n",
    "            selected[next_selected] = 1\n",
    "            D(selected, 'selected (end of loop)')\n",
    "            \n",
    "        # We have all the candidates that are selected to move forward.\n",
    "            \n",
    "                \n",
    "\n",
    "\n",
    "    def _top_p(self, logits, candidates, candidate_logprobs, top_p, top_k):\n",
    "        D(candidates, 'candidates')\n",
    "        D(candidate_logprobs, 'candidate_logprobs')\n",
    "        \n",
    "        last_tok_logits = logits[:, -1, :]\n",
    "        D(last_tok_logits, 'last_tok_logits')\n",
    "\n",
    "        sorted_logits, sorted_indices = torch.sort(last_tok_logits, descending=True, dim=-1)\n",
    "        DS(sorted_logits, 'sorted_logits')\n",
    "        DS(sorted_indices, 'sorted_indices')\n",
    "        sorted_probs = F.softmax(sorted_logits, dim=-1)\n",
    "        D(sorted_probs, 'sorted_probs')\n",
    "        display(sorted_probs.sum(dim=1))\n",
    "        cum_probs = torch.cumsum(sorted_probs, dim=-1)\n",
    "        D(cum_probs, 'cum_probs')\n",
    "\n",
    "        # Create tensor of bools indicating which indices are cumulatively less than top_p\n",
    "        keep_indices = cum_probs < top_p\n",
    "\n",
    "        # Keep the last element that went over top_p\n",
    "        keep_indices[:, 1:] = keep_indices[:, :-1].clone() # Is this inefficient?\n",
    "        keep_indices[:, 0] = 1  # Always keep the first element\n",
    "        D(keep_indices, 'keep_indices')\n",
    "\n",
    "        # Don't keep any indices that are greater than top_k\n",
    "        keep_indices[:, top_k:] = 0\n",
    "        D(keep_indices, 'keep_indices after top_k')\n",
    "\n",
    "        new_candidate_parents = keep_indices.nonzero()[:, 0]\n",
    "        D(new_candidate_parents, 'new_candidate_parents')\n",
    "\n",
    "        # OPTIM: Potential optimization -- have a fixed tensor of size (max_candidates, max_tokens) and copy this into that (batch-aware).\n",
    "        # OPTIM: consider which of these operations can be done in-place to prevent new allocations?\n",
    "        carryover_candidates = candidates.index_select(0, new_candidate_parents)\n",
    "        D(carryover_candidates, 'carryover_candidates')\n",
    "\n",
    "        # Similar code could be used to trace entire origin of sequence. For now since server just traces parent of the preceding generation, not needed\n",
    "        # carryover_candidate_parents = candidate_parents.index_select(0, carryover_candidate_indices)  # Not strictly necessary since 1d\n",
    "        # D(carryover_candidate_parents, 'carryover_candidate_parents')\n",
    "\n",
    "        carryover_candidate_logprobs = candidate_logprobs.index_select(0, new_candidate_parents)  # Not strictly necessary since 1d\n",
    "        D(carryover_candidate_logprobs, 'carryover_candidate_logprobs')\n",
    "\n",
    "        new_candidate_toks = sorted_indices[keep_indices].unsqueeze(1)\n",
    "        D(new_candidate_toks, 'new_candidate_toks')\n",
    "        new_candidate_tok_logprobs = sorted_probs[keep_indices].log()\n",
    "        D(new_candidate_tok_logprobs, 'new_candidate_tok_logprobs')\n",
    "\n",
    "        new_candidates = torch.cat([carryover_candidates, new_candidate_toks], dim=1)\n",
    "        D(new_candidates, 'new_candidates')\n",
    "        new_candidate_logprobs = carryover_candidate_logprobs.add_(new_candidate_tok_logprobs)\n",
    "        D(new_candidate_logprobs, 'new_candidate_logprobs')\n",
    "\n",
    "        return new_candidates, new_candidate_parents.tolist(), new_candidate_logprobs\n",
    "\n",
    "\n",
    "    def _infer(self, candidates, candidate_logprobs):\n",
    "        with torch.inference_mode():\n",
    "            num_batches = (candidates.shape[0] + self.batch_size - 1) // self.batch_size  # Round up to nearest whole number of batches\n",
    "            D(num_batches, 'num_batches')\n",
    "\n",
    "            check_gpu('infer start')\n",
    "            output_logits_list = []\n",
    "            output_embeddings_list = []\n",
    "            for i in range(0, num_batches, 1):\n",
    "                batch_candidates = candidates[i * self.batch_size:(i + 1) * self.batch_size]\n",
    "                DS(batch_candidates, 'batch_candidates')\n",
    "                batch_candidate_logprobs = candidate_logprobs[i * self.batch_size:(i + 1) * self.batch_size]\n",
    "                DS(batch_candidate_logprobs, 'batch_candidate_logprobs')\n",
    "\n",
    "                batch_outputs = self.model(input_ids=batch_candidates, output_hidden_states=True)\n",
    "                DS(batch_outputs.logits, 'batch_logits')\n",
    "                DS(batch_outputs.hidden_states[-1], 'hidden_states[-1]')\n",
    "\n",
    "                output_logits_list.append(batch_outputs.logits)\n",
    "                output_embeddings_list.append(batch_outputs.hidden_states[-1][:,-1,:])\n",
    "                check_gpu('infer - after batch run')\n",
    "\n",
    "            output_logits = torch.cat(output_logits_list, dim=0)\n",
    "            output_embeddings = torch.cat(output_embeddings_list, dim=0)\n",
    "            \n",
    "            return output_logits, output_embeddings\n",
    "        \n",
    "it = InferenceTensor()\n",
    "\n",
    "for x in it.candidates_generator(top_p=0.9, top_p_decay=0.99, top_k=2, max_beams=3, max_new_tokens=10, prompt='What is the highest mountain?'):\n",
    "    print(x)\n",
    "    print()\n",
    "    print('====================================')\n",
    "    print()"
   ]
  },
  {
   "cell_type": "code",
   "execution_count": null,
   "id": "669a1b7d-de91-4218-a4b2-64a32b68665c",
   "metadata": {
    "tags": []
   },
   "outputs": [],
   "source": [
    "it = InferenceTensor()\n",
    "\n",
    "for x in it.candidates_generator(top_p=0.9, top_p_decay=0.99, top_k=2, max_beams=3, max_new_tokens=6, prompt='What is the highest mountain?'):\n",
    "    print(x)\n",
    "    print()\n",
    "    print('====================================')\n",
    "    print()"
   ]
  },
  {
   "cell_type": "code",
   "execution_count": 29,
   "id": "d7cb568b-73a8-4ddf-af31-6caa6e580d7b",
   "metadata": {
    "tags": []
   },
   "outputs": [
    {
     "data": {
      "text/plain": [
       "tensor([[ 1.5410, -0.2934, -2.1788,  0.5684, -1.0845],\n",
       "        [-1.3986,  0.4033,  0.8380, -0.7193, -0.4033],\n",
       "        [-0.5966,  0.1820, -0.8567,  1.1006, -1.0712]])"
      ]
     },
     "metadata": {},
     "output_type": "display_data"
    },
    {
     "data": {
      "text/plain": [
       "torch.return_types.min(\n",
       "values=tensor([-2.1788, -1.3986, -1.0712]),\n",
       "indices=tensor([2, 0, 4]))"
      ]
     },
     "execution_count": 29,
     "metadata": {},
     "output_type": "execute_result"
    }
   ],
   "source": [
    "a = torch.randn(3, 5)\n",
    "display(a)\n",
    "a.min(dim=1)"
   ]
  },
  {
   "cell_type": "code",
   "execution_count": null,
   "id": "11c6e39a-47ad-4889-901a-f409601d41f6",
   "metadata": {},
   "outputs": [],
   "source": []
  }
 ],
 "metadata": {
  "kernelspec": {
   "display_name": "conda_pytorch_p310",
   "language": "python",
   "name": "conda_pytorch_p310"
  },
  "language_info": {
   "codemirror_mode": {
    "name": "ipython",
    "version": 3
   },
   "file_extension": ".py",
   "mimetype": "text/x-python",
   "name": "python",
   "nbconvert_exporter": "python",
   "pygments_lexer": "ipython3",
   "version": "3.10.14"
  }
 },
 "nbformat": 4,
 "nbformat_minor": 5
}
